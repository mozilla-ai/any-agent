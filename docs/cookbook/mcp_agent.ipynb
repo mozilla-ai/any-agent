{
 "cells": [
  {
   "cell_type": "markdown",
   "metadata": {},
   "source": [
    "# Creating an agent with MCP\n",
    "\n",
    "The [Model Context Protocol](https://www.anthropic.com/news/model-context-protocol) (MCP) introduced by Anthropic has proven to be a popular method for providing an AI agent with access to a variety of tools. [This Huggingface blog post ](https://huggingface.co/blog/Kseniase/mcp) has a nice explanation of MCP.  In this tutorial, we'll build an agent that is able to leverage MCP server provided tools.\n",
    "\n",
    "Note: because this tutorial relies upon advanced stdio/stderr communication using the MCP Server, it cannot be run on Google Colab."
   ]
  },
  {
   "cell_type": "markdown",
   "metadata": {},
   "source": [
    "## Install Dependencies\n",
    "\n",
    "any-agent uses the python asyncio module to support async functionality. When running in Jupyter notebooks, this means we need to enable the use of nested event loops. We'll install any-agent and enable this below using nest_asyncio."
   ]
  },
  {
   "cell_type": "code",
   "execution_count": null,
   "metadata": {},
   "outputs": [],
   "source": [
    "%pip install 'any-agent[all]'\n",
    "\n",
    "import nest_asyncio\n",
    "\n",
    "nest_asyncio.apply()"
   ]
  },
  {
   "cell_type": "markdown",
   "metadata": {},
   "source": [
    "## Configure the Agent\n",
    "\n",
    "Now it's time to configure the agent! At this stage you have a few choices:\n",
    "\n",
    "### Pick the framework\n",
    "\n",
    "We support a variety of underlying agent frameworks (OpenAI, Smolagents, Langchain, etc), which all have their own particular agentic AI implementations. For this tutorial's simple use case, any of the frameworks should work just fine, but any-agent makes it easy to try out a different framework later, if we so choose. For this example, we will use the \"openai\" agent framework.\n",
    "\n",
    "### Pick an LLM\n",
    "\n",
    "Regardless of which agent framework you choose, each framework supports LiteLLM, which is a proxy that allows us to use whichever LLM inside the framework, hosted on by any provider. For example, we could use a local model via llama.cpp or llamafile, a google hosted gemini model, or a AWS bedrock hosted Llama model. For this example, let's use OpenAI's gpt-4.1-nano.\n",
    "\n",
    "### Pick which tools to use\n",
    "\n",
    " In this example, we'll add a few MCP servers that we host locally, which means we'll use a Stdio MCP server. If an MCP Server is already running and hosted elsewhere, you can use an SSE connection to access it. You can browse some of the officially supported MCP servers [here](https://github.com/modelcontextprotocol/servers/tree/main?tab=readme-ov-file).\n",
    "\n",
    " Lets give use two MCP servers: \n",
    " \n",
    " * [Time](https://github.com/modelcontextprotocol/servers/tree/main/src/time): so the agent can know what time/day it is.\n",
    " * [Airbnb](https://github.com/openbnb-org/mcp-server-airbnb): so the agent can browse airbnb listings\n",
    "\n",
    " I will also add a custom send_message tool, that way it can ask us additional questions before getting its final answer!\n",
    "  "
   ]
  },
  {
   "cell_type": "code",
   "execution_count": 8,
   "metadata": {},
   "outputs": [
    {
     "name": "stdout",
     "output_type": "stream",
     "text": [
      "OPENAI_API_KEY found in environment.\n"
     ]
    }
   ],
   "source": [
    "import os\n",
    "from getpass import getpass\n",
    "\n",
    "if \"OPENAI_API_KEY\" not in os.environ:\n",
    "    print(\"OPENAI_API_KEY not found in environment!\")\n",
    "    api_key = getpass(\"Please enter your OPENAI_API_KEY: \")\n",
    "    os.environ[\"OPENAI_API_KEY\"] = api_key\n",
    "    print(\"OPENAI_API_KEY set for this session!\")\n",
    "else:\n",
    "    print(\"OPENAI_API_KEY found in environment.\")"
   ]
  },
  {
   "cell_type": "code",
   "execution_count": null,
   "metadata": {},
   "outputs": [],
   "source": [
    "from any_agent import AgentConfig, AnyAgent\n",
    "from any_agent.config import MCPStdio\n",
    "\n",
    "time_tool = MCPStdio(\n",
    "    command=\"uvx\",\n",
    "    args=[\"mcp-server-time\", \"--local-timezone=America/New_York\"],\n",
    "    tools=[\n",
    "        \"get_current_time\",\n",
    "    ],\n",
    ")\n",
    "\n",
    "airbnb_tool = MCPStdio(\n",
    "    command=\"npx\", args=[\"-y\", \"@openbnb/mcp-server-airbnb\", \"--ignore-robots-txt\"]\n",
    ")\n",
    "\n",
    "\n",
    "def send_message(message: str) -> str:\n",
    "    \"\"\"Display a message to the user and wait for their response.\n",
    "\n",
    "    Args:\n",
    "        message: str\n",
    "            The message to be displayed to the user.\n",
    "\n",
    "    Returns:\n",
    "        str: The response from the user.\n",
    "\n",
    "    \"\"\"\n",
    "    return input(message + \" \")\n",
    "\n",
    "\n",
    "agent = AnyAgent.create(\n",
    "    \"openai\",  # See all options in https://mozilla-ai.github.io/any-agent/\n",
    "    AgentConfig(model_id=\"gpt-4o\", tools=[airbnb_tool, time_tool, send_message]),\n",
    ")"
   ]
  },
  {
   "cell_type": "markdown",
   "metadata": {},
   "source": [
    "## Run the Agent\n",
    "\n",
    "Now we've configured our agent, so it's time to run it! Let's give it a simple task: find 5 trending new TV shows that were released recently.\n"
   ]
  },
  {
   "cell_type": "code",
   "execution_count": 11,
   "metadata": {},
   "outputs": [
    {
     "data": {
      "text/html": [
       "<pre style=\"white-space:pre;overflow-x:auto;line-height:normal;font-family:Menlo,'DejaVu Sans Mono',consolas,'Courier New',monospace\"><span style=\"color: #000080; text-decoration-color: #000080\">────────────────────────────────────────────────────── </span>TOOL<span style=\"color: #000080; text-decoration-color: #000080\"> ───────────────────────────────────────────────────────</span>\n",
       "</pre>\n"
      ],
      "text/plain": [
       "\u001b[34m────────────────────────────────────────────────────── \u001b[0mTOOL\u001b[34m ───────────────────────────────────────────────────────\u001b[0m\n"
      ]
     },
     "metadata": {},
     "output_type": "display_data"
    },
    {
     "data": {
      "text/html": [
       "<pre style=\"white-space:pre;overflow-x:auto;line-height:normal;font-family:Menlo,'DejaVu Sans Mono',consolas,'Courier New',monospace\">tool_name: get_current_time\n",
       "</pre>\n"
      ],
      "text/plain": [
       "tool_name: get_current_time\n"
      ]
     },
     "metadata": {},
     "output_type": "display_data"
    },
    {
     "data": {
      "text/html": [
       "<pre style=\"white-space:pre;overflow-x:auto;line-height:normal;font-family:Menlo,'DejaVu Sans Mono',consolas,'Courier New',monospace\">input: <span style=\"font-weight: bold\">{</span><span style=\"color: #008000; text-decoration-color: #008000\">'timezone'</span>: <span style=\"color: #008000; text-decoration-color: #008000\">'America/New_York'</span><span style=\"font-weight: bold\">}</span>\n",
       "</pre>\n"
      ],
      "text/plain": [
       "input: \u001b[1m{\u001b[0m\u001b[32m'timezone'\u001b[0m: \u001b[32m'America/New_York'\u001b[0m\u001b[1m}\u001b[0m\n"
      ]
     },
     "metadata": {},
     "output_type": "display_data"
    },
    {
     "data": {
      "text/html": [
       "<pre style=\"white-space:pre;overflow-x:auto;line-height:normal;font-family:Menlo,'DejaVu Sans Mono',consolas,'Courier New',monospace\">╭──────────────────────────────────────────────────── Output ─────────────────────────────────────────────────────╮\n",
       "│ {\"type\":\"text\",\"text\":\"{\\n  \"timezone\": \"America/New_York\",\\n  \"datetime\": \"2025-05-21T15:31:05-04:00\",\\n       │\n",
       "│ \"is_dst\": true\\n}\",\"annotations\":null}                                                                          │\n",
       "╰─────────────────────────────────────────────────────────────────────────────────────────────────────────────────╯\n",
       "</pre>\n"
      ],
      "text/plain": [
       "╭──────────────────────────────────────────────────── Output ─────────────────────────────────────────────────────╮\n",
       "│ {\"type\":\"text\",\"text\":\"{\\n  \"timezone\": \"America/New_York\",\\n  \"datetime\": \"2025-05-21T15:31:05-04:00\",\\n       │\n",
       "│ \"is_dst\": true\\n}\",\"annotations\":null}                                                                          │\n",
       "╰─────────────────────────────────────────────────────────────────────────────────────────────────────────────────╯\n"
      ]
     },
     "metadata": {},
     "output_type": "display_data"
    },
    {
     "data": {
      "text/html": [
       "<pre style=\"white-space:pre;overflow-x:auto;line-height:normal;font-family:Menlo,'DejaVu Sans Mono',consolas,'Courier New',monospace\"><span style=\"color: #000080; text-decoration-color: #000080\">───────────────────────────────────────────────────────────────────────────────────────────────────────────────────</span>\n",
       "</pre>\n"
      ],
      "text/plain": [
       "\u001b[34m───────────────────────────────────────────────────────────────────────────────────────────────────────────────────\u001b[0m\n"
      ]
     },
     "metadata": {},
     "output_type": "display_data"
    },
    {
     "data": {
      "text/html": [
       "<pre style=\"white-space:pre;overflow-x:auto;line-height:normal;font-family:Menlo,'DejaVu Sans Mono',consolas,'Courier New',monospace\"><span style=\"color: #000080; text-decoration-color: #000080\">────────────────────────────────────────────────────── </span>TOOL<span style=\"color: #000080; text-decoration-color: #000080\"> ───────────────────────────────────────────────────────</span>\n",
       "</pre>\n"
      ],
      "text/plain": [
       "\u001b[34m────────────────────────────────────────────────────── \u001b[0mTOOL\u001b[34m ───────────────────────────────────────────────────────\u001b[0m\n"
      ]
     },
     "metadata": {},
     "output_type": "display_data"
    },
    {
     "data": {
      "text/html": [
       "<pre style=\"white-space:pre;overflow-x:auto;line-height:normal;font-family:Menlo,'DejaVu Sans Mono',consolas,'Courier New',monospace\">tool_name: send_message\n",
       "</pre>\n"
      ],
      "text/plain": [
       "tool_name: send_message\n"
      ]
     },
     "metadata": {},
     "output_type": "display_data"
    },
    {
     "data": {
      "text/html": [
       "<pre style=\"white-space:pre;overflow-x:auto;line-height:normal;font-family:Menlo,'DejaVu Sans Mono',consolas,'Courier New',monospace\">input: <span style=\"font-weight: bold\">{</span><span style=\"color: #008000; text-decoration-color: #008000\">'message'</span>: <span style=\"color: #008000; text-decoration-color: #008000\">\"First, let's confirm the dates you're planning to stay. Today is May 21, 2025, and the next </span>\n",
       "<span style=\"color: #008000; text-decoration-color: #008000\">weekend would be May 24th to 25th. Are these the dates you have in mind for your stay near Ohiopyle, </span>\n",
       "<span style=\"color: #008000; text-decoration-color: #008000\">PA?\\n\\nAdditionally, I'll need to know:\\n\\n1. How many adults, children, infants, and pets will be staying?\\n2. Do </span>\n",
       "<span style=\"color: #008000; text-decoration-color: #008000\">you have a budget range in mind for the booking?\\n3. Are there any specific amenities or requirements you'd like </span>\n",
       "<span style=\"color: #008000; text-decoration-color: #008000\">for your stay?\"</span><span style=\"font-weight: bold\">}</span>\n",
       "</pre>\n"
      ],
      "text/plain": [
       "input: \u001b[1m{\u001b[0m\u001b[32m'message'\u001b[0m: \u001b[32m\"First, let's confirm the dates you're planning to stay. Today is May 21, 2025, and the next \u001b[0m\n",
       "\u001b[32mweekend would be May 24th to 25th. Are these the dates you have in mind for your stay near Ohiopyle, \u001b[0m\n",
       "\u001b[32mPA?\\n\\nAdditionally, I'll need to know:\\n\\n1. How many adults, children, infants, and pets will be staying?\\n2. Do \u001b[0m\n",
       "\u001b[32myou have a budget range in mind for the booking?\\n3. Are there any specific amenities or requirements you'd like \u001b[0m\n",
       "\u001b[32mfor your stay?\"\u001b[0m\u001b[1m}\u001b[0m\n"
      ]
     },
     "metadata": {},
     "output_type": "display_data"
    },
    {
     "data": {
      "text/html": [
       "<pre style=\"white-space:pre;overflow-x:auto;line-height:normal;font-family:Menlo,'DejaVu Sans Mono',consolas,'Courier New',monospace\">╭──────────────────────────────────────────────────── Output ─────────────────────────────────────────────────────╮\n",
       "│ 2 adults, 1 child, 1 infant, and 1 dog. No particular budget range but I'd like to know some options. I'd like  │\n",
       "│ it to be in a nice woodsy area                                                                                  │\n",
       "╰─────────────────────────────────────────────────────────────────────────────────────────────────────────────────╯\n",
       "</pre>\n"
      ],
      "text/plain": [
       "╭──────────────────────────────────────────────────── Output ─────────────────────────────────────────────────────╮\n",
       "│ 2 adults, 1 child, 1 infant, and 1 dog. No particular budget range but I'd like to know some options. I'd like  │\n",
       "│ it to be in a nice woodsy area                                                                                  │\n",
       "╰─────────────────────────────────────────────────────────────────────────────────────────────────────────────────╯\n"
      ]
     },
     "metadata": {},
     "output_type": "display_data"
    },
    {
     "data": {
      "text/html": [
       "<pre style=\"white-space:pre;overflow-x:auto;line-height:normal;font-family:Menlo,'DejaVu Sans Mono',consolas,'Courier New',monospace\"><span style=\"color: #000080; text-decoration-color: #000080\">───────────────────────────────────────────────────────────────────────────────────────────────────────────────────</span>\n",
       "</pre>\n"
      ],
      "text/plain": [
       "\u001b[34m───────────────────────────────────────────────────────────────────────────────────────────────────────────────────\u001b[0m\n"
      ]
     },
     "metadata": {},
     "output_type": "display_data"
    },
    {
     "data": {
      "text/html": [
       "<pre style=\"white-space:pre;overflow-x:auto;line-height:normal;font-family:Menlo,'DejaVu Sans Mono',consolas,'Courier New',monospace\"><span style=\"color: #000080; text-decoration-color: #000080\">────────────────────────────────────────────────────── </span>TOOL<span style=\"color: #000080; text-decoration-color: #000080\"> ───────────────────────────────────────────────────────</span>\n",
       "</pre>\n"
      ],
      "text/plain": [
       "\u001b[34m────────────────────────────────────────────────────── \u001b[0mTOOL\u001b[34m ───────────────────────────────────────────────────────\u001b[0m\n"
      ]
     },
     "metadata": {},
     "output_type": "display_data"
    },
    {
     "data": {
      "text/html": [
       "<pre style=\"white-space:pre;overflow-x:auto;line-height:normal;font-family:Menlo,'DejaVu Sans Mono',consolas,'Courier New',monospace\">tool_name: airbnb_search\n",
       "</pre>\n"
      ],
      "text/plain": [
       "tool_name: airbnb_search\n"
      ]
     },
     "metadata": {},
     "output_type": "display_data"
    },
    {
     "data": {
      "text/html": [
       "<pre style=\"white-space:pre;overflow-x:auto;line-height:normal;font-family:Menlo,'DejaVu Sans Mono',consolas,'Courier New',monospace\">input: <span style=\"font-weight: bold\">{</span><span style=\"color: #008000; text-decoration-color: #008000\">'location'</span>: <span style=\"color: #008000; text-decoration-color: #008000\">'Ohiopyle, PA'</span>, <span style=\"color: #008000; text-decoration-color: #008000\">'checkin'</span>: <span style=\"color: #008000; text-decoration-color: #008000\">'2025-05-24'</span>, <span style=\"color: #008000; text-decoration-color: #008000\">'checkout'</span>: <span style=\"color: #008000; text-decoration-color: #008000\">'2025-05-25'</span>, <span style=\"color: #008000; text-decoration-color: #008000\">'adults'</span>: <span style=\"color: #008080; text-decoration-color: #008080; font-weight: bold\">2</span>, <span style=\"color: #008000; text-decoration-color: #008000\">'children'</span>: <span style=\"color: #008080; text-decoration-color: #008080; font-weight: bold\">1</span>, \n",
       "<span style=\"color: #008000; text-decoration-color: #008000\">'infants'</span>: <span style=\"color: #008080; text-decoration-color: #008080; font-weight: bold\">1</span>, <span style=\"color: #008000; text-decoration-color: #008000\">'pets'</span>: <span style=\"color: #008080; text-decoration-color: #008080; font-weight: bold\">1</span><span style=\"font-weight: bold\">}</span>\n",
       "</pre>\n"
      ],
      "text/plain": [
       "input: \u001b[1m{\u001b[0m\u001b[32m'location'\u001b[0m: \u001b[32m'Ohiopyle, PA'\u001b[0m, \u001b[32m'checkin'\u001b[0m: \u001b[32m'2025-05-24'\u001b[0m, \u001b[32m'checkout'\u001b[0m: \u001b[32m'2025-05-25'\u001b[0m, \u001b[32m'adults'\u001b[0m: \u001b[1;36m2\u001b[0m, \u001b[32m'children'\u001b[0m: \u001b[1;36m1\u001b[0m, \n",
       "\u001b[32m'infants'\u001b[0m: \u001b[1;36m1\u001b[0m, \u001b[32m'pets'\u001b[0m: \u001b[1;36m1\u001b[0m\u001b[1m}\u001b[0m\n"
      ]
     },
     "metadata": {},
     "output_type": "display_data"
    },
    {
     "data": {
      "text/html": [
       "<pre style=\"white-space:pre;overflow-x:auto;line-height:normal;font-family:Menlo,'DejaVu Sans Mono',consolas,'Courier New',monospace\">╭──────────────────────────────────────────────────── Output ─────────────────────────────────────────────────────╮\n",
       "│ {\"type\":\"text\",\"text\":\"{\\n  \"searchUrl\":                                                                        │\n",
       "│ \"https://www.airbnb.com/s/Ohiopyle%2C%20PA/homes?checkin=2025-05-24&amp;checkout=2025-05-25&amp;adults=2&amp;children=1&amp;inf │\n",
       "│ ants=1&amp;pets=1\",\\n  \"searchResults\": [\\n    {\\n      \"id\": \"1049325800817947598\",\\n      \"url\":                  │\n",
       "│ \"https://www.airbnb.com/rooms/1049325800817947598\",\\n      \"demandStayListing\": {\\n        \"id\":                │\n",
       "│ \"RGVtYW5kU3RheUxpc3Rpbmc6MTA0OTMyNTgwMDgxNzk0NzU5OA==\",\\n        \"description\": {\\n          \"name\": {\\n        │\n",
       "│ \"localizedStringWithTranslationPreference\": \"River's End | 1BR,1BA, Cabinesque Motel in Ohiopyl\"\\n          }\\n │\n",
       "│ },\\n        \"location\": {\\n          \"coordinate\": {\\n            \"latitude\": 39.86954,\\n                       │\n",
       "│ \"longitude\": -79.49283\\n          }\\n        }\\n      },\\n      \"badges\": \"\",\\n      \"structuredContent\": {\\n   │\n",
       "│ \"mapCategoryInfo\": \"\",\\n        \"mapSecondaryLine\": \"\",\\n        \"primaryLine\": \"2 beds, 1 bedroom\",\\n          │\n",
       "│ \"secondaryLine\": \"\"\\n      },\\n      \"structuredDisplayPrice\": {\\n        \"primaryLine\": {\\n                    │\n",
       "│ \"accessibilityLabel\": \"$242 for 1 night\"\\n        },\\n        \"explanationData\": {\\n          \"title\": \"Price   │\n",
       "│ details\",\\n          \"priceDetails\": \"$242 x 1 night: $242\"\\n        }\\n      }\\n    },\\n    {\\n      \"id\":     │\n",
       "│ \"781927184983955748\",\\n      \"url\": \"https://www.airbnb.com/rooms/781927184983955748\",\\n                        │\n",
       "│ \"demandStayListing\": {\\n        \"id\": \"RGVtYW5kU3RheUxpc3Rpbmc6NzgxOTI3MTg0OTgzOTU1NzQ4\",\\n                     │\n",
       "│ \"description\": {\\n          \"name\": {\\n            \"localizedStringWithTranslationPreference\": \"Evergreen Lodge │\n",
       "│ Golfing-Hiking-Swimming and more!\"\\n          }\\n        },\\n        \"location\": {\\n          \"coordinate\": {\\n │\n",
       "│ \"latitude\": 40.06116,\\n            \"longitude\": -79.26063\\n          }\\n        }\\n      },\\n      \"badges\":    │\n",
       "│ \"Guest favorite\",\\n      \"structuredContent\": {\\n        \"mapCategoryInfo\": \"\",\\n        \"mapSecondaryLine\":    │\n",
       "│ \"\",\\n        \"primaryLine\": \"4 beds, 2 bedrooms\",\\n        \"secondaryLine\": \"\"\\n      },\\n                      │\n",
       "│ \"avgRatingA11yLabel\": \"4.92 out of 5 average rating,  114 reviews\",\\n      \"structuredDisplayPrice\": {\\n        │\n",
       "│ \"primaryLine\": {\\n          \"accessibilityLabel\": \"$331 for 1 night, originally $430\"\\n        },\\n             │\n",
       "│ \"explanationData\": {\\n          \"title\": \"Price details\",\\n          \"priceDetails\": \"$331 x 1 night: $331, \"\\n │\n",
       "│ }\\n      }\\n    },\\n    {\\n      \"id\": \"24848671\",\\n      \"url\": \"https://www.airbnb.com/rooms/24848671\",\\n     │\n",
       "│ \"demandStayListing\": {\\n        \"id\": \"RGVtYW5kU3RheUxpc3Rpbmc6MjQ4NDg2NzE=\",\\n        \"description\": {\\n       │\n",
       "│ \"name\": {\\n            \"localizedStringWithTranslationPreference\": \"Hoover Suite- GAP Trail Hotel at Morguen    │\n",
       "│ Toole Co\"\\n          }\\n        },\\n        \"location\": {\\n          \"coordinate\": {\\n            \"latitude\":   │\n",
       "│ 39.814388,\\n            \"longitude\": -79.025269\\n          }\\n        }\\n      },\\n      \"badges\": \"\",\\n        │\n",
       "│ \"structuredContent\": {\\n        \"mapCategoryInfo\": \"\",\\n        \"mapSecondaryLine\": \"\",\\n        \"primaryLine\": │\n",
       "│ \"2 beds, 2 bedrooms\",\\n        \"secondaryLine\": \"\"\\n      },\\n      \"avgRatingA11yLabel\": \"4.79 out of 5        │\n",
       "│ average rating,  85 reviews\",\\n      \"structuredDisplayPrice\": {\\n        \"primaryLine\": {\\n                    │\n",
       "│ \"accessibilityLabel\": \"$204 for 1 night\"\\n        },\\n        \"explanationData\": {\\n          \"title\": \"Price   │\n",
       "│ details\",\\n          \"priceDetails\": \"$204 x 1 night: $204\"\\n        }\\n      }\\n    },\\n    {\\n      \"id\":     │\n",
       "│ \"51538566\",\\n      \"url\": \"https://www.airbnb.com/rooms/51538566\",\\n      \"demandStayListing\": {\\n        \"id\": │\n",
       "│ \"RGVtYW5kU3RheUxpc3Rpbmc6NTE1Mzg1NjY=\",\\n        \"description\": {\\n          \"name\": {\\n                        │\n",
       "│ \"localizedStringWithTranslationPreference\": \"Baneberry Meadows Farm House\"\\n          }\\n        },\\n           │\n",
       "│ \"location\": {\\n          \"coordinate\": {\\n            \"latitude\": 40.09288,\\n            \"longitude\":           │\n",
       "│ -79.36663\\n          }\\n        }\\n      },\\n      \"badges\": \"Superhost\",\\n      \"structuredContent\": {\\n       │\n",
       "│ \"mapCategoryInfo\": \"\",\\n        \"mapSecondaryLine\": \"\",\\n        \"primaryLine\": \"3 beds, 3 bedrooms\",\\n         │\n",
       "│ \"secondaryLine\": \"\"\\n      },\\n      \"avgRatingA11yLabel\": \"4.86 out of 5 average rating,  7 reviews\",\\n        │\n",
       "│ \"structuredDisplayPrice\": {\\n        \"primaryLine\": {\\n          \"accessibilityLabel\": \"$399 for 1 night\"\\n     │\n",
       "│ },\\n        \"explanationData\": {\\n          \"title\": \"Price details\",\\n          \"priceDetails\": \"$399 x 1      │\n",
       "│ night: $399\"\\n        }\\n      }\\n    },\\n    {\\n      \"id\": \"1151299878283759623\",\\n      \"url\":               │\n",
       "│ \"https://www.airbnb.com/rooms/1151299878283759623\",\\n      \"demandStayListing\": {\\n        \"id\":                │\n",
       "│ \"RGVtYW5kU3RheUxpc3Rpbmc6MTE1MTI5OTg3ODI4Mzc1OTYyMw==\",\\n        \"description\": {\\n          \"name\": {\\n        │\n",
       "│ \"localizedStringWithTranslationPreference\": \"Pet Friendly Creekside Cabin Fisherman's Paradise\"\\n          }\\n  │\n",
       "│ },\\n        \"location\": {\\n          \"coordinate\": {\\n            \"latitude\": 40.05588,\\n                       │\n",
       "│ \"longitude\": -79.22279\\n          }\\n        }\\n      },\\n      \"badges\": \"\",\\n      \"structuredContent\": {\\n   │\n",
       "│ \"mapCategoryInfo\": \"\",\\n        \"mapSecondaryLine\": \"\",\\n        \"primaryLine\": \"8 beds, 4 bedrooms\",\\n         │\n",
       "│ \"secondaryLine\": \"\"\\n      },\\n      \"avgRatingA11yLabel\": \"4.85 out of 5 average rating,  13 reviews\",\\n       │\n",
       "│ \"structuredDisplayPrice\": {\\n        \"primaryLine\": {\\n          \"accessibilityLabel\": \"$615 for 1 night,       │\n",
       "│ originally $666\"\\n        },\\n        \"explanationData\": {\\n          \"title\": \"Price details\",\\n               │\n",
       "│ \"priceDetails\": \"$615 x 1 night: $615, \"\\n        }\\n      }\\n    },\\n    {\\n      \"id\":                        │\n",
       "│ \"1282488585933180318\",\\n      \"url\": \"https://www.airbnb.com/rooms/1282488585933180318\",\\n                      │\n",
       "│ \"demandStayListing\": {\\n        \"id\": \"RGVtYW5kU3RheUxpc3Rpbmc6MTI4MjQ4ODU4NTkzMzE4MDMxOA==\",\\n                 │\n",
       "│ \"description\": {\\n          \"name\": {\\n            \"localizedStringWithTranslationPreference\": \"Under 20        │\n",
       "│ minutes to anywhere\"\\n          }\\n        },\\n        \"location\": {\\n          \"coordinate\": {\\n               │\n",
       "│ \"latitude\": 39.62525370705419,\\n            \"longitude\": -79.21871649611994\\n          }\\n        }\\n      },\\n │\n",
       "│ \"badges\": \"\",\\n      \"structuredContent\": {\\n        \"mapCategoryInfo\": \"\",\\n        \"mapSecondaryLine\": \"\",\\n  │\n",
       "│ \"primaryLine\": \"4 beds, 3 bedrooms\",\\n        \"secondaryLine\": \"\"\\n      },\\n      \"structuredDisplayPrice\":    │\n",
       "│ {\\n        \"primaryLine\": {\\n          \"accessibilityLabel\": \"$221 for 1 night\"\\n        },\\n                   │\n",
       "│ \"explanationData\": {\\n          \"title\": \"Price details\",\\n          \"priceDetails\": \"$221 x 1 night: $221\"\\n   │\n",
       "│ }\\n      }\\n    },\\n    {\\n      \"id\": \"24851215\",\\n      \"url\": \"https://www.airbnb.com/rooms/24851215\",\\n     │\n",
       "│ \"demandStayListing\": {\\n        \"id\": \"RGVtYW5kU3RheUxpc3Rpbmc6MjQ4NTEyMTU=\",\\n        \"description\": {\\n       │\n",
       "│ \"name\": {\\n            \"localizedStringWithTranslationPreference\": \"FOE Taproom - GAP Trail Hotel at Morguen    │\n",
       "│ Toole Co\"\\n          }\\n        },\\n        \"location\": {\\n          \"coordinate\": {\\n            \"latitude\":   │\n",
       "│ 39.814388,\\n            \"longitude\": -79.025269\\n          }\\n        }\\n      },\\n      \"badges\": \"\",\\n        │\n",
       "│ \"structuredContent\": {\\n        \"mapCategoryInfo\": \"\",\\n        \"mapSecondaryLine\": \"\",\\n        \"primaryLine\": │\n",
       "│ \"2 beds, 1 bedroom\",\\n        \"secondaryLine\": \"\"\\n      },\\n      \"avgRatingA11yLabel\": \"4.69 out of 5 average │\n",
       "│ rating,  77 reviews\",\\n      \"structuredDisplayPrice\": {\\n        \"primaryLine\": {\\n                            │\n",
       "│ \"accessibilityLabel\": \"$149 for 1 night\"\\n        },\\n        \"explanationData\": {\\n          \"title\": \"Price   │\n",
       "│ details\",\\n          \"priceDetails\": \"$149 x 1 night: $149\"\\n        }\\n      }\\n    },\\n    {\\n      \"id\":     │\n",
       "│ \"49078585\",\\n      \"url\": \"https://www.airbnb.com/rooms/49078585\",\\n      \"demandStayListing\": {\\n        \"id\": │\n",
       "│ \"RGVtYW5kU3RheUxpc3Rpbmc6NDkwNzg1ODU=\",\\n        \"description\": {\\n          \"name\": {\\n                        │\n",
       "│ \"localizedStringWithTranslationPreference\": \"Farmhouse on working farm - disconnect from it all\"\\n          }\\n │\n",
       "│ },\\n        \"location\": {\\n          \"coordinate\": {\\n            \"latitude\": 40.08191,\\n                       │\n",
       "│ \"longitude\": -79.63382\\n          }\\n        }\\n      },\\n      \"badges\": \"Guest favorite\",\\n                   │\n",
       "│ \"structuredContent\": {\\n        \"mapCategoryInfo\": \"\",\\n        \"mapSecondaryLine\": \"\",\\n        \"primaryLine\": │\n",
       "│ \"7 beds, 3 bedrooms\",\\n        \"secondaryLine\": \"\"\\n      },\\n      \"avgRatingA11yLabel\": \"5.0 out of 5 average │\n",
       "│ rating,  18 reviews\",\\n      \"structuredDisplayPrice\": {\\n        \"primaryLine\": {\\n                            │\n",
       "│ \"accessibilityLabel\": \"$568 for 1 night, originally $645\"\\n        },\\n        \"explanationData\": {\\n           │\n",
       "│ \"title\": \"Price details\",\\n          \"priceDetails\": \"$645 x 1 night: $645, Special offer: -$77, Price after    │\n",
       "│ discount: $568, \"\\n        }\\n      }\\n    },\\n    {\\n      \"id\": \"44990557\",\\n      \"url\":                     │\n",
       "│ \"https://www.airbnb.com/rooms/44990557\",\\n      \"demandStayListing\": {\\n        \"id\":                           │\n",
       "│ \"RGVtYW5kU3RheUxpc3Rpbmc6NDQ5OTA1NTc=\",\\n        \"description\": {\\n          \"name\": {\\n                        │\n",
       "│ \"localizedStringWithTranslationPreference\": \"Maple Bottom Farmhouse - AnnaLee room\"\\n          }\\n        },\\n  │\n",
       "│ \"location\": {\\n          \"coordinate\": {\\n            \"latitude\": 40.08571,\\n            \"longitude\":           │\n",
       "│ -79.63154\\n          }\\n        }\\n      },\\n      \"badges\": \"Guest favorite\",\\n      \"structuredContent\": {\\n  │\n",
       "│ \"mapCategoryInfo\": \"Stay with Victoria, Dairy farmer\",\\n        \"mapSecondaryLine\": \"\",\\n        \"primaryLine\": │\n",
       "│ \"\",\\n        \"secondaryLine\": \"\"\\n      },\\n      \"avgRatingA11yLabel\": \"4.85 out of 5 average rating,  20      │\n",
       "│ reviews\",\\n      \"listingParamOverrides\": {\\n        \"categoryTag\": \"Tag:8678\",\\n        \"photoId\":             │\n",
       "│ \"1116419731\",\\n        \"relaxedAmenityIds\": \"\",\\n        \"splitStaysLocationPrecisions\": \"\",\\n                  │\n",
       "│ \"splitStaysLocationsAcpIds\": \"\"\\n      },\\n      \"structuredDisplayPrice\": {\\n        \"primaryLine\": {\\n        │\n",
       "│ \"accessibilityLabel\": \"$234 for 1 night\"\\n        },\\n        \"explanationData\": {\\n          \"title\": \"Price   │\n",
       "│ details\",\\n          \"priceDetails\": \"$234 x 1 night: $234\"\\n        }\\n      }\\n    },\\n    {\\n      \"id\":     │\n",
       "│ \"45530398\",\\n      \"url\": \"https://www.airbnb.com/rooms/45530398\",\\n      \"demandStayListing\": {\\n        \"id\": │\n",
       "│ \"RGVtYW5kU3RheUxpc3Rpbmc6NDU1MzAzOTg=\",\\n        \"description\": {\\n          \"name\": {\\n                        │\n",
       "│ \"localizedStringWithTranslationPreference\": \"Cozy Up in this Wooded Laurel Highlands Retreat\"\\n          }\\n    │\n",
       "│ },\\n        \"location\": {\\n          \"coordinate\": {\\n            \"latitude\": 39.98278,\\n                       │\n",
       "│ \"longitude\": -79.22703\\n          }\\n        }\\n      },\\n      \"badges\": \"\",\\n      \"structuredContent\": {\\n   │\n",
       "│ \"mapCategoryInfo\": \"1 min walk to park\",\\n        \"mapSecondaryLine\": \"\",\\n        \"primaryLine\": \"\",\\n         │\n",
       "│ \"secondaryLine\": \"1 min walk to park\"\\n      },\\n      \"avgRatingA11yLabel\": \"4.9 out of 5 average rating,  115 │\n",
       "│ reviews\",\\n      \"structuredDisplayPrice\": {\\n        \"primaryLine\": {\\n          \"accessibilityLabel\": \"$370   │\n",
       "│ for 1 night\"\\n        },\\n        \"explanationData\": {\\n          \"title\": \"Price details\",\\n                   │\n",
       "│ \"priceDetails\": \"$370 x 1 night: $370\"\\n        }\\n      }\\n    },\\n    {\\n      \"id\": \"24851308\",\\n            │\n",
       "│ \"url\": \"https://www.airbnb.com/rooms/24851308\",\\n      \"demandStayListing\": {\\n        \"id\":                    │\n",
       "│ \"RGVtYW5kU3RheUxpc3Rpbmc6MjQ4NTEzMDg=\",\\n        \"description\": {\\n          \"name\": {\\n                        │\n",
       "│ \"localizedStringWithTranslationPreference\": \"Appel &amp; Glessner- GAP Trail Hotel at Morguen Toole\"\\n          }\\n │\n",
       "│ },\\n        \"location\": {\\n          \"coordinate\": {\\n            \"latitude\": 39.814388,\\n                      │\n",
       "│ \"longitude\": -79.025269\\n          }\\n        }\\n      },\\n      \"badges\": \"\",\\n      \"structuredContent\": {\\n  │\n",
       "│ \"mapCategoryInfo\": \"\",\\n        \"mapSecondaryLine\": \"\",\\n        \"primaryLine\": \"4 beds, 1 bedroom\",\\n          │\n",
       "│ \"secondaryLine\": \"\"\\n      },\\n      \"avgRatingA11yLabel\": \"4.79 out of 5 average rating,  42 reviews\",\\n       │\n",
       "│ \"structuredDisplayPrice\": {\\n        \"primaryLine\": {\\n          \"accessibilityLabel\": \"$169 for 1 night\"\\n     │\n",
       "│ },\\n        \"explanationData\": {\\n          \"title\": \"Price details\",\\n          \"priceDetails\": \"$169 x 1      │\n",
       "│ night: $169\"\\n        }\\n      }\\n    },\\n    {\\n      \"id\": \"846113953153209680\",\\n      \"url\":                │\n",
       "│ \"https://www.airbnb.com/rooms/846113953153209680\",\\n      \"demandStayListing\": {\\n        \"id\":                 │\n",
       "│ \"RGVtYW5kU3RheUxpc3Rpbmc6ODQ2MTEzOTUzMTUzMjA5Njgw\",\\n        \"description\": {\\n          \"name\": {\\n            │\n",
       "│ \"localizedStringWithTranslationPreference\": \"Seven Springs 4br Condo, Ski-In/out, Pet Friendly\"\\n          }\\n  │\n",
       "│ },\\n        \"location\": {\\n          \"coordinate\": {\\n            \"latitude\": 40.017,\\n            \"longitude\": │\n",
       "│ -79.2967\\n          }\\n        }\\n      },\\n      \"badges\": \"\",\\n      \"structuredContent\": {\\n                 │\n",
       "│ \"mapCategoryInfo\": \"\",\\n        \"mapSecondaryLine\": \"\",\\n        \"primaryLine\": \"6 beds, 4 bedrooms\",\\n         │\n",
       "│ \"secondaryLine\": \"\"\\n      },\\n      \"structuredDisplayPrice\": {\\n        \"primaryLine\": {\\n                    │\n",
       "│ \"accessibilityLabel\": \"$585 for 1 night\"\\n        },\\n        \"explanationData\": {\\n          \"title\": \"Price   │\n",
       "│ details\",\\n          \"priceDetails\": \"$585 x 1 night: $585\"\\n        }\\n      }\\n    },\\n    {\\n      \"id\":     │\n",
       "│ \"1377436041307780983\",\\n      \"url\": \"https://www.airbnb.com/rooms/1377436041307780983\",\\n                      │\n",
       "│ \"demandStayListing\": {\\n        \"id\": \"RGVtYW5kU3RheUxpc3Rpbmc6MTM3NzQzNjA0MTMwNzc4MDk4Mw==\",\\n                 │\n",
       "│ \"description\": {\\n          \"name\": {\\n            \"localizedStringWithTranslationPreference\": \"Peaceful Hidden │\n",
       "│ Valley Retreat\"\\n          }\\n        },\\n        \"location\": {\\n          \"coordinate\": {\\n                    │\n",
       "│ \"latitude\": 40.0602,\\n            \"longitude\": -79.2609\\n          }\\n        }\\n      },\\n      \"badges\":      │\n",
       "│ \"\",\\n      \"structuredContent\": {\\n        \"mapCategoryInfo\": \"\",\\n        \"mapSecondaryLine\": \"\",\\n            │\n",
       "│ \"primaryLine\": \"4 beds, 3 bedrooms\",\\n        \"secondaryLine\": \"\"\\n      },\\n      \"avgRatingA11yLabel\": \"New   │\n",
       "│ place to stay\",\\n      \"structuredDisplayPrice\": {\\n        \"primaryLine\": {\\n          \"accessibilityLabel\":   │\n",
       "│ \"$365 for 1 night\"\\n        },\\n        \"explanationData\": {\\n          \"title\": \"Price details\",\\n             │\n",
       "│ \"priceDetails\": \"$365 x 1 night: $365\"\\n        }\\n      }\\n    },\\n    {\\n      \"id\": \"1370506761371796065\",\\n │\n",
       "│ \"url\": \"https://www.airbnb.com/rooms/1370506761371796065\",\\n      \"demandStayListing\": {\\n        \"id\":         │\n",
       "│ \"RGVtYW5kU3RheUxpc3Rpbmc6MTM3MDUwNjc2MTM3MTc5NjA2NQ==\",\\n        \"description\": {\\n          \"name\": {\\n        │\n",
       "│ \"localizedStringWithTranslationPreference\": \"Mountain Peak Escape at Hidden Valley\"\\n          }\\n        },\\n  │\n",
       "│ \"location\": {\\n          \"coordinate\": {\\n            \"latitude\": 40.0499,\\n            \"longitude\":            │\n",
       "│ -79.25779\\n          }\\n        }\\n      },\\n      \"badges\": \"\",\\n      \"structuredContent\": {\\n                │\n",
       "│ \"mapCategoryInfo\": \"\",\\n        \"mapSecondaryLine\": \"\",\\n        \"primaryLine\": \"7 beds, 2 bedrooms\",\\n         │\n",
       "│ \"secondaryLine\": \"\"\\n      },\\n      \"structuredDisplayPrice\": {\\n        \"primaryLine\": {\\n                    │\n",
       "│ \"accessibilityLabel\": \"$455 for 1 night\"\\n        },\\n        \"explanationData\": {\\n          \"title\": \"Price   │\n",
       "│ details\",\\n          \"priceDetails\": \"$455 x 1 night: $455\"\\n        }\\n      }\\n    },\\n    {\\n      \"id\":     │\n",
       "│ \"26255698\",\\n      \"url\": \"https://www.airbnb.com/rooms/26255698\",\\n      \"demandStayListing\": {\\n        \"id\": │\n",
       "│ \"RGVtYW5kU3RheUxpc3Rpbmc6MjYyNTU2OTg=\",\\n        \"description\": {\\n          \"name\": {\\n                        │\n",
       "│ \"localizedStringWithTranslationPreference\": \"Exquisite Home on Nemacolin Woodlands Property\"\\n          }\\n     │\n",
       "│ },\\n        \"location\": {\\n          \"coordinate\": {\\n            \"latitude\": 39.80617,\\n                       │\n",
       "│ \"longitude\": -79.55045\\n          }\\n        }\\n      },\\n      \"badges\": \"\",\\n      \"structuredContent\": {\\n   │\n",
       "│ \"mapCategoryInfo\": \"\",\\n        \"mapSecondaryLine\": \"\",\\n        \"primaryLine\": \"4 beds, 4 bedrooms\",\\n         │\n",
       "│ \"secondaryLine\": \"\"\\n      },\\n      \"avgRatingA11yLabel\": \"4.8 out of 5 average rating,  76 reviews\",\\n        │\n",
       "│ \"structuredDisplayPrice\": {\\n        \"primaryLine\": {\\n          \"accessibilityLabel\": \"$1,255 for 1 night\"\\n   │\n",
       "│ },\\n        \"explanationData\": {\\n          \"title\": \"Price details\",\\n          \"priceDetails\": \"$1,255 x 1    │\n",
       "│ night: $1,255\"\\n        }\\n      }\\n    },\\n    {\\n      \"id\": \"9020172\",\\n      \"url\":                         │\n",
       "│ \"https://www.airbnb.com/rooms/9020172\",\\n      \"demandStayListing\": {\\n        \"id\":                            │\n",
       "│ \"RGVtYW5kU3RheUxpc3Rpbmc6OTAyMDE3Mg==\",\\n        \"description\": {\\n          \"name\": {\\n                        │\n",
       "│ \"localizedStringWithTranslationPreference\": \"Large ski chalet near Seven springs ski resort\"\\n          }\\n     │\n",
       "│ },\\n        \"location\": {\\n          \"coordinate\": {\\n            \"latitude\": 40.02955,\\n                       │\n",
       "│ \"longitude\": -79.35877\\n          }\\n        }\\n      },\\n      \"badges\": \"Guest favorite\",\\n                   │\n",
       "│ \"structuredContent\": {\\n        \"mapCategoryInfo\": \"\",\\n        \"mapSecondaryLine\": \"\",\\n        \"primaryLine\": │\n",
       "│ \"6 beds, 4 bedrooms\",\\n        \"secondaryLine\": \"\"\\n      },\\n      \"avgRatingA11yLabel\": \"4.93 out of 5        │\n",
       "│ average rating,  253 reviews\",\\n      \"structuredDisplayPrice\": {\\n        \"primaryLine\": {\\n                   │\n",
       "│ \"accessibilityLabel\": \"$959 for 1 night\"\\n        },\\n        \"explanationData\": {\\n          \"title\": \"Price   │\n",
       "│ details\",\\n          \"priceDetails\": \"$959 x 1 night: $959\"\\n        }\\n      }\\n    },\\n    {\\n      \"id\":     │\n",
       "│ \"39458963\",\\n      \"url\": \"https://www.airbnb.com/rooms/39458963\",\\n      \"demandStayListing\": {\\n        \"id\": │\n",
       "│ \"RGVtYW5kU3RheUxpc3Rpbmc6Mzk0NTg5NjM=\",\\n        \"description\": {\\n          \"name\": {\\n                        │\n",
       "│ \"localizedStringWithTranslationPreference\": \"Farmhouse at Fernstone | 4BR, 1.5BA, Pool, Hot Tub\"\\n          }\\n │\n",
       "│ },\\n        \"location\": {\\n          \"coordinate\": {\\n            \"latitude\": 39.77516,\\n                       │\n",
       "│ \"longitude\": -79.59865\\n          }\\n        }\\n      },\\n      \"badges\": \"\",\\n      \"structuredContent\": {\\n   │\n",
       "│ \"mapCategoryInfo\": \"\",\\n        \"mapSecondaryLine\": \"\",\\n        \"primaryLine\": \"3 beds, 4 bedrooms\",\\n         │\n",
       "│ \"secondaryLine\": \"\"\\n      },\\n      \"avgRatingA11yLabel\": \"4.36 out of 5 average rating,  14 reviews\",\\n       │\n",
       "│ \"structuredDisplayPrice\": {\\n        \"primaryLine\": {\\n          \"accessibilityLabel\": \"$940 for 1 night\"\\n     │\n",
       "│ },\\n        \"explanationData\": {\\n          \"title\": \"Price details\",\\n          \"priceDetails\": \"$940 x 1      │\n",
       "│ night: $940\"\\n        }\\n      }\\n    },\\n    {\\n      \"id\": \"21800651\",\\n      \"url\":                          │\n",
       "│ \"https://www.airbnb.com/rooms/21800651\",\\n      \"demandStayListing\": {\\n        \"id\":                           │\n",
       "│ \"RGVtYW5kU3RheUxpc3Rpbmc6MjE4MDA2NTE=\",\\n        \"description\": {\\n          \"name\": {\\n                        │\n",
       "│ \"localizedStringWithTranslationPreference\": \"1st fl Victorian Apt. near Fallingwater\"\\n          }\\n            │\n",
       "│ },\\n        \"location\": {\\n          \"coordinate\": {\\n            \"latitude\": 40.09607,\\n                       │\n",
       "│ \"longitude\": -79.59387\\n          }\\n        }\\n      },\\n      \"badges\": \"Superhost\",\\n                        │\n",
       "│ \"structuredContent\": {\\n        \"mapCategoryInfo\": \"Stay with Pat, Bnb owner\",\\n        \"mapSecondaryLine\":     │\n",
       "│ \"\",\\n        \"primaryLine\": \"\",\\n        \"secondaryLine\": \"\"\\n      },\\n      \"avgRatingA11yLabel\": \"4.95 out   │\n",
       "│ of 5 average rating,  74 reviews\",\\n      \"listingParamOverrides\": {\\n        \"categoryTag\": \"Tag:8678\",\\n      │\n",
       "│ \"photoId\": \"2085962249\",\\n        \"relaxedAmenityIds\": \"\",\\n        \"splitStaysLocationPrecisions\": \"\",\\n       │\n",
       "│ \"splitStaysLocationsAcpIds\": \"\"\\n      },\\n      \"structuredDisplayPrice\": {\\n        \"primaryLine\": {\\n        │\n",
       "│ \"accessibilityLabel\": \"$371 for 1 night\"\\n        },\\n        \"explanationData\": {\\n          \"title\": \"Price   │\n",
       "│ details\",\\n          \"priceDetails\": \"$371 x 1 night: $371\"\\n        }\\n      }\\n    }\\n  ],\\n                  │\n",
       "│ \"paginationInfo\": {\\n    \"pageCursors\": [\\n                                                                     │\n",
       "│ \"eyJzZWN0aW9uX29mZnNldCI6MCwiaXRlbXNfb2Zmc2V0IjowLCJ2ZXJzaW9uIjoxfQ==\",\\n                                       │\n",
       "│ \"eyJzZWN0aW9uX29mZnNldCI6MCwiaXRlbXNfb2Zmc2V0IjoxOCwidmVyc2lvbiI6MX0=\"\\n    ],\\n    \"nextPageCursor\":           │\n",
       "│ \"eyJzZWN0aW9uX29mZnNldCI6MCwiaXRlbXNfb2Zmc2V0IjoxOCwidmVyc2lvbiI6MX0=\"\\n  }\\n}\",\"annotations\":null}             │\n",
       "╰─────────────────────────────────────────────────────────────────────────────────────────────────────────────────╯\n",
       "</pre>\n"
      ],
      "text/plain": [
       "╭──────────────────────────────────────────────────── Output ─────────────────────────────────────────────────────╮\n",
       "│ {\"type\":\"text\",\"text\":\"{\\n  \"searchUrl\":                                                                        │\n",
       "│ \"https://www.airbnb.com/s/Ohiopyle%2C%20PA/homes?checkin=2025-05-24&checkout=2025-05-25&adults=2&children=1&inf │\n",
       "│ ants=1&pets=1\",\\n  \"searchResults\": [\\n    {\\n      \"id\": \"1049325800817947598\",\\n      \"url\":                  │\n",
       "│ \"https://www.airbnb.com/rooms/1049325800817947598\",\\n      \"demandStayListing\": {\\n        \"id\":                │\n",
       "│ \"RGVtYW5kU3RheUxpc3Rpbmc6MTA0OTMyNTgwMDgxNzk0NzU5OA==\",\\n        \"description\": {\\n          \"name\": {\\n        │\n",
       "│ \"localizedStringWithTranslationPreference\": \"River's End | 1BR,1BA, Cabinesque Motel in Ohiopyl\"\\n          }\\n │\n",
       "│ },\\n        \"location\": {\\n          \"coordinate\": {\\n            \"latitude\": 39.86954,\\n                       │\n",
       "│ \"longitude\": -79.49283\\n          }\\n        }\\n      },\\n      \"badges\": \"\",\\n      \"structuredContent\": {\\n   │\n",
       "│ \"mapCategoryInfo\": \"\",\\n        \"mapSecondaryLine\": \"\",\\n        \"primaryLine\": \"2 beds, 1 bedroom\",\\n          │\n",
       "│ \"secondaryLine\": \"\"\\n      },\\n      \"structuredDisplayPrice\": {\\n        \"primaryLine\": {\\n                    │\n",
       "│ \"accessibilityLabel\": \"$242 for 1 night\"\\n        },\\n        \"explanationData\": {\\n          \"title\": \"Price   │\n",
       "│ details\",\\n          \"priceDetails\": \"$242 x 1 night: $242\"\\n        }\\n      }\\n    },\\n    {\\n      \"id\":     │\n",
       "│ \"781927184983955748\",\\n      \"url\": \"https://www.airbnb.com/rooms/781927184983955748\",\\n                        │\n",
       "│ \"demandStayListing\": {\\n        \"id\": \"RGVtYW5kU3RheUxpc3Rpbmc6NzgxOTI3MTg0OTgzOTU1NzQ4\",\\n                     │\n",
       "│ \"description\": {\\n          \"name\": {\\n            \"localizedStringWithTranslationPreference\": \"Evergreen Lodge │\n",
       "│ Golfing-Hiking-Swimming and more!\"\\n          }\\n        },\\n        \"location\": {\\n          \"coordinate\": {\\n │\n",
       "│ \"latitude\": 40.06116,\\n            \"longitude\": -79.26063\\n          }\\n        }\\n      },\\n      \"badges\":    │\n",
       "│ \"Guest favorite\",\\n      \"structuredContent\": {\\n        \"mapCategoryInfo\": \"\",\\n        \"mapSecondaryLine\":    │\n",
       "│ \"\",\\n        \"primaryLine\": \"4 beds, 2 bedrooms\",\\n        \"secondaryLine\": \"\"\\n      },\\n                      │\n",
       "│ \"avgRatingA11yLabel\": \"4.92 out of 5 average rating,  114 reviews\",\\n      \"structuredDisplayPrice\": {\\n        │\n",
       "│ \"primaryLine\": {\\n          \"accessibilityLabel\": \"$331 for 1 night, originally $430\"\\n        },\\n             │\n",
       "│ \"explanationData\": {\\n          \"title\": \"Price details\",\\n          \"priceDetails\": \"$331 x 1 night: $331, \"\\n │\n",
       "│ }\\n      }\\n    },\\n    {\\n      \"id\": \"24848671\",\\n      \"url\": \"https://www.airbnb.com/rooms/24848671\",\\n     │\n",
       "│ \"demandStayListing\": {\\n        \"id\": \"RGVtYW5kU3RheUxpc3Rpbmc6MjQ4NDg2NzE=\",\\n        \"description\": {\\n       │\n",
       "│ \"name\": {\\n            \"localizedStringWithTranslationPreference\": \"Hoover Suite- GAP Trail Hotel at Morguen    │\n",
       "│ Toole Co\"\\n          }\\n        },\\n        \"location\": {\\n          \"coordinate\": {\\n            \"latitude\":   │\n",
       "│ 39.814388,\\n            \"longitude\": -79.025269\\n          }\\n        }\\n      },\\n      \"badges\": \"\",\\n        │\n",
       "│ \"structuredContent\": {\\n        \"mapCategoryInfo\": \"\",\\n        \"mapSecondaryLine\": \"\",\\n        \"primaryLine\": │\n",
       "│ \"2 beds, 2 bedrooms\",\\n        \"secondaryLine\": \"\"\\n      },\\n      \"avgRatingA11yLabel\": \"4.79 out of 5        │\n",
       "│ average rating,  85 reviews\",\\n      \"structuredDisplayPrice\": {\\n        \"primaryLine\": {\\n                    │\n",
       "│ \"accessibilityLabel\": \"$204 for 1 night\"\\n        },\\n        \"explanationData\": {\\n          \"title\": \"Price   │\n",
       "│ details\",\\n          \"priceDetails\": \"$204 x 1 night: $204\"\\n        }\\n      }\\n    },\\n    {\\n      \"id\":     │\n",
       "│ \"51538566\",\\n      \"url\": \"https://www.airbnb.com/rooms/51538566\",\\n      \"demandStayListing\": {\\n        \"id\": │\n",
       "│ \"RGVtYW5kU3RheUxpc3Rpbmc6NTE1Mzg1NjY=\",\\n        \"description\": {\\n          \"name\": {\\n                        │\n",
       "│ \"localizedStringWithTranslationPreference\": \"Baneberry Meadows Farm House\"\\n          }\\n        },\\n           │\n",
       "│ \"location\": {\\n          \"coordinate\": {\\n            \"latitude\": 40.09288,\\n            \"longitude\":           │\n",
       "│ -79.36663\\n          }\\n        }\\n      },\\n      \"badges\": \"Superhost\",\\n      \"structuredContent\": {\\n       │\n",
       "│ \"mapCategoryInfo\": \"\",\\n        \"mapSecondaryLine\": \"\",\\n        \"primaryLine\": \"3 beds, 3 bedrooms\",\\n         │\n",
       "│ \"secondaryLine\": \"\"\\n      },\\n      \"avgRatingA11yLabel\": \"4.86 out of 5 average rating,  7 reviews\",\\n        │\n",
       "│ \"structuredDisplayPrice\": {\\n        \"primaryLine\": {\\n          \"accessibilityLabel\": \"$399 for 1 night\"\\n     │\n",
       "│ },\\n        \"explanationData\": {\\n          \"title\": \"Price details\",\\n          \"priceDetails\": \"$399 x 1      │\n",
       "│ night: $399\"\\n        }\\n      }\\n    },\\n    {\\n      \"id\": \"1151299878283759623\",\\n      \"url\":               │\n",
       "│ \"https://www.airbnb.com/rooms/1151299878283759623\",\\n      \"demandStayListing\": {\\n        \"id\":                │\n",
       "│ \"RGVtYW5kU3RheUxpc3Rpbmc6MTE1MTI5OTg3ODI4Mzc1OTYyMw==\",\\n        \"description\": {\\n          \"name\": {\\n        │\n",
       "│ \"localizedStringWithTranslationPreference\": \"Pet Friendly Creekside Cabin Fisherman's Paradise\"\\n          }\\n  │\n",
       "│ },\\n        \"location\": {\\n          \"coordinate\": {\\n            \"latitude\": 40.05588,\\n                       │\n",
       "│ \"longitude\": -79.22279\\n          }\\n        }\\n      },\\n      \"badges\": \"\",\\n      \"structuredContent\": {\\n   │\n",
       "│ \"mapCategoryInfo\": \"\",\\n        \"mapSecondaryLine\": \"\",\\n        \"primaryLine\": \"8 beds, 4 bedrooms\",\\n         │\n",
       "│ \"secondaryLine\": \"\"\\n      },\\n      \"avgRatingA11yLabel\": \"4.85 out of 5 average rating,  13 reviews\",\\n       │\n",
       "│ \"structuredDisplayPrice\": {\\n        \"primaryLine\": {\\n          \"accessibilityLabel\": \"$615 for 1 night,       │\n",
       "│ originally $666\"\\n        },\\n        \"explanationData\": {\\n          \"title\": \"Price details\",\\n               │\n",
       "│ \"priceDetails\": \"$615 x 1 night: $615, \"\\n        }\\n      }\\n    },\\n    {\\n      \"id\":                        │\n",
       "│ \"1282488585933180318\",\\n      \"url\": \"https://www.airbnb.com/rooms/1282488585933180318\",\\n                      │\n",
       "│ \"demandStayListing\": {\\n        \"id\": \"RGVtYW5kU3RheUxpc3Rpbmc6MTI4MjQ4ODU4NTkzMzE4MDMxOA==\",\\n                 │\n",
       "│ \"description\": {\\n          \"name\": {\\n            \"localizedStringWithTranslationPreference\": \"Under 20        │\n",
       "│ minutes to anywhere\"\\n          }\\n        },\\n        \"location\": {\\n          \"coordinate\": {\\n               │\n",
       "│ \"latitude\": 39.62525370705419,\\n            \"longitude\": -79.21871649611994\\n          }\\n        }\\n      },\\n │\n",
       "│ \"badges\": \"\",\\n      \"structuredContent\": {\\n        \"mapCategoryInfo\": \"\",\\n        \"mapSecondaryLine\": \"\",\\n  │\n",
       "│ \"primaryLine\": \"4 beds, 3 bedrooms\",\\n        \"secondaryLine\": \"\"\\n      },\\n      \"structuredDisplayPrice\":    │\n",
       "│ {\\n        \"primaryLine\": {\\n          \"accessibilityLabel\": \"$221 for 1 night\"\\n        },\\n                   │\n",
       "│ \"explanationData\": {\\n          \"title\": \"Price details\",\\n          \"priceDetails\": \"$221 x 1 night: $221\"\\n   │\n",
       "│ }\\n      }\\n    },\\n    {\\n      \"id\": \"24851215\",\\n      \"url\": \"https://www.airbnb.com/rooms/24851215\",\\n     │\n",
       "│ \"demandStayListing\": {\\n        \"id\": \"RGVtYW5kU3RheUxpc3Rpbmc6MjQ4NTEyMTU=\",\\n        \"description\": {\\n       │\n",
       "│ \"name\": {\\n            \"localizedStringWithTranslationPreference\": \"FOE Taproom - GAP Trail Hotel at Morguen    │\n",
       "│ Toole Co\"\\n          }\\n        },\\n        \"location\": {\\n          \"coordinate\": {\\n            \"latitude\":   │\n",
       "│ 39.814388,\\n            \"longitude\": -79.025269\\n          }\\n        }\\n      },\\n      \"badges\": \"\",\\n        │\n",
       "│ \"structuredContent\": {\\n        \"mapCategoryInfo\": \"\",\\n        \"mapSecondaryLine\": \"\",\\n        \"primaryLine\": │\n",
       "│ \"2 beds, 1 bedroom\",\\n        \"secondaryLine\": \"\"\\n      },\\n      \"avgRatingA11yLabel\": \"4.69 out of 5 average │\n",
       "│ rating,  77 reviews\",\\n      \"structuredDisplayPrice\": {\\n        \"primaryLine\": {\\n                            │\n",
       "│ \"accessibilityLabel\": \"$149 for 1 night\"\\n        },\\n        \"explanationData\": {\\n          \"title\": \"Price   │\n",
       "│ details\",\\n          \"priceDetails\": \"$149 x 1 night: $149\"\\n        }\\n      }\\n    },\\n    {\\n      \"id\":     │\n",
       "│ \"49078585\",\\n      \"url\": \"https://www.airbnb.com/rooms/49078585\",\\n      \"demandStayListing\": {\\n        \"id\": │\n",
       "│ \"RGVtYW5kU3RheUxpc3Rpbmc6NDkwNzg1ODU=\",\\n        \"description\": {\\n          \"name\": {\\n                        │\n",
       "│ \"localizedStringWithTranslationPreference\": \"Farmhouse on working farm - disconnect from it all\"\\n          }\\n │\n",
       "│ },\\n        \"location\": {\\n          \"coordinate\": {\\n            \"latitude\": 40.08191,\\n                       │\n",
       "│ \"longitude\": -79.63382\\n          }\\n        }\\n      },\\n      \"badges\": \"Guest favorite\",\\n                   │\n",
       "│ \"structuredContent\": {\\n        \"mapCategoryInfo\": \"\",\\n        \"mapSecondaryLine\": \"\",\\n        \"primaryLine\": │\n",
       "│ \"7 beds, 3 bedrooms\",\\n        \"secondaryLine\": \"\"\\n      },\\n      \"avgRatingA11yLabel\": \"5.0 out of 5 average │\n",
       "│ rating,  18 reviews\",\\n      \"structuredDisplayPrice\": {\\n        \"primaryLine\": {\\n                            │\n",
       "│ \"accessibilityLabel\": \"$568 for 1 night, originally $645\"\\n        },\\n        \"explanationData\": {\\n           │\n",
       "│ \"title\": \"Price details\",\\n          \"priceDetails\": \"$645 x 1 night: $645, Special offer: -$77, Price after    │\n",
       "│ discount: $568, \"\\n        }\\n      }\\n    },\\n    {\\n      \"id\": \"44990557\",\\n      \"url\":                     │\n",
       "│ \"https://www.airbnb.com/rooms/44990557\",\\n      \"demandStayListing\": {\\n        \"id\":                           │\n",
       "│ \"RGVtYW5kU3RheUxpc3Rpbmc6NDQ5OTA1NTc=\",\\n        \"description\": {\\n          \"name\": {\\n                        │\n",
       "│ \"localizedStringWithTranslationPreference\": \"Maple Bottom Farmhouse - AnnaLee room\"\\n          }\\n        },\\n  │\n",
       "│ \"location\": {\\n          \"coordinate\": {\\n            \"latitude\": 40.08571,\\n            \"longitude\":           │\n",
       "│ -79.63154\\n          }\\n        }\\n      },\\n      \"badges\": \"Guest favorite\",\\n      \"structuredContent\": {\\n  │\n",
       "│ \"mapCategoryInfo\": \"Stay with Victoria, Dairy farmer\",\\n        \"mapSecondaryLine\": \"\",\\n        \"primaryLine\": │\n",
       "│ \"\",\\n        \"secondaryLine\": \"\"\\n      },\\n      \"avgRatingA11yLabel\": \"4.85 out of 5 average rating,  20      │\n",
       "│ reviews\",\\n      \"listingParamOverrides\": {\\n        \"categoryTag\": \"Tag:8678\",\\n        \"photoId\":             │\n",
       "│ \"1116419731\",\\n        \"relaxedAmenityIds\": \"\",\\n        \"splitStaysLocationPrecisions\": \"\",\\n                  │\n",
       "│ \"splitStaysLocationsAcpIds\": \"\"\\n      },\\n      \"structuredDisplayPrice\": {\\n        \"primaryLine\": {\\n        │\n",
       "│ \"accessibilityLabel\": \"$234 for 1 night\"\\n        },\\n        \"explanationData\": {\\n          \"title\": \"Price   │\n",
       "│ details\",\\n          \"priceDetails\": \"$234 x 1 night: $234\"\\n        }\\n      }\\n    },\\n    {\\n      \"id\":     │\n",
       "│ \"45530398\",\\n      \"url\": \"https://www.airbnb.com/rooms/45530398\",\\n      \"demandStayListing\": {\\n        \"id\": │\n",
       "│ \"RGVtYW5kU3RheUxpc3Rpbmc6NDU1MzAzOTg=\",\\n        \"description\": {\\n          \"name\": {\\n                        │\n",
       "│ \"localizedStringWithTranslationPreference\": \"Cozy Up in this Wooded Laurel Highlands Retreat\"\\n          }\\n    │\n",
       "│ },\\n        \"location\": {\\n          \"coordinate\": {\\n            \"latitude\": 39.98278,\\n                       │\n",
       "│ \"longitude\": -79.22703\\n          }\\n        }\\n      },\\n      \"badges\": \"\",\\n      \"structuredContent\": {\\n   │\n",
       "│ \"mapCategoryInfo\": \"1 min walk to park\",\\n        \"mapSecondaryLine\": \"\",\\n        \"primaryLine\": \"\",\\n         │\n",
       "│ \"secondaryLine\": \"1 min walk to park\"\\n      },\\n      \"avgRatingA11yLabel\": \"4.9 out of 5 average rating,  115 │\n",
       "│ reviews\",\\n      \"structuredDisplayPrice\": {\\n        \"primaryLine\": {\\n          \"accessibilityLabel\": \"$370   │\n",
       "│ for 1 night\"\\n        },\\n        \"explanationData\": {\\n          \"title\": \"Price details\",\\n                   │\n",
       "│ \"priceDetails\": \"$370 x 1 night: $370\"\\n        }\\n      }\\n    },\\n    {\\n      \"id\": \"24851308\",\\n            │\n",
       "│ \"url\": \"https://www.airbnb.com/rooms/24851308\",\\n      \"demandStayListing\": {\\n        \"id\":                    │\n",
       "│ \"RGVtYW5kU3RheUxpc3Rpbmc6MjQ4NTEzMDg=\",\\n        \"description\": {\\n          \"name\": {\\n                        │\n",
       "│ \"localizedStringWithTranslationPreference\": \"Appel & Glessner- GAP Trail Hotel at Morguen Toole\"\\n          }\\n │\n",
       "│ },\\n        \"location\": {\\n          \"coordinate\": {\\n            \"latitude\": 39.814388,\\n                      │\n",
       "│ \"longitude\": -79.025269\\n          }\\n        }\\n      },\\n      \"badges\": \"\",\\n      \"structuredContent\": {\\n  │\n",
       "│ \"mapCategoryInfo\": \"\",\\n        \"mapSecondaryLine\": \"\",\\n        \"primaryLine\": \"4 beds, 1 bedroom\",\\n          │\n",
       "│ \"secondaryLine\": \"\"\\n      },\\n      \"avgRatingA11yLabel\": \"4.79 out of 5 average rating,  42 reviews\",\\n       │\n",
       "│ \"structuredDisplayPrice\": {\\n        \"primaryLine\": {\\n          \"accessibilityLabel\": \"$169 for 1 night\"\\n     │\n",
       "│ },\\n        \"explanationData\": {\\n          \"title\": \"Price details\",\\n          \"priceDetails\": \"$169 x 1      │\n",
       "│ night: $169\"\\n        }\\n      }\\n    },\\n    {\\n      \"id\": \"846113953153209680\",\\n      \"url\":                │\n",
       "│ \"https://www.airbnb.com/rooms/846113953153209680\",\\n      \"demandStayListing\": {\\n        \"id\":                 │\n",
       "│ \"RGVtYW5kU3RheUxpc3Rpbmc6ODQ2MTEzOTUzMTUzMjA5Njgw\",\\n        \"description\": {\\n          \"name\": {\\n            │\n",
       "│ \"localizedStringWithTranslationPreference\": \"Seven Springs 4br Condo, Ski-In/out, Pet Friendly\"\\n          }\\n  │\n",
       "│ },\\n        \"location\": {\\n          \"coordinate\": {\\n            \"latitude\": 40.017,\\n            \"longitude\": │\n",
       "│ -79.2967\\n          }\\n        }\\n      },\\n      \"badges\": \"\",\\n      \"structuredContent\": {\\n                 │\n",
       "│ \"mapCategoryInfo\": \"\",\\n        \"mapSecondaryLine\": \"\",\\n        \"primaryLine\": \"6 beds, 4 bedrooms\",\\n         │\n",
       "│ \"secondaryLine\": \"\"\\n      },\\n      \"structuredDisplayPrice\": {\\n        \"primaryLine\": {\\n                    │\n",
       "│ \"accessibilityLabel\": \"$585 for 1 night\"\\n        },\\n        \"explanationData\": {\\n          \"title\": \"Price   │\n",
       "│ details\",\\n          \"priceDetails\": \"$585 x 1 night: $585\"\\n        }\\n      }\\n    },\\n    {\\n      \"id\":     │\n",
       "│ \"1377436041307780983\",\\n      \"url\": \"https://www.airbnb.com/rooms/1377436041307780983\",\\n                      │\n",
       "│ \"demandStayListing\": {\\n        \"id\": \"RGVtYW5kU3RheUxpc3Rpbmc6MTM3NzQzNjA0MTMwNzc4MDk4Mw==\",\\n                 │\n",
       "│ \"description\": {\\n          \"name\": {\\n            \"localizedStringWithTranslationPreference\": \"Peaceful Hidden │\n",
       "│ Valley Retreat\"\\n          }\\n        },\\n        \"location\": {\\n          \"coordinate\": {\\n                    │\n",
       "│ \"latitude\": 40.0602,\\n            \"longitude\": -79.2609\\n          }\\n        }\\n      },\\n      \"badges\":      │\n",
       "│ \"\",\\n      \"structuredContent\": {\\n        \"mapCategoryInfo\": \"\",\\n        \"mapSecondaryLine\": \"\",\\n            │\n",
       "│ \"primaryLine\": \"4 beds, 3 bedrooms\",\\n        \"secondaryLine\": \"\"\\n      },\\n      \"avgRatingA11yLabel\": \"New   │\n",
       "│ place to stay\",\\n      \"structuredDisplayPrice\": {\\n        \"primaryLine\": {\\n          \"accessibilityLabel\":   │\n",
       "│ \"$365 for 1 night\"\\n        },\\n        \"explanationData\": {\\n          \"title\": \"Price details\",\\n             │\n",
       "│ \"priceDetails\": \"$365 x 1 night: $365\"\\n        }\\n      }\\n    },\\n    {\\n      \"id\": \"1370506761371796065\",\\n │\n",
       "│ \"url\": \"https://www.airbnb.com/rooms/1370506761371796065\",\\n      \"demandStayListing\": {\\n        \"id\":         │\n",
       "│ \"RGVtYW5kU3RheUxpc3Rpbmc6MTM3MDUwNjc2MTM3MTc5NjA2NQ==\",\\n        \"description\": {\\n          \"name\": {\\n        │\n",
       "│ \"localizedStringWithTranslationPreference\": \"Mountain Peak Escape at Hidden Valley\"\\n          }\\n        },\\n  │\n",
       "│ \"location\": {\\n          \"coordinate\": {\\n            \"latitude\": 40.0499,\\n            \"longitude\":            │\n",
       "│ -79.25779\\n          }\\n        }\\n      },\\n      \"badges\": \"\",\\n      \"structuredContent\": {\\n                │\n",
       "│ \"mapCategoryInfo\": \"\",\\n        \"mapSecondaryLine\": \"\",\\n        \"primaryLine\": \"7 beds, 2 bedrooms\",\\n         │\n",
       "│ \"secondaryLine\": \"\"\\n      },\\n      \"structuredDisplayPrice\": {\\n        \"primaryLine\": {\\n                    │\n",
       "│ \"accessibilityLabel\": \"$455 for 1 night\"\\n        },\\n        \"explanationData\": {\\n          \"title\": \"Price   │\n",
       "│ details\",\\n          \"priceDetails\": \"$455 x 1 night: $455\"\\n        }\\n      }\\n    },\\n    {\\n      \"id\":     │\n",
       "│ \"26255698\",\\n      \"url\": \"https://www.airbnb.com/rooms/26255698\",\\n      \"demandStayListing\": {\\n        \"id\": │\n",
       "│ \"RGVtYW5kU3RheUxpc3Rpbmc6MjYyNTU2OTg=\",\\n        \"description\": {\\n          \"name\": {\\n                        │\n",
       "│ \"localizedStringWithTranslationPreference\": \"Exquisite Home on Nemacolin Woodlands Property\"\\n          }\\n     │\n",
       "│ },\\n        \"location\": {\\n          \"coordinate\": {\\n            \"latitude\": 39.80617,\\n                       │\n",
       "│ \"longitude\": -79.55045\\n          }\\n        }\\n      },\\n      \"badges\": \"\",\\n      \"structuredContent\": {\\n   │\n",
       "│ \"mapCategoryInfo\": \"\",\\n        \"mapSecondaryLine\": \"\",\\n        \"primaryLine\": \"4 beds, 4 bedrooms\",\\n         │\n",
       "│ \"secondaryLine\": \"\"\\n      },\\n      \"avgRatingA11yLabel\": \"4.8 out of 5 average rating,  76 reviews\",\\n        │\n",
       "│ \"structuredDisplayPrice\": {\\n        \"primaryLine\": {\\n          \"accessibilityLabel\": \"$1,255 for 1 night\"\\n   │\n",
       "│ },\\n        \"explanationData\": {\\n          \"title\": \"Price details\",\\n          \"priceDetails\": \"$1,255 x 1    │\n",
       "│ night: $1,255\"\\n        }\\n      }\\n    },\\n    {\\n      \"id\": \"9020172\",\\n      \"url\":                         │\n",
       "│ \"https://www.airbnb.com/rooms/9020172\",\\n      \"demandStayListing\": {\\n        \"id\":                            │\n",
       "│ \"RGVtYW5kU3RheUxpc3Rpbmc6OTAyMDE3Mg==\",\\n        \"description\": {\\n          \"name\": {\\n                        │\n",
       "│ \"localizedStringWithTranslationPreference\": \"Large ski chalet near Seven springs ski resort\"\\n          }\\n     │\n",
       "│ },\\n        \"location\": {\\n          \"coordinate\": {\\n            \"latitude\": 40.02955,\\n                       │\n",
       "│ \"longitude\": -79.35877\\n          }\\n        }\\n      },\\n      \"badges\": \"Guest favorite\",\\n                   │\n",
       "│ \"structuredContent\": {\\n        \"mapCategoryInfo\": \"\",\\n        \"mapSecondaryLine\": \"\",\\n        \"primaryLine\": │\n",
       "│ \"6 beds, 4 bedrooms\",\\n        \"secondaryLine\": \"\"\\n      },\\n      \"avgRatingA11yLabel\": \"4.93 out of 5        │\n",
       "│ average rating,  253 reviews\",\\n      \"structuredDisplayPrice\": {\\n        \"primaryLine\": {\\n                   │\n",
       "│ \"accessibilityLabel\": \"$959 for 1 night\"\\n        },\\n        \"explanationData\": {\\n          \"title\": \"Price   │\n",
       "│ details\",\\n          \"priceDetails\": \"$959 x 1 night: $959\"\\n        }\\n      }\\n    },\\n    {\\n      \"id\":     │\n",
       "│ \"39458963\",\\n      \"url\": \"https://www.airbnb.com/rooms/39458963\",\\n      \"demandStayListing\": {\\n        \"id\": │\n",
       "│ \"RGVtYW5kU3RheUxpc3Rpbmc6Mzk0NTg5NjM=\",\\n        \"description\": {\\n          \"name\": {\\n                        │\n",
       "│ \"localizedStringWithTranslationPreference\": \"Farmhouse at Fernstone | 4BR, 1.5BA, Pool, Hot Tub\"\\n          }\\n │\n",
       "│ },\\n        \"location\": {\\n          \"coordinate\": {\\n            \"latitude\": 39.77516,\\n                       │\n",
       "│ \"longitude\": -79.59865\\n          }\\n        }\\n      },\\n      \"badges\": \"\",\\n      \"structuredContent\": {\\n   │\n",
       "│ \"mapCategoryInfo\": \"\",\\n        \"mapSecondaryLine\": \"\",\\n        \"primaryLine\": \"3 beds, 4 bedrooms\",\\n         │\n",
       "│ \"secondaryLine\": \"\"\\n      },\\n      \"avgRatingA11yLabel\": \"4.36 out of 5 average rating,  14 reviews\",\\n       │\n",
       "│ \"structuredDisplayPrice\": {\\n        \"primaryLine\": {\\n          \"accessibilityLabel\": \"$940 for 1 night\"\\n     │\n",
       "│ },\\n        \"explanationData\": {\\n          \"title\": \"Price details\",\\n          \"priceDetails\": \"$940 x 1      │\n",
       "│ night: $940\"\\n        }\\n      }\\n    },\\n    {\\n      \"id\": \"21800651\",\\n      \"url\":                          │\n",
       "│ \"https://www.airbnb.com/rooms/21800651\",\\n      \"demandStayListing\": {\\n        \"id\":                           │\n",
       "│ \"RGVtYW5kU3RheUxpc3Rpbmc6MjE4MDA2NTE=\",\\n        \"description\": {\\n          \"name\": {\\n                        │\n",
       "│ \"localizedStringWithTranslationPreference\": \"1st fl Victorian Apt. near Fallingwater\"\\n          }\\n            │\n",
       "│ },\\n        \"location\": {\\n          \"coordinate\": {\\n            \"latitude\": 40.09607,\\n                       │\n",
       "│ \"longitude\": -79.59387\\n          }\\n        }\\n      },\\n      \"badges\": \"Superhost\",\\n                        │\n",
       "│ \"structuredContent\": {\\n        \"mapCategoryInfo\": \"Stay with Pat, Bnb owner\",\\n        \"mapSecondaryLine\":     │\n",
       "│ \"\",\\n        \"primaryLine\": \"\",\\n        \"secondaryLine\": \"\"\\n      },\\n      \"avgRatingA11yLabel\": \"4.95 out   │\n",
       "│ of 5 average rating,  74 reviews\",\\n      \"listingParamOverrides\": {\\n        \"categoryTag\": \"Tag:8678\",\\n      │\n",
       "│ \"photoId\": \"2085962249\",\\n        \"relaxedAmenityIds\": \"\",\\n        \"splitStaysLocationPrecisions\": \"\",\\n       │\n",
       "│ \"splitStaysLocationsAcpIds\": \"\"\\n      },\\n      \"structuredDisplayPrice\": {\\n        \"primaryLine\": {\\n        │\n",
       "│ \"accessibilityLabel\": \"$371 for 1 night\"\\n        },\\n        \"explanationData\": {\\n          \"title\": \"Price   │\n",
       "│ details\",\\n          \"priceDetails\": \"$371 x 1 night: $371\"\\n        }\\n      }\\n    }\\n  ],\\n                  │\n",
       "│ \"paginationInfo\": {\\n    \"pageCursors\": [\\n                                                                     │\n",
       "│ \"eyJzZWN0aW9uX29mZnNldCI6MCwiaXRlbXNfb2Zmc2V0IjowLCJ2ZXJzaW9uIjoxfQ==\",\\n                                       │\n",
       "│ \"eyJzZWN0aW9uX29mZnNldCI6MCwiaXRlbXNfb2Zmc2V0IjoxOCwidmVyc2lvbiI6MX0=\"\\n    ],\\n    \"nextPageCursor\":           │\n",
       "│ \"eyJzZWN0aW9uX29mZnNldCI6MCwiaXRlbXNfb2Zmc2V0IjoxOCwidmVyc2lvbiI6MX0=\"\\n  }\\n}\",\"annotations\":null}             │\n",
       "╰─────────────────────────────────────────────────────────────────────────────────────────────────────────────────╯\n"
      ]
     },
     "metadata": {},
     "output_type": "display_data"
    },
    {
     "data": {
      "text/html": [
       "<pre style=\"white-space:pre;overflow-x:auto;line-height:normal;font-family:Menlo,'DejaVu Sans Mono',consolas,'Courier New',monospace\"><span style=\"color: #000080; text-decoration-color: #000080\">───────────────────────────────────────────────────────────────────────────────────────────────────────────────────</span>\n",
       "</pre>\n"
      ],
      "text/plain": [
       "\u001b[34m───────────────────────────────────────────────────────────────────────────────────────────────────────────────────\u001b[0m\n"
      ]
     },
     "metadata": {},
     "output_type": "display_data"
    },
    {
     "data": {
      "text/html": [
       "<pre style=\"white-space:pre;overflow-x:auto;line-height:normal;font-family:Menlo,'DejaVu Sans Mono',consolas,'Courier New',monospace\"><span style=\"color: #808000; text-decoration-color: #808000\">─────────────────────────────────────────────────────── </span>LLM<span style=\"color: #808000; text-decoration-color: #808000\"> ───────────────────────────────────────────────────────</span>\n",
       "</pre>\n"
      ],
      "text/plain": [
       "\u001b[33m─────────────────────────────────────────────────────── \u001b[0mLLM\u001b[33m ───────────────────────────────────────────────────────\u001b[0m\n"
      ]
     },
     "metadata": {},
     "output_type": "display_data"
    },
    {
     "data": {
      "text/html": [
       "<pre style=\"white-space:pre;overflow-x:auto;line-height:normal;font-family:Menlo,'DejaVu Sans Mono',consolas,'Courier New',monospace\">╭──────────────────────────────────────────────────── Output ─────────────────────────────────────────────────────╮\n",
       "│ Here are some options for Airbnb stays near Ohiopyle, PA, for your trip next weekend with 2 adults, 1 child, 1  │\n",
       "│ infant, and 1 dog. These options are in woodsy areas:                                                           │\n",
       "│                                                                                                                 │\n",
       "│ <span style=\"color: #808000; text-decoration-color: #808000; font-weight: bold\"> 1 </span><a href=\"https://www.airbnb.com/rooms/1049325800817947598\" target=\"_blank\"><span style=\"color: #000080; text-decoration-color: #000080; font-weight: bold; text-decoration: underline\">River's End | 1BR,1BA, Cabinesque Motel in Ohiopyl</span></a>                                                           │\n",
       "│ <span style=\"color: #808000; text-decoration-color: #808000; font-weight: bold\">    • </span>2 beds, 1 bedroom                                                                                         │\n",
       "│ <span style=\"color: #808000; text-decoration-color: #808000; font-weight: bold\">    • </span>Price: $242 for 1 night                                                                                   │\n",
       "│ <span style=\"color: #808000; text-decoration-color: #808000; font-weight: bold\">    • </span>Location: <a href=\"https://maps.google.com/?q=39.86954,-79.49283\" target=\"_blank\"><span style=\"color: #000080; text-decoration-color: #000080; text-decoration: underline\">Map</span></a>                                                                                             │\n",
       "│ <span style=\"color: #808000; text-decoration-color: #808000; font-weight: bold\"> 2 </span><a href=\"https://www.airbnb.com/rooms/781927184983955748\" target=\"_blank\"><span style=\"color: #000080; text-decoration-color: #000080; font-weight: bold; text-decoration: underline\">Evergreen Lodge Golfing-Hiking-Swimming and more!</span></a>                                                            │\n",
       "│ <span style=\"color: #808000; text-decoration-color: #808000; font-weight: bold\">    • </span>4 beds, 2 bedrooms                                                                                        │\n",
       "│ <span style=\"color: #808000; text-decoration-color: #808000; font-weight: bold\">    • </span>Price: $331 for 1 night (originally $430)                                                                 │\n",
       "│ <span style=\"color: #808000; text-decoration-color: #808000; font-weight: bold\">    • </span>Guest favorite                                                                                            │\n",
       "│ <span style=\"color: #808000; text-decoration-color: #808000; font-weight: bold\">    • </span>Location: <a href=\"https://maps.google.com/?q=40.06116,-79.26063\" target=\"_blank\"><span style=\"color: #000080; text-decoration-color: #000080; text-decoration: underline\">Map</span></a>                                                                                             │\n",
       "│ <span style=\"color: #808000; text-decoration-color: #808000; font-weight: bold\"> 3 </span><a href=\"https://www.airbnb.com/rooms/24848671\" target=\"_blank\"><span style=\"color: #000080; text-decoration-color: #000080; font-weight: bold; text-decoration: underline\">Hoover Suite- GAP Trail Hotel at Morguen Toole Co</span></a>                                                            │\n",
       "│ <span style=\"color: #808000; text-decoration-color: #808000; font-weight: bold\">    • </span>2 beds, 2 bedrooms                                                                                        │\n",
       "│ <span style=\"color: #808000; text-decoration-color: #808000; font-weight: bold\">    • </span>Price: $204 for 1 night                                                                                   │\n",
       "│ <span style=\"color: #808000; text-decoration-color: #808000; font-weight: bold\">    • </span>Location: <a href=\"https://maps.google.com/?q=39.814388,-79.025269\" target=\"_blank\"><span style=\"color: #000080; text-decoration-color: #000080; text-decoration: underline\">Map</span></a>                                                                                             │\n",
       "│ <span style=\"color: #808000; text-decoration-color: #808000; font-weight: bold\"> 4 </span><a href=\"https://www.airbnb.com/rooms/1151299878283759623\" target=\"_blank\"><span style=\"color: #000080; text-decoration-color: #000080; font-weight: bold; text-decoration: underline\">Pet Friendly Creekside Cabin Fisherman's Paradise</span></a>                                                            │\n",
       "│ <span style=\"color: #808000; text-decoration-color: #808000; font-weight: bold\">    • </span>8 beds, 4 bedrooms                                                                                        │\n",
       "│ <span style=\"color: #808000; text-decoration-color: #808000; font-weight: bold\">    • </span>Price: $615 for 1 night (originally $666)                                                                 │\n",
       "│ <span style=\"color: #808000; text-decoration-color: #808000; font-weight: bold\">    • </span>Location: <a href=\"https://maps.google.com/?q=40.05588,-79.22279\" target=\"_blank\"><span style=\"color: #000080; text-decoration-color: #000080; text-decoration: underline\">Map</span></a>                                                                                             │\n",
       "│ <span style=\"color: #808000; text-decoration-color: #808000; font-weight: bold\"> 5 </span><a href=\"https://www.airbnb.com/rooms/45530398\" target=\"_blank\"><span style=\"color: #000080; text-decoration-color: #000080; font-weight: bold; text-decoration: underline\">Cozy Up in this Wooded Laurel Highlands Retreat</span></a>                                                              │\n",
       "│ <span style=\"color: #808000; text-decoration-color: #808000; font-weight: bold\">    • </span>Rating: 4.9 out of 5, 115 reviews                                                                         │\n",
       "│ <span style=\"color: #808000; text-decoration-color: #808000; font-weight: bold\">    • </span>Price: $370 for 1 night                                                                                   │\n",
       "│ <span style=\"color: #808000; text-decoration-color: #808000; font-weight: bold\">    • </span>Location: 1 min walk to park                                                                              │\n",
       "│ <span style=\"color: #808000; text-decoration-color: #808000; font-weight: bold\">    • </span>Location: <a href=\"https://maps.google.com/?q=39.98278,-79.22703\" target=\"_blank\"><span style=\"color: #000080; text-decoration-color: #000080; text-decoration: underline\">Map</span></a>                                                                                             │\n",
       "│                                                                                                                 │\n",
       "│ Take a look at these options, and let me know if any of them suit your needs or if you want more information on │\n",
       "│ any. You can also visit the <a href=\"https://www.airbnb.com/s/Ohiopyle%2C%20PA/homes?checkin=2025-05-24&checkout=2025-05-25&adults=2&children=1&infants=1&pets=1\" target=\"_blank\"><span style=\"color: #000080; text-decoration-color: #000080; text-decoration: underline\">search results page</span></a> to see more available listings.                                 │\n",
       "╰─────────────────────────────────────────────────────────────────────────────────────────────────────────────────╯\n",
       "</pre>\n"
      ],
      "text/plain": [
       "╭──────────────────────────────────────────────────── Output ─────────────────────────────────────────────────────╮\n",
       "│ Here are some options for Airbnb stays near Ohiopyle, PA, for your trip next weekend with 2 adults, 1 child, 1  │\n",
       "│ infant, and 1 dog. These options are in woodsy areas:                                                           │\n",
       "│                                                                                                                 │\n",
       "│ \u001b[1;33m 1 \u001b[0m\u001b]8;id=503619;https://www.airbnb.com/rooms/1049325800817947598\u001b\\\u001b[1;4;34mRiver's End | 1BR,1BA, Cabinesque Motel in Ohiopyl\u001b[0m\u001b]8;;\u001b\\                                                           │\n",
       "│ \u001b[1;33m   \u001b[0m\u001b[1;33m • \u001b[0m2 beds, 1 bedroom                                                                                         │\n",
       "│ \u001b[1;33m   \u001b[0m\u001b[1;33m • \u001b[0mPrice: $242 for 1 night                                                                                   │\n",
       "│ \u001b[1;33m   \u001b[0m\u001b[1;33m • \u001b[0mLocation: \u001b]8;id=678595;https://maps.google.com/?q=39.86954,-79.49283\u001b\\\u001b[4;34mMap\u001b[0m\u001b]8;;\u001b\\                                                                                             │\n",
       "│ \u001b[1;33m 2 \u001b[0m\u001b]8;id=704232;https://www.airbnb.com/rooms/781927184983955748\u001b\\\u001b[1;4;34mEvergreen Lodge Golfing-Hiking-Swimming and more!\u001b[0m\u001b]8;;\u001b\\                                                            │\n",
       "│ \u001b[1;33m   \u001b[0m\u001b[1;33m • \u001b[0m4 beds, 2 bedrooms                                                                                        │\n",
       "│ \u001b[1;33m   \u001b[0m\u001b[1;33m • \u001b[0mPrice: $331 for 1 night (originally $430)                                                                 │\n",
       "│ \u001b[1;33m   \u001b[0m\u001b[1;33m • \u001b[0mGuest favorite                                                                                            │\n",
       "│ \u001b[1;33m   \u001b[0m\u001b[1;33m • \u001b[0mLocation: \u001b]8;id=240573;https://maps.google.com/?q=40.06116,-79.26063\u001b\\\u001b[4;34mMap\u001b[0m\u001b]8;;\u001b\\                                                                                             │\n",
       "│ \u001b[1;33m 3 \u001b[0m\u001b]8;id=685119;https://www.airbnb.com/rooms/24848671\u001b\\\u001b[1;4;34mHoover Suite- GAP Trail Hotel at Morguen Toole Co\u001b[0m\u001b]8;;\u001b\\                                                            │\n",
       "│ \u001b[1;33m   \u001b[0m\u001b[1;33m • \u001b[0m2 beds, 2 bedrooms                                                                                        │\n",
       "│ \u001b[1;33m   \u001b[0m\u001b[1;33m • \u001b[0mPrice: $204 for 1 night                                                                                   │\n",
       "│ \u001b[1;33m   \u001b[0m\u001b[1;33m • \u001b[0mLocation: \u001b]8;id=648483;https://maps.google.com/?q=39.814388,-79.025269\u001b\\\u001b[4;34mMap\u001b[0m\u001b]8;;\u001b\\                                                                                             │\n",
       "│ \u001b[1;33m 4 \u001b[0m\u001b]8;id=933130;https://www.airbnb.com/rooms/1151299878283759623\u001b\\\u001b[1;4;34mPet Friendly Creekside Cabin Fisherman's Paradise\u001b[0m\u001b]8;;\u001b\\                                                            │\n",
       "│ \u001b[1;33m   \u001b[0m\u001b[1;33m • \u001b[0m8 beds, 4 bedrooms                                                                                        │\n",
       "│ \u001b[1;33m   \u001b[0m\u001b[1;33m • \u001b[0mPrice: $615 for 1 night (originally $666)                                                                 │\n",
       "│ \u001b[1;33m   \u001b[0m\u001b[1;33m • \u001b[0mLocation: \u001b]8;id=933757;https://maps.google.com/?q=40.05588,-79.22279\u001b\\\u001b[4;34mMap\u001b[0m\u001b]8;;\u001b\\                                                                                             │\n",
       "│ \u001b[1;33m 5 \u001b[0m\u001b]8;id=372286;https://www.airbnb.com/rooms/45530398\u001b\\\u001b[1;4;34mCozy Up in this Wooded Laurel Highlands Retreat\u001b[0m\u001b]8;;\u001b\\                                                              │\n",
       "│ \u001b[1;33m   \u001b[0m\u001b[1;33m • \u001b[0mRating: 4.9 out of 5, 115 reviews                                                                         │\n",
       "│ \u001b[1;33m   \u001b[0m\u001b[1;33m • \u001b[0mPrice: $370 for 1 night                                                                                   │\n",
       "│ \u001b[1;33m   \u001b[0m\u001b[1;33m • \u001b[0mLocation: 1 min walk to park                                                                              │\n",
       "│ \u001b[1;33m   \u001b[0m\u001b[1;33m • \u001b[0mLocation: \u001b]8;id=887667;https://maps.google.com/?q=39.98278,-79.22703\u001b\\\u001b[4;34mMap\u001b[0m\u001b]8;;\u001b\\                                                                                             │\n",
       "│                                                                                                                 │\n",
       "│ Take a look at these options, and let me know if any of them suit your needs or if you want more information on │\n",
       "│ any. You can also visit the \u001b]8;id=2996;https://www.airbnb.com/s/Ohiopyle%2C%20PA/homes?checkin=2025-05-24&checkout=2025-05-25&adults=2&children=1&infants=1&pets=1\u001b\\\u001b[4;34msearch results page\u001b[0m\u001b]8;;\u001b\\ to see more available listings.                                 │\n",
       "╰─────────────────────────────────────────────────────────────────────────────────────────────────────────────────╯\n"
      ]
     },
     "metadata": {},
     "output_type": "display_data"
    },
    {
     "data": {
      "text/html": [
       "<pre style=\"white-space:pre;overflow-x:auto;line-height:normal;font-family:Menlo,'DejaVu Sans Mono',consolas,'Courier New',monospace\"><span style=\"color: #808000; text-decoration-color: #808000\">───────────────────────────────────────────────────────────────────────────────────────────────────────────────────</span>\n",
       "</pre>\n"
      ],
      "text/plain": [
       "\u001b[33m───────────────────────────────────────────────────────────────────────────────────────────────────────────────────\u001b[0m\n"
      ]
     },
     "metadata": {},
     "output_type": "display_data"
    }
   ],
   "source": [
    "prompt = \"\"\"\n",
    "I am looking to book an airbnb next weekend near Ohiopyle, PA. Can you help me plan this? Figure out the time, then ask me some questions and lets figure this out together.\n",
    "\"\"\"\n",
    "\n",
    "agent_trace = agent.run(prompt)"
   ]
  },
  {
   "cell_type": "markdown",
   "metadata": {},
   "source": [
    "## View the results "
   ]
  },
  {
   "cell_type": "markdown",
   "metadata": {},
   "source": [
    "The `agent.run` method returns an AgentTrace object, which has a few convenient attributes for displaying some interesting information about the run."
   ]
  },
  {
   "cell_type": "code",
   "execution_count": 12,
   "metadata": {},
   "outputs": [
    {
     "name": "stdout",
     "output_type": "stream",
     "text": [
      "Here are some options for Airbnb stays near Ohiopyle, PA, for your trip next weekend with 2 adults, 1 child, 1 infant, and 1 dog. These options are in woodsy areas:\n",
      "\n",
      "1. **[River's End | 1BR,1BA, Cabinesque Motel in Ohiopyl](https://www.airbnb.com/rooms/1049325800817947598)**  \n",
      "   - 2 beds, 1 bedroom  \n",
      "   - Price: $242 for 1 night  \n",
      "   - Location: [Map](https://maps.google.com/?q=39.86954,-79.49283)\n",
      "\n",
      "2. **[Evergreen Lodge Golfing-Hiking-Swimming and more!](https://www.airbnb.com/rooms/781927184983955748)**  \n",
      "   - 4 beds, 2 bedrooms  \n",
      "   - Price: $331 for 1 night (originally $430)  \n",
      "   - Guest favorite  \n",
      "   - Location: [Map](https://maps.google.com/?q=40.06116,-79.26063)\n",
      "\n",
      "3. **[Hoover Suite- GAP Trail Hotel at Morguen Toole Co](https://www.airbnb.com/rooms/24848671)**  \n",
      "   - 2 beds, 2 bedrooms  \n",
      "   - Price: $204 for 1 night  \n",
      "   - Location: [Map](https://maps.google.com/?q=39.814388,-79.025269)\n",
      "\n",
      "4. **[Pet Friendly Creekside Cabin Fisherman's Paradise](https://www.airbnb.com/rooms/1151299878283759623)**  \n",
      "   - 8 beds, 4 bedrooms  \n",
      "   - Price: $615 for 1 night (originally $666)  \n",
      "   - Location: [Map](https://maps.google.com/?q=40.05588,-79.22279)\n",
      "\n",
      "5. **[Cozy Up in this Wooded Laurel Highlands Retreat](https://www.airbnb.com/rooms/45530398)**  \n",
      "   - Rating: 4.9 out of 5, 115 reviews  \n",
      "   - Price: $370 for 1 night  \n",
      "   - Location: 1 min walk to park  \n",
      "   - Location: [Map](https://maps.google.com/?q=39.98278,-79.22703)\n",
      "\n",
      "Take a look at these options, and let me know if any of them suit your needs or if you want more information on any. You can also visit the [search results page](https://www.airbnb.com/s/Ohiopyle%2C%20PA/homes?checkin=2025-05-24&checkout=2025-05-25&adults=2&children=1&infants=1&pets=1) to see more available listings.\n",
      "Duration: 43.93 seconds\n",
      "Usage: total_token_count_prompt=0 total_token_count_completion=0 total_tokens=0\n",
      "Cost (USD): 0.000000\n"
     ]
    }
   ],
   "source": [
    "print(agent_trace.final_output)  # Final answer\n",
    "print(f\"Duration: {agent_trace.duration.total_seconds():.2f} seconds\")\n",
    "print(f\"Usage: {agent_trace.usage}\")\n",
    "print(f\"Cost (USD): {agent_trace.cost.total_cost:.6f}\")"
   ]
  }
 ],
 "metadata": {
  "kernelspec": {
   "display_name": ".venv",
   "language": "python",
   "name": "python3"
  },
  "language_info": {
   "codemirror_mode": {
    "name": "ipython",
    "version": 3
   },
   "file_extension": ".py",
   "mimetype": "text/x-python",
   "name": "python",
   "nbconvert_exporter": "python",
   "pygments_lexer": "ipython3",
   "version": "3.13.2"
  }
 },
 "nbformat": 4,
 "nbformat_minor": 2
}
