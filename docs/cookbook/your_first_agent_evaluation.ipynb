{
 "cells": [
  {
   "cell_type": "markdown",
   "metadata": {},
   "source": [
    "# Evaluating your first agent\n",
    "\n",
    "In this tutorial, we'll build upon the web search agent from [my_first_agent.ipynb](https://github.com/mozilla-ai/any-agent/blob/main/docs/cookbook/your_first_agent.ipynb) and demonstrate how to evaluate its performance using any-agent's evaluation framework. We'll explore different evaluation methods including custom code evaluation, an LLM-based judge, and an agent-based judge. \n",
    "\n",
    "Note: Since we are building on the previous notebook, we encourage you to run that one first to read through details and choices available while building the agent before evaluating it.\n"
   ]
  },
  {
   "cell_type": "markdown",
   "metadata": {},
   "source": [
    "## Install Dependencies\n",
    "\n",
    "any-agent uses the python asyncio module to support async functionality. When running in Jupyter notebooks, this means we need to enable the use of nested event loops. We'll install any-agent and enable this below using nest_asyncio."
   ]
  },
  {
   "cell_type": "code",
   "execution_count": 1,
   "metadata": {},
   "outputs": [],
   "source": [
    "import nest_asyncio\n",
    "\n",
    "nest_asyncio.apply()"
   ]
  },
  {
   "cell_type": "markdown",
   "metadata": {},
   "source": [
    "## Set Up the Web Search Agent\n",
    "\n",
    "First, let's recreate the web search agent from [the previous tutorial](https://github.com/mozilla-ai/any-agent/blob/main/docs/cookbook/your_first_agent.ipynb) so we have something to evaluate."
   ]
  },
  {
   "cell_type": "code",
   "execution_count": 2,
   "metadata": {},
   "outputs": [
    {
     "name": "stdout",
     "output_type": "stream",
     "text": [
      "MISTRAL_API_KEY found in environment.\n"
     ]
    }
   ],
   "source": [
    "import os\n",
    "from getpass import getpass\n",
    "\n",
    "if \"MISTRAL_API_KEY\" not in os.environ:\n",
    "    print(\"MISTRAL_API_KEY not found in environment!\")\n",
    "    api_key = getpass(\"Please enter your MISTRAL_API_KEY: \")\n",
    "    os.environ[\"MISTRAL_API_KEY\"] = api_key\n",
    "    print(\"MISTRAL_API_KEY set for this session!\")\n",
    "else:\n",
    "    print(\"MISTRAL_API_KEY found in environment.\")"
   ]
  },
  {
   "cell_type": "code",
   "execution_count": 3,
   "metadata": {},
   "outputs": [],
   "source": [
    "from any_agent import AgentConfig, AnyAgent\n",
    "from any_agent.tools import search_tavily, visit_webpage\n",
    "\n",
    "agent = AnyAgent.create(\n",
    "    \"tinyagent\",  # See all options in https://mozilla-ai.github.io/any-agent/\n",
    "    AgentConfig(\n",
    "        model_id=\"mistral/mistral-small-latest\", tools=[search_tavily, visit_webpage]\n",
    "    ),\n",
    ")"
   ]
  },
  {
   "cell_type": "markdown",
   "metadata": {},
   "source": [
    "## Run the Agent to Generate a Trace\n",
    "\n",
    "Now let's run our agent on a test query to generate a trace that we can evaluate."
   ]
  },
  {
   "cell_type": "code",
   "execution_count": 4,
   "metadata": {},
   "outputs": [
    {
     "data": {
      "text/html": [
       "<pre style=\"white-space:pre;overflow-x:auto;line-height:normal;font-family:Menlo,'DejaVu Sans Mono',consolas,'Courier New',monospace\"><span style=\"color: #808000; text-decoration-color: #808000\">╭────────────────────────────────────</span> CALL_LLM: mistral/mistral-small-latest <span style=\"color: #808000; text-decoration-color: #808000\">─────────────────────────────────────╮</span>\n",
       "<span style=\"color: #808000; text-decoration-color: #808000\">│ </span><span style=\"color: #c0c0c0; text-decoration-color: #c0c0c0\">╭─</span><span style=\"color: #808000; text-decoration-color: #808000\"> INPUT </span><span style=\"color: #c0c0c0; text-decoration-color: #c0c0c0\">─────────────────────────────────────────────────────────────────────────────────────────────────────╮</span><span style=\"color: #808000; text-decoration-color: #808000\"> │</span>\n",
       "<span style=\"color: #808000; text-decoration-color: #808000\">│ </span><span style=\"color: #c0c0c0; text-decoration-color: #c0c0c0\">│ </span><span style=\"color: #c0c0c0; text-decoration-color: #c0c0c0; font-weight: bold\">[</span><span style=\"color: #c0c0c0; text-decoration-color: #c0c0c0\">                                                                                                           │</span><span style=\"color: #808000; text-decoration-color: #808000\"> │</span>\n",
       "<span style=\"color: #808000; text-decoration-color: #808000\">│ </span><span style=\"color: #c0c0c0; text-decoration-color: #c0c0c0\">│   </span><span style=\"color: #c0c0c0; text-decoration-color: #c0c0c0; font-weight: bold\">{</span><span style=\"color: #c0c0c0; text-decoration-color: #c0c0c0\">                                                                                                         │</span><span style=\"color: #808000; text-decoration-color: #808000\"> │</span>\n",
       "<span style=\"color: #808000; text-decoration-color: #808000\">│ </span><span style=\"color: #c0c0c0; text-decoration-color: #c0c0c0\">│     </span><span style=\"color: #000080; text-decoration-color: #000080; font-weight: bold\">\"role\"</span><span style=\"color: #c0c0c0; text-decoration-color: #c0c0c0\">: </span><span style=\"color: #008000; text-decoration-color: #008000\">\"system\"</span><span style=\"color: #c0c0c0; text-decoration-color: #c0c0c0\">,                                                                                       │</span><span style=\"color: #808000; text-decoration-color: #808000\"> │</span>\n",
       "<span style=\"color: #808000; text-decoration-color: #808000\">│ </span><span style=\"color: #c0c0c0; text-decoration-color: #c0c0c0\">│     </span><span style=\"color: #000080; text-decoration-color: #000080; font-weight: bold\">\"content\"</span><span style=\"color: #c0c0c0; text-decoration-color: #c0c0c0\">: </span><span style=\"color: #008000; text-decoration-color: #008000\">\"You are an agent - please keep going until the user's query is completely resolved, before </span><span style=\"color: #c0c0c0; text-decoration-color: #c0c0c0\"> │</span><span style=\"color: #808000; text-decoration-color: #808000\"> │</span>\n",
       "<span style=\"color: #808000; text-decoration-color: #808000\">│ </span><span style=\"color: #c0c0c0; text-decoration-color: #c0c0c0\">│   </span><span style=\"color: #c0c0c0; text-decoration-color: #c0c0c0; font-weight: bold\">}</span><span style=\"color: #c0c0c0; text-decoration-color: #c0c0c0\">,                                                                                                        │</span><span style=\"color: #808000; text-decoration-color: #808000\"> │</span>\n",
       "<span style=\"color: #808000; text-decoration-color: #808000\">│ </span><span style=\"color: #c0c0c0; text-decoration-color: #c0c0c0\">│   </span><span style=\"color: #c0c0c0; text-decoration-color: #c0c0c0; font-weight: bold\">{</span><span style=\"color: #c0c0c0; text-decoration-color: #c0c0c0\">                                                                                                         │</span><span style=\"color: #808000; text-decoration-color: #808000\"> │</span>\n",
       "<span style=\"color: #808000; text-decoration-color: #808000\">│ </span><span style=\"color: #c0c0c0; text-decoration-color: #c0c0c0\">│     </span><span style=\"color: #000080; text-decoration-color: #000080; font-weight: bold\">\"role\"</span><span style=\"color: #c0c0c0; text-decoration-color: #c0c0c0\">: </span><span style=\"color: #008000; text-decoration-color: #008000\">\"user\"</span><span style=\"color: #c0c0c0; text-decoration-color: #c0c0c0\">,                                                                                         │</span><span style=\"color: #808000; text-decoration-color: #808000\"> │</span>\n",
       "<span style=\"color: #808000; text-decoration-color: #808000\">│ </span><span style=\"color: #c0c0c0; text-decoration-color: #c0c0c0\">│     </span><span style=\"color: #000080; text-decoration-color: #000080; font-weight: bold\">\"content\"</span><span style=\"color: #c0c0c0; text-decoration-color: #c0c0c0\">: </span><span style=\"color: #008000; text-decoration-color: #008000\">\"What film won a Goya Award for best film in 2024?\\nPlease provide the name of the film, the</span><span style=\"color: #c0c0c0; text-decoration-color: #c0c0c0\"> │</span><span style=\"color: #808000; text-decoration-color: #808000\"> │</span>\n",
       "<span style=\"color: #808000; text-decoration-color: #808000\">│ </span><span style=\"color: #c0c0c0; text-decoration-color: #c0c0c0\">│   </span><span style=\"color: #c0c0c0; text-decoration-color: #c0c0c0; font-weight: bold\">}</span><span style=\"color: #c0c0c0; text-decoration-color: #c0c0c0\">                                                                                                         │</span><span style=\"color: #808000; text-decoration-color: #808000\"> │</span>\n",
       "<span style=\"color: #808000; text-decoration-color: #808000\">│ </span><span style=\"color: #c0c0c0; text-decoration-color: #c0c0c0\">│ </span><span style=\"color: #c0c0c0; text-decoration-color: #c0c0c0; font-weight: bold\">]</span><span style=\"color: #c0c0c0; text-decoration-color: #c0c0c0\">                                                                                                           │</span><span style=\"color: #808000; text-decoration-color: #808000\"> │</span>\n",
       "<span style=\"color: #808000; text-decoration-color: #808000\">│ </span><span style=\"color: #c0c0c0; text-decoration-color: #c0c0c0\">╰─────────────────────────────────────────────────────────────────────────────────────────────────────────────╯</span><span style=\"color: #808000; text-decoration-color: #808000\"> │</span>\n",
       "<span style=\"color: #808000; text-decoration-color: #808000\">│ </span><span style=\"color: #c0c0c0; text-decoration-color: #c0c0c0\">╭─</span><span style=\"color: #808000; text-decoration-color: #808000\"> OUTPUT </span><span style=\"color: #c0c0c0; text-decoration-color: #c0c0c0\">────────────────────────────────────────────────────────────────────────────────────────────────────╮</span><span style=\"color: #808000; text-decoration-color: #808000\"> │</span>\n",
       "<span style=\"color: #808000; text-decoration-color: #808000\">│ </span><span style=\"color: #c0c0c0; text-decoration-color: #c0c0c0\">│ </span><span style=\"color: #c0c0c0; text-decoration-color: #c0c0c0; font-weight: bold\">[</span><span style=\"color: #c0c0c0; text-decoration-color: #c0c0c0\">                                                                                                           │</span><span style=\"color: #808000; text-decoration-color: #808000\"> │</span>\n",
       "<span style=\"color: #808000; text-decoration-color: #808000\">│ </span><span style=\"color: #c0c0c0; text-decoration-color: #c0c0c0\">│   </span><span style=\"color: #c0c0c0; text-decoration-color: #c0c0c0; font-weight: bold\">{</span><span style=\"color: #c0c0c0; text-decoration-color: #c0c0c0\">                                                                                                         │</span><span style=\"color: #808000; text-decoration-color: #808000\"> │</span>\n",
       "<span style=\"color: #808000; text-decoration-color: #808000\">│ </span><span style=\"color: #c0c0c0; text-decoration-color: #c0c0c0\">│     </span><span style=\"color: #000080; text-decoration-color: #000080; font-weight: bold\">\"tool.name\"</span><span style=\"color: #c0c0c0; text-decoration-color: #c0c0c0\">: </span><span style=\"color: #008000; text-decoration-color: #008000\">\"search_tavily\"</span><span style=\"color: #c0c0c0; text-decoration-color: #c0c0c0\">,                                                                           │</span><span style=\"color: #808000; text-decoration-color: #808000\"> │</span>\n",
       "<span style=\"color: #808000; text-decoration-color: #808000\">│ </span><span style=\"color: #c0c0c0; text-decoration-color: #c0c0c0\">│     </span><span style=\"color: #000080; text-decoration-color: #000080; font-weight: bold\">\"tool.args\"</span><span style=\"color: #c0c0c0; text-decoration-color: #c0c0c0\">: </span><span style=\"color: #008000; text-decoration-color: #008000\">\"{\\\"query\\\": \\\"Goya Award for best film in 2024\\\"}\"</span><span style=\"color: #c0c0c0; text-decoration-color: #c0c0c0\">                                        │</span><span style=\"color: #808000; text-decoration-color: #808000\"> │</span>\n",
       "<span style=\"color: #808000; text-decoration-color: #808000\">│ </span><span style=\"color: #c0c0c0; text-decoration-color: #c0c0c0\">│   </span><span style=\"color: #c0c0c0; text-decoration-color: #c0c0c0; font-weight: bold\">}</span><span style=\"color: #c0c0c0; text-decoration-color: #c0c0c0\">                                                                                                         │</span><span style=\"color: #808000; text-decoration-color: #808000\"> │</span>\n",
       "<span style=\"color: #808000; text-decoration-color: #808000\">│ </span><span style=\"color: #c0c0c0; text-decoration-color: #c0c0c0\">│ </span><span style=\"color: #c0c0c0; text-decoration-color: #c0c0c0; font-weight: bold\">]</span><span style=\"color: #c0c0c0; text-decoration-color: #c0c0c0\">                                                                                                           │</span><span style=\"color: #808000; text-decoration-color: #808000\"> │</span>\n",
       "<span style=\"color: #808000; text-decoration-color: #808000\">│ </span><span style=\"color: #c0c0c0; text-decoration-color: #c0c0c0\">╰─────────────────────────────────────────────────────────────────────────────────────────────────────────────╯</span><span style=\"color: #808000; text-decoration-color: #808000\"> │</span>\n",
       "<span style=\"color: #808000; text-decoration-color: #808000\">│ </span><span style=\"color: #c0c0c0; text-decoration-color: #c0c0c0\">╭─</span><span style=\"color: #808000; text-decoration-color: #808000\"> USAGE </span><span style=\"color: #c0c0c0; text-decoration-color: #c0c0c0\">─────────────────────────────────────────────────────────────────────────────────────────────────────╮</span><span style=\"color: #808000; text-decoration-color: #808000\"> │</span>\n",
       "<span style=\"color: #808000; text-decoration-color: #808000\">│ </span><span style=\"color: #c0c0c0; text-decoration-color: #c0c0c0\">│ </span><span style=\"color: #c0c0c0; text-decoration-color: #c0c0c0; font-weight: bold\">{</span><span style=\"color: #c0c0c0; text-decoration-color: #c0c0c0\">                                                                                                           │</span><span style=\"color: #808000; text-decoration-color: #808000\"> │</span>\n",
       "<span style=\"color: #808000; text-decoration-color: #808000\">│ </span><span style=\"color: #c0c0c0; text-decoration-color: #c0c0c0\">│   </span><span style=\"color: #000080; text-decoration-color: #000080; font-weight: bold\">\"input_tokens\"</span><span style=\"color: #c0c0c0; text-decoration-color: #c0c0c0\">: </span><span style=\"color: #008080; text-decoration-color: #008080; font-weight: bold\">498</span><span style=\"color: #c0c0c0; text-decoration-color: #c0c0c0\">,                                                                                      │</span><span style=\"color: #808000; text-decoration-color: #808000\"> │</span>\n",
       "<span style=\"color: #808000; text-decoration-color: #808000\">│ </span><span style=\"color: #c0c0c0; text-decoration-color: #c0c0c0\">│   </span><span style=\"color: #000080; text-decoration-color: #000080; font-weight: bold\">\"output_tokens\"</span><span style=\"color: #c0c0c0; text-decoration-color: #c0c0c0\">: </span><span style=\"color: #008080; text-decoration-color: #008080; font-weight: bold\">24</span><span style=\"color: #c0c0c0; text-decoration-color: #c0c0c0\">,                                                                                      │</span><span style=\"color: #808000; text-decoration-color: #808000\"> │</span>\n",
       "<span style=\"color: #808000; text-decoration-color: #808000\">│ </span><span style=\"color: #c0c0c0; text-decoration-color: #c0c0c0\">│   </span><span style=\"color: #000080; text-decoration-color: #000080; font-weight: bold\">\"input_cost\"</span><span style=\"color: #c0c0c0; text-decoration-color: #c0c0c0\">: </span><span style=\"color: #008080; text-decoration-color: #008080; font-weight: bold\">4.98e-05</span><span style=\"color: #c0c0c0; text-decoration-color: #c0c0c0\">,                                                                                   │</span><span style=\"color: #808000; text-decoration-color: #808000\"> │</span>\n",
       "<span style=\"color: #808000; text-decoration-color: #808000\">│ </span><span style=\"color: #c0c0c0; text-decoration-color: #c0c0c0\">│   </span><span style=\"color: #000080; text-decoration-color: #000080; font-weight: bold\">\"output_cost\"</span><span style=\"color: #c0c0c0; text-decoration-color: #c0c0c0\">: </span><span style=\"color: #008080; text-decoration-color: #008080; font-weight: bold\">7.2e-06</span><span style=\"color: #c0c0c0; text-decoration-color: #c0c0c0\">                                                                                    │</span><span style=\"color: #808000; text-decoration-color: #808000\"> │</span>\n",
       "<span style=\"color: #808000; text-decoration-color: #808000\">│ </span><span style=\"color: #c0c0c0; text-decoration-color: #c0c0c0\">│ </span><span style=\"color: #c0c0c0; text-decoration-color: #c0c0c0; font-weight: bold\">}</span><span style=\"color: #c0c0c0; text-decoration-color: #c0c0c0\">                                                                                                           │</span><span style=\"color: #808000; text-decoration-color: #808000\"> │</span>\n",
       "<span style=\"color: #808000; text-decoration-color: #808000\">│ </span><span style=\"color: #c0c0c0; text-decoration-color: #c0c0c0\">╰─────────────────────────────────────────────────────────────────────────────────────────────────────────────╯</span><span style=\"color: #808000; text-decoration-color: #808000\"> │</span>\n",
       "<span style=\"color: #808000; text-decoration-color: #808000\">╰─────────────────────────────────────────────────────────────────────────────────────────────────────────────────╯</span>\n",
       "</pre>\n"
      ],
      "text/plain": [
       "\u001b[33m╭─\u001b[0m\u001b[33m───────────────────────────────────\u001b[0m CALL_LLM: mistral/mistral-small-latest \u001b[33m────────────────────────────────────\u001b[0m\u001b[33m─╮\u001b[0m\n",
       "\u001b[33m│\u001b[0m\u001b[33m \u001b[0m\u001b[37m╭─\u001b[0m\u001b[33m INPUT \u001b[0m\u001b[37m────────────────────────────────────────────────────────────────────────────────────────────────────\u001b[0m\u001b[37m─╮\u001b[0m\u001b[33m \u001b[0m\u001b[33m│\u001b[0m\n",
       "\u001b[33m│\u001b[0m\u001b[33m \u001b[0m\u001b[37m│\u001b[0m\u001b[37m \u001b[0m\u001b[1;37m[\u001b[0m\u001b[37m                                                                                                          \u001b[0m\u001b[37m \u001b[0m\u001b[37m│\u001b[0m\u001b[33m \u001b[0m\u001b[33m│\u001b[0m\n",
       "\u001b[33m│\u001b[0m\u001b[33m \u001b[0m\u001b[37m│\u001b[0m\u001b[37m \u001b[0m\u001b[37m  \u001b[0m\u001b[1;37m{\u001b[0m\u001b[37m                                                                                                        \u001b[0m\u001b[37m \u001b[0m\u001b[37m│\u001b[0m\u001b[33m \u001b[0m\u001b[33m│\u001b[0m\n",
       "\u001b[33m│\u001b[0m\u001b[33m \u001b[0m\u001b[37m│\u001b[0m\u001b[37m \u001b[0m\u001b[37m    \u001b[0m\u001b[1;34m\"role\"\u001b[0m\u001b[37m: \u001b[0m\u001b[32m\"system\"\u001b[0m\u001b[37m,\u001b[0m\u001b[37m                                                                                      \u001b[0m\u001b[37m \u001b[0m\u001b[37m│\u001b[0m\u001b[33m \u001b[0m\u001b[33m│\u001b[0m\n",
       "\u001b[33m│\u001b[0m\u001b[33m \u001b[0m\u001b[37m│\u001b[0m\u001b[37m \u001b[0m\u001b[37m    \u001b[0m\u001b[1;34m\"content\"\u001b[0m\u001b[37m: \u001b[0m\u001b[32m\"You are an agent - please keep going until the user's query is completely resolved, before \u001b[0m\u001b[37m \u001b[0m\u001b[37m│\u001b[0m\u001b[33m \u001b[0m\u001b[33m│\u001b[0m\n",
       "\u001b[33m│\u001b[0m\u001b[33m \u001b[0m\u001b[37m│\u001b[0m\u001b[37m \u001b[0m\u001b[37m  \u001b[0m\u001b[1;37m}\u001b[0m\u001b[37m,\u001b[0m\u001b[37m                                                                                                       \u001b[0m\u001b[37m \u001b[0m\u001b[37m│\u001b[0m\u001b[33m \u001b[0m\u001b[33m│\u001b[0m\n",
       "\u001b[33m│\u001b[0m\u001b[33m \u001b[0m\u001b[37m│\u001b[0m\u001b[37m \u001b[0m\u001b[37m  \u001b[0m\u001b[1;37m{\u001b[0m\u001b[37m                                                                                                        \u001b[0m\u001b[37m \u001b[0m\u001b[37m│\u001b[0m\u001b[33m \u001b[0m\u001b[33m│\u001b[0m\n",
       "\u001b[33m│\u001b[0m\u001b[33m \u001b[0m\u001b[37m│\u001b[0m\u001b[37m \u001b[0m\u001b[37m    \u001b[0m\u001b[1;34m\"role\"\u001b[0m\u001b[37m: \u001b[0m\u001b[32m\"user\"\u001b[0m\u001b[37m,\u001b[0m\u001b[37m                                                                                        \u001b[0m\u001b[37m \u001b[0m\u001b[37m│\u001b[0m\u001b[33m \u001b[0m\u001b[33m│\u001b[0m\n",
       "\u001b[33m│\u001b[0m\u001b[33m \u001b[0m\u001b[37m│\u001b[0m\u001b[37m \u001b[0m\u001b[37m    \u001b[0m\u001b[1;34m\"content\"\u001b[0m\u001b[37m: \u001b[0m\u001b[32m\"What film won a Goya Award for best film in 2024?\\nPlease provide the name of the film, the\u001b[0m\u001b[37m \u001b[0m\u001b[37m│\u001b[0m\u001b[33m \u001b[0m\u001b[33m│\u001b[0m\n",
       "\u001b[33m│\u001b[0m\u001b[33m \u001b[0m\u001b[37m│\u001b[0m\u001b[37m \u001b[0m\u001b[37m  \u001b[0m\u001b[1;37m}\u001b[0m\u001b[37m                                                                                                        \u001b[0m\u001b[37m \u001b[0m\u001b[37m│\u001b[0m\u001b[33m \u001b[0m\u001b[33m│\u001b[0m\n",
       "\u001b[33m│\u001b[0m\u001b[33m \u001b[0m\u001b[37m│\u001b[0m\u001b[37m \u001b[0m\u001b[1;37m]\u001b[0m\u001b[37m                                                                                                          \u001b[0m\u001b[37m \u001b[0m\u001b[37m│\u001b[0m\u001b[33m \u001b[0m\u001b[33m│\u001b[0m\n",
       "\u001b[33m│\u001b[0m\u001b[33m \u001b[0m\u001b[37m╰─────────────────────────────────────────────────────────────────────────────────────────────────────────────╯\u001b[0m\u001b[33m \u001b[0m\u001b[33m│\u001b[0m\n",
       "\u001b[33m│\u001b[0m\u001b[33m \u001b[0m\u001b[37m╭─\u001b[0m\u001b[33m OUTPUT \u001b[0m\u001b[37m───────────────────────────────────────────────────────────────────────────────────────────────────\u001b[0m\u001b[37m─╮\u001b[0m\u001b[33m \u001b[0m\u001b[33m│\u001b[0m\n",
       "\u001b[33m│\u001b[0m\u001b[33m \u001b[0m\u001b[37m│\u001b[0m\u001b[37m \u001b[0m\u001b[1;37m[\u001b[0m\u001b[37m                                                                                                          \u001b[0m\u001b[37m \u001b[0m\u001b[37m│\u001b[0m\u001b[33m \u001b[0m\u001b[33m│\u001b[0m\n",
       "\u001b[33m│\u001b[0m\u001b[33m \u001b[0m\u001b[37m│\u001b[0m\u001b[37m \u001b[0m\u001b[37m  \u001b[0m\u001b[1;37m{\u001b[0m\u001b[37m                                                                                                        \u001b[0m\u001b[37m \u001b[0m\u001b[37m│\u001b[0m\u001b[33m \u001b[0m\u001b[33m│\u001b[0m\n",
       "\u001b[33m│\u001b[0m\u001b[33m \u001b[0m\u001b[37m│\u001b[0m\u001b[37m \u001b[0m\u001b[37m    \u001b[0m\u001b[1;34m\"tool.name\"\u001b[0m\u001b[37m: \u001b[0m\u001b[32m\"search_tavily\"\u001b[0m\u001b[37m,\u001b[0m\u001b[37m                                                                          \u001b[0m\u001b[37m \u001b[0m\u001b[37m│\u001b[0m\u001b[33m \u001b[0m\u001b[33m│\u001b[0m\n",
       "\u001b[33m│\u001b[0m\u001b[33m \u001b[0m\u001b[37m│\u001b[0m\u001b[37m \u001b[0m\u001b[37m    \u001b[0m\u001b[1;34m\"tool.args\"\u001b[0m\u001b[37m: \u001b[0m\u001b[32m\"{\\\"query\\\": \\\"Goya Award for best film in 2024\\\"}\"\u001b[0m\u001b[37m                                       \u001b[0m\u001b[37m \u001b[0m\u001b[37m│\u001b[0m\u001b[33m \u001b[0m\u001b[33m│\u001b[0m\n",
       "\u001b[33m│\u001b[0m\u001b[33m \u001b[0m\u001b[37m│\u001b[0m\u001b[37m \u001b[0m\u001b[37m  \u001b[0m\u001b[1;37m}\u001b[0m\u001b[37m                                                                                                        \u001b[0m\u001b[37m \u001b[0m\u001b[37m│\u001b[0m\u001b[33m \u001b[0m\u001b[33m│\u001b[0m\n",
       "\u001b[33m│\u001b[0m\u001b[33m \u001b[0m\u001b[37m│\u001b[0m\u001b[37m \u001b[0m\u001b[1;37m]\u001b[0m\u001b[37m                                                                                                          \u001b[0m\u001b[37m \u001b[0m\u001b[37m│\u001b[0m\u001b[33m \u001b[0m\u001b[33m│\u001b[0m\n",
       "\u001b[33m│\u001b[0m\u001b[33m \u001b[0m\u001b[37m╰─────────────────────────────────────────────────────────────────────────────────────────────────────────────╯\u001b[0m\u001b[33m \u001b[0m\u001b[33m│\u001b[0m\n",
       "\u001b[33m│\u001b[0m\u001b[33m \u001b[0m\u001b[37m╭─\u001b[0m\u001b[33m USAGE \u001b[0m\u001b[37m────────────────────────────────────────────────────────────────────────────────────────────────────\u001b[0m\u001b[37m─╮\u001b[0m\u001b[33m \u001b[0m\u001b[33m│\u001b[0m\n",
       "\u001b[33m│\u001b[0m\u001b[33m \u001b[0m\u001b[37m│\u001b[0m\u001b[37m \u001b[0m\u001b[1;37m{\u001b[0m\u001b[37m                                                                                                          \u001b[0m\u001b[37m \u001b[0m\u001b[37m│\u001b[0m\u001b[33m \u001b[0m\u001b[33m│\u001b[0m\n",
       "\u001b[33m│\u001b[0m\u001b[33m \u001b[0m\u001b[37m│\u001b[0m\u001b[37m \u001b[0m\u001b[37m  \u001b[0m\u001b[1;34m\"input_tokens\"\u001b[0m\u001b[37m: \u001b[0m\u001b[1;36m498\u001b[0m\u001b[37m,\u001b[0m\u001b[37m                                                                                     \u001b[0m\u001b[37m \u001b[0m\u001b[37m│\u001b[0m\u001b[33m \u001b[0m\u001b[33m│\u001b[0m\n",
       "\u001b[33m│\u001b[0m\u001b[33m \u001b[0m\u001b[37m│\u001b[0m\u001b[37m \u001b[0m\u001b[37m  \u001b[0m\u001b[1;34m\"output_tokens\"\u001b[0m\u001b[37m: \u001b[0m\u001b[1;36m24\u001b[0m\u001b[37m,\u001b[0m\u001b[37m                                                                                     \u001b[0m\u001b[37m \u001b[0m\u001b[37m│\u001b[0m\u001b[33m \u001b[0m\u001b[33m│\u001b[0m\n",
       "\u001b[33m│\u001b[0m\u001b[33m \u001b[0m\u001b[37m│\u001b[0m\u001b[37m \u001b[0m\u001b[37m  \u001b[0m\u001b[1;34m\"input_cost\"\u001b[0m\u001b[37m: \u001b[0m\u001b[1;36m4.98e-05\u001b[0m\u001b[37m,\u001b[0m\u001b[37m                                                                                  \u001b[0m\u001b[37m \u001b[0m\u001b[37m│\u001b[0m\u001b[33m \u001b[0m\u001b[33m│\u001b[0m\n",
       "\u001b[33m│\u001b[0m\u001b[33m \u001b[0m\u001b[37m│\u001b[0m\u001b[37m \u001b[0m\u001b[37m  \u001b[0m\u001b[1;34m\"output_cost\"\u001b[0m\u001b[37m: \u001b[0m\u001b[1;36m7.2e-06\u001b[0m\u001b[37m                                                                                   \u001b[0m\u001b[37m \u001b[0m\u001b[37m│\u001b[0m\u001b[33m \u001b[0m\u001b[33m│\u001b[0m\n",
       "\u001b[33m│\u001b[0m\u001b[33m \u001b[0m\u001b[37m│\u001b[0m\u001b[37m \u001b[0m\u001b[1;37m}\u001b[0m\u001b[37m                                                                                                          \u001b[0m\u001b[37m \u001b[0m\u001b[37m│\u001b[0m\u001b[33m \u001b[0m\u001b[33m│\u001b[0m\n",
       "\u001b[33m│\u001b[0m\u001b[33m \u001b[0m\u001b[37m╰─────────────────────────────────────────────────────────────────────────────────────────────────────────────╯\u001b[0m\u001b[33m \u001b[0m\u001b[33m│\u001b[0m\n",
       "\u001b[33m╰─────────────────────────────────────────────────────────────────────────────────────────────────────────────────╯\u001b[0m\n"
      ]
     },
     "metadata": {},
     "output_type": "display_data"
    },
    {
     "data": {
      "text/html": [
       "<pre style=\"white-space:pre;overflow-x:auto;line-height:normal;font-family:Menlo,'DejaVu Sans Mono',consolas,'Courier New',monospace\"><span style=\"color: #000080; text-decoration-color: #000080\">╭──────────────────────────────────────────</span> EXECUTE_TOOL: search_tavily <span style=\"color: #000080; text-decoration-color: #000080\">──────────────────────────────────────────╮</span>\n",
       "<span style=\"color: #000080; text-decoration-color: #000080\">│ </span><span style=\"color: #c0c0c0; text-decoration-color: #c0c0c0\">╭─</span><span style=\"color: #000080; text-decoration-color: #000080\"> Input </span><span style=\"color: #c0c0c0; text-decoration-color: #c0c0c0\">─────────────────────────────────────────────────────────────────────────────────────────────────────╮</span><span style=\"color: #000080; text-decoration-color: #000080\"> │</span>\n",
       "<span style=\"color: #000080; text-decoration-color: #000080\">│ </span><span style=\"color: #c0c0c0; text-decoration-color: #c0c0c0\">│ </span><span style=\"color: #c0c0c0; text-decoration-color: #c0c0c0; font-weight: bold\">{</span><span style=\"color: #c0c0c0; text-decoration-color: #c0c0c0\">                                                                                                           │</span><span style=\"color: #000080; text-decoration-color: #000080\"> │</span>\n",
       "<span style=\"color: #000080; text-decoration-color: #000080\">│ </span><span style=\"color: #c0c0c0; text-decoration-color: #c0c0c0\">│   </span><span style=\"color: #000080; text-decoration-color: #000080; font-weight: bold\">\"query\"</span><span style=\"color: #c0c0c0; text-decoration-color: #c0c0c0\">: </span><span style=\"color: #008000; text-decoration-color: #008000\">\"Goya Award for best film in 2024\"</span><span style=\"color: #c0c0c0; text-decoration-color: #c0c0c0\">                                                               │</span><span style=\"color: #000080; text-decoration-color: #000080\"> │</span>\n",
       "<span style=\"color: #000080; text-decoration-color: #000080\">│ </span><span style=\"color: #c0c0c0; text-decoration-color: #c0c0c0\">│ </span><span style=\"color: #c0c0c0; text-decoration-color: #c0c0c0; font-weight: bold\">}</span><span style=\"color: #c0c0c0; text-decoration-color: #c0c0c0\">                                                                                                           │</span><span style=\"color: #000080; text-decoration-color: #000080\"> │</span>\n",
       "<span style=\"color: #000080; text-decoration-color: #000080\">│ </span><span style=\"color: #c0c0c0; text-decoration-color: #c0c0c0\">╰─────────────────────────────────────────────────────────────────────────────────────────────────────────────╯</span><span style=\"color: #000080; text-decoration-color: #000080\"> │</span>\n",
       "<span style=\"color: #000080; text-decoration-color: #000080\">│ </span><span style=\"color: #c0c0c0; text-decoration-color: #c0c0c0\">╭─</span><span style=\"color: #000080; text-decoration-color: #000080\"> OUTPUT </span><span style=\"color: #c0c0c0; text-decoration-color: #c0c0c0\">────────────────────────────────────────────────────────────────────────────────────────────────────╮</span><span style=\"color: #000080; text-decoration-color: #000080\"> │</span>\n",
       "<span style=\"color: #000080; text-decoration-color: #000080\">│ </span><span style=\"color: #c0c0c0; text-decoration-color: #c0c0c0\">│ </span><a href=\"https://en.wikipedia.org/wiki/38th_Goya_Awards\" target=\"_blank\"><span style=\"color: #000080; text-decoration-color: #000080; text-decoration: underline\">38th Goya Awards - Wikipedia</span></a><span style=\"color: #c0c0c0; text-decoration-color: #c0c0c0\"> Winners and nominees ; Best Film · Society of the Snow – Belén Atienza [es],   │</span><span style=\"color: #000080; text-decoration-color: #000080\"> │</span>\n",
       "<span style=\"color: #000080; text-decoration-color: #000080\">│ </span><span style=\"color: #c0c0c0; text-decoration-color: #c0c0c0\">│ J.A. Bayona, Sandra Hermida Muñiz · Best Director ; Best Actor · David Verdaguer –                          │</span><span style=\"color: #000080; text-decoration-color: #000080\"> │</span>\n",
       "<span style=\"color: #000080; text-decoration-color: #000080\">│ </span><span style=\"color: #c0c0c0; text-decoration-color: #c0c0c0\">│                                                                                                             │</span><span style=\"color: #000080; text-decoration-color: #000080\"> │</span>\n",
       "<span style=\"color: #000080; text-decoration-color: #000080\">│ </span><span style=\"color: #c0c0c0; text-decoration-color: #c0c0c0\">│ </span><a href=\"https://en.wikipedia.org/wiki/Goya_Award_for_Best_Film\" target=\"_blank\"><span style=\"color: #000080; text-decoration-color: #000080; text-decoration: underline\">Goya Award for Best Film - Wikipedia</span></a><span style=\"color: #c0c0c0; text-decoration-color: #c0c0c0\"> 2024 (39th) · Undercover, La infiltrada ; 2024 (39th) · The Blue Star, │</span><span style=\"color: #000080; text-decoration-color: #000080\"> │</span>\n",
       "<span style=\"color: #000080; text-decoration-color: #000080\">│ </span><span style=\"color: #c0c0c0; text-decoration-color: #c0c0c0\">│ La estrella azul ; 2024 (39th) · A House on Fire, Casa en flames ; 2024 (39th) · Saturn Return              │</span><span style=\"color: #000080; text-decoration-color: #000080\"> │</span>\n",
       "<span style=\"color: #000080; text-decoration-color: #000080\">│ </span><span style=\"color: #c0c0c0; text-decoration-color: #c0c0c0\">│                                                                                                             │</span><span style=\"color: #000080; text-decoration-color: #000080\"> │</span>\n",
       "<span style=\"color: #000080; text-decoration-color: #000080\">│ </span><span style=\"color: #c0c0c0; text-decoration-color: #c0c0c0\">│ </span><a href=\"https://www.imdb.com/event/ev0000299/2024/1/\" target=\"_blank\"><span style=\"color: #000080; text-decoration-color: #000080; text-decoration: underline\">Goya Awards (2024) - IMDb</span></a><span style=\"color: #c0c0c0; text-decoration-color: #c0c0c0\"> GOYA AWARDS · Goya · Best Adapted Screenplay (Mejor Guión Adaptado) · Robot       │</span><span style=\"color: #000080; text-decoration-color: #000080\"> │</span>\n",
       "<span style=\"color: #000080; text-decoration-color: #000080\">│ </span><span style=\"color: #c0c0c0; text-decoration-color: #c0c0c0\">│ Dreams · Society of the Snow · The Teacher Who Promised the Sea · Un Amor · Jokes &amp;                         │</span><span style=\"color: #000080; text-decoration-color: #000080\"> │</span>\n",
       "<span style=\"color: #000080; text-decoration-color: #000080\">│ </span><span style=\"color: #c0c0c0; text-decoration-color: #c0c0c0\">│                                                                                                             │</span><span style=\"color: #000080; text-decoration-color: #000080\"> │</span>\n",
       "<span style=\"color: #000080; text-decoration-color: #000080\">│ </span><span style=\"color: #c0c0c0; text-decoration-color: #c0c0c0\">│ </span><a href=\"https://deadline.com/2024/02/goya-awards-complete-winners-list-1235821487/\" target=\"_blank\"><span style=\"color: #000080; text-decoration-color: #000080; text-decoration: underline\">Goya Awards Winners: 'The Society Of The Snow' Takes Best ...</span></a><span style=\"color: #c0c0c0; text-decoration-color: #c0c0c0\"> Goya Awards Complete Winners List: 'The       │</span><span style=\"color: #000080; text-decoration-color: #000080\"> │</span>\n",
       "<span style=\"color: #000080; text-decoration-color: #000080\">│ </span><span style=\"color: #c0c0c0; text-decoration-color: #c0c0c0\">│ Society Of The Snow' Takes Best Picture &amp; Director; Sigourney Weaver Honored With International Goya.       │</span><span style=\"color: #000080; text-decoration-color: #000080\"> │</span>\n",
       "<span style=\"color: #000080; text-decoration-color: #000080\">│ </span><span style=\"color: #c0c0c0; text-decoration-color: #c0c0c0\">│                                                                                                             │</span><span style=\"color: #000080; text-decoration-color: #000080\"> │</span>\n",
       "<span style=\"color: #000080; text-decoration-color: #000080\">│ </span><span style=\"color: #c0c0c0; text-decoration-color: #c0c0c0\">│ </span><a href=\"https://mubi.com/en/awards-and-festivals/goyas?year=2024\" target=\"_blank\"><span style=\"color: #000080; text-decoration-color: #000080; text-decoration: underline\">Goya Awards 2024 - MUBI</span></a><span style=\"color: #c0c0c0; text-decoration-color: #c0c0c0\"> Goya Awards 2024 · Anatomia de Uma Queda. Best European Film · Meu Amigo Robô. Best │</span><span style=\"color: #000080; text-decoration-color: #000080\"> │</span>\n",
       "<span style=\"color: #000080; text-decoration-color: #000080\">│ </span><span style=\"color: #c0c0c0; text-decoration-color: #c0c0c0\">│ Adapted Screenplay (Mejor Guión Adaptado) &amp; 1 other · 20.000 Arten von Bienen                               │</span><span style=\"color: #000080; text-decoration-color: #000080\"> │</span>\n",
       "<span style=\"color: #000080; text-decoration-color: #000080\">│ </span><span style=\"color: #c0c0c0; text-decoration-color: #c0c0c0\">╰─────────────────────────────────────────────────────────────────────────────────────────────────────────────╯</span><span style=\"color: #000080; text-decoration-color: #000080\"> │</span>\n",
       "<span style=\"color: #000080; text-decoration-color: #000080\">╰─────────────────────────────────────────────────────────────────────────────────────────────────────────────────╯</span>\n",
       "</pre>\n"
      ],
      "text/plain": [
       "\u001b[34m╭─\u001b[0m\u001b[34m─────────────────────────────────────────\u001b[0m EXECUTE_TOOL: search_tavily \u001b[34m─────────────────────────────────────────\u001b[0m\u001b[34m─╮\u001b[0m\n",
       "\u001b[34m│\u001b[0m\u001b[34m \u001b[0m\u001b[37m╭─\u001b[0m\u001b[34m Input \u001b[0m\u001b[37m────────────────────────────────────────────────────────────────────────────────────────────────────\u001b[0m\u001b[37m─╮\u001b[0m\u001b[34m \u001b[0m\u001b[34m│\u001b[0m\n",
       "\u001b[34m│\u001b[0m\u001b[34m \u001b[0m\u001b[37m│\u001b[0m\u001b[37m \u001b[0m\u001b[1;37m{\u001b[0m\u001b[37m                                                                                                          \u001b[0m\u001b[37m \u001b[0m\u001b[37m│\u001b[0m\u001b[34m \u001b[0m\u001b[34m│\u001b[0m\n",
       "\u001b[34m│\u001b[0m\u001b[34m \u001b[0m\u001b[37m│\u001b[0m\u001b[37m \u001b[0m\u001b[37m  \u001b[0m\u001b[1;34m\"query\"\u001b[0m\u001b[37m: \u001b[0m\u001b[32m\"Goya Award for best film in 2024\"\u001b[0m\u001b[37m                                                              \u001b[0m\u001b[37m \u001b[0m\u001b[37m│\u001b[0m\u001b[34m \u001b[0m\u001b[34m│\u001b[0m\n",
       "\u001b[34m│\u001b[0m\u001b[34m \u001b[0m\u001b[37m│\u001b[0m\u001b[37m \u001b[0m\u001b[1;37m}\u001b[0m\u001b[37m                                                                                                          \u001b[0m\u001b[37m \u001b[0m\u001b[37m│\u001b[0m\u001b[34m \u001b[0m\u001b[34m│\u001b[0m\n",
       "\u001b[34m│\u001b[0m\u001b[34m \u001b[0m\u001b[37m╰─────────────────────────────────────────────────────────────────────────────────────────────────────────────╯\u001b[0m\u001b[34m \u001b[0m\u001b[34m│\u001b[0m\n",
       "\u001b[34m│\u001b[0m\u001b[34m \u001b[0m\u001b[37m╭─\u001b[0m\u001b[34m OUTPUT \u001b[0m\u001b[37m───────────────────────────────────────────────────────────────────────────────────────────────────\u001b[0m\u001b[37m─╮\u001b[0m\u001b[34m \u001b[0m\u001b[34m│\u001b[0m\n",
       "\u001b[34m│\u001b[0m\u001b[34m \u001b[0m\u001b[37m│\u001b[0m\u001b[37m \u001b[0m\u001b]8;id=478900;https://en.wikipedia.org/wiki/38th_Goya_Awards\u001b\\\u001b[4;34m38th Goya Awards - Wikipedia\u001b[0m\u001b]8;;\u001b\\\u001b[37m Winners and nominees ; Best Film · Society of the Snow – Belén Atienza [es],  \u001b[0m\u001b[37m \u001b[0m\u001b[37m│\u001b[0m\u001b[34m \u001b[0m\u001b[34m│\u001b[0m\n",
       "\u001b[34m│\u001b[0m\u001b[34m \u001b[0m\u001b[37m│\u001b[0m\u001b[37m \u001b[0m\u001b[37mJ.A. Bayona, Sandra Hermida Muñiz · Best Director ; Best Actor · David Verdaguer –                         \u001b[0m\u001b[37m \u001b[0m\u001b[37m│\u001b[0m\u001b[34m \u001b[0m\u001b[34m│\u001b[0m\n",
       "\u001b[34m│\u001b[0m\u001b[34m \u001b[0m\u001b[37m│\u001b[0m\u001b[37m \u001b[0m\u001b[37m                                                                                                           \u001b[0m\u001b[37m \u001b[0m\u001b[37m│\u001b[0m\u001b[34m \u001b[0m\u001b[34m│\u001b[0m\n",
       "\u001b[34m│\u001b[0m\u001b[34m \u001b[0m\u001b[37m│\u001b[0m\u001b[37m \u001b[0m\u001b]8;id=276262;https://en.wikipedia.org/wiki/Goya_Award_for_Best_Film\u001b\\\u001b[4;34mGoya Award for Best Film - Wikipedia\u001b[0m\u001b]8;;\u001b\\\u001b[37m 2024 (39th) · Undercover, La infiltrada ; 2024 (39th) · The Blue Star,\u001b[0m\u001b[37m \u001b[0m\u001b[37m│\u001b[0m\u001b[34m \u001b[0m\u001b[34m│\u001b[0m\n",
       "\u001b[34m│\u001b[0m\u001b[34m \u001b[0m\u001b[37m│\u001b[0m\u001b[37m \u001b[0m\u001b[37mLa estrella azul ; 2024 (39th) · A House on Fire, Casa en flames ; 2024 (39th) · Saturn Return             \u001b[0m\u001b[37m \u001b[0m\u001b[37m│\u001b[0m\u001b[34m \u001b[0m\u001b[34m│\u001b[0m\n",
       "\u001b[34m│\u001b[0m\u001b[34m \u001b[0m\u001b[37m│\u001b[0m\u001b[37m \u001b[0m\u001b[37m                                                                                                           \u001b[0m\u001b[37m \u001b[0m\u001b[37m│\u001b[0m\u001b[34m \u001b[0m\u001b[34m│\u001b[0m\n",
       "\u001b[34m│\u001b[0m\u001b[34m \u001b[0m\u001b[37m│\u001b[0m\u001b[37m \u001b[0m\u001b]8;id=715873;https://www.imdb.com/event/ev0000299/2024/1/\u001b\\\u001b[4;34mGoya Awards (2024) - IMDb\u001b[0m\u001b]8;;\u001b\\\u001b[37m GOYA AWARDS · Goya · Best Adapted Screenplay (Mejor Guión Adaptado) · Robot      \u001b[0m\u001b[37m \u001b[0m\u001b[37m│\u001b[0m\u001b[34m \u001b[0m\u001b[34m│\u001b[0m\n",
       "\u001b[34m│\u001b[0m\u001b[34m \u001b[0m\u001b[37m│\u001b[0m\u001b[37m \u001b[0m\u001b[37mDreams · Society of the Snow · The Teacher Who Promised the Sea · Un Amor · Jokes &                        \u001b[0m\u001b[37m \u001b[0m\u001b[37m│\u001b[0m\u001b[34m \u001b[0m\u001b[34m│\u001b[0m\n",
       "\u001b[34m│\u001b[0m\u001b[34m \u001b[0m\u001b[37m│\u001b[0m\u001b[37m \u001b[0m\u001b[37m                                                                                                           \u001b[0m\u001b[37m \u001b[0m\u001b[37m│\u001b[0m\u001b[34m \u001b[0m\u001b[34m│\u001b[0m\n",
       "\u001b[34m│\u001b[0m\u001b[34m \u001b[0m\u001b[37m│\u001b[0m\u001b[37m \u001b[0m\u001b]8;id=959766;https://deadline.com/2024/02/goya-awards-complete-winners-list-1235821487/\u001b\\\u001b[4;34mGoya Awards Winners: 'The Society Of The Snow' Takes Best ...\u001b[0m\u001b]8;;\u001b\\\u001b[37m Goya Awards Complete Winners List: 'The      \u001b[0m\u001b[37m \u001b[0m\u001b[37m│\u001b[0m\u001b[34m \u001b[0m\u001b[34m│\u001b[0m\n",
       "\u001b[34m│\u001b[0m\u001b[34m \u001b[0m\u001b[37m│\u001b[0m\u001b[37m \u001b[0m\u001b[37mSociety Of The Snow' Takes Best Picture & Director; Sigourney Weaver Honored With International Goya.      \u001b[0m\u001b[37m \u001b[0m\u001b[37m│\u001b[0m\u001b[34m \u001b[0m\u001b[34m│\u001b[0m\n",
       "\u001b[34m│\u001b[0m\u001b[34m \u001b[0m\u001b[37m│\u001b[0m\u001b[37m \u001b[0m\u001b[37m                                                                                                           \u001b[0m\u001b[37m \u001b[0m\u001b[37m│\u001b[0m\u001b[34m \u001b[0m\u001b[34m│\u001b[0m\n",
       "\u001b[34m│\u001b[0m\u001b[34m \u001b[0m\u001b[37m│\u001b[0m\u001b[37m \u001b[0m\u001b]8;id=999078;https://mubi.com/en/awards-and-festivals/goyas?year=2024\u001b\\\u001b[4;34mGoya Awards 2024 - MUBI\u001b[0m\u001b]8;;\u001b\\\u001b[37m Goya Awards 2024 · Anatomia de Uma Queda. Best European Film · Meu Amigo Robô. Best\u001b[0m\u001b[37m \u001b[0m\u001b[37m│\u001b[0m\u001b[34m \u001b[0m\u001b[34m│\u001b[0m\n",
       "\u001b[34m│\u001b[0m\u001b[34m \u001b[0m\u001b[37m│\u001b[0m\u001b[37m \u001b[0m\u001b[37mAdapted Screenplay (Mejor Guión Adaptado) & 1 other · 20.000 Arten von Bienen                              \u001b[0m\u001b[37m \u001b[0m\u001b[37m│\u001b[0m\u001b[34m \u001b[0m\u001b[34m│\u001b[0m\n",
       "\u001b[34m│\u001b[0m\u001b[34m \u001b[0m\u001b[37m╰─────────────────────────────────────────────────────────────────────────────────────────────────────────────╯\u001b[0m\u001b[34m \u001b[0m\u001b[34m│\u001b[0m\n",
       "\u001b[34m╰─────────────────────────────────────────────────────────────────────────────────────────────────────────────────╯\u001b[0m\n"
      ]
     },
     "metadata": {},
     "output_type": "display_data"
    },
    {
     "data": {
      "text/html": [
       "<pre style=\"white-space:pre;overflow-x:auto;line-height:normal;font-family:Menlo,'DejaVu Sans Mono',consolas,'Courier New',monospace\"><span style=\"color: #808000; text-decoration-color: #808000\">╭────────────────────────────────────</span> CALL_LLM: mistral/mistral-small-latest <span style=\"color: #808000; text-decoration-color: #808000\">─────────────────────────────────────╮</span>\n",
       "<span style=\"color: #808000; text-decoration-color: #808000\">│ </span><span style=\"color: #c0c0c0; text-decoration-color: #c0c0c0\">╭─</span><span style=\"color: #808000; text-decoration-color: #808000\"> OUTPUT </span><span style=\"color: #c0c0c0; text-decoration-color: #c0c0c0\">────────────────────────────────────────────────────────────────────────────────────────────────────╮</span><span style=\"color: #808000; text-decoration-color: #808000\"> │</span>\n",
       "<span style=\"color: #808000; text-decoration-color: #808000\">│ </span><span style=\"color: #c0c0c0; text-decoration-color: #c0c0c0\">│ The film that won the Goya Award for Best Film in 2024 is \"The Society of the Snow\" (Spanish: La sociedad   │</span><span style=\"color: #808000; text-decoration-color: #808000\"> │</span>\n",
       "<span style=\"color: #808000; text-decoration-color: #808000\">│ </span><span style=\"color: #c0c0c0; text-decoration-color: #c0c0c0\">│ de la nieve).                                                                                               │</span><span style=\"color: #808000; text-decoration-color: #808000\"> │</span>\n",
       "<span style=\"color: #808000; text-decoration-color: #808000\">│ </span><span style=\"color: #c0c0c0; text-decoration-color: #c0c0c0\">│                                                                                                             │</span><span style=\"color: #808000; text-decoration-color: #808000\"> │</span>\n",
       "<span style=\"color: #808000; text-decoration-color: #808000\">│ </span><span style=\"color: #c0c0c0; text-decoration-color: #c0c0c0\">│ The film is based on the true story of the survivors of the 1972 Andes flight disaster, who were forced to  │</span><span style=\"color: #808000; text-decoration-color: #808000\"> │</span>\n",
       "<span style=\"color: #808000; text-decoration-color: #808000\">│ </span><span style=\"color: #c0c0c0; text-decoration-color: #c0c0c0\">│ resort to extreme measures to stay alive after being stranded in the harsh mountain environment for over    │</span><span style=\"color: #808000; text-decoration-color: #808000\"> │</span>\n",
       "<span style=\"color: #808000; text-decoration-color: #808000\">│ </span><span style=\"color: #c0c0c0; text-decoration-color: #c0c0c0\">│ two months. The film is a survival drama that explores the themes of friendship, resilience, and the human  │</span><span style=\"color: #808000; text-decoration-color: #808000\"> │</span>\n",
       "<span style=\"color: #808000; text-decoration-color: #808000\">│ </span><span style=\"color: #c0c0c0; text-decoration-color: #c0c0c0\">│ spirit in the face of adversity.                                                                            │</span><span style=\"color: #808000; text-decoration-color: #808000\"> │</span>\n",
       "<span style=\"color: #808000; text-decoration-color: #808000\">│ </span><span style=\"color: #c0c0c0; text-decoration-color: #c0c0c0\">│                                                                                                             │</span><span style=\"color: #808000; text-decoration-color: #808000\"> │</span>\n",
       "<span style=\"color: #808000; text-decoration-color: #808000\">│ </span><span style=\"color: #c0c0c0; text-decoration-color: #c0c0c0\">│ The film has a Rotten Tomatoes Tomatometer score of 89%, indicating critical acclaim. However, the Rotten   │</span><span style=\"color: #808000; text-decoration-color: #808000\"> │</span>\n",
       "<span style=\"color: #808000; text-decoration-color: #808000\">│ </span><span style=\"color: #c0c0c0; text-decoration-color: #c0c0c0\">│ Tomatoes Popcornmeter score, which reflects audience approval, is not readily available.                    │</span><span style=\"color: #808000; text-decoration-color: #808000\"> │</span>\n",
       "<span style=\"color: #808000; text-decoration-color: #808000\">│ </span><span style=\"color: #c0c0c0; text-decoration-color: #c0c0c0\">╰─────────────────────────────────────────────────────────────────────────────────────────────────────────────╯</span><span style=\"color: #808000; text-decoration-color: #808000\"> │</span>\n",
       "<span style=\"color: #808000; text-decoration-color: #808000\">│ </span><span style=\"color: #c0c0c0; text-decoration-color: #c0c0c0\">╭─</span><span style=\"color: #808000; text-decoration-color: #808000\"> USAGE </span><span style=\"color: #c0c0c0; text-decoration-color: #c0c0c0\">─────────────────────────────────────────────────────────────────────────────────────────────────────╮</span><span style=\"color: #808000; text-decoration-color: #808000\"> │</span>\n",
       "<span style=\"color: #808000; text-decoration-color: #808000\">│ </span><span style=\"color: #c0c0c0; text-decoration-color: #c0c0c0\">│ </span><span style=\"color: #c0c0c0; text-decoration-color: #c0c0c0; font-weight: bold\">{</span><span style=\"color: #c0c0c0; text-decoration-color: #c0c0c0\">                                                                                                           │</span><span style=\"color: #808000; text-decoration-color: #808000\"> │</span>\n",
       "<span style=\"color: #808000; text-decoration-color: #808000\">│ </span><span style=\"color: #c0c0c0; text-decoration-color: #c0c0c0\">│   </span><span style=\"color: #000080; text-decoration-color: #000080; font-weight: bold\">\"input_tokens\"</span><span style=\"color: #c0c0c0; text-decoration-color: #c0c0c0\">: </span><span style=\"color: #008080; text-decoration-color: #008080; font-weight: bold\">962</span><span style=\"color: #c0c0c0; text-decoration-color: #c0c0c0\">,                                                                                      │</span><span style=\"color: #808000; text-decoration-color: #808000\"> │</span>\n",
       "<span style=\"color: #808000; text-decoration-color: #808000\">│ </span><span style=\"color: #c0c0c0; text-decoration-color: #c0c0c0\">│   </span><span style=\"color: #000080; text-decoration-color: #000080; font-weight: bold\">\"output_tokens\"</span><span style=\"color: #c0c0c0; text-decoration-color: #c0c0c0\">: </span><span style=\"color: #008080; text-decoration-color: #008080; font-weight: bold\">147</span><span style=\"color: #c0c0c0; text-decoration-color: #c0c0c0\">,                                                                                     │</span><span style=\"color: #808000; text-decoration-color: #808000\"> │</span>\n",
       "<span style=\"color: #808000; text-decoration-color: #808000\">│ </span><span style=\"color: #c0c0c0; text-decoration-color: #c0c0c0\">│   </span><span style=\"color: #000080; text-decoration-color: #000080; font-weight: bold\">\"input_cost\"</span><span style=\"color: #c0c0c0; text-decoration-color: #c0c0c0\">: </span><span style=\"color: #008080; text-decoration-color: #008080; font-weight: bold\">9.62e-05</span><span style=\"color: #c0c0c0; text-decoration-color: #c0c0c0\">,                                                                                   │</span><span style=\"color: #808000; text-decoration-color: #808000\"> │</span>\n",
       "<span style=\"color: #808000; text-decoration-color: #808000\">│ </span><span style=\"color: #c0c0c0; text-decoration-color: #c0c0c0\">│   </span><span style=\"color: #000080; text-decoration-color: #000080; font-weight: bold\">\"output_cost\"</span><span style=\"color: #c0c0c0; text-decoration-color: #c0c0c0\">: </span><span style=\"color: #008080; text-decoration-color: #008080; font-weight: bold\">4.41e-05</span><span style=\"color: #c0c0c0; text-decoration-color: #c0c0c0\">                                                                                   │</span><span style=\"color: #808000; text-decoration-color: #808000\"> │</span>\n",
       "<span style=\"color: #808000; text-decoration-color: #808000\">│ </span><span style=\"color: #c0c0c0; text-decoration-color: #c0c0c0\">│ </span><span style=\"color: #c0c0c0; text-decoration-color: #c0c0c0; font-weight: bold\">}</span><span style=\"color: #c0c0c0; text-decoration-color: #c0c0c0\">                                                                                                           │</span><span style=\"color: #808000; text-decoration-color: #808000\"> │</span>\n",
       "<span style=\"color: #808000; text-decoration-color: #808000\">│ </span><span style=\"color: #c0c0c0; text-decoration-color: #c0c0c0\">╰─────────────────────────────────────────────────────────────────────────────────────────────────────────────╯</span><span style=\"color: #808000; text-decoration-color: #808000\"> │</span>\n",
       "<span style=\"color: #808000; text-decoration-color: #808000\">╰─────────────────────────────────────────────────────────────────────────────────────────────────────────────────╯</span>\n",
       "</pre>\n"
      ],
      "text/plain": [
       "\u001b[33m╭─\u001b[0m\u001b[33m───────────────────────────────────\u001b[0m CALL_LLM: mistral/mistral-small-latest \u001b[33m────────────────────────────────────\u001b[0m\u001b[33m─╮\u001b[0m\n",
       "\u001b[33m│\u001b[0m\u001b[33m \u001b[0m\u001b[37m╭─\u001b[0m\u001b[33m OUTPUT \u001b[0m\u001b[37m───────────────────────────────────────────────────────────────────────────────────────────────────\u001b[0m\u001b[37m─╮\u001b[0m\u001b[33m \u001b[0m\u001b[33m│\u001b[0m\n",
       "\u001b[33m│\u001b[0m\u001b[33m \u001b[0m\u001b[37m│\u001b[0m\u001b[37m \u001b[0m\u001b[37mThe film that won the Goya Award for Best Film in 2024 is \"The Society of the Snow\" (Spanish: La sociedad  \u001b[0m\u001b[37m \u001b[0m\u001b[37m│\u001b[0m\u001b[33m \u001b[0m\u001b[33m│\u001b[0m\n",
       "\u001b[33m│\u001b[0m\u001b[33m \u001b[0m\u001b[37m│\u001b[0m\u001b[37m \u001b[0m\u001b[37mde la nieve).                                                                                              \u001b[0m\u001b[37m \u001b[0m\u001b[37m│\u001b[0m\u001b[33m \u001b[0m\u001b[33m│\u001b[0m\n",
       "\u001b[33m│\u001b[0m\u001b[33m \u001b[0m\u001b[37m│\u001b[0m\u001b[37m \u001b[0m\u001b[37m                                                                                                           \u001b[0m\u001b[37m \u001b[0m\u001b[37m│\u001b[0m\u001b[33m \u001b[0m\u001b[33m│\u001b[0m\n",
       "\u001b[33m│\u001b[0m\u001b[33m \u001b[0m\u001b[37m│\u001b[0m\u001b[37m \u001b[0m\u001b[37mThe film is based on the true story of the survivors of the 1972 Andes flight disaster, who were forced to \u001b[0m\u001b[37m \u001b[0m\u001b[37m│\u001b[0m\u001b[33m \u001b[0m\u001b[33m│\u001b[0m\n",
       "\u001b[33m│\u001b[0m\u001b[33m \u001b[0m\u001b[37m│\u001b[0m\u001b[37m \u001b[0m\u001b[37mresort to extreme measures to stay alive after being stranded in the harsh mountain environment for over   \u001b[0m\u001b[37m \u001b[0m\u001b[37m│\u001b[0m\u001b[33m \u001b[0m\u001b[33m│\u001b[0m\n",
       "\u001b[33m│\u001b[0m\u001b[33m \u001b[0m\u001b[37m│\u001b[0m\u001b[37m \u001b[0m\u001b[37mtwo months. The film is a survival drama that explores the themes of friendship, resilience, and the human \u001b[0m\u001b[37m \u001b[0m\u001b[37m│\u001b[0m\u001b[33m \u001b[0m\u001b[33m│\u001b[0m\n",
       "\u001b[33m│\u001b[0m\u001b[33m \u001b[0m\u001b[37m│\u001b[0m\u001b[37m \u001b[0m\u001b[37mspirit in the face of adversity.                                                                           \u001b[0m\u001b[37m \u001b[0m\u001b[37m│\u001b[0m\u001b[33m \u001b[0m\u001b[33m│\u001b[0m\n",
       "\u001b[33m│\u001b[0m\u001b[33m \u001b[0m\u001b[37m│\u001b[0m\u001b[37m \u001b[0m\u001b[37m                                                                                                           \u001b[0m\u001b[37m \u001b[0m\u001b[37m│\u001b[0m\u001b[33m \u001b[0m\u001b[33m│\u001b[0m\n",
       "\u001b[33m│\u001b[0m\u001b[33m \u001b[0m\u001b[37m│\u001b[0m\u001b[37m \u001b[0m\u001b[37mThe film has a Rotten Tomatoes Tomatometer score of 89%, indicating critical acclaim. However, the Rotten  \u001b[0m\u001b[37m \u001b[0m\u001b[37m│\u001b[0m\u001b[33m \u001b[0m\u001b[33m│\u001b[0m\n",
       "\u001b[33m│\u001b[0m\u001b[33m \u001b[0m\u001b[37m│\u001b[0m\u001b[37m \u001b[0m\u001b[37mTomatoes Popcornmeter score, which reflects audience approval, is not readily available.                   \u001b[0m\u001b[37m \u001b[0m\u001b[37m│\u001b[0m\u001b[33m \u001b[0m\u001b[33m│\u001b[0m\n",
       "\u001b[33m│\u001b[0m\u001b[33m \u001b[0m\u001b[37m╰─────────────────────────────────────────────────────────────────────────────────────────────────────────────╯\u001b[0m\u001b[33m \u001b[0m\u001b[33m│\u001b[0m\n",
       "\u001b[33m│\u001b[0m\u001b[33m \u001b[0m\u001b[37m╭─\u001b[0m\u001b[33m USAGE \u001b[0m\u001b[37m────────────────────────────────────────────────────────────────────────────────────────────────────\u001b[0m\u001b[37m─╮\u001b[0m\u001b[33m \u001b[0m\u001b[33m│\u001b[0m\n",
       "\u001b[33m│\u001b[0m\u001b[33m \u001b[0m\u001b[37m│\u001b[0m\u001b[37m \u001b[0m\u001b[1;37m{\u001b[0m\u001b[37m                                                                                                          \u001b[0m\u001b[37m \u001b[0m\u001b[37m│\u001b[0m\u001b[33m \u001b[0m\u001b[33m│\u001b[0m\n",
       "\u001b[33m│\u001b[0m\u001b[33m \u001b[0m\u001b[37m│\u001b[0m\u001b[37m \u001b[0m\u001b[37m  \u001b[0m\u001b[1;34m\"input_tokens\"\u001b[0m\u001b[37m: \u001b[0m\u001b[1;36m962\u001b[0m\u001b[37m,\u001b[0m\u001b[37m                                                                                     \u001b[0m\u001b[37m \u001b[0m\u001b[37m│\u001b[0m\u001b[33m \u001b[0m\u001b[33m│\u001b[0m\n",
       "\u001b[33m│\u001b[0m\u001b[33m \u001b[0m\u001b[37m│\u001b[0m\u001b[37m \u001b[0m\u001b[37m  \u001b[0m\u001b[1;34m\"output_tokens\"\u001b[0m\u001b[37m: \u001b[0m\u001b[1;36m147\u001b[0m\u001b[37m,\u001b[0m\u001b[37m                                                                                    \u001b[0m\u001b[37m \u001b[0m\u001b[37m│\u001b[0m\u001b[33m \u001b[0m\u001b[33m│\u001b[0m\n",
       "\u001b[33m│\u001b[0m\u001b[33m \u001b[0m\u001b[37m│\u001b[0m\u001b[37m \u001b[0m\u001b[37m  \u001b[0m\u001b[1;34m\"input_cost\"\u001b[0m\u001b[37m: \u001b[0m\u001b[1;36m9.62e-05\u001b[0m\u001b[37m,\u001b[0m\u001b[37m                                                                                  \u001b[0m\u001b[37m \u001b[0m\u001b[37m│\u001b[0m\u001b[33m \u001b[0m\u001b[33m│\u001b[0m\n",
       "\u001b[33m│\u001b[0m\u001b[33m \u001b[0m\u001b[37m│\u001b[0m\u001b[37m \u001b[0m\u001b[37m  \u001b[0m\u001b[1;34m\"output_cost\"\u001b[0m\u001b[37m: \u001b[0m\u001b[1;36m4.41e-05\u001b[0m\u001b[37m                                                                                  \u001b[0m\u001b[37m \u001b[0m\u001b[37m│\u001b[0m\u001b[33m \u001b[0m\u001b[33m│\u001b[0m\n",
       "\u001b[33m│\u001b[0m\u001b[33m \u001b[0m\u001b[37m│\u001b[0m\u001b[37m \u001b[0m\u001b[1;37m}\u001b[0m\u001b[37m                                                                                                          \u001b[0m\u001b[37m \u001b[0m\u001b[37m│\u001b[0m\u001b[33m \u001b[0m\u001b[33m│\u001b[0m\n",
       "\u001b[33m│\u001b[0m\u001b[33m \u001b[0m\u001b[37m╰─────────────────────────────────────────────────────────────────────────────────────────────────────────────╯\u001b[0m\u001b[33m \u001b[0m\u001b[33m│\u001b[0m\n",
       "\u001b[33m╰─────────────────────────────────────────────────────────────────────────────────────────────────────────────────╯\u001b[0m\n"
      ]
     },
     "metadata": {},
     "output_type": "display_data"
    }
   ],
   "source": [
    "prompt = \"\"\"What film won a Goya Award for best film in 2024?\n",
    "Please provide the name of the film, the genre, a very brief\n",
    "description of the film - and rotten tomatoes popcornmeter\n",
    "score.\"\"\"\n",
    "\n",
    "agent_trace = agent.run(prompt)"
   ]
  },
  {
   "cell_type": "markdown",
   "metadata": {},
   "source": [
    "## View the Agent Results\n",
    "\n",
    "Let's first see what our agent produced:\n"
   ]
  },
  {
   "cell_type": "code",
   "execution_count": 5,
   "metadata": {},
   "outputs": [
    {
     "name": "stdout",
     "output_type": "stream",
     "text": [
      "The film that won the Goya Award for Best Film in 2024 is \"The Society of the Snow\" (Spanish: La sociedad de la nieve).\n",
      "\n",
      "The film is based on the true story of the survivors of the 1972 Andes flight disaster, who were forced to resort to extreme measures to stay alive after being stranded in the harsh mountain environment for over two months. The film is a survival drama that explores the themes of friendship, resilience, and the human spirit in the face of adversity.\n",
      "\n",
      "The film has a Rotten Tomatoes Tomatometer score of 89%, indicating critical acclaim. However, the Rotten Tomatoes Popcornmeter score, which reflects audience approval, is not readily available.\n",
      "Duration: 21.29 seconds\n",
      "Usage: 1,631\n",
      "Cost (USD): 0.000197\n"
     ]
    }
   ],
   "source": [
    "print(agent_trace.final_output)  # Final answer\n",
    "print(f\"Duration: {agent_trace.duration.total_seconds():.2f} seconds\")\n",
    "print(f\"Usage: {agent_trace.tokens.total_tokens:,}\")\n",
    "print(f\"Cost (USD): {agent_trace.cost.total_cost:.6f}\")"
   ]
  },
  {
   "cell_type": "markdown",
   "metadata": {},
   "source": [
    "## Method 1: Custom Code Evaluation\n",
    "\n",
    "Before using LLM-based evaluation, let's start with deterministic custom code evaluation. This is often more efficient, reliable, and cost-effective for specific criteria.\n",
    "\n",
    "Some criteria are clearly quantitative: a result exists or it doesn't, it has a measurable length, the number of steps can be counted and a tool was either called or wasn't."
   ]
  },
  {
   "cell_type": "code",
   "execution_count": 6,
   "metadata": {},
   "outputs": [],
   "source": [
    "from any_agent.tracing.agent_trace import AgentTrace\n",
    "\n",
    "\n",
    "def evaluate_web_search_efficiency(trace: AgentTrace) -> dict:\n",
    "    \"\"\"Custom evaluation function for web search agent efficiency criteria.\"\"\"\n",
    "    # Direct access to trace properties\n",
    "    token_count = trace.tokens.total_tokens\n",
    "    step_count = len(trace.spans)\n",
    "    final_output = trace.final_output\n",
    "    duration = trace.duration.total_seconds()\n",
    "    # Check if web search tools were used\n",
    "    messages = trace.spans_to_messages()\n",
    "    used_search = any(\n",
    "        message.role == \"assistant\" and \"search_tavily\" in str(message.content)\n",
    "        for message in messages\n",
    "    )\n",
    "    used_visit = any(\n",
    "        message.role == \"assistant\" and \"visit_webpage\" in str(message.content)\n",
    "        for message in messages\n",
    "    )\n",
    "    # Apply quantitative criteria\n",
    "    results = {\n",
    "        \"token_efficient\": token_count\n",
    "        < 20000,  # Magic number alert: adjust to what you consider reasonable for your budget\n",
    "        \"step_efficient\": step_count\n",
    "        <= 10,  # A high number of steps would point at problems, but this is also a debatable limit\n",
    "        \"has_output\": final_output is not None and len(str(final_output)) > 5,\n",
    "        \"short_output\": len(str(final_output)) < 10 if final_output else 0,\n",
    "        \"used_web_search\": used_search,\n",
    "        \"used_webpage_visit\": used_visit,\n",
    "        \"reasonable_duration\": duration < 60,\n",
    "    }\n",
    "    # Choose the quantitative criteria you care most about\n",
    "    results[\"passed\"] = all(\n",
    "        [\n",
    "            results[\"token_efficient\"],\n",
    "            results[\"step_efficient\"],\n",
    "            results[\"has_output\"],\n",
    "            results[\"used_web_search\"],\n",
    "            results[\"short_output\"],\n",
    "        ]\n",
    "    )\n",
    "    return results"
   ]
  },
  {
   "cell_type": "code",
   "execution_count": 7,
   "metadata": {},
   "outputs": [
    {
     "name": "stdout",
     "output_type": "stream",
     "text": [
      "Custom Code Evaluation Results:\n",
      "  token_efficient: True\n",
      "  step_efficient: True\n",
      "  has_output: True\n",
      "  short_output: False\n",
      "  used_web_search: True\n",
      "  used_webpage_visit: False\n",
      "  reasonable_duration: True\n",
      "  passed: False\n"
     ]
    }
   ],
   "source": [
    "evaluation = evaluate_web_search_efficiency(agent_trace)\n",
    "print(\"Custom Code Evaluation Results:\")\n",
    "for key, value in evaluation.items():\n",
    "    print(f\"  {key}: {value}\")"
   ]
  },
  {
   "cell_type": "markdown",
   "metadata": {},
   "source": [
    "## Method 2: LLM Judge Evaluation\n",
    "\n",
    "The method above is already useful and can assess quantitative results (how long or how costly answers were, whether a specific tool was present). Programmatic evaluations are less costly, more deterministic, but also less flexible. They can see that a tool was used: but was the result well understood? Was the content actually used to extract an answer? This is a qualitative assessment.\n",
    "\n",
    "For such criteria, you can use the `LlmJudge`. This is great for evaluating response quality, helpfulness, and other subjective criteria."
   ]
  },
  {
   "cell_type": "markdown",
   "metadata": {},
   "source": [
    "### 💡 Good to know: different models\n",
    "\n",
    "Notice we use a different LLM as a judge to the one we used for the original agent, as LLM judges are known to have a [bias towards their own results](https://neurips.cc/virtual/2024/poster/96672)."
   ]
  },
  {
   "cell_type": "code",
   "execution_count": 8,
   "metadata": {},
   "outputs": [
    {
     "name": "stdout",
     "output_type": "stream",
     "text": [
      "LLM Judge Evaluation Results:\n",
      "============================================================\n",
      "Question 1: Did the agent provide a clear and concise answer?\n",
      "  Passed: True\n",
      "  Reasoning: The agent clearly identified the film that won the Goya Award for Best Film in 2024 as \"The Society of the Snow\" and provided the genre (survival drama) along with a very brief description of the film's plot and themes. Additionally, the agent provided the Rotten Tomatoes Tomatometer score (89%) and explained that the Popcornmeter score was not readily available. The response was direct, informative, and concise, adequately addressing all parts of the user's query except for the unavailable Popcornmeter score, which was explicitly mentioned as such.\n",
      "------------------------------------------------------------\n",
      "Question 2: Did the agent correctly identify the genre?\n",
      "  Passed: True\n",
      "  Reasoning: The agent identified the film 'The Society of the Snow' as a survival drama, which is an accurate genre for a film about the survivors of a plane crash in the Andes who endure extreme conditions. This matches the context provided, which describes the film as a survival drama exploring themes like resilience and the human spirit, consistent with the genre. Therefore, the agent correctly identified the genre.\n",
      "------------------------------------------------------------\n",
      "Question 3: Did the agent provide a brief description (under 10 words) of the film?\n",
      "  Passed: False\n",
      "  Reasoning: The agent provided a detailed description of the film, specifically stating it is about the survivors of the 1972 Andes flight disaster and themes of friendship, resilience, and the human spirit, but this description is longer than 10 words. Therefore, the agent did not comply with the requirement of providing a very brief description under 10 words.\n",
      "------------------------------------------------------------\n",
      "\n",
      "Overall: 2/3 criteria passed\n"
     ]
    }
   ],
   "source": [
    "from any_agent.evaluation import LlmJudge\n",
    "\n",
    "# Create an LLM judge\n",
    "judge = LlmJudge(model_id=\"gpt-4.1-mini\")\n",
    "\n",
    "# Define evaluation questions - notice the last one is not like the others\n",
    "evaluation_questions = [\n",
    "    \"Did the agent provide a clear and concise answer?\",\n",
    "    \"Did the agent correctly identify the genre?\",\n",
    "    \"Did the agent provide a brief description (under 10 words) of the film?\",\n",
    "]\n",
    "\n",
    "# Run evaluations\n",
    "print(\"LLM Judge Evaluation Results:\")\n",
    "print(\"=\" * 60)\n",
    "\n",
    "results = []\n",
    "for i, question in enumerate(evaluation_questions, 1):\n",
    "    result = judge.run(context=str(agent_trace.spans_to_messages()), question=question)\n",
    "    results.append(result)\n",
    "    print(f\"Question {i}: {question}\")\n",
    "    print(f\"  Passed: {result.passed}\")\n",
    "    print(f\"  Reasoning: {result.reasoning}\")\n",
    "    print(\"-\" * 60)\n",
    "\n",
    "# Summary\n",
    "passed_count = sum(1 for r in results if r.passed)\n",
    "print(f\"\\nOverall: {passed_count}/{len(results)} criteria passed\")"
   ]
  },
  {
   "cell_type": "markdown",
   "metadata": {},
   "source": [
    "### 💡 Good to know: fuzzy criteria \n",
    "\n",
    "Notice Question 3: if you run the evaluation multiple times, it won't pass or fail consistently, since the LLM judge may interpret that only the description should be under 10 words, not necessarily the whole Agent's answer. In the programmatic method, there is nothing to interpret: we check that the final output was under 10 words. \n",
    "\n",
    "This showcases the main downside with using an LLM judge: as with humans, criteria can be misunderstood. \n",
    "\n",
    "On the other hand, using a programmatic approach to assess clarity, for example, would have been rather complex without an LLM judge.\n",
    "\n",
    "A take-home message here is to use custom code when criteria can be counted or measured, and think of using an LLMJudge when your criteria are qualitative."
   ]
  },
  {
   "cell_type": "markdown",
   "metadata": {},
   "source": [
    "## Method 3: Agent Judge Evaluation\n",
    "\n",
    "For more complex evaluations that require inspecting specific aspects of the trace, we can use the `AgentJudge`. Notice the AgentJudge can:\n",
    "\n",
    "* call built-in tools to get straight to relevant parts of the traces (e.g. final output),\n",
    "* call additional tools that the original agent did not have. For example, you will see below how we give it a second search tool so it can do its own research to check if the original agent's answer was correct.\n",
    "\n",
    "As with the LLMJudge, we choose a different model to the one enabling the original judge."
   ]
  },
  {
   "cell_type": "markdown",
   "metadata": {},
   "source": [
    "Notice, if you do not have a [Tavily API key](https://www.tavily.com/), you can import and use `search_web` (Duck Duck Go Search)."
   ]
  },
  {
   "cell_type": "code",
   "execution_count": 9,
   "metadata": {},
   "outputs": [
    {
     "data": {
      "text/html": [
       "<pre style=\"white-space:pre;overflow-x:auto;line-height:normal;font-family:Menlo,'DejaVu Sans Mono',consolas,'Courier New',monospace\"><span style=\"color: #808000; text-decoration-color: #808000\">╭────────────────────────────────────────────</span> CALL_LLM: gpt-4.1-mini <span style=\"color: #808000; text-decoration-color: #808000\">─────────────────────────────────────────────╮</span>\n",
       "<span style=\"color: #808000; text-decoration-color: #808000\">│ </span><span style=\"color: #c0c0c0; text-decoration-color: #c0c0c0\">╭─</span><span style=\"color: #808000; text-decoration-color: #808000\"> INPUT </span><span style=\"color: #c0c0c0; text-decoration-color: #c0c0c0\">─────────────────────────────────────────────────────────────────────────────────────────────────────╮</span><span style=\"color: #808000; text-decoration-color: #808000\"> │</span>\n",
       "<span style=\"color: #808000; text-decoration-color: #808000\">│ </span><span style=\"color: #c0c0c0; text-decoration-color: #c0c0c0\">│ </span><span style=\"color: #c0c0c0; text-decoration-color: #c0c0c0; font-weight: bold\">[</span><span style=\"color: #c0c0c0; text-decoration-color: #c0c0c0\">                                                                                                           │</span><span style=\"color: #808000; text-decoration-color: #808000\"> │</span>\n",
       "<span style=\"color: #808000; text-decoration-color: #808000\">│ </span><span style=\"color: #c0c0c0; text-decoration-color: #c0c0c0\">│   </span><span style=\"color: #c0c0c0; text-decoration-color: #c0c0c0; font-weight: bold\">{</span><span style=\"color: #c0c0c0; text-decoration-color: #c0c0c0\">                                                                                                         │</span><span style=\"color: #808000; text-decoration-color: #808000\"> │</span>\n",
       "<span style=\"color: #808000; text-decoration-color: #808000\">│ </span><span style=\"color: #c0c0c0; text-decoration-color: #c0c0c0\">│     </span><span style=\"color: #000080; text-decoration-color: #000080; font-weight: bold\">\"role\"</span><span style=\"color: #c0c0c0; text-decoration-color: #c0c0c0\">: </span><span style=\"color: #008000; text-decoration-color: #008000\">\"system\"</span><span style=\"color: #c0c0c0; text-decoration-color: #c0c0c0\">,                                                                                       │</span><span style=\"color: #808000; text-decoration-color: #808000\"> │</span>\n",
       "<span style=\"color: #808000; text-decoration-color: #808000\">│ </span><span style=\"color: #c0c0c0; text-decoration-color: #c0c0c0\">│     </span><span style=\"color: #000080; text-decoration-color: #000080; font-weight: bold\">\"content\"</span><span style=\"color: #c0c0c0; text-decoration-color: #c0c0c0\">: </span><span style=\"color: #008000; text-decoration-color: #008000\">\"You are a helpful assistant that will be used to evaluate the correctness of an agent trace</span><span style=\"color: #c0c0c0; text-decoration-color: #c0c0c0\"> │</span><span style=\"color: #808000; text-decoration-color: #808000\"> │</span>\n",
       "<span style=\"color: #808000; text-decoration-color: #808000\">│ </span><span style=\"color: #c0c0c0; text-decoration-color: #c0c0c0\">│   </span><span style=\"color: #c0c0c0; text-decoration-color: #c0c0c0; font-weight: bold\">}</span><span style=\"color: #c0c0c0; text-decoration-color: #c0c0c0\">,                                                                                                        │</span><span style=\"color: #808000; text-decoration-color: #808000\"> │</span>\n",
       "<span style=\"color: #808000; text-decoration-color: #808000\">│ </span><span style=\"color: #c0c0c0; text-decoration-color: #c0c0c0\">│   </span><span style=\"color: #c0c0c0; text-decoration-color: #c0c0c0; font-weight: bold\">{</span><span style=\"color: #c0c0c0; text-decoration-color: #c0c0c0\">                                                                                                         │</span><span style=\"color: #808000; text-decoration-color: #808000\"> │</span>\n",
       "<span style=\"color: #808000; text-decoration-color: #808000\">│ </span><span style=\"color: #c0c0c0; text-decoration-color: #c0c0c0\">│     </span><span style=\"color: #000080; text-decoration-color: #000080; font-weight: bold\">\"role\"</span><span style=\"color: #c0c0c0; text-decoration-color: #c0c0c0\">: </span><span style=\"color: #008000; text-decoration-color: #008000\">\"user\"</span><span style=\"color: #c0c0c0; text-decoration-color: #c0c0c0\">,                                                                                         │</span><span style=\"color: #808000; text-decoration-color: #808000\"> │</span>\n",
       "<span style=\"color: #808000; text-decoration-color: #808000\">│ </span><span style=\"color: #c0c0c0; text-decoration-color: #c0c0c0\">│     </span><span style=\"color: #000080; text-decoration-color: #000080; font-weight: bold\">\"content\"</span><span style=\"color: #c0c0c0; text-decoration-color: #c0c0c0\">: </span><span style=\"color: #008000; text-decoration-color: #008000\">\"\\nEvaluate the agent's performance on this web search task by verifying\\nwhether the agent </span><span style=\"color: #c0c0c0; text-decoration-color: #c0c0c0\"> │</span><span style=\"color: #808000; text-decoration-color: #808000\"> │</span>\n",
       "<span style=\"color: #808000; text-decoration-color: #808000\">│ </span><span style=\"color: #c0c0c0; text-decoration-color: #c0c0c0\">│   </span><span style=\"color: #c0c0c0; text-decoration-color: #c0c0c0; font-weight: bold\">}</span><span style=\"color: #c0c0c0; text-decoration-color: #c0c0c0\">                                                                                                         │</span><span style=\"color: #808000; text-decoration-color: #808000\"> │</span>\n",
       "<span style=\"color: #808000; text-decoration-color: #808000\">│ </span><span style=\"color: #c0c0c0; text-decoration-color: #c0c0c0\">│ </span><span style=\"color: #c0c0c0; text-decoration-color: #c0c0c0; font-weight: bold\">]</span><span style=\"color: #c0c0c0; text-decoration-color: #c0c0c0\">                                                                                                           │</span><span style=\"color: #808000; text-decoration-color: #808000\"> │</span>\n",
       "<span style=\"color: #808000; text-decoration-color: #808000\">│ </span><span style=\"color: #c0c0c0; text-decoration-color: #c0c0c0\">╰─────────────────────────────────────────────────────────────────────────────────────────────────────────────╯</span><span style=\"color: #808000; text-decoration-color: #808000\"> │</span>\n",
       "<span style=\"color: #808000; text-decoration-color: #808000\">│ </span><span style=\"color: #c0c0c0; text-decoration-color: #c0c0c0\">╭─</span><span style=\"color: #808000; text-decoration-color: #808000\"> OUTPUT </span><span style=\"color: #c0c0c0; text-decoration-color: #c0c0c0\">────────────────────────────────────────────────────────────────────────────────────────────────────╮</span><span style=\"color: #808000; text-decoration-color: #808000\"> │</span>\n",
       "<span style=\"color: #808000; text-decoration-color: #808000\">│ </span><span style=\"color: #c0c0c0; text-decoration-color: #c0c0c0\">│ </span><span style=\"color: #c0c0c0; text-decoration-color: #c0c0c0; font-weight: bold\">[</span><span style=\"color: #c0c0c0; text-decoration-color: #c0c0c0\">                                                                                                           │</span><span style=\"color: #808000; text-decoration-color: #808000\"> │</span>\n",
       "<span style=\"color: #808000; text-decoration-color: #808000\">│ </span><span style=\"color: #c0c0c0; text-decoration-color: #c0c0c0\">│   </span><span style=\"color: #c0c0c0; text-decoration-color: #c0c0c0; font-weight: bold\">{</span><span style=\"color: #c0c0c0; text-decoration-color: #c0c0c0\">                                                                                                         │</span><span style=\"color: #808000; text-decoration-color: #808000\"> │</span>\n",
       "<span style=\"color: #808000; text-decoration-color: #808000\">│ </span><span style=\"color: #c0c0c0; text-decoration-color: #c0c0c0\">│     </span><span style=\"color: #000080; text-decoration-color: #000080; font-weight: bold\">\"tool.name\"</span><span style=\"color: #c0c0c0; text-decoration-color: #c0c0c0\">: </span><span style=\"color: #008000; text-decoration-color: #008000\">\"get_final_output\"</span><span style=\"color: #c0c0c0; text-decoration-color: #c0c0c0\">,                                                                        │</span><span style=\"color: #808000; text-decoration-color: #808000\"> │</span>\n",
       "<span style=\"color: #808000; text-decoration-color: #808000\">│ </span><span style=\"color: #c0c0c0; text-decoration-color: #c0c0c0\">│     </span><span style=\"color: #000080; text-decoration-color: #000080; font-weight: bold\">\"tool.args\"</span><span style=\"color: #c0c0c0; text-decoration-color: #c0c0c0\">: </span><span style=\"color: #008000; text-decoration-color: #008000\">\"{}\"</span><span style=\"color: #c0c0c0; text-decoration-color: #c0c0c0\">                                                                                       │</span><span style=\"color: #808000; text-decoration-color: #808000\"> │</span>\n",
       "<span style=\"color: #808000; text-decoration-color: #808000\">│ </span><span style=\"color: #c0c0c0; text-decoration-color: #c0c0c0\">│   </span><span style=\"color: #c0c0c0; text-decoration-color: #c0c0c0; font-weight: bold\">}</span><span style=\"color: #c0c0c0; text-decoration-color: #c0c0c0\">,                                                                                                        │</span><span style=\"color: #808000; text-decoration-color: #808000\"> │</span>\n",
       "<span style=\"color: #808000; text-decoration-color: #808000\">│ </span><span style=\"color: #c0c0c0; text-decoration-color: #c0c0c0\">│   </span><span style=\"color: #c0c0c0; text-decoration-color: #c0c0c0; font-weight: bold\">{</span><span style=\"color: #c0c0c0; text-decoration-color: #c0c0c0\">                                                                                                         │</span><span style=\"color: #808000; text-decoration-color: #808000\"> │</span>\n",
       "<span style=\"color: #808000; text-decoration-color: #808000\">│ </span><span style=\"color: #c0c0c0; text-decoration-color: #c0c0c0\">│     </span><span style=\"color: #000080; text-decoration-color: #000080; font-weight: bold\">\"tool.name\"</span><span style=\"color: #c0c0c0; text-decoration-color: #c0c0c0\">: </span><span style=\"color: #008000; text-decoration-color: #008000\">\"get_messages_from_trace\"</span><span style=\"color: #c0c0c0; text-decoration-color: #c0c0c0\">,                                                                 │</span><span style=\"color: #808000; text-decoration-color: #808000\"> │</span>\n",
       "<span style=\"color: #808000; text-decoration-color: #808000\">│ </span><span style=\"color: #c0c0c0; text-decoration-color: #c0c0c0\">│     </span><span style=\"color: #000080; text-decoration-color: #000080; font-weight: bold\">\"tool.args\"</span><span style=\"color: #c0c0c0; text-decoration-color: #c0c0c0\">: </span><span style=\"color: #008000; text-decoration-color: #008000\">\"{}\"</span><span style=\"color: #c0c0c0; text-decoration-color: #c0c0c0\">                                                                                       │</span><span style=\"color: #808000; text-decoration-color: #808000\"> │</span>\n",
       "<span style=\"color: #808000; text-decoration-color: #808000\">│ </span><span style=\"color: #c0c0c0; text-decoration-color: #c0c0c0\">│   </span><span style=\"color: #c0c0c0; text-decoration-color: #c0c0c0; font-weight: bold\">}</span><span style=\"color: #c0c0c0; text-decoration-color: #c0c0c0\">                                                                                                         │</span><span style=\"color: #808000; text-decoration-color: #808000\"> │</span>\n",
       "<span style=\"color: #808000; text-decoration-color: #808000\">│ </span><span style=\"color: #c0c0c0; text-decoration-color: #c0c0c0\">│ </span><span style=\"color: #c0c0c0; text-decoration-color: #c0c0c0; font-weight: bold\">]</span><span style=\"color: #c0c0c0; text-decoration-color: #c0c0c0\">                                                                                                           │</span><span style=\"color: #808000; text-decoration-color: #808000\"> │</span>\n",
       "<span style=\"color: #808000; text-decoration-color: #808000\">│ </span><span style=\"color: #c0c0c0; text-decoration-color: #c0c0c0\">╰─────────────────────────────────────────────────────────────────────────────────────────────────────────────╯</span><span style=\"color: #808000; text-decoration-color: #808000\"> │</span>\n",
       "<span style=\"color: #808000; text-decoration-color: #808000\">│ </span><span style=\"color: #c0c0c0; text-decoration-color: #c0c0c0\">╭─</span><span style=\"color: #808000; text-decoration-color: #808000\"> USAGE </span><span style=\"color: #c0c0c0; text-decoration-color: #c0c0c0\">─────────────────────────────────────────────────────────────────────────────────────────────────────╮</span><span style=\"color: #808000; text-decoration-color: #808000\"> │</span>\n",
       "<span style=\"color: #808000; text-decoration-color: #808000\">│ </span><span style=\"color: #c0c0c0; text-decoration-color: #c0c0c0\">│ </span><span style=\"color: #c0c0c0; text-decoration-color: #c0c0c0; font-weight: bold\">{</span><span style=\"color: #c0c0c0; text-decoration-color: #c0c0c0\">                                                                                                           │</span><span style=\"color: #808000; text-decoration-color: #808000\"> │</span>\n",
       "<span style=\"color: #808000; text-decoration-color: #808000\">│ </span><span style=\"color: #c0c0c0; text-decoration-color: #c0c0c0\">│   </span><span style=\"color: #000080; text-decoration-color: #000080; font-weight: bold\">\"input_tokens\"</span><span style=\"color: #c0c0c0; text-decoration-color: #c0c0c0\">: </span><span style=\"color: #008080; text-decoration-color: #008080; font-weight: bold\">554</span><span style=\"color: #c0c0c0; text-decoration-color: #c0c0c0\">,                                                                                      │</span><span style=\"color: #808000; text-decoration-color: #808000\"> │</span>\n",
       "<span style=\"color: #808000; text-decoration-color: #808000\">│ </span><span style=\"color: #c0c0c0; text-decoration-color: #c0c0c0\">│   </span><span style=\"color: #000080; text-decoration-color: #000080; font-weight: bold\">\"output_tokens\"</span><span style=\"color: #c0c0c0; text-decoration-color: #c0c0c0\">: </span><span style=\"color: #008080; text-decoration-color: #008080; font-weight: bold\">42</span><span style=\"color: #c0c0c0; text-decoration-color: #c0c0c0\">,                                                                                      │</span><span style=\"color: #808000; text-decoration-color: #808000\"> │</span>\n",
       "<span style=\"color: #808000; text-decoration-color: #808000\">│ </span><span style=\"color: #c0c0c0; text-decoration-color: #c0c0c0\">│   </span><span style=\"color: #000080; text-decoration-color: #000080; font-weight: bold\">\"input_cost\"</span><span style=\"color: #c0c0c0; text-decoration-color: #c0c0c0\">: </span><span style=\"color: #008080; text-decoration-color: #008080; font-weight: bold\">0.0002216</span><span style=\"color: #c0c0c0; text-decoration-color: #c0c0c0\">,                                                                                  │</span><span style=\"color: #808000; text-decoration-color: #808000\"> │</span>\n",
       "<span style=\"color: #808000; text-decoration-color: #808000\">│ </span><span style=\"color: #c0c0c0; text-decoration-color: #c0c0c0\">│   </span><span style=\"color: #000080; text-decoration-color: #000080; font-weight: bold\">\"output_cost\"</span><span style=\"color: #c0c0c0; text-decoration-color: #c0c0c0\">: </span><span style=\"color: #008080; text-decoration-color: #008080; font-weight: bold\">6.72e-05</span><span style=\"color: #c0c0c0; text-decoration-color: #c0c0c0\">                                                                                   │</span><span style=\"color: #808000; text-decoration-color: #808000\"> │</span>\n",
       "<span style=\"color: #808000; text-decoration-color: #808000\">│ </span><span style=\"color: #c0c0c0; text-decoration-color: #c0c0c0\">│ </span><span style=\"color: #c0c0c0; text-decoration-color: #c0c0c0; font-weight: bold\">}</span><span style=\"color: #c0c0c0; text-decoration-color: #c0c0c0\">                                                                                                           │</span><span style=\"color: #808000; text-decoration-color: #808000\"> │</span>\n",
       "<span style=\"color: #808000; text-decoration-color: #808000\">│ </span><span style=\"color: #c0c0c0; text-decoration-color: #c0c0c0\">╰─────────────────────────────────────────────────────────────────────────────────────────────────────────────╯</span><span style=\"color: #808000; text-decoration-color: #808000\"> │</span>\n",
       "<span style=\"color: #808000; text-decoration-color: #808000\">╰─────────────────────────────────────────────────────────────────────────────────────────────────────────────────╯</span>\n",
       "</pre>\n"
      ],
      "text/plain": [
       "\u001b[33m╭─\u001b[0m\u001b[33m───────────────────────────────────────────\u001b[0m CALL_LLM: gpt-4.1-mini \u001b[33m────────────────────────────────────────────\u001b[0m\u001b[33m─╮\u001b[0m\n",
       "\u001b[33m│\u001b[0m\u001b[33m \u001b[0m\u001b[37m╭─\u001b[0m\u001b[33m INPUT \u001b[0m\u001b[37m────────────────────────────────────────────────────────────────────────────────────────────────────\u001b[0m\u001b[37m─╮\u001b[0m\u001b[33m \u001b[0m\u001b[33m│\u001b[0m\n",
       "\u001b[33m│\u001b[0m\u001b[33m \u001b[0m\u001b[37m│\u001b[0m\u001b[37m \u001b[0m\u001b[1;37m[\u001b[0m\u001b[37m                                                                                                          \u001b[0m\u001b[37m \u001b[0m\u001b[37m│\u001b[0m\u001b[33m \u001b[0m\u001b[33m│\u001b[0m\n",
       "\u001b[33m│\u001b[0m\u001b[33m \u001b[0m\u001b[37m│\u001b[0m\u001b[37m \u001b[0m\u001b[37m  \u001b[0m\u001b[1;37m{\u001b[0m\u001b[37m                                                                                                        \u001b[0m\u001b[37m \u001b[0m\u001b[37m│\u001b[0m\u001b[33m \u001b[0m\u001b[33m│\u001b[0m\n",
       "\u001b[33m│\u001b[0m\u001b[33m \u001b[0m\u001b[37m│\u001b[0m\u001b[37m \u001b[0m\u001b[37m    \u001b[0m\u001b[1;34m\"role\"\u001b[0m\u001b[37m: \u001b[0m\u001b[32m\"system\"\u001b[0m\u001b[37m,\u001b[0m\u001b[37m                                                                                      \u001b[0m\u001b[37m \u001b[0m\u001b[37m│\u001b[0m\u001b[33m \u001b[0m\u001b[33m│\u001b[0m\n",
       "\u001b[33m│\u001b[0m\u001b[33m \u001b[0m\u001b[37m│\u001b[0m\u001b[37m \u001b[0m\u001b[37m    \u001b[0m\u001b[1;34m\"content\"\u001b[0m\u001b[37m: \u001b[0m\u001b[32m\"You are a helpful assistant that will be used to evaluate the correctness of an agent trace\u001b[0m\u001b[37m \u001b[0m\u001b[37m│\u001b[0m\u001b[33m \u001b[0m\u001b[33m│\u001b[0m\n",
       "\u001b[33m│\u001b[0m\u001b[33m \u001b[0m\u001b[37m│\u001b[0m\u001b[37m \u001b[0m\u001b[37m  \u001b[0m\u001b[1;37m}\u001b[0m\u001b[37m,\u001b[0m\u001b[37m                                                                                                       \u001b[0m\u001b[37m \u001b[0m\u001b[37m│\u001b[0m\u001b[33m \u001b[0m\u001b[33m│\u001b[0m\n",
       "\u001b[33m│\u001b[0m\u001b[33m \u001b[0m\u001b[37m│\u001b[0m\u001b[37m \u001b[0m\u001b[37m  \u001b[0m\u001b[1;37m{\u001b[0m\u001b[37m                                                                                                        \u001b[0m\u001b[37m \u001b[0m\u001b[37m│\u001b[0m\u001b[33m \u001b[0m\u001b[33m│\u001b[0m\n",
       "\u001b[33m│\u001b[0m\u001b[33m \u001b[0m\u001b[37m│\u001b[0m\u001b[37m \u001b[0m\u001b[37m    \u001b[0m\u001b[1;34m\"role\"\u001b[0m\u001b[37m: \u001b[0m\u001b[32m\"user\"\u001b[0m\u001b[37m,\u001b[0m\u001b[37m                                                                                        \u001b[0m\u001b[37m \u001b[0m\u001b[37m│\u001b[0m\u001b[33m \u001b[0m\u001b[33m│\u001b[0m\n",
       "\u001b[33m│\u001b[0m\u001b[33m \u001b[0m\u001b[37m│\u001b[0m\u001b[37m \u001b[0m\u001b[37m    \u001b[0m\u001b[1;34m\"content\"\u001b[0m\u001b[37m: \u001b[0m\u001b[32m\"\\nEvaluate the agent's performance on this web search task by verifying\\nwhether the agent \u001b[0m\u001b[37m \u001b[0m\u001b[37m│\u001b[0m\u001b[33m \u001b[0m\u001b[33m│\u001b[0m\n",
       "\u001b[33m│\u001b[0m\u001b[33m \u001b[0m\u001b[37m│\u001b[0m\u001b[37m \u001b[0m\u001b[37m  \u001b[0m\u001b[1;37m}\u001b[0m\u001b[37m                                                                                                        \u001b[0m\u001b[37m \u001b[0m\u001b[37m│\u001b[0m\u001b[33m \u001b[0m\u001b[33m│\u001b[0m\n",
       "\u001b[33m│\u001b[0m\u001b[33m \u001b[0m\u001b[37m│\u001b[0m\u001b[37m \u001b[0m\u001b[1;37m]\u001b[0m\u001b[37m                                                                                                          \u001b[0m\u001b[37m \u001b[0m\u001b[37m│\u001b[0m\u001b[33m \u001b[0m\u001b[33m│\u001b[0m\n",
       "\u001b[33m│\u001b[0m\u001b[33m \u001b[0m\u001b[37m╰─────────────────────────────────────────────────────────────────────────────────────────────────────────────╯\u001b[0m\u001b[33m \u001b[0m\u001b[33m│\u001b[0m\n",
       "\u001b[33m│\u001b[0m\u001b[33m \u001b[0m\u001b[37m╭─\u001b[0m\u001b[33m OUTPUT \u001b[0m\u001b[37m───────────────────────────────────────────────────────────────────────────────────────────────────\u001b[0m\u001b[37m─╮\u001b[0m\u001b[33m \u001b[0m\u001b[33m│\u001b[0m\n",
       "\u001b[33m│\u001b[0m\u001b[33m \u001b[0m\u001b[37m│\u001b[0m\u001b[37m \u001b[0m\u001b[1;37m[\u001b[0m\u001b[37m                                                                                                          \u001b[0m\u001b[37m \u001b[0m\u001b[37m│\u001b[0m\u001b[33m \u001b[0m\u001b[33m│\u001b[0m\n",
       "\u001b[33m│\u001b[0m\u001b[33m \u001b[0m\u001b[37m│\u001b[0m\u001b[37m \u001b[0m\u001b[37m  \u001b[0m\u001b[1;37m{\u001b[0m\u001b[37m                                                                                                        \u001b[0m\u001b[37m \u001b[0m\u001b[37m│\u001b[0m\u001b[33m \u001b[0m\u001b[33m│\u001b[0m\n",
       "\u001b[33m│\u001b[0m\u001b[33m \u001b[0m\u001b[37m│\u001b[0m\u001b[37m \u001b[0m\u001b[37m    \u001b[0m\u001b[1;34m\"tool.name\"\u001b[0m\u001b[37m: \u001b[0m\u001b[32m\"get_final_output\"\u001b[0m\u001b[37m,\u001b[0m\u001b[37m                                                                       \u001b[0m\u001b[37m \u001b[0m\u001b[37m│\u001b[0m\u001b[33m \u001b[0m\u001b[33m│\u001b[0m\n",
       "\u001b[33m│\u001b[0m\u001b[33m \u001b[0m\u001b[37m│\u001b[0m\u001b[37m \u001b[0m\u001b[37m    \u001b[0m\u001b[1;34m\"tool.args\"\u001b[0m\u001b[37m: \u001b[0m\u001b[32m\"{}\"\u001b[0m\u001b[37m                                                                                      \u001b[0m\u001b[37m \u001b[0m\u001b[37m│\u001b[0m\u001b[33m \u001b[0m\u001b[33m│\u001b[0m\n",
       "\u001b[33m│\u001b[0m\u001b[33m \u001b[0m\u001b[37m│\u001b[0m\u001b[37m \u001b[0m\u001b[37m  \u001b[0m\u001b[1;37m}\u001b[0m\u001b[37m,\u001b[0m\u001b[37m                                                                                                       \u001b[0m\u001b[37m \u001b[0m\u001b[37m│\u001b[0m\u001b[33m \u001b[0m\u001b[33m│\u001b[0m\n",
       "\u001b[33m│\u001b[0m\u001b[33m \u001b[0m\u001b[37m│\u001b[0m\u001b[37m \u001b[0m\u001b[37m  \u001b[0m\u001b[1;37m{\u001b[0m\u001b[37m                                                                                                        \u001b[0m\u001b[37m \u001b[0m\u001b[37m│\u001b[0m\u001b[33m \u001b[0m\u001b[33m│\u001b[0m\n",
       "\u001b[33m│\u001b[0m\u001b[33m \u001b[0m\u001b[37m│\u001b[0m\u001b[37m \u001b[0m\u001b[37m    \u001b[0m\u001b[1;34m\"tool.name\"\u001b[0m\u001b[37m: \u001b[0m\u001b[32m\"get_messages_from_trace\"\u001b[0m\u001b[37m,\u001b[0m\u001b[37m                                                                \u001b[0m\u001b[37m \u001b[0m\u001b[37m│\u001b[0m\u001b[33m \u001b[0m\u001b[33m│\u001b[0m\n",
       "\u001b[33m│\u001b[0m\u001b[33m \u001b[0m\u001b[37m│\u001b[0m\u001b[37m \u001b[0m\u001b[37m    \u001b[0m\u001b[1;34m\"tool.args\"\u001b[0m\u001b[37m: \u001b[0m\u001b[32m\"{}\"\u001b[0m\u001b[37m                                                                                      \u001b[0m\u001b[37m \u001b[0m\u001b[37m│\u001b[0m\u001b[33m \u001b[0m\u001b[33m│\u001b[0m\n",
       "\u001b[33m│\u001b[0m\u001b[33m \u001b[0m\u001b[37m│\u001b[0m\u001b[37m \u001b[0m\u001b[37m  \u001b[0m\u001b[1;37m}\u001b[0m\u001b[37m                                                                                                        \u001b[0m\u001b[37m \u001b[0m\u001b[37m│\u001b[0m\u001b[33m \u001b[0m\u001b[33m│\u001b[0m\n",
       "\u001b[33m│\u001b[0m\u001b[33m \u001b[0m\u001b[37m│\u001b[0m\u001b[37m \u001b[0m\u001b[1;37m]\u001b[0m\u001b[37m                                                                                                          \u001b[0m\u001b[37m \u001b[0m\u001b[37m│\u001b[0m\u001b[33m \u001b[0m\u001b[33m│\u001b[0m\n",
       "\u001b[33m│\u001b[0m\u001b[33m \u001b[0m\u001b[37m╰─────────────────────────────────────────────────────────────────────────────────────────────────────────────╯\u001b[0m\u001b[33m \u001b[0m\u001b[33m│\u001b[0m\n",
       "\u001b[33m│\u001b[0m\u001b[33m \u001b[0m\u001b[37m╭─\u001b[0m\u001b[33m USAGE \u001b[0m\u001b[37m────────────────────────────────────────────────────────────────────────────────────────────────────\u001b[0m\u001b[37m─╮\u001b[0m\u001b[33m \u001b[0m\u001b[33m│\u001b[0m\n",
       "\u001b[33m│\u001b[0m\u001b[33m \u001b[0m\u001b[37m│\u001b[0m\u001b[37m \u001b[0m\u001b[1;37m{\u001b[0m\u001b[37m                                                                                                          \u001b[0m\u001b[37m \u001b[0m\u001b[37m│\u001b[0m\u001b[33m \u001b[0m\u001b[33m│\u001b[0m\n",
       "\u001b[33m│\u001b[0m\u001b[33m \u001b[0m\u001b[37m│\u001b[0m\u001b[37m \u001b[0m\u001b[37m  \u001b[0m\u001b[1;34m\"input_tokens\"\u001b[0m\u001b[37m: \u001b[0m\u001b[1;36m554\u001b[0m\u001b[37m,\u001b[0m\u001b[37m                                                                                     \u001b[0m\u001b[37m \u001b[0m\u001b[37m│\u001b[0m\u001b[33m \u001b[0m\u001b[33m│\u001b[0m\n",
       "\u001b[33m│\u001b[0m\u001b[33m \u001b[0m\u001b[37m│\u001b[0m\u001b[37m \u001b[0m\u001b[37m  \u001b[0m\u001b[1;34m\"output_tokens\"\u001b[0m\u001b[37m: \u001b[0m\u001b[1;36m42\u001b[0m\u001b[37m,\u001b[0m\u001b[37m                                                                                     \u001b[0m\u001b[37m \u001b[0m\u001b[37m│\u001b[0m\u001b[33m \u001b[0m\u001b[33m│\u001b[0m\n",
       "\u001b[33m│\u001b[0m\u001b[33m \u001b[0m\u001b[37m│\u001b[0m\u001b[37m \u001b[0m\u001b[37m  \u001b[0m\u001b[1;34m\"input_cost\"\u001b[0m\u001b[37m: \u001b[0m\u001b[1;36m0.0002216\u001b[0m\u001b[37m,\u001b[0m\u001b[37m                                                                                 \u001b[0m\u001b[37m \u001b[0m\u001b[37m│\u001b[0m\u001b[33m \u001b[0m\u001b[33m│\u001b[0m\n",
       "\u001b[33m│\u001b[0m\u001b[33m \u001b[0m\u001b[37m│\u001b[0m\u001b[37m \u001b[0m\u001b[37m  \u001b[0m\u001b[1;34m\"output_cost\"\u001b[0m\u001b[37m: \u001b[0m\u001b[1;36m6.72e-05\u001b[0m\u001b[37m                                                                                  \u001b[0m\u001b[37m \u001b[0m\u001b[37m│\u001b[0m\u001b[33m \u001b[0m\u001b[33m│\u001b[0m\n",
       "\u001b[33m│\u001b[0m\u001b[33m \u001b[0m\u001b[37m│\u001b[0m\u001b[37m \u001b[0m\u001b[1;37m}\u001b[0m\u001b[37m                                                                                                          \u001b[0m\u001b[37m \u001b[0m\u001b[37m│\u001b[0m\u001b[33m \u001b[0m\u001b[33m│\u001b[0m\n",
       "\u001b[33m│\u001b[0m\u001b[33m \u001b[0m\u001b[37m╰─────────────────────────────────────────────────────────────────────────────────────────────────────────────╯\u001b[0m\u001b[33m \u001b[0m\u001b[33m│\u001b[0m\n",
       "\u001b[33m╰─────────────────────────────────────────────────────────────────────────────────────────────────────────────────╯\u001b[0m\n"
      ]
     },
     "metadata": {},
     "output_type": "display_data"
    },
    {
     "data": {
      "text/html": [
       "<pre style=\"white-space:pre;overflow-x:auto;line-height:normal;font-family:Menlo,'DejaVu Sans Mono',consolas,'Courier New',monospace\"><span style=\"color: #000080; text-decoration-color: #000080\">╭────────────────────────────────────────</span> EXECUTE_TOOL: get_final_output <span style=\"color: #000080; text-decoration-color: #000080\">─────────────────────────────────────────╮</span>\n",
       "<span style=\"color: #000080; text-decoration-color: #000080\">│ </span><span style=\"color: #c0c0c0; text-decoration-color: #c0c0c0\">╭─</span><span style=\"color: #000080; text-decoration-color: #000080\"> Input </span><span style=\"color: #c0c0c0; text-decoration-color: #c0c0c0\">─────────────────────────────────────────────────────────────────────────────────────────────────────╮</span><span style=\"color: #000080; text-decoration-color: #000080\"> │</span>\n",
       "<span style=\"color: #000080; text-decoration-color: #000080\">│ </span><span style=\"color: #c0c0c0; text-decoration-color: #c0c0c0\">│ </span><span style=\"color: #c0c0c0; text-decoration-color: #c0c0c0; font-weight: bold\">{}</span><span style=\"color: #c0c0c0; text-decoration-color: #c0c0c0\">                                                                                                          │</span><span style=\"color: #000080; text-decoration-color: #000080\"> │</span>\n",
       "<span style=\"color: #000080; text-decoration-color: #000080\">│ </span><span style=\"color: #c0c0c0; text-decoration-color: #c0c0c0\">╰─────────────────────────────────────────────────────────────────────────────────────────────────────────────╯</span><span style=\"color: #000080; text-decoration-color: #000080\"> │</span>\n",
       "<span style=\"color: #000080; text-decoration-color: #000080\">│ </span><span style=\"color: #c0c0c0; text-decoration-color: #c0c0c0\">╭─</span><span style=\"color: #000080; text-decoration-color: #000080\"> OUTPUT </span><span style=\"color: #c0c0c0; text-decoration-color: #c0c0c0\">────────────────────────────────────────────────────────────────────────────────────────────────────╮</span><span style=\"color: #000080; text-decoration-color: #000080\"> │</span>\n",
       "<span style=\"color: #000080; text-decoration-color: #000080\">│ </span><span style=\"color: #c0c0c0; text-decoration-color: #c0c0c0\">│ The film that won the Goya Award for Best Film in 2024 is \"The Society of the Snow\" (Spanish: La sociedad   │</span><span style=\"color: #000080; text-decoration-color: #000080\"> │</span>\n",
       "<span style=\"color: #000080; text-decoration-color: #000080\">│ </span><span style=\"color: #c0c0c0; text-decoration-color: #c0c0c0\">│ de la nieve).                                                                                               │</span><span style=\"color: #000080; text-decoration-color: #000080\"> │</span>\n",
       "<span style=\"color: #000080; text-decoration-color: #000080\">│ </span><span style=\"color: #c0c0c0; text-decoration-color: #c0c0c0\">│                                                                                                             │</span><span style=\"color: #000080; text-decoration-color: #000080\"> │</span>\n",
       "<span style=\"color: #000080; text-decoration-color: #000080\">│ </span><span style=\"color: #c0c0c0; text-decoration-color: #c0c0c0\">│ The film is based on the true story of the survivors of the 1972 Andes flight disaster, who were forced to  │</span><span style=\"color: #000080; text-decoration-color: #000080\"> │</span>\n",
       "<span style=\"color: #000080; text-decoration-color: #000080\">│ </span><span style=\"color: #c0c0c0; text-decoration-color: #c0c0c0\">│ resort to extreme measures to stay alive after being stranded in the harsh mountain environment for over    │</span><span style=\"color: #000080; text-decoration-color: #000080\"> │</span>\n",
       "<span style=\"color: #000080; text-decoration-color: #000080\">│ </span><span style=\"color: #c0c0c0; text-decoration-color: #c0c0c0\">│ two months. The film is a survival drama that explores the themes of friendship, resilience, and the human  │</span><span style=\"color: #000080; text-decoration-color: #000080\"> │</span>\n",
       "<span style=\"color: #000080; text-decoration-color: #000080\">│ </span><span style=\"color: #c0c0c0; text-decoration-color: #c0c0c0\">│ spirit in the face of adversity.                                                                            │</span><span style=\"color: #000080; text-decoration-color: #000080\"> │</span>\n",
       "<span style=\"color: #000080; text-decoration-color: #000080\">│ </span><span style=\"color: #c0c0c0; text-decoration-color: #c0c0c0\">│                                                                                                             │</span><span style=\"color: #000080; text-decoration-color: #000080\"> │</span>\n",
       "<span style=\"color: #000080; text-decoration-color: #000080\">│ </span><span style=\"color: #c0c0c0; text-decoration-color: #c0c0c0\">│ The film has a Rotten Tomatoes Tomatometer score of 89%, indicating critical acclaim. However, the Rotten   │</span><span style=\"color: #000080; text-decoration-color: #000080\"> │</span>\n",
       "<span style=\"color: #000080; text-decoration-color: #000080\">│ </span><span style=\"color: #c0c0c0; text-decoration-color: #c0c0c0\">│ Tomatoes Popcornmeter score, which reflects audience approval, is not readily available.                    │</span><span style=\"color: #000080; text-decoration-color: #000080\"> │</span>\n",
       "<span style=\"color: #000080; text-decoration-color: #000080\">│ </span><span style=\"color: #c0c0c0; text-decoration-color: #c0c0c0\">╰─────────────────────────────────────────────────────────────────────────────────────────────────────────────╯</span><span style=\"color: #000080; text-decoration-color: #000080\"> │</span>\n",
       "<span style=\"color: #000080; text-decoration-color: #000080\">╰─────────────────────────────────────────────────────────────────────────────────────────────────────────────────╯</span>\n",
       "</pre>\n"
      ],
      "text/plain": [
       "\u001b[34m╭─\u001b[0m\u001b[34m───────────────────────────────────────\u001b[0m EXECUTE_TOOL: get_final_output \u001b[34m────────────────────────────────────────\u001b[0m\u001b[34m─╮\u001b[0m\n",
       "\u001b[34m│\u001b[0m\u001b[34m \u001b[0m\u001b[37m╭─\u001b[0m\u001b[34m Input \u001b[0m\u001b[37m────────────────────────────────────────────────────────────────────────────────────────────────────\u001b[0m\u001b[37m─╮\u001b[0m\u001b[34m \u001b[0m\u001b[34m│\u001b[0m\n",
       "\u001b[34m│\u001b[0m\u001b[34m \u001b[0m\u001b[37m│\u001b[0m\u001b[37m \u001b[0m\u001b[1;37m{\u001b[0m\u001b[1;37m}\u001b[0m\u001b[37m                                                                                                         \u001b[0m\u001b[37m \u001b[0m\u001b[37m│\u001b[0m\u001b[34m \u001b[0m\u001b[34m│\u001b[0m\n",
       "\u001b[34m│\u001b[0m\u001b[34m \u001b[0m\u001b[37m╰─────────────────────────────────────────────────────────────────────────────────────────────────────────────╯\u001b[0m\u001b[34m \u001b[0m\u001b[34m│\u001b[0m\n",
       "\u001b[34m│\u001b[0m\u001b[34m \u001b[0m\u001b[37m╭─\u001b[0m\u001b[34m OUTPUT \u001b[0m\u001b[37m───────────────────────────────────────────────────────────────────────────────────────────────────\u001b[0m\u001b[37m─╮\u001b[0m\u001b[34m \u001b[0m\u001b[34m│\u001b[0m\n",
       "\u001b[34m│\u001b[0m\u001b[34m \u001b[0m\u001b[37m│\u001b[0m\u001b[37m \u001b[0m\u001b[37mThe film that won the Goya Award for Best Film in 2024 is \"The Society of the Snow\" (Spanish: La sociedad  \u001b[0m\u001b[37m \u001b[0m\u001b[37m│\u001b[0m\u001b[34m \u001b[0m\u001b[34m│\u001b[0m\n",
       "\u001b[34m│\u001b[0m\u001b[34m \u001b[0m\u001b[37m│\u001b[0m\u001b[37m \u001b[0m\u001b[37mde la nieve).                                                                                              \u001b[0m\u001b[37m \u001b[0m\u001b[37m│\u001b[0m\u001b[34m \u001b[0m\u001b[34m│\u001b[0m\n",
       "\u001b[34m│\u001b[0m\u001b[34m \u001b[0m\u001b[37m│\u001b[0m\u001b[37m \u001b[0m\u001b[37m                                                                                                           \u001b[0m\u001b[37m \u001b[0m\u001b[37m│\u001b[0m\u001b[34m \u001b[0m\u001b[34m│\u001b[0m\n",
       "\u001b[34m│\u001b[0m\u001b[34m \u001b[0m\u001b[37m│\u001b[0m\u001b[37m \u001b[0m\u001b[37mThe film is based on the true story of the survivors of the 1972 Andes flight disaster, who were forced to \u001b[0m\u001b[37m \u001b[0m\u001b[37m│\u001b[0m\u001b[34m \u001b[0m\u001b[34m│\u001b[0m\n",
       "\u001b[34m│\u001b[0m\u001b[34m \u001b[0m\u001b[37m│\u001b[0m\u001b[37m \u001b[0m\u001b[37mresort to extreme measures to stay alive after being stranded in the harsh mountain environment for over   \u001b[0m\u001b[37m \u001b[0m\u001b[37m│\u001b[0m\u001b[34m \u001b[0m\u001b[34m│\u001b[0m\n",
       "\u001b[34m│\u001b[0m\u001b[34m \u001b[0m\u001b[37m│\u001b[0m\u001b[37m \u001b[0m\u001b[37mtwo months. The film is a survival drama that explores the themes of friendship, resilience, and the human \u001b[0m\u001b[37m \u001b[0m\u001b[37m│\u001b[0m\u001b[34m \u001b[0m\u001b[34m│\u001b[0m\n",
       "\u001b[34m│\u001b[0m\u001b[34m \u001b[0m\u001b[37m│\u001b[0m\u001b[37m \u001b[0m\u001b[37mspirit in the face of adversity.                                                                           \u001b[0m\u001b[37m \u001b[0m\u001b[37m│\u001b[0m\u001b[34m \u001b[0m\u001b[34m│\u001b[0m\n",
       "\u001b[34m│\u001b[0m\u001b[34m \u001b[0m\u001b[37m│\u001b[0m\u001b[37m \u001b[0m\u001b[37m                                                                                                           \u001b[0m\u001b[37m \u001b[0m\u001b[37m│\u001b[0m\u001b[34m \u001b[0m\u001b[34m│\u001b[0m\n",
       "\u001b[34m│\u001b[0m\u001b[34m \u001b[0m\u001b[37m│\u001b[0m\u001b[37m \u001b[0m\u001b[37mThe film has a Rotten Tomatoes Tomatometer score of 89%, indicating critical acclaim. However, the Rotten  \u001b[0m\u001b[37m \u001b[0m\u001b[37m│\u001b[0m\u001b[34m \u001b[0m\u001b[34m│\u001b[0m\n",
       "\u001b[34m│\u001b[0m\u001b[34m \u001b[0m\u001b[37m│\u001b[0m\u001b[37m \u001b[0m\u001b[37mTomatoes Popcornmeter score, which reflects audience approval, is not readily available.                   \u001b[0m\u001b[37m \u001b[0m\u001b[37m│\u001b[0m\u001b[34m \u001b[0m\u001b[34m│\u001b[0m\n",
       "\u001b[34m│\u001b[0m\u001b[34m \u001b[0m\u001b[37m╰─────────────────────────────────────────────────────────────────────────────────────────────────────────────╯\u001b[0m\u001b[34m \u001b[0m\u001b[34m│\u001b[0m\n",
       "\u001b[34m╰─────────────────────────────────────────────────────────────────────────────────────────────────────────────────╯\u001b[0m\n"
      ]
     },
     "metadata": {},
     "output_type": "display_data"
    },
    {
     "data": {
      "text/html": [
       "<pre style=\"white-space:pre;overflow-x:auto;line-height:normal;font-family:Menlo,'DejaVu Sans Mono',consolas,'Courier New',monospace\"><span style=\"color: #000080; text-decoration-color: #000080\">╭─────────────────────────────────────</span> EXECUTE_TOOL: get_messages_from_trace <span style=\"color: #000080; text-decoration-color: #000080\">─────────────────────────────────────╮</span>\n",
       "<span style=\"color: #000080; text-decoration-color: #000080\">│ </span><span style=\"color: #c0c0c0; text-decoration-color: #c0c0c0\">╭─</span><span style=\"color: #000080; text-decoration-color: #000080\"> Input </span><span style=\"color: #c0c0c0; text-decoration-color: #c0c0c0\">─────────────────────────────────────────────────────────────────────────────────────────────────────╮</span><span style=\"color: #000080; text-decoration-color: #000080\"> │</span>\n",
       "<span style=\"color: #000080; text-decoration-color: #000080\">│ </span><span style=\"color: #c0c0c0; text-decoration-color: #c0c0c0\">│ </span><span style=\"color: #c0c0c0; text-decoration-color: #c0c0c0; font-weight: bold\">{}</span><span style=\"color: #c0c0c0; text-decoration-color: #c0c0c0\">                                                                                                          │</span><span style=\"color: #000080; text-decoration-color: #000080\"> │</span>\n",
       "<span style=\"color: #000080; text-decoration-color: #000080\">│ </span><span style=\"color: #c0c0c0; text-decoration-color: #c0c0c0\">╰─────────────────────────────────────────────────────────────────────────────────────────────────────────────╯</span><span style=\"color: #000080; text-decoration-color: #000080\"> │</span>\n",
       "<span style=\"color: #000080; text-decoration-color: #000080\">│ </span><span style=\"color: #c0c0c0; text-decoration-color: #c0c0c0\">╭─</span><span style=\"color: #000080; text-decoration-color: #000080\"> OUTPUT </span><span style=\"color: #c0c0c0; text-decoration-color: #c0c0c0\">────────────────────────────────────────────────────────────────────────────────────────────────────╮</span><span style=\"color: #000080; text-decoration-color: #000080\"> │</span>\n",
       "<span style=\"color: #000080; text-decoration-color: #000080\">│ </span><span style=\"color: #c0c0c0; text-decoration-color: #c0c0c0\">│                                                   </span><span style=\"color: #c0c0c0; text-decoration-color: #c0c0c0; font-weight: bold\">system</span><span style=\"color: #c0c0c0; text-decoration-color: #c0c0c0\">                                                    │</span><span style=\"color: #000080; text-decoration-color: #000080\"> │</span>\n",
       "<span style=\"color: #000080; text-decoration-color: #000080\">│ </span><span style=\"color: #c0c0c0; text-decoration-color: #c0c0c0\">│                                                                                                             │</span><span style=\"color: #000080; text-decoration-color: #000080\"> │</span>\n",
       "<span style=\"color: #000080; text-decoration-color: #000080\">│ </span><span style=\"color: #c0c0c0; text-decoration-color: #c0c0c0\">│ You are an agent - please keep going until the user's query is completely resolved, before ending your turn │</span><span style=\"color: #000080; text-decoration-color: #000080\"> │</span>\n",
       "<span style=\"color: #000080; text-decoration-color: #000080\">│ </span><span style=\"color: #c0c0c0; text-decoration-color: #c0c0c0\">│ and yielding back to the user. Only terminate your turn when you are sure that the problem is solved, or if │</span><span style=\"color: #000080; text-decoration-color: #000080\"> │</span>\n",
       "<span style=\"color: #000080; text-decoration-color: #000080\">│ </span><span style=\"color: #c0c0c0; text-decoration-color: #c0c0c0\">│ you need more info from the user to solve the problem.                                                      │</span><span style=\"color: #000080; text-decoration-color: #000080\"> │</span>\n",
       "<span style=\"color: #000080; text-decoration-color: #000080\">│ </span><span style=\"color: #c0c0c0; text-decoration-color: #c0c0c0\">│                                                                                                             │</span><span style=\"color: #000080; text-decoration-color: #000080\"> │</span>\n",
       "<span style=\"color: #000080; text-decoration-color: #000080\">│ </span><span style=\"color: #c0c0c0; text-decoration-color: #c0c0c0\">│ If you are not sure about anything pertaining to the user's request, use your tools to read files and       │</span><span style=\"color: #000080; text-decoration-color: #000080\"> │</span>\n",
       "<span style=\"color: #000080; text-decoration-color: #000080\">│ </span><span style=\"color: #c0c0c0; text-decoration-color: #c0c0c0\">│ gather the relevant information: do NOT guess or make up an answer.                                         │</span><span style=\"color: #000080; text-decoration-color: #000080\"> │</span>\n",
       "<span style=\"color: #000080; text-decoration-color: #000080\">│ </span><span style=\"color: #c0c0c0; text-decoration-color: #c0c0c0\">│                                                                                                             │</span><span style=\"color: #000080; text-decoration-color: #000080\"> │</span>\n",
       "<span style=\"color: #000080; text-decoration-color: #000080\">│ </span><span style=\"color: #c0c0c0; text-decoration-color: #c0c0c0\">│ You MUST plan extensively before each function call, and reflect extensively on the outcomes of the         │</span><span style=\"color: #000080; text-decoration-color: #000080\"> │</span>\n",
       "<span style=\"color: #000080; text-decoration-color: #000080\">│ </span><span style=\"color: #c0c0c0; text-decoration-color: #c0c0c0\">│ previous function calls. DO NOT do this entire process by making function calls only, as this can impair    │</span><span style=\"color: #000080; text-decoration-color: #000080\"> │</span>\n",
       "<span style=\"color: #000080; text-decoration-color: #000080\">│ </span><span style=\"color: #c0c0c0; text-decoration-color: #c0c0c0\">│ your ability to solve the problem and think insightfully.                                                   │</span><span style=\"color: #000080; text-decoration-color: #000080\"> │</span>\n",
       "<span style=\"color: #000080; text-decoration-color: #000080\">│ </span><span style=\"color: #c0c0c0; text-decoration-color: #c0c0c0\">│                                                                                                             │</span><span style=\"color: #000080; text-decoration-color: #000080\"> │</span>\n",
       "<span style=\"color: #000080; text-decoration-color: #000080\">│ </span><span style=\"color: #c0c0c0; text-decoration-color: #c0c0c0\">│                                                    </span><span style=\"color: #c0c0c0; text-decoration-color: #c0c0c0; font-weight: bold\">user</span><span style=\"color: #c0c0c0; text-decoration-color: #c0c0c0\">                                                     │</span><span style=\"color: #000080; text-decoration-color: #000080\"> │</span>\n",
       "<span style=\"color: #000080; text-decoration-color: #000080\">│ </span><span style=\"color: #c0c0c0; text-decoration-color: #c0c0c0\">│                                                                                                             │</span><span style=\"color: #000080; text-decoration-color: #000080\"> │</span>\n",
       "<span style=\"color: #000080; text-decoration-color: #000080\">│ </span><span style=\"color: #c0c0c0; text-decoration-color: #c0c0c0\">│ What film won a Goya Award for best film in 2024? Please provide the name of the film, the genre, a very    │</span><span style=\"color: #000080; text-decoration-color: #000080\"> │</span>\n",
       "<span style=\"color: #000080; text-decoration-color: #000080\">│ </span><span style=\"color: #c0c0c0; text-decoration-color: #c0c0c0\">│ brief description of the film - and rotten tomatoes popcornmeter score.                                     │</span><span style=\"color: #000080; text-decoration-color: #000080\"> │</span>\n",
       "<span style=\"color: #000080; text-decoration-color: #000080\">│ </span><span style=\"color: #c0c0c0; text-decoration-color: #c0c0c0\">│                                                                                                             │</span><span style=\"color: #000080; text-decoration-color: #000080\"> │</span>\n",
       "<span style=\"color: #000080; text-decoration-color: #000080\">│ </span><span style=\"color: #c0c0c0; text-decoration-color: #c0c0c0\">│                                                  </span><span style=\"color: #c0c0c0; text-decoration-color: #c0c0c0; font-weight: bold\">assistant</span><span style=\"color: #c0c0c0; text-decoration-color: #c0c0c0\">                                                  │</span><span style=\"color: #000080; text-decoration-color: #000080\"> │</span>\n",
       "<span style=\"color: #000080; text-decoration-color: #000080\">│ </span><span style=\"color: #c0c0c0; text-decoration-color: #c0c0c0\">│                                                                                                             │</span><span style=\"color: #000080; text-decoration-color: #000080\"> │</span>\n",
       "<span style=\"color: #000080; text-decoration-color: #000080\">│ </span><span style=\"color: #c0c0c0; text-decoration-color: #c0c0c0\">│ [{\"tool.name\": \"search_tavily\", \"tool.args\": \"{\"query\": \"Goya Award for best film in 2024\"}\"}]              │</span><span style=\"color: #000080; text-decoration-color: #000080\"> │</span>\n",
       "<span style=\"color: #000080; text-decoration-color: #000080\">│ </span><span style=\"color: #c0c0c0; text-decoration-color: #c0c0c0\">│                                                                                                             │</span><span style=\"color: #000080; text-decoration-color: #000080\"> │</span>\n",
       "<span style=\"color: #000080; text-decoration-color: #000080\">│ </span><span style=\"color: #c0c0c0; text-decoration-color: #c0c0c0\">│                                                  </span><span style=\"color: #c0c0c0; text-decoration-color: #c0c0c0; font-weight: bold\">assistant</span><span style=\"color: #c0c0c0; text-decoration-color: #c0c0c0\">                                                  │</span><span style=\"color: #000080; text-decoration-color: #000080\"> │</span>\n",
       "<span style=\"color: #000080; text-decoration-color: #000080\">│ </span><span style=\"color: #c0c0c0; text-decoration-color: #c0c0c0\">│                                                                                                             │</span><span style=\"color: #000080; text-decoration-color: #000080\"> │</span>\n",
       "<span style=\"color: #000080; text-decoration-color: #000080\">│ </span><span style=\"color: #c0c0c0; text-decoration-color: #c0c0c0\">│ [Tool search_tavily executed: </span><a href=\"https://en.wikipedia.org/wiki/38th_Goya_Awards\" target=\"_blank\"><span style=\"color: #000080; text-decoration-color: #000080; text-decoration: underline\">38th Goya Awards - Wikipedia</span></a><span style=\"color: #c0c0c0; text-decoration-color: #c0c0c0\"> Winners and nominees ; Best Film · Society of    │</span><span style=\"color: #000080; text-decoration-color: #000080\"> │</span>\n",
       "<span style=\"color: #000080; text-decoration-color: #000080\">│ </span><span style=\"color: #c0c0c0; text-decoration-color: #c0c0c0\">│ the Snow – Belén Atienza [es], J.A. Bayona, Sandra Hermida Muñiz · Best Director ; Best Actor · David       │</span><span style=\"color: #000080; text-decoration-color: #000080\"> │</span>\n",
       "<span style=\"color: #000080; text-decoration-color: #000080\">│ </span><span style=\"color: #c0c0c0; text-decoration-color: #c0c0c0\">│ Verdaguer –                                                                                                 │</span><span style=\"color: #000080; text-decoration-color: #000080\"> │</span>\n",
       "<span style=\"color: #000080; text-decoration-color: #000080\">│ </span><span style=\"color: #c0c0c0; text-decoration-color: #c0c0c0\">│                                                                                                             │</span><span style=\"color: #000080; text-decoration-color: #000080\"> │</span>\n",
       "<span style=\"color: #000080; text-decoration-color: #000080\">│ </span><span style=\"color: #c0c0c0; text-decoration-color: #c0c0c0\">│ </span><a href=\"https://en.wikipedia.org/wiki/Goya_Award_for_Best_Film\" target=\"_blank\"><span style=\"color: #000080; text-decoration-color: #000080; text-decoration: underline\">Goya Award for Best Film - Wikipedia</span></a><span style=\"color: #c0c0c0; text-decoration-color: #c0c0c0\"> 2024 (39th) · Undercover, La infiltrada ; 2024 (39th) · The Blue Star, │</span><span style=\"color: #000080; text-decoration-color: #000080\"> │</span>\n",
       "<span style=\"color: #000080; text-decoration-color: #000080\">│ </span><span style=\"color: #c0c0c0; text-decoration-color: #c0c0c0\">│ La estrella azul ; 2024 (39th) · A House on Fire, Casa en flames ; 2024 (39th) · Saturn Return              │</span><span style=\"color: #000080; text-decoration-color: #000080\"> │</span>\n",
       "<span style=\"color: #000080; text-decoration-color: #000080\">│ </span><span style=\"color: #c0c0c0; text-decoration-color: #c0c0c0\">│                                                                                                             │</span><span style=\"color: #000080; text-decoration-color: #000080\"> │</span>\n",
       "<span style=\"color: #000080; text-decoration-color: #000080\">│ </span><span style=\"color: #c0c0c0; text-decoration-color: #c0c0c0\">│ </span><a href=\"https://www.imdb.com/event/ev0000299/2024/1/\" target=\"_blank\"><span style=\"color: #000080; text-decoration-color: #000080; text-decoration: underline\">Goya Awards (2024) - IMDb</span></a><span style=\"color: #c0c0c0; text-decoration-color: #c0c0c0\"> GOYA AWARDS · Goya · Best Adapted Screenplay (Mejor Guión Adaptado) · Robot       │</span><span style=\"color: #000080; text-decoration-color: #000080\"> │</span>\n",
       "<span style=\"color: #000080; text-decoration-color: #000080\">│ </span><span style=\"color: #c0c0c0; text-decoration-color: #c0c0c0\">│ Dreams · Society of the Snow · The Teacher Who Promised the Sea · Un Amor · Jokes &amp;                         │</span><span style=\"color: #000080; text-decoration-color: #000080\"> │</span>\n",
       "<span style=\"color: #000080; text-decoration-color: #000080\">│ </span><span style=\"color: #c0c0c0; text-decoration-color: #c0c0c0\">│                                                                                                             │</span><span style=\"color: #000080; text-decoration-color: #000080\"> │</span>\n",
       "<span style=\"color: #000080; text-decoration-color: #000080\">│ </span><span style=\"color: #c0c0c0; text-decoration-color: #c0c0c0\">│ </span><a href=\"https://deadline.com/2024/02/goya-awards-complete-winners-list-1235821487/\" target=\"_blank\"><span style=\"color: #000080; text-decoration-color: #000080; text-decoration: underline\">Goya Awards Winners: 'The Society Of The Snow' Takes Best ...</span></a><span style=\"color: #c0c0c0; text-decoration-color: #c0c0c0\"> Goya Awards Complete Winners List: 'The       │</span><span style=\"color: #000080; text-decoration-color: #000080\"> │</span>\n",
       "<span style=\"color: #000080; text-decoration-color: #000080\">│ </span><span style=\"color: #c0c0c0; text-decoration-color: #c0c0c0\">│ Society Of The Snow' Takes Best Picture &amp; Director; Sigourney Weaver Honored With International Goya.       │</span><span style=\"color: #000080; text-decoration-color: #000080\"> │</span>\n",
       "<span style=\"color: #000080; text-decoration-color: #000080\">│ </span><span style=\"color: #c0c0c0; text-decoration-color: #c0c0c0\">│                                                                                                             │</span><span style=\"color: #000080; text-decoration-color: #000080\"> │</span>\n",
       "<span style=\"color: #000080; text-decoration-color: #000080\">│ </span><span style=\"color: #c0c0c0; text-decoration-color: #c0c0c0\">│ </span><a href=\"https://mubi.com/en/awards-and-festivals/goyas?year=2024\" target=\"_blank\"><span style=\"color: #000080; text-decoration-color: #000080; text-decoration: underline\">Goya Awards 2024 - MUBI</span></a><span style=\"color: #c0c0c0; text-decoration-color: #c0c0c0\"> Goya Awards 2024 · Anatomia de Uma Queda. Best European Film · Meu Amigo Robô. Best │</span><span style=\"color: #000080; text-decoration-color: #000080\"> │</span>\n",
       "<span style=\"color: #000080; text-decoration-color: #000080\">│ </span><span style=\"color: #c0c0c0; text-decoration-color: #c0c0c0\">│ Adapted Screenplay (Mejor Guión Adaptado) &amp; 1 other · 20.000 Arten von Bienen with args: {\"query\": \"Goya    │</span><span style=\"color: #000080; text-decoration-color: #000080\"> │</span>\n",
       "<span style=\"color: #000080; text-decoration-color: #000080\">│ </span><span style=\"color: #c0c0c0; text-decoration-color: #c0c0c0\">│ Award for best film in 2024\"}]                                                                              │</span><span style=\"color: #000080; text-decoration-color: #000080\"> │</span>\n",
       "<span style=\"color: #000080; text-decoration-color: #000080\">│ </span><span style=\"color: #c0c0c0; text-decoration-color: #c0c0c0\">│                                                                                                             │</span><span style=\"color: #000080; text-decoration-color: #000080\"> │</span>\n",
       "<span style=\"color: #000080; text-decoration-color: #000080\">│ </span><span style=\"color: #c0c0c0; text-decoration-color: #c0c0c0\">│                                                  </span><span style=\"color: #c0c0c0; text-decoration-color: #c0c0c0; font-weight: bold\">assistant</span><span style=\"color: #c0c0c0; text-decoration-color: #c0c0c0\">                                                  │</span><span style=\"color: #000080; text-decoration-color: #000080\"> │</span>\n",
       "<span style=\"color: #000080; text-decoration-color: #000080\">│ </span><span style=\"color: #c0c0c0; text-decoration-color: #c0c0c0\">│                                                                                                             │</span><span style=\"color: #000080; text-decoration-color: #000080\"> │</span>\n",
       "<span style=\"color: #000080; text-decoration-color: #000080\">│ </span><span style=\"color: #c0c0c0; text-decoration-color: #c0c0c0\">│ The film that won the Goya Award for Best Film in 2024 is \"The Society of the Snow\" (Spanish: La sociedad   │</span><span style=\"color: #000080; text-decoration-color: #000080\"> │</span>\n",
       "<span style=\"color: #000080; text-decoration-color: #000080\">│ </span><span style=\"color: #c0c0c0; text-decoration-color: #c0c0c0\">│ de la nieve).                                                                                               │</span><span style=\"color: #000080; text-decoration-color: #000080\"> │</span>\n",
       "<span style=\"color: #000080; text-decoration-color: #000080\">│ </span><span style=\"color: #c0c0c0; text-decoration-color: #c0c0c0\">│                                                                                                             │</span><span style=\"color: #000080; text-decoration-color: #000080\"> │</span>\n",
       "<span style=\"color: #000080; text-decoration-color: #000080\">│ </span><span style=\"color: #c0c0c0; text-decoration-color: #c0c0c0\">│ The film is based on the true story of the survivors of the 1972 Andes flight disaster, who were forced to  │</span><span style=\"color: #000080; text-decoration-color: #000080\"> │</span>\n",
       "<span style=\"color: #000080; text-decoration-color: #000080\">│ </span><span style=\"color: #c0c0c0; text-decoration-color: #c0c0c0\">│ resort to extreme measures to stay alive after being stranded in the harsh mountain environment for over    │</span><span style=\"color: #000080; text-decoration-color: #000080\"> │</span>\n",
       "<span style=\"color: #000080; text-decoration-color: #000080\">│ </span><span style=\"color: #c0c0c0; text-decoration-color: #c0c0c0\">│ two months. The film is a survival drama that explores the themes of friendship, resilience, and the human  │</span><span style=\"color: #000080; text-decoration-color: #000080\"> │</span>\n",
       "<span style=\"color: #000080; text-decoration-color: #000080\">│ </span><span style=\"color: #c0c0c0; text-decoration-color: #c0c0c0\">│ spirit in the face of adversity.                                                                            │</span><span style=\"color: #000080; text-decoration-color: #000080\"> │</span>\n",
       "<span style=\"color: #000080; text-decoration-color: #000080\">│ </span><span style=\"color: #c0c0c0; text-decoration-color: #c0c0c0\">│                                                                                                             │</span><span style=\"color: #000080; text-decoration-color: #000080\"> │</span>\n",
       "<span style=\"color: #000080; text-decoration-color: #000080\">│ </span><span style=\"color: #c0c0c0; text-decoration-color: #c0c0c0\">│ The film has a Rotten Tomatoes Tomatometer score of 89%, indicating critical acclaim. However, the Rotten   │</span><span style=\"color: #000080; text-decoration-color: #000080\"> │</span>\n",
       "<span style=\"color: #000080; text-decoration-color: #000080\">│ </span><span style=\"color: #c0c0c0; text-decoration-color: #c0c0c0\">│ Tomatoes Popcornmeter score, which reflects audience approval, is not readily available.                    │</span><span style=\"color: #000080; text-decoration-color: #000080\"> │</span>\n",
       "<span style=\"color: #000080; text-decoration-color: #000080\">│ </span><span style=\"color: #c0c0c0; text-decoration-color: #c0c0c0\">╰─────────────────────────────────────────────────────────────────────────────────────────────────────────────╯</span><span style=\"color: #000080; text-decoration-color: #000080\"> │</span>\n",
       "<span style=\"color: #000080; text-decoration-color: #000080\">╰─────────────────────────────────────────────────────────────────────────────────────────────────────────────────╯</span>\n",
       "</pre>\n"
      ],
      "text/plain": [
       "\u001b[34m╭─\u001b[0m\u001b[34m────────────────────────────────────\u001b[0m EXECUTE_TOOL: get_messages_from_trace \u001b[34m────────────────────────────────────\u001b[0m\u001b[34m─╮\u001b[0m\n",
       "\u001b[34m│\u001b[0m\u001b[34m \u001b[0m\u001b[37m╭─\u001b[0m\u001b[34m Input \u001b[0m\u001b[37m────────────────────────────────────────────────────────────────────────────────────────────────────\u001b[0m\u001b[37m─╮\u001b[0m\u001b[34m \u001b[0m\u001b[34m│\u001b[0m\n",
       "\u001b[34m│\u001b[0m\u001b[34m \u001b[0m\u001b[37m│\u001b[0m\u001b[37m \u001b[0m\u001b[1;37m{\u001b[0m\u001b[1;37m}\u001b[0m\u001b[37m                                                                                                         \u001b[0m\u001b[37m \u001b[0m\u001b[37m│\u001b[0m\u001b[34m \u001b[0m\u001b[34m│\u001b[0m\n",
       "\u001b[34m│\u001b[0m\u001b[34m \u001b[0m\u001b[37m╰─────────────────────────────────────────────────────────────────────────────────────────────────────────────╯\u001b[0m\u001b[34m \u001b[0m\u001b[34m│\u001b[0m\n",
       "\u001b[34m│\u001b[0m\u001b[34m \u001b[0m\u001b[37m╭─\u001b[0m\u001b[34m OUTPUT \u001b[0m\u001b[37m───────────────────────────────────────────────────────────────────────────────────────────────────\u001b[0m\u001b[37m─╮\u001b[0m\u001b[34m \u001b[0m\u001b[34m│\u001b[0m\n",
       "\u001b[34m│\u001b[0m\u001b[34m \u001b[0m\u001b[37m│\u001b[0m\u001b[37m \u001b[0m\u001b[37m                                                  \u001b[0m\u001b[1;37msystem\u001b[0m\u001b[37m                                                   \u001b[0m\u001b[37m \u001b[0m\u001b[37m│\u001b[0m\u001b[34m \u001b[0m\u001b[34m│\u001b[0m\n",
       "\u001b[34m│\u001b[0m\u001b[34m \u001b[0m\u001b[37m│\u001b[0m\u001b[37m \u001b[0m\u001b[37m                                                                                                           \u001b[0m\u001b[37m \u001b[0m\u001b[37m│\u001b[0m\u001b[34m \u001b[0m\u001b[34m│\u001b[0m\n",
       "\u001b[34m│\u001b[0m\u001b[34m \u001b[0m\u001b[37m│\u001b[0m\u001b[37m \u001b[0m\u001b[37mYou are an agent - please keep going until the user's query is completely resolved, before ending your turn\u001b[0m\u001b[37m \u001b[0m\u001b[37m│\u001b[0m\u001b[34m \u001b[0m\u001b[34m│\u001b[0m\n",
       "\u001b[34m│\u001b[0m\u001b[34m \u001b[0m\u001b[37m│\u001b[0m\u001b[37m \u001b[0m\u001b[37mand yielding back to the user. Only terminate your turn when you are sure that the problem is solved, or if\u001b[0m\u001b[37m \u001b[0m\u001b[37m│\u001b[0m\u001b[34m \u001b[0m\u001b[34m│\u001b[0m\n",
       "\u001b[34m│\u001b[0m\u001b[34m \u001b[0m\u001b[37m│\u001b[0m\u001b[37m \u001b[0m\u001b[37myou need more info from the user to solve the problem.                                                     \u001b[0m\u001b[37m \u001b[0m\u001b[37m│\u001b[0m\u001b[34m \u001b[0m\u001b[34m│\u001b[0m\n",
       "\u001b[34m│\u001b[0m\u001b[34m \u001b[0m\u001b[37m│\u001b[0m\u001b[37m \u001b[0m\u001b[37m                                                                                                           \u001b[0m\u001b[37m \u001b[0m\u001b[37m│\u001b[0m\u001b[34m \u001b[0m\u001b[34m│\u001b[0m\n",
       "\u001b[34m│\u001b[0m\u001b[34m \u001b[0m\u001b[37m│\u001b[0m\u001b[37m \u001b[0m\u001b[37mIf you are not sure about anything pertaining to the user's request, use your tools to read files and      \u001b[0m\u001b[37m \u001b[0m\u001b[37m│\u001b[0m\u001b[34m \u001b[0m\u001b[34m│\u001b[0m\n",
       "\u001b[34m│\u001b[0m\u001b[34m \u001b[0m\u001b[37m│\u001b[0m\u001b[37m \u001b[0m\u001b[37mgather the relevant information: do NOT guess or make up an answer.                                        \u001b[0m\u001b[37m \u001b[0m\u001b[37m│\u001b[0m\u001b[34m \u001b[0m\u001b[34m│\u001b[0m\n",
       "\u001b[34m│\u001b[0m\u001b[34m \u001b[0m\u001b[37m│\u001b[0m\u001b[37m \u001b[0m\u001b[37m                                                                                                           \u001b[0m\u001b[37m \u001b[0m\u001b[37m│\u001b[0m\u001b[34m \u001b[0m\u001b[34m│\u001b[0m\n",
       "\u001b[34m│\u001b[0m\u001b[34m \u001b[0m\u001b[37m│\u001b[0m\u001b[37m \u001b[0m\u001b[37mYou MUST plan extensively before each function call, and reflect extensively on the outcomes of the        \u001b[0m\u001b[37m \u001b[0m\u001b[37m│\u001b[0m\u001b[34m \u001b[0m\u001b[34m│\u001b[0m\n",
       "\u001b[34m│\u001b[0m\u001b[34m \u001b[0m\u001b[37m│\u001b[0m\u001b[37m \u001b[0m\u001b[37mprevious function calls. DO NOT do this entire process by making function calls only, as this can impair   \u001b[0m\u001b[37m \u001b[0m\u001b[37m│\u001b[0m\u001b[34m \u001b[0m\u001b[34m│\u001b[0m\n",
       "\u001b[34m│\u001b[0m\u001b[34m \u001b[0m\u001b[37m│\u001b[0m\u001b[37m \u001b[0m\u001b[37myour ability to solve the problem and think insightfully.                                                  \u001b[0m\u001b[37m \u001b[0m\u001b[37m│\u001b[0m\u001b[34m \u001b[0m\u001b[34m│\u001b[0m\n",
       "\u001b[34m│\u001b[0m\u001b[34m \u001b[0m\u001b[37m│\u001b[0m\u001b[37m \u001b[0m\u001b[37m                                                                                                           \u001b[0m\u001b[37m \u001b[0m\u001b[37m│\u001b[0m\u001b[34m \u001b[0m\u001b[34m│\u001b[0m\n",
       "\u001b[34m│\u001b[0m\u001b[34m \u001b[0m\u001b[37m│\u001b[0m\u001b[37m \u001b[0m\u001b[37m                                                   \u001b[0m\u001b[1;37muser\u001b[0m\u001b[37m                                                    \u001b[0m\u001b[37m \u001b[0m\u001b[37m│\u001b[0m\u001b[34m \u001b[0m\u001b[34m│\u001b[0m\n",
       "\u001b[34m│\u001b[0m\u001b[34m \u001b[0m\u001b[37m│\u001b[0m\u001b[37m \u001b[0m\u001b[37m                                                                                                           \u001b[0m\u001b[37m \u001b[0m\u001b[37m│\u001b[0m\u001b[34m \u001b[0m\u001b[34m│\u001b[0m\n",
       "\u001b[34m│\u001b[0m\u001b[34m \u001b[0m\u001b[37m│\u001b[0m\u001b[37m \u001b[0m\u001b[37mWhat film won a Goya Award for best film in 2024? Please provide the name of the film, the genre, a very   \u001b[0m\u001b[37m \u001b[0m\u001b[37m│\u001b[0m\u001b[34m \u001b[0m\u001b[34m│\u001b[0m\n",
       "\u001b[34m│\u001b[0m\u001b[34m \u001b[0m\u001b[37m│\u001b[0m\u001b[37m \u001b[0m\u001b[37mbrief description of the film - and rotten tomatoes popcornmeter score.                                    \u001b[0m\u001b[37m \u001b[0m\u001b[37m│\u001b[0m\u001b[34m \u001b[0m\u001b[34m│\u001b[0m\n",
       "\u001b[34m│\u001b[0m\u001b[34m \u001b[0m\u001b[37m│\u001b[0m\u001b[37m \u001b[0m\u001b[37m                                                                                                           \u001b[0m\u001b[37m \u001b[0m\u001b[37m│\u001b[0m\u001b[34m \u001b[0m\u001b[34m│\u001b[0m\n",
       "\u001b[34m│\u001b[0m\u001b[34m \u001b[0m\u001b[37m│\u001b[0m\u001b[37m \u001b[0m\u001b[37m                                                 \u001b[0m\u001b[1;37massistant\u001b[0m\u001b[37m                                                 \u001b[0m\u001b[37m \u001b[0m\u001b[37m│\u001b[0m\u001b[34m \u001b[0m\u001b[34m│\u001b[0m\n",
       "\u001b[34m│\u001b[0m\u001b[34m \u001b[0m\u001b[37m│\u001b[0m\u001b[37m \u001b[0m\u001b[37m                                                                                                           \u001b[0m\u001b[37m \u001b[0m\u001b[37m│\u001b[0m\u001b[34m \u001b[0m\u001b[34m│\u001b[0m\n",
       "\u001b[34m│\u001b[0m\u001b[34m \u001b[0m\u001b[37m│\u001b[0m\u001b[37m \u001b[0m\u001b[37m[{\"tool.name\": \"search_tavily\", \"tool.args\": \"{\"query\": \"Goya Award for best film in 2024\"}\"}]             \u001b[0m\u001b[37m \u001b[0m\u001b[37m│\u001b[0m\u001b[34m \u001b[0m\u001b[34m│\u001b[0m\n",
       "\u001b[34m│\u001b[0m\u001b[34m \u001b[0m\u001b[37m│\u001b[0m\u001b[37m \u001b[0m\u001b[37m                                                                                                           \u001b[0m\u001b[37m \u001b[0m\u001b[37m│\u001b[0m\u001b[34m \u001b[0m\u001b[34m│\u001b[0m\n",
       "\u001b[34m│\u001b[0m\u001b[34m \u001b[0m\u001b[37m│\u001b[0m\u001b[37m \u001b[0m\u001b[37m                                                 \u001b[0m\u001b[1;37massistant\u001b[0m\u001b[37m                                                 \u001b[0m\u001b[37m \u001b[0m\u001b[37m│\u001b[0m\u001b[34m \u001b[0m\u001b[34m│\u001b[0m\n",
       "\u001b[34m│\u001b[0m\u001b[34m \u001b[0m\u001b[37m│\u001b[0m\u001b[37m \u001b[0m\u001b[37m                                                                                                           \u001b[0m\u001b[37m \u001b[0m\u001b[37m│\u001b[0m\u001b[34m \u001b[0m\u001b[34m│\u001b[0m\n",
       "\u001b[34m│\u001b[0m\u001b[34m \u001b[0m\u001b[37m│\u001b[0m\u001b[37m \u001b[0m\u001b[37m[Tool search_tavily executed: \u001b[0m\u001b]8;id=46381;https://en.wikipedia.org/wiki/38th_Goya_Awards\u001b\\\u001b[4;34m38th Goya Awards - Wikipedia\u001b[0m\u001b]8;;\u001b\\\u001b[37m Winners and nominees ; Best Film · Society of   \u001b[0m\u001b[37m \u001b[0m\u001b[37m│\u001b[0m\u001b[34m \u001b[0m\u001b[34m│\u001b[0m\n",
       "\u001b[34m│\u001b[0m\u001b[34m \u001b[0m\u001b[37m│\u001b[0m\u001b[37m \u001b[0m\u001b[37mthe Snow – Belén Atienza [es], J.A. Bayona, Sandra Hermida Muñiz · Best Director ; Best Actor · David      \u001b[0m\u001b[37m \u001b[0m\u001b[37m│\u001b[0m\u001b[34m \u001b[0m\u001b[34m│\u001b[0m\n",
       "\u001b[34m│\u001b[0m\u001b[34m \u001b[0m\u001b[37m│\u001b[0m\u001b[37m \u001b[0m\u001b[37mVerdaguer –                                                                                                \u001b[0m\u001b[37m \u001b[0m\u001b[37m│\u001b[0m\u001b[34m \u001b[0m\u001b[34m│\u001b[0m\n",
       "\u001b[34m│\u001b[0m\u001b[34m \u001b[0m\u001b[37m│\u001b[0m\u001b[37m \u001b[0m\u001b[37m                                                                                                           \u001b[0m\u001b[37m \u001b[0m\u001b[37m│\u001b[0m\u001b[34m \u001b[0m\u001b[34m│\u001b[0m\n",
       "\u001b[34m│\u001b[0m\u001b[34m \u001b[0m\u001b[37m│\u001b[0m\u001b[37m \u001b[0m\u001b]8;id=839090;https://en.wikipedia.org/wiki/Goya_Award_for_Best_Film\u001b\\\u001b[4;34mGoya Award for Best Film - Wikipedia\u001b[0m\u001b]8;;\u001b\\\u001b[37m 2024 (39th) · Undercover, La infiltrada ; 2024 (39th) · The Blue Star,\u001b[0m\u001b[37m \u001b[0m\u001b[37m│\u001b[0m\u001b[34m \u001b[0m\u001b[34m│\u001b[0m\n",
       "\u001b[34m│\u001b[0m\u001b[34m \u001b[0m\u001b[37m│\u001b[0m\u001b[37m \u001b[0m\u001b[37mLa estrella azul ; 2024 (39th) · A House on Fire, Casa en flames ; 2024 (39th) · Saturn Return             \u001b[0m\u001b[37m \u001b[0m\u001b[37m│\u001b[0m\u001b[34m \u001b[0m\u001b[34m│\u001b[0m\n",
       "\u001b[34m│\u001b[0m\u001b[34m \u001b[0m\u001b[37m│\u001b[0m\u001b[37m \u001b[0m\u001b[37m                                                                                                           \u001b[0m\u001b[37m \u001b[0m\u001b[37m│\u001b[0m\u001b[34m \u001b[0m\u001b[34m│\u001b[0m\n",
       "\u001b[34m│\u001b[0m\u001b[34m \u001b[0m\u001b[37m│\u001b[0m\u001b[37m \u001b[0m\u001b]8;id=265475;https://www.imdb.com/event/ev0000299/2024/1/\u001b\\\u001b[4;34mGoya Awards (2024) - IMDb\u001b[0m\u001b]8;;\u001b\\\u001b[37m GOYA AWARDS · Goya · Best Adapted Screenplay (Mejor Guión Adaptado) · Robot      \u001b[0m\u001b[37m \u001b[0m\u001b[37m│\u001b[0m\u001b[34m \u001b[0m\u001b[34m│\u001b[0m\n",
       "\u001b[34m│\u001b[0m\u001b[34m \u001b[0m\u001b[37m│\u001b[0m\u001b[37m \u001b[0m\u001b[37mDreams · Society of the Snow · The Teacher Who Promised the Sea · Un Amor · Jokes &                        \u001b[0m\u001b[37m \u001b[0m\u001b[37m│\u001b[0m\u001b[34m \u001b[0m\u001b[34m│\u001b[0m\n",
       "\u001b[34m│\u001b[0m\u001b[34m \u001b[0m\u001b[37m│\u001b[0m\u001b[37m \u001b[0m\u001b[37m                                                                                                           \u001b[0m\u001b[37m \u001b[0m\u001b[37m│\u001b[0m\u001b[34m \u001b[0m\u001b[34m│\u001b[0m\n",
       "\u001b[34m│\u001b[0m\u001b[34m \u001b[0m\u001b[37m│\u001b[0m\u001b[37m \u001b[0m\u001b]8;id=746423;https://deadline.com/2024/02/goya-awards-complete-winners-list-1235821487/\u001b\\\u001b[4;34mGoya Awards Winners: 'The Society Of The Snow' Takes Best ...\u001b[0m\u001b]8;;\u001b\\\u001b[37m Goya Awards Complete Winners List: 'The      \u001b[0m\u001b[37m \u001b[0m\u001b[37m│\u001b[0m\u001b[34m \u001b[0m\u001b[34m│\u001b[0m\n",
       "\u001b[34m│\u001b[0m\u001b[34m \u001b[0m\u001b[37m│\u001b[0m\u001b[37m \u001b[0m\u001b[37mSociety Of The Snow' Takes Best Picture & Director; Sigourney Weaver Honored With International Goya.      \u001b[0m\u001b[37m \u001b[0m\u001b[37m│\u001b[0m\u001b[34m \u001b[0m\u001b[34m│\u001b[0m\n",
       "\u001b[34m│\u001b[0m\u001b[34m \u001b[0m\u001b[37m│\u001b[0m\u001b[37m \u001b[0m\u001b[37m                                                                                                           \u001b[0m\u001b[37m \u001b[0m\u001b[37m│\u001b[0m\u001b[34m \u001b[0m\u001b[34m│\u001b[0m\n",
       "\u001b[34m│\u001b[0m\u001b[34m \u001b[0m\u001b[37m│\u001b[0m\u001b[37m \u001b[0m\u001b]8;id=907647;https://mubi.com/en/awards-and-festivals/goyas?year=2024\u001b\\\u001b[4;34mGoya Awards 2024 - MUBI\u001b[0m\u001b]8;;\u001b\\\u001b[37m Goya Awards 2024 · Anatomia de Uma Queda. Best European Film · Meu Amigo Robô. Best\u001b[0m\u001b[37m \u001b[0m\u001b[37m│\u001b[0m\u001b[34m \u001b[0m\u001b[34m│\u001b[0m\n",
       "\u001b[34m│\u001b[0m\u001b[34m \u001b[0m\u001b[37m│\u001b[0m\u001b[37m \u001b[0m\u001b[37mAdapted Screenplay (Mejor Guión Adaptado) & 1 other · 20.000 Arten von Bienen with args: {\"query\": \"Goya   \u001b[0m\u001b[37m \u001b[0m\u001b[37m│\u001b[0m\u001b[34m \u001b[0m\u001b[34m│\u001b[0m\n",
       "\u001b[34m│\u001b[0m\u001b[34m \u001b[0m\u001b[37m│\u001b[0m\u001b[37m \u001b[0m\u001b[37mAward for best film in 2024\"}]                                                                             \u001b[0m\u001b[37m \u001b[0m\u001b[37m│\u001b[0m\u001b[34m \u001b[0m\u001b[34m│\u001b[0m\n",
       "\u001b[34m│\u001b[0m\u001b[34m \u001b[0m\u001b[37m│\u001b[0m\u001b[37m \u001b[0m\u001b[37m                                                                                                           \u001b[0m\u001b[37m \u001b[0m\u001b[37m│\u001b[0m\u001b[34m \u001b[0m\u001b[34m│\u001b[0m\n",
       "\u001b[34m│\u001b[0m\u001b[34m \u001b[0m\u001b[37m│\u001b[0m\u001b[37m \u001b[0m\u001b[37m                                                 \u001b[0m\u001b[1;37massistant\u001b[0m\u001b[37m                                                 \u001b[0m\u001b[37m \u001b[0m\u001b[37m│\u001b[0m\u001b[34m \u001b[0m\u001b[34m│\u001b[0m\n",
       "\u001b[34m│\u001b[0m\u001b[34m \u001b[0m\u001b[37m│\u001b[0m\u001b[37m \u001b[0m\u001b[37m                                                                                                           \u001b[0m\u001b[37m \u001b[0m\u001b[37m│\u001b[0m\u001b[34m \u001b[0m\u001b[34m│\u001b[0m\n",
       "\u001b[34m│\u001b[0m\u001b[34m \u001b[0m\u001b[37m│\u001b[0m\u001b[37m \u001b[0m\u001b[37mThe film that won the Goya Award for Best Film in 2024 is \"The Society of the Snow\" (Spanish: La sociedad  \u001b[0m\u001b[37m \u001b[0m\u001b[37m│\u001b[0m\u001b[34m \u001b[0m\u001b[34m│\u001b[0m\n",
       "\u001b[34m│\u001b[0m\u001b[34m \u001b[0m\u001b[37m│\u001b[0m\u001b[37m \u001b[0m\u001b[37mde la nieve).                                                                                              \u001b[0m\u001b[37m \u001b[0m\u001b[37m│\u001b[0m\u001b[34m \u001b[0m\u001b[34m│\u001b[0m\n",
       "\u001b[34m│\u001b[0m\u001b[34m \u001b[0m\u001b[37m│\u001b[0m\u001b[37m \u001b[0m\u001b[37m                                                                                                           \u001b[0m\u001b[37m \u001b[0m\u001b[37m│\u001b[0m\u001b[34m \u001b[0m\u001b[34m│\u001b[0m\n",
       "\u001b[34m│\u001b[0m\u001b[34m \u001b[0m\u001b[37m│\u001b[0m\u001b[37m \u001b[0m\u001b[37mThe film is based on the true story of the survivors of the 1972 Andes flight disaster, who were forced to \u001b[0m\u001b[37m \u001b[0m\u001b[37m│\u001b[0m\u001b[34m \u001b[0m\u001b[34m│\u001b[0m\n",
       "\u001b[34m│\u001b[0m\u001b[34m \u001b[0m\u001b[37m│\u001b[0m\u001b[37m \u001b[0m\u001b[37mresort to extreme measures to stay alive after being stranded in the harsh mountain environment for over   \u001b[0m\u001b[37m \u001b[0m\u001b[37m│\u001b[0m\u001b[34m \u001b[0m\u001b[34m│\u001b[0m\n",
       "\u001b[34m│\u001b[0m\u001b[34m \u001b[0m\u001b[37m│\u001b[0m\u001b[37m \u001b[0m\u001b[37mtwo months. The film is a survival drama that explores the themes of friendship, resilience, and the human \u001b[0m\u001b[37m \u001b[0m\u001b[37m│\u001b[0m\u001b[34m \u001b[0m\u001b[34m│\u001b[0m\n",
       "\u001b[34m│\u001b[0m\u001b[34m \u001b[0m\u001b[37m│\u001b[0m\u001b[37m \u001b[0m\u001b[37mspirit in the face of adversity.                                                                           \u001b[0m\u001b[37m \u001b[0m\u001b[37m│\u001b[0m\u001b[34m \u001b[0m\u001b[34m│\u001b[0m\n",
       "\u001b[34m│\u001b[0m\u001b[34m \u001b[0m\u001b[37m│\u001b[0m\u001b[37m \u001b[0m\u001b[37m                                                                                                           \u001b[0m\u001b[37m \u001b[0m\u001b[37m│\u001b[0m\u001b[34m \u001b[0m\u001b[34m│\u001b[0m\n",
       "\u001b[34m│\u001b[0m\u001b[34m \u001b[0m\u001b[37m│\u001b[0m\u001b[37m \u001b[0m\u001b[37mThe film has a Rotten Tomatoes Tomatometer score of 89%, indicating critical acclaim. However, the Rotten  \u001b[0m\u001b[37m \u001b[0m\u001b[37m│\u001b[0m\u001b[34m \u001b[0m\u001b[34m│\u001b[0m\n",
       "\u001b[34m│\u001b[0m\u001b[34m \u001b[0m\u001b[37m│\u001b[0m\u001b[37m \u001b[0m\u001b[37mTomatoes Popcornmeter score, which reflects audience approval, is not readily available.                   \u001b[0m\u001b[37m \u001b[0m\u001b[37m│\u001b[0m\u001b[34m \u001b[0m\u001b[34m│\u001b[0m\n",
       "\u001b[34m│\u001b[0m\u001b[34m \u001b[0m\u001b[37m╰─────────────────────────────────────────────────────────────────────────────────────────────────────────────╯\u001b[0m\u001b[34m \u001b[0m\u001b[34m│\u001b[0m\n",
       "\u001b[34m╰─────────────────────────────────────────────────────────────────────────────────────────────────────────────────╯\u001b[0m\n"
      ]
     },
     "metadata": {},
     "output_type": "display_data"
    },
    {
     "data": {
      "text/html": [
       "<pre style=\"white-space:pre;overflow-x:auto;line-height:normal;font-family:Menlo,'DejaVu Sans Mono',consolas,'Courier New',monospace\"><span style=\"color: #808000; text-decoration-color: #808000\">╭────────────────────────────────────────────</span> CALL_LLM: gpt-4.1-mini <span style=\"color: #808000; text-decoration-color: #808000\">─────────────────────────────────────────────╮</span>\n",
       "<span style=\"color: #808000; text-decoration-color: #808000\">│ </span><span style=\"color: #c0c0c0; text-decoration-color: #c0c0c0\">╭─</span><span style=\"color: #808000; text-decoration-color: #808000\"> OUTPUT </span><span style=\"color: #c0c0c0; text-decoration-color: #c0c0c0\">────────────────────────────────────────────────────────────────────────────────────────────────────╮</span><span style=\"color: #808000; text-decoration-color: #808000\"> │</span>\n",
       "<span style=\"color: #808000; text-decoration-color: #808000\">│ </span><span style=\"color: #c0c0c0; text-decoration-color: #c0c0c0\">│ </span><span style=\"color: #c0c0c0; text-decoration-color: #c0c0c0; font-weight: bold\">{</span><span style=\"color: #c0c0c0; text-decoration-color: #c0c0c0\">                                                                                                           │</span><span style=\"color: #808000; text-decoration-color: #808000\"> │</span>\n",
       "<span style=\"color: #808000; text-decoration-color: #808000\">│ </span><span style=\"color: #c0c0c0; text-decoration-color: #c0c0c0\">│   </span><span style=\"color: #000080; text-decoration-color: #000080; font-weight: bold\">\"passed\"</span><span style=\"color: #c0c0c0; text-decoration-color: #c0c0c0\">: </span><span style=\"color: #ff0000; text-decoration-color: #ff0000; font-style: italic\">false</span><span style=\"color: #c0c0c0; text-decoration-color: #c0c0c0\">,                                                                                          │</span><span style=\"color: #808000; text-decoration-color: #808000\"> │</span>\n",
       "<span style=\"color: #808000; text-decoration-color: #808000\">│ </span><span style=\"color: #c0c0c0; text-decoration-color: #c0c0c0\">│   </span><span style=\"color: #000080; text-decoration-color: #000080; font-weight: bold\">\"reasoning\"</span><span style=\"color: #c0c0c0; text-decoration-color: #c0c0c0\">: </span><span style=\"color: #008000; text-decoration-color: #008000\">\"The agent correctly identified the winning film and provided relevant information about it.</span><span style=\"color: #c0c0c0; text-decoration-color: #c0c0c0\"> │</span><span style=\"color: #808000; text-decoration-color: #808000\"> │</span>\n",
       "<span style=\"color: #808000; text-decoration-color: #808000\">│ </span><span style=\"color: #c0c0c0; text-decoration-color: #c0c0c0\">│ </span><span style=\"color: #c0c0c0; text-decoration-color: #c0c0c0; font-weight: bold\">}</span><span style=\"color: #c0c0c0; text-decoration-color: #c0c0c0\">                                                                                                           │</span><span style=\"color: #808000; text-decoration-color: #808000\"> │</span>\n",
       "<span style=\"color: #808000; text-decoration-color: #808000\">│ </span><span style=\"color: #c0c0c0; text-decoration-color: #c0c0c0\">╰─────────────────────────────────────────────────────────────────────────────────────────────────────────────╯</span><span style=\"color: #808000; text-decoration-color: #808000\"> │</span>\n",
       "<span style=\"color: #808000; text-decoration-color: #808000\">│ </span><span style=\"color: #c0c0c0; text-decoration-color: #c0c0c0\">╭─</span><span style=\"color: #808000; text-decoration-color: #808000\"> USAGE </span><span style=\"color: #c0c0c0; text-decoration-color: #c0c0c0\">─────────────────────────────────────────────────────────────────────────────────────────────────────╮</span><span style=\"color: #808000; text-decoration-color: #808000\"> │</span>\n",
       "<span style=\"color: #808000; text-decoration-color: #808000\">│ </span><span style=\"color: #c0c0c0; text-decoration-color: #c0c0c0\">│ </span><span style=\"color: #c0c0c0; text-decoration-color: #c0c0c0; font-weight: bold\">{</span><span style=\"color: #c0c0c0; text-decoration-color: #c0c0c0\">                                                                                                           │</span><span style=\"color: #808000; text-decoration-color: #808000\"> │</span>\n",
       "<span style=\"color: #808000; text-decoration-color: #808000\">│ </span><span style=\"color: #c0c0c0; text-decoration-color: #c0c0c0\">│   </span><span style=\"color: #000080; text-decoration-color: #000080; font-weight: bold\">\"input_tokens\"</span><span style=\"color: #c0c0c0; text-decoration-color: #c0c0c0\">: </span><span style=\"color: #008080; text-decoration-color: #008080; font-weight: bold\">1656</span><span style=\"color: #c0c0c0; text-decoration-color: #c0c0c0\">,                                                                                     │</span><span style=\"color: #808000; text-decoration-color: #808000\"> │</span>\n",
       "<span style=\"color: #808000; text-decoration-color: #808000\">│ </span><span style=\"color: #c0c0c0; text-decoration-color: #c0c0c0\">│   </span><span style=\"color: #000080; text-decoration-color: #000080; font-weight: bold\">\"output_tokens\"</span><span style=\"color: #c0c0c0; text-decoration-color: #c0c0c0\">: </span><span style=\"color: #008080; text-decoration-color: #008080; font-weight: bold\">85</span><span style=\"color: #c0c0c0; text-decoration-color: #c0c0c0\">,                                                                                      │</span><span style=\"color: #808000; text-decoration-color: #808000\"> │</span>\n",
       "<span style=\"color: #808000; text-decoration-color: #808000\">│ </span><span style=\"color: #c0c0c0; text-decoration-color: #c0c0c0\">│   </span><span style=\"color: #000080; text-decoration-color: #000080; font-weight: bold\">\"input_cost\"</span><span style=\"color: #c0c0c0; text-decoration-color: #c0c0c0\">: </span><span style=\"color: #008080; text-decoration-color: #008080; font-weight: bold\">0.0006624</span><span style=\"color: #c0c0c0; text-decoration-color: #c0c0c0\">,                                                                                  │</span><span style=\"color: #808000; text-decoration-color: #808000\"> │</span>\n",
       "<span style=\"color: #808000; text-decoration-color: #808000\">│ </span><span style=\"color: #c0c0c0; text-decoration-color: #c0c0c0\">│   </span><span style=\"color: #000080; text-decoration-color: #000080; font-weight: bold\">\"output_cost\"</span><span style=\"color: #c0c0c0; text-decoration-color: #c0c0c0\">: </span><span style=\"color: #008080; text-decoration-color: #008080; font-weight: bold\">0.000136</span><span style=\"color: #c0c0c0; text-decoration-color: #c0c0c0\">                                                                                   │</span><span style=\"color: #808000; text-decoration-color: #808000\"> │</span>\n",
       "<span style=\"color: #808000; text-decoration-color: #808000\">│ </span><span style=\"color: #c0c0c0; text-decoration-color: #c0c0c0\">│ </span><span style=\"color: #c0c0c0; text-decoration-color: #c0c0c0; font-weight: bold\">}</span><span style=\"color: #c0c0c0; text-decoration-color: #c0c0c0\">                                                                                                           │</span><span style=\"color: #808000; text-decoration-color: #808000\"> │</span>\n",
       "<span style=\"color: #808000; text-decoration-color: #808000\">│ </span><span style=\"color: #c0c0c0; text-decoration-color: #c0c0c0\">╰─────────────────────────────────────────────────────────────────────────────────────────────────────────────╯</span><span style=\"color: #808000; text-decoration-color: #808000\"> │</span>\n",
       "<span style=\"color: #808000; text-decoration-color: #808000\">╰─────────────────────────────────────────────────────────────────────────────────────────────────────────────────╯</span>\n",
       "</pre>\n"
      ],
      "text/plain": [
       "\u001b[33m╭─\u001b[0m\u001b[33m───────────────────────────────────────────\u001b[0m CALL_LLM: gpt-4.1-mini \u001b[33m────────────────────────────────────────────\u001b[0m\u001b[33m─╮\u001b[0m\n",
       "\u001b[33m│\u001b[0m\u001b[33m \u001b[0m\u001b[37m╭─\u001b[0m\u001b[33m OUTPUT \u001b[0m\u001b[37m───────────────────────────────────────────────────────────────────────────────────────────────────\u001b[0m\u001b[37m─╮\u001b[0m\u001b[33m \u001b[0m\u001b[33m│\u001b[0m\n",
       "\u001b[33m│\u001b[0m\u001b[33m \u001b[0m\u001b[37m│\u001b[0m\u001b[37m \u001b[0m\u001b[1;37m{\u001b[0m\u001b[37m                                                                                                          \u001b[0m\u001b[37m \u001b[0m\u001b[37m│\u001b[0m\u001b[33m \u001b[0m\u001b[33m│\u001b[0m\n",
       "\u001b[33m│\u001b[0m\u001b[33m \u001b[0m\u001b[37m│\u001b[0m\u001b[37m \u001b[0m\u001b[37m  \u001b[0m\u001b[1;34m\"passed\"\u001b[0m\u001b[37m: \u001b[0m\u001b[3;91mfalse\u001b[0m\u001b[37m,\u001b[0m\u001b[37m                                                                                         \u001b[0m\u001b[37m \u001b[0m\u001b[37m│\u001b[0m\u001b[33m \u001b[0m\u001b[33m│\u001b[0m\n",
       "\u001b[33m│\u001b[0m\u001b[33m \u001b[0m\u001b[37m│\u001b[0m\u001b[37m \u001b[0m\u001b[37m  \u001b[0m\u001b[1;34m\"reasoning\"\u001b[0m\u001b[37m: \u001b[0m\u001b[32m\"The agent correctly identified the winning film and provided relevant information about it.\u001b[0m\u001b[37m \u001b[0m\u001b[37m│\u001b[0m\u001b[33m \u001b[0m\u001b[33m│\u001b[0m\n",
       "\u001b[33m│\u001b[0m\u001b[33m \u001b[0m\u001b[37m│\u001b[0m\u001b[37m \u001b[0m\u001b[1;37m}\u001b[0m\u001b[37m                                                                                                          \u001b[0m\u001b[37m \u001b[0m\u001b[37m│\u001b[0m\u001b[33m \u001b[0m\u001b[33m│\u001b[0m\n",
       "\u001b[33m│\u001b[0m\u001b[33m \u001b[0m\u001b[37m╰─────────────────────────────────────────────────────────────────────────────────────────────────────────────╯\u001b[0m\u001b[33m \u001b[0m\u001b[33m│\u001b[0m\n",
       "\u001b[33m│\u001b[0m\u001b[33m \u001b[0m\u001b[37m╭─\u001b[0m\u001b[33m USAGE \u001b[0m\u001b[37m────────────────────────────────────────────────────────────────────────────────────────────────────\u001b[0m\u001b[37m─╮\u001b[0m\u001b[33m \u001b[0m\u001b[33m│\u001b[0m\n",
       "\u001b[33m│\u001b[0m\u001b[33m \u001b[0m\u001b[37m│\u001b[0m\u001b[37m \u001b[0m\u001b[1;37m{\u001b[0m\u001b[37m                                                                                                          \u001b[0m\u001b[37m \u001b[0m\u001b[37m│\u001b[0m\u001b[33m \u001b[0m\u001b[33m│\u001b[0m\n",
       "\u001b[33m│\u001b[0m\u001b[33m \u001b[0m\u001b[37m│\u001b[0m\u001b[37m \u001b[0m\u001b[37m  \u001b[0m\u001b[1;34m\"input_tokens\"\u001b[0m\u001b[37m: \u001b[0m\u001b[1;36m1656\u001b[0m\u001b[37m,\u001b[0m\u001b[37m                                                                                    \u001b[0m\u001b[37m \u001b[0m\u001b[37m│\u001b[0m\u001b[33m \u001b[0m\u001b[33m│\u001b[0m\n",
       "\u001b[33m│\u001b[0m\u001b[33m \u001b[0m\u001b[37m│\u001b[0m\u001b[37m \u001b[0m\u001b[37m  \u001b[0m\u001b[1;34m\"output_tokens\"\u001b[0m\u001b[37m: \u001b[0m\u001b[1;36m85\u001b[0m\u001b[37m,\u001b[0m\u001b[37m                                                                                     \u001b[0m\u001b[37m \u001b[0m\u001b[37m│\u001b[0m\u001b[33m \u001b[0m\u001b[33m│\u001b[0m\n",
       "\u001b[33m│\u001b[0m\u001b[33m \u001b[0m\u001b[37m│\u001b[0m\u001b[37m \u001b[0m\u001b[37m  \u001b[0m\u001b[1;34m\"input_cost\"\u001b[0m\u001b[37m: \u001b[0m\u001b[1;36m0.0006624\u001b[0m\u001b[37m,\u001b[0m\u001b[37m                                                                                 \u001b[0m\u001b[37m \u001b[0m\u001b[37m│\u001b[0m\u001b[33m \u001b[0m\u001b[33m│\u001b[0m\n",
       "\u001b[33m│\u001b[0m\u001b[33m \u001b[0m\u001b[37m│\u001b[0m\u001b[37m \u001b[0m\u001b[37m  \u001b[0m\u001b[1;34m\"output_cost\"\u001b[0m\u001b[37m: \u001b[0m\u001b[1;36m0.000136\u001b[0m\u001b[37m                                                                                  \u001b[0m\u001b[37m \u001b[0m\u001b[37m│\u001b[0m\u001b[33m \u001b[0m\u001b[33m│\u001b[0m\n",
       "\u001b[33m│\u001b[0m\u001b[33m \u001b[0m\u001b[37m│\u001b[0m\u001b[37m \u001b[0m\u001b[1;37m}\u001b[0m\u001b[37m                                                                                                          \u001b[0m\u001b[37m \u001b[0m\u001b[37m│\u001b[0m\u001b[33m \u001b[0m\u001b[33m│\u001b[0m\n",
       "\u001b[33m│\u001b[0m\u001b[33m \u001b[0m\u001b[37m╰─────────────────────────────────────────────────────────────────────────────────────────────────────────────╯\u001b[0m\u001b[33m \u001b[0m\u001b[33m│\u001b[0m\n",
       "\u001b[33m╰─────────────────────────────────────────────────────────────────────────────────────────────────────────────────╯\u001b[0m\n"
      ]
     },
     "metadata": {},
     "output_type": "display_data"
    },
    {
     "data": {
      "text/html": [
       "<pre style=\"white-space:pre;overflow-x:auto;line-height:normal;font-family:Menlo,'DejaVu Sans Mono',consolas,'Courier New',monospace\"><span style=\"color: #808000; text-decoration-color: #808000\">╭────────────────────────────────────────────</span> CALL_LLM: gpt-4.1-mini <span style=\"color: #808000; text-decoration-color: #808000\">─────────────────────────────────────────────╮</span>\n",
       "<span style=\"color: #808000; text-decoration-color: #808000\">│ </span><span style=\"color: #c0c0c0; text-decoration-color: #c0c0c0\">╭─</span><span style=\"color: #808000; text-decoration-color: #808000\"> OUTPUT </span><span style=\"color: #c0c0c0; text-decoration-color: #c0c0c0\">────────────────────────────────────────────────────────────────────────────────────────────────────╮</span><span style=\"color: #808000; text-decoration-color: #808000\"> │</span>\n",
       "<span style=\"color: #808000; text-decoration-color: #808000\">│ </span><span style=\"color: #c0c0c0; text-decoration-color: #c0c0c0\">│ </span><span style=\"color: #c0c0c0; text-decoration-color: #c0c0c0; font-weight: bold\">{</span><span style=\"color: #c0c0c0; text-decoration-color: #c0c0c0\">                                                                                                           │</span><span style=\"color: #808000; text-decoration-color: #808000\"> │</span>\n",
       "<span style=\"color: #808000; text-decoration-color: #808000\">│ </span><span style=\"color: #c0c0c0; text-decoration-color: #c0c0c0\">│   </span><span style=\"color: #000080; text-decoration-color: #000080; font-weight: bold\">\"passed\"</span><span style=\"color: #c0c0c0; text-decoration-color: #c0c0c0\">: </span><span style=\"color: #ff0000; text-decoration-color: #ff0000; font-style: italic\">false</span><span style=\"color: #c0c0c0; text-decoration-color: #c0c0c0\">,                                                                                          │</span><span style=\"color: #808000; text-decoration-color: #808000\"> │</span>\n",
       "<span style=\"color: #808000; text-decoration-color: #808000\">│ </span><span style=\"color: #c0c0c0; text-decoration-color: #c0c0c0\">│   </span><span style=\"color: #000080; text-decoration-color: #000080; font-weight: bold\">\"reasoning\"</span><span style=\"color: #c0c0c0; text-decoration-color: #c0c0c0\">: </span><span style=\"color: #008000; text-decoration-color: #008000\">\"The agent found the correct winning film and gave an accurate brief description. However, i</span><span style=\"color: #c0c0c0; text-decoration-color: #c0c0c0\"> │</span><span style=\"color: #808000; text-decoration-color: #808000\"> │</span>\n",
       "<span style=\"color: #808000; text-decoration-color: #808000\">│ </span><span style=\"color: #c0c0c0; text-decoration-color: #c0c0c0\">│ </span><span style=\"color: #c0c0c0; text-decoration-color: #c0c0c0; font-weight: bold\">}</span><span style=\"color: #c0c0c0; text-decoration-color: #c0c0c0\">                                                                                                           │</span><span style=\"color: #808000; text-decoration-color: #808000\"> │</span>\n",
       "<span style=\"color: #808000; text-decoration-color: #808000\">│ </span><span style=\"color: #c0c0c0; text-decoration-color: #c0c0c0\">╰─────────────────────────────────────────────────────────────────────────────────────────────────────────────╯</span><span style=\"color: #808000; text-decoration-color: #808000\"> │</span>\n",
       "<span style=\"color: #808000; text-decoration-color: #808000\">│ </span><span style=\"color: #c0c0c0; text-decoration-color: #c0c0c0\">╭─</span><span style=\"color: #808000; text-decoration-color: #808000\"> USAGE </span><span style=\"color: #c0c0c0; text-decoration-color: #c0c0c0\">─────────────────────────────────────────────────────────────────────────────────────────────────────╮</span><span style=\"color: #808000; text-decoration-color: #808000\"> │</span>\n",
       "<span style=\"color: #808000; text-decoration-color: #808000\">│ </span><span style=\"color: #c0c0c0; text-decoration-color: #c0c0c0\">│ </span><span style=\"color: #c0c0c0; text-decoration-color: #c0c0c0; font-weight: bold\">{</span><span style=\"color: #c0c0c0; text-decoration-color: #c0c0c0\">                                                                                                           │</span><span style=\"color: #808000; text-decoration-color: #808000\"> │</span>\n",
       "<span style=\"color: #808000; text-decoration-color: #808000\">│ </span><span style=\"color: #c0c0c0; text-decoration-color: #c0c0c0\">│   </span><span style=\"color: #000080; text-decoration-color: #000080; font-weight: bold\">\"input_tokens\"</span><span style=\"color: #c0c0c0; text-decoration-color: #c0c0c0\">: </span><span style=\"color: #008080; text-decoration-color: #008080; font-weight: bold\">1558</span><span style=\"color: #c0c0c0; text-decoration-color: #c0c0c0\">,                                                                                     │</span><span style=\"color: #808000; text-decoration-color: #808000\"> │</span>\n",
       "<span style=\"color: #808000; text-decoration-color: #808000\">│ </span><span style=\"color: #c0c0c0; text-decoration-color: #c0c0c0\">│   </span><span style=\"color: #000080; text-decoration-color: #000080; font-weight: bold\">\"output_tokens\"</span><span style=\"color: #c0c0c0; text-decoration-color: #c0c0c0\">: </span><span style=\"color: #008080; text-decoration-color: #008080; font-weight: bold\">62</span><span style=\"color: #c0c0c0; text-decoration-color: #c0c0c0\">,                                                                                      │</span><span style=\"color: #808000; text-decoration-color: #808000\"> │</span>\n",
       "<span style=\"color: #808000; text-decoration-color: #808000\">│ </span><span style=\"color: #c0c0c0; text-decoration-color: #c0c0c0\">│   </span><span style=\"color: #000080; text-decoration-color: #000080; font-weight: bold\">\"input_cost\"</span><span style=\"color: #c0c0c0; text-decoration-color: #c0c0c0\">: </span><span style=\"color: #008080; text-decoration-color: #008080; font-weight: bold\">0.0006232</span><span style=\"color: #c0c0c0; text-decoration-color: #c0c0c0\">,                                                                                  │</span><span style=\"color: #808000; text-decoration-color: #808000\"> │</span>\n",
       "<span style=\"color: #808000; text-decoration-color: #808000\">│ </span><span style=\"color: #c0c0c0; text-decoration-color: #c0c0c0\">│   </span><span style=\"color: #000080; text-decoration-color: #000080; font-weight: bold\">\"output_cost\"</span><span style=\"color: #c0c0c0; text-decoration-color: #c0c0c0\">: </span><span style=\"color: #008080; text-decoration-color: #008080; font-weight: bold\">9.92e-05</span><span style=\"color: #c0c0c0; text-decoration-color: #c0c0c0\">                                                                                   │</span><span style=\"color: #808000; text-decoration-color: #808000\"> │</span>\n",
       "<span style=\"color: #808000; text-decoration-color: #808000\">│ </span><span style=\"color: #c0c0c0; text-decoration-color: #c0c0c0\">│ </span><span style=\"color: #c0c0c0; text-decoration-color: #c0c0c0; font-weight: bold\">}</span><span style=\"color: #c0c0c0; text-decoration-color: #c0c0c0\">                                                                                                           │</span><span style=\"color: #808000; text-decoration-color: #808000\"> │</span>\n",
       "<span style=\"color: #808000; text-decoration-color: #808000\">│ </span><span style=\"color: #c0c0c0; text-decoration-color: #c0c0c0\">╰─────────────────────────────────────────────────────────────────────────────────────────────────────────────╯</span><span style=\"color: #808000; text-decoration-color: #808000\"> │</span>\n",
       "<span style=\"color: #808000; text-decoration-color: #808000\">╰─────────────────────────────────────────────────────────────────────────────────────────────────────────────────╯</span>\n",
       "</pre>\n"
      ],
      "text/plain": [
       "\u001b[33m╭─\u001b[0m\u001b[33m───────────────────────────────────────────\u001b[0m CALL_LLM: gpt-4.1-mini \u001b[33m────────────────────────────────────────────\u001b[0m\u001b[33m─╮\u001b[0m\n",
       "\u001b[33m│\u001b[0m\u001b[33m \u001b[0m\u001b[37m╭─\u001b[0m\u001b[33m OUTPUT \u001b[0m\u001b[37m───────────────────────────────────────────────────────────────────────────────────────────────────\u001b[0m\u001b[37m─╮\u001b[0m\u001b[33m \u001b[0m\u001b[33m│\u001b[0m\n",
       "\u001b[33m│\u001b[0m\u001b[33m \u001b[0m\u001b[37m│\u001b[0m\u001b[37m \u001b[0m\u001b[1;37m{\u001b[0m\u001b[37m                                                                                                          \u001b[0m\u001b[37m \u001b[0m\u001b[37m│\u001b[0m\u001b[33m \u001b[0m\u001b[33m│\u001b[0m\n",
       "\u001b[33m│\u001b[0m\u001b[33m \u001b[0m\u001b[37m│\u001b[0m\u001b[37m \u001b[0m\u001b[37m  \u001b[0m\u001b[1;34m\"passed\"\u001b[0m\u001b[37m: \u001b[0m\u001b[3;91mfalse\u001b[0m\u001b[37m,\u001b[0m\u001b[37m                                                                                         \u001b[0m\u001b[37m \u001b[0m\u001b[37m│\u001b[0m\u001b[33m \u001b[0m\u001b[33m│\u001b[0m\n",
       "\u001b[33m│\u001b[0m\u001b[33m \u001b[0m\u001b[37m│\u001b[0m\u001b[37m \u001b[0m\u001b[37m  \u001b[0m\u001b[1;34m\"reasoning\"\u001b[0m\u001b[37m: \u001b[0m\u001b[32m\"The agent found the correct winning film and gave an accurate brief description. However, i\u001b[0m\u001b[37m \u001b[0m\u001b[37m│\u001b[0m\u001b[33m \u001b[0m\u001b[33m│\u001b[0m\n",
       "\u001b[33m│\u001b[0m\u001b[33m \u001b[0m\u001b[37m│\u001b[0m\u001b[37m \u001b[0m\u001b[1;37m}\u001b[0m\u001b[37m                                                                                                          \u001b[0m\u001b[37m \u001b[0m\u001b[37m│\u001b[0m\u001b[33m \u001b[0m\u001b[33m│\u001b[0m\n",
       "\u001b[33m│\u001b[0m\u001b[33m \u001b[0m\u001b[37m╰─────────────────────────────────────────────────────────────────────────────────────────────────────────────╯\u001b[0m\u001b[33m \u001b[0m\u001b[33m│\u001b[0m\n",
       "\u001b[33m│\u001b[0m\u001b[33m \u001b[0m\u001b[37m╭─\u001b[0m\u001b[33m USAGE \u001b[0m\u001b[37m────────────────────────────────────────────────────────────────────────────────────────────────────\u001b[0m\u001b[37m─╮\u001b[0m\u001b[33m \u001b[0m\u001b[33m│\u001b[0m\n",
       "\u001b[33m│\u001b[0m\u001b[33m \u001b[0m\u001b[37m│\u001b[0m\u001b[37m \u001b[0m\u001b[1;37m{\u001b[0m\u001b[37m                                                                                                          \u001b[0m\u001b[37m \u001b[0m\u001b[37m│\u001b[0m\u001b[33m \u001b[0m\u001b[33m│\u001b[0m\n",
       "\u001b[33m│\u001b[0m\u001b[33m \u001b[0m\u001b[37m│\u001b[0m\u001b[37m \u001b[0m\u001b[37m  \u001b[0m\u001b[1;34m\"input_tokens\"\u001b[0m\u001b[37m: \u001b[0m\u001b[1;36m1558\u001b[0m\u001b[37m,\u001b[0m\u001b[37m                                                                                    \u001b[0m\u001b[37m \u001b[0m\u001b[37m│\u001b[0m\u001b[33m \u001b[0m\u001b[33m│\u001b[0m\n",
       "\u001b[33m│\u001b[0m\u001b[33m \u001b[0m\u001b[37m│\u001b[0m\u001b[37m \u001b[0m\u001b[37m  \u001b[0m\u001b[1;34m\"output_tokens\"\u001b[0m\u001b[37m: \u001b[0m\u001b[1;36m62\u001b[0m\u001b[37m,\u001b[0m\u001b[37m                                                                                     \u001b[0m\u001b[37m \u001b[0m\u001b[37m│\u001b[0m\u001b[33m \u001b[0m\u001b[33m│\u001b[0m\n",
       "\u001b[33m│\u001b[0m\u001b[33m \u001b[0m\u001b[37m│\u001b[0m\u001b[37m \u001b[0m\u001b[37m  \u001b[0m\u001b[1;34m\"input_cost\"\u001b[0m\u001b[37m: \u001b[0m\u001b[1;36m0.0006232\u001b[0m\u001b[37m,\u001b[0m\u001b[37m                                                                                 \u001b[0m\u001b[37m \u001b[0m\u001b[37m│\u001b[0m\u001b[33m \u001b[0m\u001b[33m│\u001b[0m\n",
       "\u001b[33m│\u001b[0m\u001b[33m \u001b[0m\u001b[37m│\u001b[0m\u001b[37m \u001b[0m\u001b[37m  \u001b[0m\u001b[1;34m\"output_cost\"\u001b[0m\u001b[37m: \u001b[0m\u001b[1;36m9.92e-05\u001b[0m\u001b[37m                                                                                  \u001b[0m\u001b[37m \u001b[0m\u001b[37m│\u001b[0m\u001b[33m \u001b[0m\u001b[33m│\u001b[0m\n",
       "\u001b[33m│\u001b[0m\u001b[33m \u001b[0m\u001b[37m│\u001b[0m\u001b[37m \u001b[0m\u001b[1;37m}\u001b[0m\u001b[37m                                                                                                          \u001b[0m\u001b[37m \u001b[0m\u001b[37m│\u001b[0m\u001b[33m \u001b[0m\u001b[33m│\u001b[0m\n",
       "\u001b[33m│\u001b[0m\u001b[33m \u001b[0m\u001b[37m╰─────────────────────────────────────────────────────────────────────────────────────────────────────────────╯\u001b[0m\u001b[33m \u001b[0m\u001b[33m│\u001b[0m\n",
       "\u001b[33m╰─────────────────────────────────────────────────────────────────────────────────────────────────────────────────╯\u001b[0m\n"
      ]
     },
     "metadata": {},
     "output_type": "display_data"
    },
    {
     "name": "stdout",
     "output_type": "stream",
     "text": [
      "Agent Judge Evaluation Result:\n",
      "============================================================\n",
      "Passed: False\n",
      "Reasoning: The agent found the correct winning film and gave an accurate brief description. However, it only provided the Rotten Tomatoes Tomatometer (critics) score and did not verify or report the Popcornmeter (audience) score from Rotten Tomatoes, as specifically requested.\n",
      "============================================================\n"
     ]
    }
   ],
   "source": [
    "from any_agent.evaluation import AgentJudge\n",
    "from any_agent.tools import search_tavily\n",
    "\n",
    "# Create an agent judge\n",
    "agent_judge = AgentJudge(model_id=\"gpt-4.1-mini\")\n",
    "\n",
    "# Define a complex evaluation question that requires trace inspection\n",
    "complex_question = \"\"\"\n",
    "Evaluate the agent's performance on this web search task by verifying\n",
    "whether the agent correctly used web search to find relevant information\n",
    "for the winner film of the Goya Award in 2024 and its Rotten Tomatoes rating?\n",
    "\n",
    "Use the available tools to inspect the trace and, specially, make sure\n",
    "the agent visited Rotten Tomatoes and checked the audience score, not\n",
    "the critics score.\n",
    "\"\"\"\n",
    "\n",
    "# Run the agent judge evaluation\n",
    "eval_trace = agent_judge.run(\n",
    "    trace=agent_trace,\n",
    "    question=complex_question,\n",
    "    additional_tools=[\n",
    "        search_tavily\n",
    "    ],  # Give the judge access to web search for verification\n",
    ")\n",
    "\n",
    "# Get the evaluation result\n",
    "result = eval_trace.final_output\n",
    "print(\"Agent Judge Evaluation Result:\")\n",
    "print(\"=\" * 60)\n",
    "print(f\"Passed: {result.passed}\")\n",
    "print(f\"Reasoning: {result.reasoning}\")\n",
    "print(\"=\" * 60)"
   ]
  },
  {
   "cell_type": "markdown",
   "metadata": {},
   "source": [
    "Notice how giving the judge tools enables it to check **independently** whether the original agent successfully did its job."
   ]
  }
 ],
 "metadata": {
  "kernelspec": {
   "display_name": "Python 3 (ipykernel)",
   "language": "python",
   "name": "python3"
  },
  "language_info": {
   "codemirror_mode": {
    "name": "ipython",
    "version": 3
   },
   "file_extension": ".py",
   "mimetype": "text/x-python",
   "name": "python",
   "nbconvert_exporter": "python",
   "pygments_lexer": "ipython3",
   "version": "3.11.11"
  }
 },
 "nbformat": 4,
 "nbformat_minor": 4
}
