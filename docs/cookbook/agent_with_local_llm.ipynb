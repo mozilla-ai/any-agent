{
 "cells": [
  {
   "cell_type": "markdown",
   "metadata": {},
   "source": [
    "# Fully offline Agent!\n",
    "\n",
    "_(no colab for this one since the point is to be run entirely locally)_\n",
    "\n",
    "This tutorial will guide on how to run agent, fully locally / offline i.e., running with a local LLM and a local MCP server, so no data will leave your machine!\n",
    "\n",
    "This can be especially useful for privacy-sensitive applications or when you want to avoid any cloud dependencies.\n",
    "\n",
    "In this example, we will showcase how to let an agent read and write in your local filesystem! Specifically, we will give read-access to the agent to our codebase so that it can write up and generate a README file to describe the project."
   ]
  },
  {
   "cell_type": "markdown",
   "metadata": {},
   "source": [
    "## Install Dependencies\n",
    "\n",
    "any-agent uses the python asyncio module to support async functionality. When running in Jupyter notebooks, this means we need to enable the use of nested event loops. We'll install any-agent and enable this below using nest_asyncio."
   ]
  },
  {
   "cell_type": "code",
   "execution_count": 1,
   "metadata": {
    "ExecuteTime": {
     "end_time": "2025-07-17T10:05:03.147156Z",
     "start_time": "2025-07-17T10:05:02.091784Z"
    }
   },
   "outputs": [
    {
     "name": "stdout",
     "output_type": "stream",
     "text": [
      "Note: you may need to restart the kernel to use updated packages.\n"
     ]
    }
   ],
   "source": [
    "%pip install 'any-agent[smolagents]' --quiet\n",
    "\n",
    "import nest_asyncio\n",
    "\n",
    "nest_asyncio.apply()"
   ]
  },
  {
   "cell_type": "markdown",
   "metadata": {},
   "source": [
    "## Set up your own LLM locally\n",
    "\n",
    "Regardless of which agent framework you choose in any-agent, all of them support LiteLLM, which is a proxy that allows us to use whichever LLM inside the framework, hosted on by any provider. For example, we could use a local model via llama.cpp or [llamafile](https://github.com/Mozilla-Ocho/llamafile), a google hosted gemini model, or a AWS bedrock hosted Llama model. For this example, we will use [Ollama](https://ollama.com/) to run our LLM locally!\n",
    "\n"
   ]
  },
  {
   "cell_type": "markdown",
   "metadata": {},
   "source": [
    "### Ollama setup\n",
    "\n",
    "First, install Ollama by following their instructions: https://ollama.com/download\n",
    "\n",
    "### Picking an LLM\n",
    "\n",
    "Pick a model that you can run locally based on your hardware and running it in your terminal. For example:\n",
    "\n",
    "16-24GB RAM -> `granite3.3`  or  `deepseek-r1:8b` with ~20–35k context length\n",
    "\n",
    "24+GB RAM -> `mistral-small3.2` or `devstral:24b` with ~40k+ context length\n",
    "\n",
    "### Serving the model with the appropriate context length\n",
    "\n",
    "By default, Ollama forces a context length of 8192 tokens to all models, which is not enough for our agent to work properly.\n",
    "We can simply pass to the AgentConfig of `any-agent` as a model argument our desired value of context length like so:\n",
    "```\n",
    "    AgentConfig(\n",
    "        model_id=\"ollama/granite3.3\",\n",
    "        instructions=\"You must use the available tools to solve the task.\",\n",
    "        tools=[mcp_filesystem, show_plan],\n",
    "        model_args={\"num_ctx\": 24000},\n",
    "```\n",
    "\n",
    "References: [AgentConfig](https://mozilla-ai.github.io/any-agent/api/config/), [num_ctx](https://github.com/ollama/ollama/blob/main/docs/modelfile.md#valid-parameters-and-values)\n",
    "\n",
    "All four of the models above have a max context length of 128k tokens, but if you have limited RAM if you set it to 128k it might cause you memory issues. For this example, we will set it to 24.000 tokens and provide a relatively small codebase.\n",
    "\n",
    "### Load and run the model\n",
    "\n",
    "In this tutorial, we will be running in a terminal, parallel to our notebook, `granite3.3`. In another terminal run:\n",
    "\n",
    "```\n",
    "ollama run granite3.3\n",
    "```\n",
    "\n",
    "For more information on setting environment variables in Ollama, please refer to their [documentation](https://github.com/ollama/ollama/blob/main/docs/faq.md#how-do-i-configure-ollama-server)."
   ]
  },
  {
   "cell_type": "markdown",
   "metadata": {},
   "source": [
    "## Configure the Agent and the Tools\n",
    "\n",
    "Instead of giving read-write access to the agent to the whole of our filesystem, we will limit its scope by manually adding which path its allowed to work in by providing it as an argument to the filesystem tool later on."
   ]
  },
  {
   "cell_type": "code",
   "execution_count": 8,
   "metadata": {
    "ExecuteTime": {
     "end_time": "2025-07-17T10:05:03.190560Z",
     "start_time": "2025-07-17T10:05:03.185773Z"
    }
   },
   "outputs": [
    {
     "name": "stdout",
     "output_type": "stream",
     "text": [
      "Codebase directory set: /home/kostis/MZAI/any-agent/docs/cookbook/toy_codebase\n"
     ]
    }
   ],
   "source": [
    "from pathlib import Path\n",
    "\n",
    "codebase_directory = \"toy_codebase\"\n",
    "abs_path = str(Path(codebase_directory).resolve())\n",
    "print(f\"Codebase directory set: {abs_path}\")"
   ]
  },
  {
   "cell_type": "markdown",
   "metadata": {},
   "source": [
    "### Pick which tools to use\n",
    "\n",
    "Since we want our agent to work fully locally/offline, we will not add any tools that require communication with remote servers, in this case a local MCP server for secure file-system operations. We could also simply implement python callable functions that do these operations (e.g. using the os library), but instead we are opting here for an MCP server to showcase how easy it would be to swap or add other MCP servers to this use-case. To enforce that our agent doesn't go rogue and read/write in directories it's not supposed to access we will use the MCP server through a docker container that only has access to the directory above by mounting it. Before running the code below, make sure you have [Docker](https://docs.docker.com/get-started/) running in the background."
   ]
  },
  {
   "cell_type": "code",
   "execution_count": 9,
   "metadata": {
    "ExecuteTime": {
     "end_time": "2025-07-17T10:05:06.863198Z",
     "start_time": "2025-07-17T10:05:03.383093Z"
    }
   },
   "outputs": [],
   "source": [
    "from any_agent.config import MCPStdio\n",
    "\n",
    "docker_destination = \"/projects\"\n",
    "\n",
    "mcp_filesystem = MCPStdio(\n",
    "    command=\"docker\",\n",
    "    args=[\n",
    "        \"run\",\n",
    "        \"-i\",\n",
    "        \"--rm\",\n",
    "        \"--mount\",\n",
    "        f\"type=bind,src={abs_path},dst={docker_destination}\",\n",
    "        \"mcp/filesystem\",\n",
    "        docker_destination,\n",
    "    ],\n",
    "    tools=[\n",
    "        \"read_file\",\n",
    "        \"read_multiple_files\",\n",
    "        \"write_file\",\n",
    "        \"list_allowed_directories\",\n",
    "        \"list_directory\",\n",
    "        \"search_files\",\n",
    "        \"directory_tree\",\n",
    "    ],  # we only include the tools we need\n",
    ")"
   ]
  },
  {
   "cell_type": "markdown",
   "metadata": {},
   "source": "Now that your LLM is running on the background (local server) and you have defined your tools, you need to pick your agent framework to build your agent. Note that the agent you'll build with any-agent can be run across multiple agent frameworks (Smolagent, TinyAgent, OpenAI, etc) and across various LLMs (Llama, DeepSeek, Mistral, etc). For this example, we will use the smolagents framework."
  },
  {
   "cell_type": "code",
   "execution_count": 11,
   "metadata": {
    "ExecuteTime": {
     "end_time": "2025-07-17T10:05:37.671570Z",
     "start_time": "2025-07-17T10:05:06.986202Z"
    }
   },
   "outputs": [],
   "source": [
    "from any_agent import AgentConfig, AnyAgent\n",
    "from any_agent.tools import show_plan\n",
    "\n",
    "# Define the agent\n",
    "agent = AnyAgent.create(\n",
    "    \"smolagents\",\n",
    "    AgentConfig(\n",
    "        model_id=\"ollama/granite3.3\",\n",
    "        instructions=\"\"\"\n",
    "        You must use the available tools to find an answer.\n",
    "        \"\"\",\n",
    "        tools=[mcp_filesystem, show_plan],\n",
    "        model_args={\"num_ctx\": 10000},\n",
    "    ),\n",
    ")"
   ]
  },
  {
   "cell_type": "markdown",
   "metadata": {},
   "source": [
    "## Run the Agent\n"
   ]
  },
  {
   "cell_type": "code",
   "execution_count": 12,
   "metadata": {},
   "outputs": [
    {
     "ename": "KeyboardInterrupt",
     "evalue": "",
     "output_type": "error",
     "traceback": [
      "\u001B[31m---------------------------------------------------------------------------\u001B[39m",
      "\u001B[31mKeyboardInterrupt\u001B[39m                         Traceback (most recent call last)",
      "\u001B[36mFile \u001B[39m\u001B[32m~/MZAI/any-agent/src/any_agent/utils/asyncio_sync.py:39\u001B[39m, in \u001B[36mrun_async_in_sync\u001B[39m\u001B[34m(coro)\u001B[39m\n\u001B[32m     38\u001B[39m     \u001B[38;5;28;01mwith\u001B[39;00m concurrent.futures.ThreadPoolExecutor() \u001B[38;5;28;01mas\u001B[39;00m executor:\n\u001B[32m---> \u001B[39m\u001B[32m39\u001B[39m         \u001B[38;5;28;01mreturn\u001B[39;00m \u001B[43mexecutor\u001B[49m\u001B[43m.\u001B[49m\u001B[43msubmit\u001B[49m\u001B[43m(\u001B[49m\u001B[43mrun_in_thread\u001B[49m\u001B[43m)\u001B[49m\u001B[43m.\u001B[49m\u001B[43mresult\u001B[49m\u001B[43m(\u001B[49m\u001B[43m)\u001B[49m\n\u001B[32m     41\u001B[39m \u001B[38;5;28;01mexcept\u001B[39;00m \u001B[38;5;167;01mRuntimeError\u001B[39;00m:\n\u001B[32m     42\u001B[39m     \u001B[38;5;66;03m# No running event loop - try to get available loop\u001B[39;00m\n",
      "\u001B[36mFile \u001B[39m\u001B[32m~/.pyenv/versions/3.13.1/lib/python3.13/concurrent/futures/_base.py:451\u001B[39m, in \u001B[36mFuture.result\u001B[39m\u001B[34m(self, timeout)\u001B[39m\n\u001B[32m    449\u001B[39m     \u001B[38;5;28;01mreturn\u001B[39;00m \u001B[38;5;28mself\u001B[39m.__get_result()\n\u001B[32m--> \u001B[39m\u001B[32m451\u001B[39m \u001B[38;5;28;43mself\u001B[39;49m\u001B[43m.\u001B[49m\u001B[43m_condition\u001B[49m\u001B[43m.\u001B[49m\u001B[43mwait\u001B[49m\u001B[43m(\u001B[49m\u001B[43mtimeout\u001B[49m\u001B[43m)\u001B[49m\n\u001B[32m    453\u001B[39m \u001B[38;5;28;01mif\u001B[39;00m \u001B[38;5;28mself\u001B[39m._state \u001B[38;5;129;01min\u001B[39;00m [CANCELLED, CANCELLED_AND_NOTIFIED]:\n",
      "\u001B[36mFile \u001B[39m\u001B[32m~/.pyenv/versions/3.13.1/lib/python3.13/threading.py:359\u001B[39m, in \u001B[36mCondition.wait\u001B[39m\u001B[34m(self, timeout)\u001B[39m\n\u001B[32m    358\u001B[39m \u001B[38;5;28;01mif\u001B[39;00m timeout \u001B[38;5;129;01mis\u001B[39;00m \u001B[38;5;28;01mNone\u001B[39;00m:\n\u001B[32m--> \u001B[39m\u001B[32m359\u001B[39m     \u001B[43mwaiter\u001B[49m\u001B[43m.\u001B[49m\u001B[43macquire\u001B[49m\u001B[43m(\u001B[49m\u001B[43m)\u001B[49m\n\u001B[32m    360\u001B[39m     gotit = \u001B[38;5;28;01mTrue\u001B[39;00m\n",
      "\u001B[31mKeyboardInterrupt\u001B[39m: ",
      "\nDuring handling of the above exception, another exception occurred:\n",
      "\u001B[31mKeyboardInterrupt\u001B[39m                         Traceback (most recent call last)",
      "\u001B[36mCell\u001B[39m\u001B[36m \u001B[39m\u001B[32mIn[12]\u001B[39m\u001B[32m, line 1\u001B[39m\n\u001B[32m----> \u001B[39m\u001B[32m1\u001B[39m agent_trace = \u001B[43magent\u001B[49m\u001B[43m.\u001B[49m\u001B[43mrun\u001B[49m\u001B[43m(\u001B[49m\n\u001B[32m      2\u001B[39m \u001B[43m    \u001B[49m\u001B[33;43m\"\u001B[39;49m\u001B[33;43mGo through the files in the allowed directory and any folder inside it recursively. \u001B[39;49m\u001B[33;43m\"\u001B[39;49m\n\u001B[32m      3\u001B[39m \u001B[43m    \u001B[49m\u001B[33;43m\"\u001B[39;49m\u001B[33;43mRead the content of each file that might contain documentation or code and then \u001B[39;49m\u001B[33;43m\"\u001B[39;49m\n\u001B[32m      4\u001B[39m \u001B[43m    \u001B[49m\u001B[33;43m\"\u001B[39;49m\u001B[33;43mcreate a summary in markdown format that summarizes what this project is about \u001B[39;49m\u001B[33;43m\"\u001B[39;49m\n\u001B[32m      5\u001B[39m \u001B[43m    \u001B[49m\u001B[33;43m\"\u001B[39;49m\u001B[33;43mand then write it in a README.md file in the same directory.\u001B[39;49m\u001B[33;43m\"\u001B[39;49m\n\u001B[32m      6\u001B[39m \u001B[43m)\u001B[49m\n",
      "\u001B[36mFile \u001B[39m\u001B[32m~/MZAI/any-agent/src/any_agent/frameworks/any_agent.py:164\u001B[39m, in \u001B[36mAnyAgent.run\u001B[39m\u001B[34m(self, prompt, **kwargs)\u001B[39m\n\u001B[32m    162\u001B[39m \u001B[38;5;28;01mdef\u001B[39;00m\u001B[38;5;250m \u001B[39m\u001B[34mrun\u001B[39m(\u001B[38;5;28mself\u001B[39m, prompt: \u001B[38;5;28mstr\u001B[39m, **kwargs: Any) -> AgentTrace:\n\u001B[32m    163\u001B[39m \u001B[38;5;250m    \u001B[39m\u001B[33;03m\"\"\"Run the agent with the given prompt.\"\"\"\u001B[39;00m\n\u001B[32m--> \u001B[39m\u001B[32m164\u001B[39m     \u001B[38;5;28;01mreturn\u001B[39;00m \u001B[43mrun_async_in_sync\u001B[49m\u001B[43m(\u001B[49m\u001B[38;5;28;43mself\u001B[39;49m\u001B[43m.\u001B[49m\u001B[43mrun_async\u001B[49m\u001B[43m(\u001B[49m\u001B[43mprompt\u001B[49m\u001B[43m,\u001B[49m\u001B[43m \u001B[49m\u001B[43m*\u001B[49m\u001B[43m*\u001B[49m\u001B[43mkwargs\u001B[49m\u001B[43m)\u001B[49m\u001B[43m)\u001B[49m\n",
      "\u001B[36mFile \u001B[39m\u001B[32m~/MZAI/any-agent/src/any_agent/utils/asyncio_sync.py:38\u001B[39m, in \u001B[36mrun_async_in_sync\u001B[39m\u001B[34m(coro)\u001B[39m\n\u001B[32m     35\u001B[39m     \u001B[38;5;28;01mdef\u001B[39;00m\u001B[38;5;250m \u001B[39m\u001B[34mrun_in_thread\u001B[39m() -> T:\n\u001B[32m     36\u001B[39m         \u001B[38;5;28;01mreturn\u001B[39;00m asyncio.run(coro)\n\u001B[32m---> \u001B[39m\u001B[32m38\u001B[39m     \u001B[38;5;28;01mwith\u001B[39;00m concurrent.futures.ThreadPoolExecutor() \u001B[38;5;28;01mas\u001B[39;00m executor:\n\u001B[32m     39\u001B[39m         \u001B[38;5;28;01mreturn\u001B[39;00m executor.submit(run_in_thread).result()\n\u001B[32m     41\u001B[39m \u001B[38;5;28;01mexcept\u001B[39;00m \u001B[38;5;167;01mRuntimeError\u001B[39;00m:\n\u001B[32m     42\u001B[39m     \u001B[38;5;66;03m# No running event loop - try to get available loop\u001B[39;00m\n",
      "\u001B[36mFile \u001B[39m\u001B[32m~/.pyenv/versions/3.13.1/lib/python3.13/concurrent/futures/_base.py:647\u001B[39m, in \u001B[36mExecutor.__exit__\u001B[39m\u001B[34m(self, exc_type, exc_val, exc_tb)\u001B[39m\n\u001B[32m    646\u001B[39m \u001B[38;5;28;01mdef\u001B[39;00m\u001B[38;5;250m \u001B[39m\u001B[34m__exit__\u001B[39m(\u001B[38;5;28mself\u001B[39m, exc_type, exc_val, exc_tb):\n\u001B[32m--> \u001B[39m\u001B[32m647\u001B[39m     \u001B[38;5;28;43mself\u001B[39;49m\u001B[43m.\u001B[49m\u001B[43mshutdown\u001B[49m\u001B[43m(\u001B[49m\u001B[43mwait\u001B[49m\u001B[43m=\u001B[49m\u001B[38;5;28;43;01mTrue\u001B[39;49;00m\u001B[43m)\u001B[49m\n\u001B[32m    648\u001B[39m     \u001B[38;5;28;01mreturn\u001B[39;00m \u001B[38;5;28;01mFalse\u001B[39;00m\n",
      "\u001B[36mFile \u001B[39m\u001B[32m~/.pyenv/versions/3.13.1/lib/python3.13/concurrent/futures/thread.py:239\u001B[39m, in \u001B[36mThreadPoolExecutor.shutdown\u001B[39m\u001B[34m(self, wait, cancel_futures)\u001B[39m\n\u001B[32m    237\u001B[39m \u001B[38;5;28;01mif\u001B[39;00m wait:\n\u001B[32m    238\u001B[39m     \u001B[38;5;28;01mfor\u001B[39;00m t \u001B[38;5;129;01min\u001B[39;00m \u001B[38;5;28mself\u001B[39m._threads:\n\u001B[32m--> \u001B[39m\u001B[32m239\u001B[39m         \u001B[43mt\u001B[49m\u001B[43m.\u001B[49m\u001B[43mjoin\u001B[49m\u001B[43m(\u001B[49m\u001B[43m)\u001B[49m\n",
      "\u001B[36mFile \u001B[39m\u001B[32m~/.pyenv/versions/3.13.1/lib/python3.13/threading.py:1092\u001B[39m, in \u001B[36mThread.join\u001B[39m\u001B[34m(self, timeout)\u001B[39m\n\u001B[32m   1089\u001B[39m \u001B[38;5;28;01mif\u001B[39;00m timeout \u001B[38;5;129;01mis\u001B[39;00m \u001B[38;5;129;01mnot\u001B[39;00m \u001B[38;5;28;01mNone\u001B[39;00m:\n\u001B[32m   1090\u001B[39m     timeout = \u001B[38;5;28mmax\u001B[39m(timeout, \u001B[32m0\u001B[39m)\n\u001B[32m-> \u001B[39m\u001B[32m1092\u001B[39m \u001B[38;5;28;43mself\u001B[39;49m\u001B[43m.\u001B[49m\u001B[43m_handle\u001B[49m\u001B[43m.\u001B[49m\u001B[43mjoin\u001B[49m\u001B[43m(\u001B[49m\u001B[43mtimeout\u001B[49m\u001B[43m)\u001B[49m\n",
      "\u001B[31mKeyboardInterrupt\u001B[39m: "
     ]
    },
    {
     "data": {
      "text/html": [
       "<pre style=\"white-space:pre;overflow-x:auto;line-height:normal;font-family:Menlo,'DejaVu Sans Mono',consolas,'Courier New',monospace\"><span style=\"color: #808000; text-decoration-color: #808000\">╭──────────────────────────────────────────</span> CALL_LLM: ollama/granite3.3 <span style=\"color: #808000; text-decoration-color: #808000\">──────────────────────────────────────────╮</span>\n",
       "<span style=\"color: #808000; text-decoration-color: #808000\">│ </span><span style=\"color: #c0c0c0; text-decoration-color: #c0c0c0\">╭─</span><span style=\"color: #808000; text-decoration-color: #808000\"> INPUT </span><span style=\"color: #c0c0c0; text-decoration-color: #c0c0c0\">─────────────────────────────────────────────────────────────────────────────────────────────────────╮</span><span style=\"color: #808000; text-decoration-color: #808000\"> │</span>\n",
       "<span style=\"color: #808000; text-decoration-color: #808000\">│ </span><span style=\"color: #c0c0c0; text-decoration-color: #c0c0c0\">│ </span><span style=\"color: #c0c0c0; text-decoration-color: #c0c0c0; font-weight: bold\">[</span><span style=\"color: #c0c0c0; text-decoration-color: #c0c0c0\">                                                                                                           │</span><span style=\"color: #808000; text-decoration-color: #808000\"> │</span>\n",
       "<span style=\"color: #808000; text-decoration-color: #808000\">│ </span><span style=\"color: #c0c0c0; text-decoration-color: #c0c0c0\">│   </span><span style=\"color: #c0c0c0; text-decoration-color: #c0c0c0; font-weight: bold\">{</span><span style=\"color: #c0c0c0; text-decoration-color: #c0c0c0\">                                                                                                         │</span><span style=\"color: #808000; text-decoration-color: #808000\"> │</span>\n",
       "<span style=\"color: #808000; text-decoration-color: #808000\">│ </span><span style=\"color: #c0c0c0; text-decoration-color: #c0c0c0\">│     </span><span style=\"color: #000080; text-decoration-color: #000080; font-weight: bold\">\"role\"</span><span style=\"color: #c0c0c0; text-decoration-color: #c0c0c0\">: </span><span style=\"color: #008000; text-decoration-color: #008000\">\"system\"</span><span style=\"color: #c0c0c0; text-decoration-color: #c0c0c0\">,                                                                                       │</span><span style=\"color: #808000; text-decoration-color: #808000\"> │</span>\n",
       "<span style=\"color: #808000; text-decoration-color: #808000\">│ </span><span style=\"color: #c0c0c0; text-decoration-color: #c0c0c0\">│     </span><span style=\"color: #000080; text-decoration-color: #000080; font-weight: bold\">\"content\"</span><span style=\"color: #c0c0c0; text-decoration-color: #c0c0c0\">: </span><span style=\"color: #008000; text-decoration-color: #008000\">\"\\n        You must use the available tools to find an answer.\\n        \"</span><span style=\"color: #c0c0c0; text-decoration-color: #c0c0c0\">                    │</span><span style=\"color: #808000; text-decoration-color: #808000\"> │</span>\n",
       "<span style=\"color: #808000; text-decoration-color: #808000\">│ </span><span style=\"color: #c0c0c0; text-decoration-color: #c0c0c0\">│   </span><span style=\"color: #c0c0c0; text-decoration-color: #c0c0c0; font-weight: bold\">}</span><span style=\"color: #c0c0c0; text-decoration-color: #c0c0c0\">,                                                                                                        │</span><span style=\"color: #808000; text-decoration-color: #808000\"> │</span>\n",
       "<span style=\"color: #808000; text-decoration-color: #808000\">│ </span><span style=\"color: #c0c0c0; text-decoration-color: #c0c0c0\">│   </span><span style=\"color: #c0c0c0; text-decoration-color: #c0c0c0; font-weight: bold\">{</span><span style=\"color: #c0c0c0; text-decoration-color: #c0c0c0\">                                                                                                         │</span><span style=\"color: #808000; text-decoration-color: #808000\"> │</span>\n",
       "<span style=\"color: #808000; text-decoration-color: #808000\">│ </span><span style=\"color: #c0c0c0; text-decoration-color: #c0c0c0\">│     </span><span style=\"color: #000080; text-decoration-color: #000080; font-weight: bold\">\"role\"</span><span style=\"color: #c0c0c0; text-decoration-color: #c0c0c0\">: </span><span style=\"color: #008000; text-decoration-color: #008000\">\"user\"</span><span style=\"color: #c0c0c0; text-decoration-color: #c0c0c0\">,                                                                                         │</span><span style=\"color: #808000; text-decoration-color: #808000\"> │</span>\n",
       "<span style=\"color: #808000; text-decoration-color: #808000\">│ </span><span style=\"color: #c0c0c0; text-decoration-color: #c0c0c0\">│     </span><span style=\"color: #000080; text-decoration-color: #000080; font-weight: bold\">\"content\"</span><span style=\"color: #c0c0c0; text-decoration-color: #c0c0c0\">: </span><span style=\"color: #008000; text-decoration-color: #008000\">\"New task:\\nGo through the files in the allowed directory and any folder inside it recursive</span><span style=\"color: #c0c0c0; text-decoration-color: #c0c0c0\"> │</span><span style=\"color: #808000; text-decoration-color: #808000\"> │</span>\n",
       "<span style=\"color: #808000; text-decoration-color: #808000\">│ </span><span style=\"color: #c0c0c0; text-decoration-color: #c0c0c0\">│   </span><span style=\"color: #c0c0c0; text-decoration-color: #c0c0c0; font-weight: bold\">}</span><span style=\"color: #c0c0c0; text-decoration-color: #c0c0c0\">                                                                                                         │</span><span style=\"color: #808000; text-decoration-color: #808000\"> │</span>\n",
       "<span style=\"color: #808000; text-decoration-color: #808000\">│ </span><span style=\"color: #c0c0c0; text-decoration-color: #c0c0c0\">│ </span><span style=\"color: #c0c0c0; text-decoration-color: #c0c0c0; font-weight: bold\">]</span><span style=\"color: #c0c0c0; text-decoration-color: #c0c0c0\">                                                                                                           │</span><span style=\"color: #808000; text-decoration-color: #808000\"> │</span>\n",
       "<span style=\"color: #808000; text-decoration-color: #808000\">│ </span><span style=\"color: #c0c0c0; text-decoration-color: #c0c0c0\">╰─────────────────────────────────────────────────────────────────────────────────────────────────────────────╯</span><span style=\"color: #808000; text-decoration-color: #808000\"> │</span>\n",
       "<span style=\"color: #808000; text-decoration-color: #808000\">│ </span><span style=\"color: #c0c0c0; text-decoration-color: #c0c0c0\">╭─</span><span style=\"color: #808000; text-decoration-color: #808000\"> OUTPUT </span><span style=\"color: #c0c0c0; text-decoration-color: #c0c0c0\">────────────────────────────────────────────────────────────────────────────────────────────────────╮</span><span style=\"color: #808000; text-decoration-color: #808000\"> │</span>\n",
       "<span style=\"color: #808000; text-decoration-color: #808000\">│ </span><span style=\"color: #c0c0c0; text-decoration-color: #c0c0c0\">│ </span><span style=\"color: #c0c0c0; text-decoration-color: #c0c0c0; font-weight: bold\">[</span><span style=\"color: #c0c0c0; text-decoration-color: #c0c0c0\">                                                                                                           │</span><span style=\"color: #808000; text-decoration-color: #808000\"> │</span>\n",
       "<span style=\"color: #808000; text-decoration-color: #808000\">│ </span><span style=\"color: #c0c0c0; text-decoration-color: #c0c0c0\">│   </span><span style=\"color: #c0c0c0; text-decoration-color: #c0c0c0; font-weight: bold\">{</span><span style=\"color: #c0c0c0; text-decoration-color: #c0c0c0\">                                                                                                         │</span><span style=\"color: #808000; text-decoration-color: #808000\"> │</span>\n",
       "<span style=\"color: #808000; text-decoration-color: #808000\">│ </span><span style=\"color: #c0c0c0; text-decoration-color: #c0c0c0\">│     </span><span style=\"color: #000080; text-decoration-color: #000080; font-weight: bold\">\"tool.name\"</span><span style=\"color: #c0c0c0; text-decoration-color: #c0c0c0\">: </span><span style=\"color: #008000; text-decoration-color: #008000\">\"list_allowed_directories\"</span><span style=\"color: #c0c0c0; text-decoration-color: #c0c0c0\">,                                                                │</span><span style=\"color: #808000; text-decoration-color: #808000\"> │</span>\n",
       "<span style=\"color: #808000; text-decoration-color: #808000\">│ </span><span style=\"color: #c0c0c0; text-decoration-color: #c0c0c0\">│     </span><span style=\"color: #000080; text-decoration-color: #000080; font-weight: bold\">\"tool.args\"</span><span style=\"color: #c0c0c0; text-decoration-color: #c0c0c0\">: </span><span style=\"color: #008000; text-decoration-color: #008000\">\"{}\"</span><span style=\"color: #c0c0c0; text-decoration-color: #c0c0c0\">                                                                                       │</span><span style=\"color: #808000; text-decoration-color: #808000\"> │</span>\n",
       "<span style=\"color: #808000; text-decoration-color: #808000\">│ </span><span style=\"color: #c0c0c0; text-decoration-color: #c0c0c0\">│   </span><span style=\"color: #c0c0c0; text-decoration-color: #c0c0c0; font-weight: bold\">}</span><span style=\"color: #c0c0c0; text-decoration-color: #c0c0c0\">                                                                                                         │</span><span style=\"color: #808000; text-decoration-color: #808000\"> │</span>\n",
       "<span style=\"color: #808000; text-decoration-color: #808000\">│ </span><span style=\"color: #c0c0c0; text-decoration-color: #c0c0c0\">│ </span><span style=\"color: #c0c0c0; text-decoration-color: #c0c0c0; font-weight: bold\">]</span><span style=\"color: #c0c0c0; text-decoration-color: #c0c0c0\">                                                                                                           │</span><span style=\"color: #808000; text-decoration-color: #808000\"> │</span>\n",
       "<span style=\"color: #808000; text-decoration-color: #808000\">│ </span><span style=\"color: #c0c0c0; text-decoration-color: #c0c0c0\">╰─────────────────────────────────────────────────────────────────────────────────────────────────────────────╯</span><span style=\"color: #808000; text-decoration-color: #808000\"> │</span>\n",
       "<span style=\"color: #808000; text-decoration-color: #808000\">│ </span><span style=\"color: #c0c0c0; text-decoration-color: #c0c0c0\">╭─</span><span style=\"color: #808000; text-decoration-color: #808000\"> USAGE </span><span style=\"color: #c0c0c0; text-decoration-color: #c0c0c0\">─────────────────────────────────────────────────────────────────────────────────────────────────────╮</span><span style=\"color: #808000; text-decoration-color: #808000\"> │</span>\n",
       "<span style=\"color: #808000; text-decoration-color: #808000\">│ </span><span style=\"color: #c0c0c0; text-decoration-color: #c0c0c0\">│ </span><span style=\"color: #c0c0c0; text-decoration-color: #c0c0c0; font-weight: bold\">{</span><span style=\"color: #c0c0c0; text-decoration-color: #c0c0c0\">                                                                                                           │</span><span style=\"color: #808000; text-decoration-color: #808000\"> │</span>\n",
       "<span style=\"color: #808000; text-decoration-color: #808000\">│ </span><span style=\"color: #c0c0c0; text-decoration-color: #c0c0c0\">│   </span><span style=\"color: #000080; text-decoration-color: #000080; font-weight: bold\">\"input_tokens\"</span><span style=\"color: #c0c0c0; text-decoration-color: #c0c0c0\">: </span><span style=\"color: #008080; text-decoration-color: #008080; font-weight: bold\">1160</span><span style=\"color: #c0c0c0; text-decoration-color: #c0c0c0\">,                                                                                     │</span><span style=\"color: #808000; text-decoration-color: #808000\"> │</span>\n",
       "<span style=\"color: #808000; text-decoration-color: #808000\">│ </span><span style=\"color: #c0c0c0; text-decoration-color: #c0c0c0\">│   </span><span style=\"color: #000080; text-decoration-color: #000080; font-weight: bold\">\"output_tokens\"</span><span style=\"color: #c0c0c0; text-decoration-color: #c0c0c0\">: </span><span style=\"color: #008080; text-decoration-color: #008080; font-weight: bold\">16</span><span style=\"color: #c0c0c0; text-decoration-color: #c0c0c0\">,                                                                                      │</span><span style=\"color: #808000; text-decoration-color: #808000\"> │</span>\n",
       "<span style=\"color: #808000; text-decoration-color: #808000\">│ </span><span style=\"color: #c0c0c0; text-decoration-color: #c0c0c0\">│   </span><span style=\"color: #000080; text-decoration-color: #000080; font-weight: bold\">\"input_cost\"</span><span style=\"color: #c0c0c0; text-decoration-color: #c0c0c0\">: </span><span style=\"color: #008080; text-decoration-color: #008080; font-weight: bold\">0</span><span style=\"color: #c0c0c0; text-decoration-color: #c0c0c0\">,                                                                                          │</span><span style=\"color: #808000; text-decoration-color: #808000\"> │</span>\n",
       "<span style=\"color: #808000; text-decoration-color: #808000\">│ </span><span style=\"color: #c0c0c0; text-decoration-color: #c0c0c0\">│   </span><span style=\"color: #000080; text-decoration-color: #000080; font-weight: bold\">\"output_cost\"</span><span style=\"color: #c0c0c0; text-decoration-color: #c0c0c0\">: </span><span style=\"color: #008080; text-decoration-color: #008080; font-weight: bold\">0</span><span style=\"color: #c0c0c0; text-decoration-color: #c0c0c0\">                                                                                          │</span><span style=\"color: #808000; text-decoration-color: #808000\"> │</span>\n",
       "<span style=\"color: #808000; text-decoration-color: #808000\">│ </span><span style=\"color: #c0c0c0; text-decoration-color: #c0c0c0\">│ </span><span style=\"color: #c0c0c0; text-decoration-color: #c0c0c0; font-weight: bold\">}</span><span style=\"color: #c0c0c0; text-decoration-color: #c0c0c0\">                                                                                                           │</span><span style=\"color: #808000; text-decoration-color: #808000\"> │</span>\n",
       "<span style=\"color: #808000; text-decoration-color: #808000\">│ </span><span style=\"color: #c0c0c0; text-decoration-color: #c0c0c0\">╰─────────────────────────────────────────────────────────────────────────────────────────────────────────────╯</span><span style=\"color: #808000; text-decoration-color: #808000\"> │</span>\n",
       "<span style=\"color: #808000; text-decoration-color: #808000\">╰─────────────────────────────────────────────────────────────────────────────────────────────────────────────────╯</span>\n",
       "</pre>\n"
      ],
      "text/plain": [
       "\u001B[33m╭─\u001B[0m\u001B[33m─────────────────────────────────────────\u001B[0m CALL_LLM: ollama/granite3.3 \u001B[33m─────────────────────────────────────────\u001B[0m\u001B[33m─╮\u001B[0m\n",
       "\u001B[33m│\u001B[0m\u001B[33m \u001B[0m\u001B[37m╭─\u001B[0m\u001B[33m INPUT \u001B[0m\u001B[37m────────────────────────────────────────────────────────────────────────────────────────────────────\u001B[0m\u001B[37m─╮\u001B[0m\u001B[33m \u001B[0m\u001B[33m│\u001B[0m\n",
       "\u001B[33m│\u001B[0m\u001B[33m \u001B[0m\u001B[37m│\u001B[0m\u001B[37m \u001B[0m\u001B[1;37m[\u001B[0m\u001B[37m                                                                                                          \u001B[0m\u001B[37m \u001B[0m\u001B[37m│\u001B[0m\u001B[33m \u001B[0m\u001B[33m│\u001B[0m\n",
       "\u001B[33m│\u001B[0m\u001B[33m \u001B[0m\u001B[37m│\u001B[0m\u001B[37m \u001B[0m\u001B[37m  \u001B[0m\u001B[1;37m{\u001B[0m\u001B[37m                                                                                                        \u001B[0m\u001B[37m \u001B[0m\u001B[37m│\u001B[0m\u001B[33m \u001B[0m\u001B[33m│\u001B[0m\n",
       "\u001B[33m│\u001B[0m\u001B[33m \u001B[0m\u001B[37m│\u001B[0m\u001B[37m \u001B[0m\u001B[37m    \u001B[0m\u001B[1;34m\"role\"\u001B[0m\u001B[37m: \u001B[0m\u001B[32m\"system\"\u001B[0m\u001B[37m,\u001B[0m\u001B[37m                                                                                      \u001B[0m\u001B[37m \u001B[0m\u001B[37m│\u001B[0m\u001B[33m \u001B[0m\u001B[33m│\u001B[0m\n",
       "\u001B[33m│\u001B[0m\u001B[33m \u001B[0m\u001B[37m│\u001B[0m\u001B[37m \u001B[0m\u001B[37m    \u001B[0m\u001B[1;34m\"content\"\u001B[0m\u001B[37m: \u001B[0m\u001B[32m\"\\n        You must use the available tools to find an answer.\\n        \"\u001B[0m\u001B[37m                   \u001B[0m\u001B[37m \u001B[0m\u001B[37m│\u001B[0m\u001B[33m \u001B[0m\u001B[33m│\u001B[0m\n",
       "\u001B[33m│\u001B[0m\u001B[33m \u001B[0m\u001B[37m│\u001B[0m\u001B[37m \u001B[0m\u001B[37m  \u001B[0m\u001B[1;37m}\u001B[0m\u001B[37m,\u001B[0m\u001B[37m                                                                                                       \u001B[0m\u001B[37m \u001B[0m\u001B[37m│\u001B[0m\u001B[33m \u001B[0m\u001B[33m│\u001B[0m\n",
       "\u001B[33m│\u001B[0m\u001B[33m \u001B[0m\u001B[37m│\u001B[0m\u001B[37m \u001B[0m\u001B[37m  \u001B[0m\u001B[1;37m{\u001B[0m\u001B[37m                                                                                                        \u001B[0m\u001B[37m \u001B[0m\u001B[37m│\u001B[0m\u001B[33m \u001B[0m\u001B[33m│\u001B[0m\n",
       "\u001B[33m│\u001B[0m\u001B[33m \u001B[0m\u001B[37m│\u001B[0m\u001B[37m \u001B[0m\u001B[37m    \u001B[0m\u001B[1;34m\"role\"\u001B[0m\u001B[37m: \u001B[0m\u001B[32m\"user\"\u001B[0m\u001B[37m,\u001B[0m\u001B[37m                                                                                        \u001B[0m\u001B[37m \u001B[0m\u001B[37m│\u001B[0m\u001B[33m \u001B[0m\u001B[33m│\u001B[0m\n",
       "\u001B[33m│\u001B[0m\u001B[33m \u001B[0m\u001B[37m│\u001B[0m\u001B[37m \u001B[0m\u001B[37m    \u001B[0m\u001B[1;34m\"content\"\u001B[0m\u001B[37m: \u001B[0m\u001B[32m\"New task:\\nGo through the files in the allowed directory and any folder inside it recursive\u001B[0m\u001B[37m \u001B[0m\u001B[37m│\u001B[0m\u001B[33m \u001B[0m\u001B[33m│\u001B[0m\n",
       "\u001B[33m│\u001B[0m\u001B[33m \u001B[0m\u001B[37m│\u001B[0m\u001B[37m \u001B[0m\u001B[37m  \u001B[0m\u001B[1;37m}\u001B[0m\u001B[37m                                                                                                        \u001B[0m\u001B[37m \u001B[0m\u001B[37m│\u001B[0m\u001B[33m \u001B[0m\u001B[33m│\u001B[0m\n",
       "\u001B[33m│\u001B[0m\u001B[33m \u001B[0m\u001B[37m│\u001B[0m\u001B[37m \u001B[0m\u001B[1;37m]\u001B[0m\u001B[37m                                                                                                          \u001B[0m\u001B[37m \u001B[0m\u001B[37m│\u001B[0m\u001B[33m \u001B[0m\u001B[33m│\u001B[0m\n",
       "\u001B[33m│\u001B[0m\u001B[33m \u001B[0m\u001B[37m╰─────────────────────────────────────────────────────────────────────────────────────────────────────────────╯\u001B[0m\u001B[33m \u001B[0m\u001B[33m│\u001B[0m\n",
       "\u001B[33m│\u001B[0m\u001B[33m \u001B[0m\u001B[37m╭─\u001B[0m\u001B[33m OUTPUT \u001B[0m\u001B[37m───────────────────────────────────────────────────────────────────────────────────────────────────\u001B[0m\u001B[37m─╮\u001B[0m\u001B[33m \u001B[0m\u001B[33m│\u001B[0m\n",
       "\u001B[33m│\u001B[0m\u001B[33m \u001B[0m\u001B[37m│\u001B[0m\u001B[37m \u001B[0m\u001B[1;37m[\u001B[0m\u001B[37m                                                                                                          \u001B[0m\u001B[37m \u001B[0m\u001B[37m│\u001B[0m\u001B[33m \u001B[0m\u001B[33m│\u001B[0m\n",
       "\u001B[33m│\u001B[0m\u001B[33m \u001B[0m\u001B[37m│\u001B[0m\u001B[37m \u001B[0m\u001B[37m  \u001B[0m\u001B[1;37m{\u001B[0m\u001B[37m                                                                                                        \u001B[0m\u001B[37m \u001B[0m\u001B[37m│\u001B[0m\u001B[33m \u001B[0m\u001B[33m│\u001B[0m\n",
       "\u001B[33m│\u001B[0m\u001B[33m \u001B[0m\u001B[37m│\u001B[0m\u001B[37m \u001B[0m\u001B[37m    \u001B[0m\u001B[1;34m\"tool.name\"\u001B[0m\u001B[37m: \u001B[0m\u001B[32m\"list_allowed_directories\"\u001B[0m\u001B[37m,\u001B[0m\u001B[37m                                                               \u001B[0m\u001B[37m \u001B[0m\u001B[37m│\u001B[0m\u001B[33m \u001B[0m\u001B[33m│\u001B[0m\n",
       "\u001B[33m│\u001B[0m\u001B[33m \u001B[0m\u001B[37m│\u001B[0m\u001B[37m \u001B[0m\u001B[37m    \u001B[0m\u001B[1;34m\"tool.args\"\u001B[0m\u001B[37m: \u001B[0m\u001B[32m\"{}\"\u001B[0m\u001B[37m                                                                                      \u001B[0m\u001B[37m \u001B[0m\u001B[37m│\u001B[0m\u001B[33m \u001B[0m\u001B[33m│\u001B[0m\n",
       "\u001B[33m│\u001B[0m\u001B[33m \u001B[0m\u001B[37m│\u001B[0m\u001B[37m \u001B[0m\u001B[37m  \u001B[0m\u001B[1;37m}\u001B[0m\u001B[37m                                                                                                        \u001B[0m\u001B[37m \u001B[0m\u001B[37m│\u001B[0m\u001B[33m \u001B[0m\u001B[33m│\u001B[0m\n",
       "\u001B[33m│\u001B[0m\u001B[33m \u001B[0m\u001B[37m│\u001B[0m\u001B[37m \u001B[0m\u001B[1;37m]\u001B[0m\u001B[37m                                                                                                          \u001B[0m\u001B[37m \u001B[0m\u001B[37m│\u001B[0m\u001B[33m \u001B[0m\u001B[33m│\u001B[0m\n",
       "\u001B[33m│\u001B[0m\u001B[33m \u001B[0m\u001B[37m╰─────────────────────────────────────────────────────────────────────────────────────────────────────────────╯\u001B[0m\u001B[33m \u001B[0m\u001B[33m│\u001B[0m\n",
       "\u001B[33m│\u001B[0m\u001B[33m \u001B[0m\u001B[37m╭─\u001B[0m\u001B[33m USAGE \u001B[0m\u001B[37m────────────────────────────────────────────────────────────────────────────────────────────────────\u001B[0m\u001B[37m─╮\u001B[0m\u001B[33m \u001B[0m\u001B[33m│\u001B[0m\n",
       "\u001B[33m│\u001B[0m\u001B[33m \u001B[0m\u001B[37m│\u001B[0m\u001B[37m \u001B[0m\u001B[1;37m{\u001B[0m\u001B[37m                                                                                                          \u001B[0m\u001B[37m \u001B[0m\u001B[37m│\u001B[0m\u001B[33m \u001B[0m\u001B[33m│\u001B[0m\n",
       "\u001B[33m│\u001B[0m\u001B[33m \u001B[0m\u001B[37m│\u001B[0m\u001B[37m \u001B[0m\u001B[37m  \u001B[0m\u001B[1;34m\"input_tokens\"\u001B[0m\u001B[37m: \u001B[0m\u001B[1;36m1160\u001B[0m\u001B[37m,\u001B[0m\u001B[37m                                                                                    \u001B[0m\u001B[37m \u001B[0m\u001B[37m│\u001B[0m\u001B[33m \u001B[0m\u001B[33m│\u001B[0m\n",
       "\u001B[33m│\u001B[0m\u001B[33m \u001B[0m\u001B[37m│\u001B[0m\u001B[37m \u001B[0m\u001B[37m  \u001B[0m\u001B[1;34m\"output_tokens\"\u001B[0m\u001B[37m: \u001B[0m\u001B[1;36m16\u001B[0m\u001B[37m,\u001B[0m\u001B[37m                                                                                     \u001B[0m\u001B[37m \u001B[0m\u001B[37m│\u001B[0m\u001B[33m \u001B[0m\u001B[33m│\u001B[0m\n",
       "\u001B[33m│\u001B[0m\u001B[33m \u001B[0m\u001B[37m│\u001B[0m\u001B[37m \u001B[0m\u001B[37m  \u001B[0m\u001B[1;34m\"input_cost\"\u001B[0m\u001B[37m: \u001B[0m\u001B[1;36m0\u001B[0m\u001B[37m,\u001B[0m\u001B[37m                                                                                         \u001B[0m\u001B[37m \u001B[0m\u001B[37m│\u001B[0m\u001B[33m \u001B[0m\u001B[33m│\u001B[0m\n",
       "\u001B[33m│\u001B[0m\u001B[33m \u001B[0m\u001B[37m│\u001B[0m\u001B[37m \u001B[0m\u001B[37m  \u001B[0m\u001B[1;34m\"output_cost\"\u001B[0m\u001B[37m: \u001B[0m\u001B[1;36m0\u001B[0m\u001B[37m                                                                                         \u001B[0m\u001B[37m \u001B[0m\u001B[37m│\u001B[0m\u001B[33m \u001B[0m\u001B[33m│\u001B[0m\n",
       "\u001B[33m│\u001B[0m\u001B[33m \u001B[0m\u001B[37m│\u001B[0m\u001B[37m \u001B[0m\u001B[1;37m}\u001B[0m\u001B[37m                                                                                                          \u001B[0m\u001B[37m \u001B[0m\u001B[37m│\u001B[0m\u001B[33m \u001B[0m\u001B[33m│\u001B[0m\n",
       "\u001B[33m│\u001B[0m\u001B[33m \u001B[0m\u001B[37m╰─────────────────────────────────────────────────────────────────────────────────────────────────────────────╯\u001B[0m\u001B[33m \u001B[0m\u001B[33m│\u001B[0m\n",
       "\u001B[33m╰─────────────────────────────────────────────────────────────────────────────────────────────────────────────────╯\u001B[0m\n"
      ]
     },
     "metadata": {},
     "output_type": "display_data"
    },
    {
     "data": {
      "text/html": [
       "<pre style=\"white-space:pre;overflow-x:auto;line-height:normal;font-family:Menlo,'DejaVu Sans Mono',consolas,'Courier New',monospace\"><span style=\"color: #000080; text-decoration-color: #000080\">╭────────────────────────────────────</span> EXECUTE_TOOL: list_allowed_directories <span style=\"color: #000080; text-decoration-color: #000080\">─────────────────────────────────────╮</span>\n",
       "<span style=\"color: #000080; text-decoration-color: #000080\">│ </span><span style=\"color: #c0c0c0; text-decoration-color: #c0c0c0\">╭─</span><span style=\"color: #000080; text-decoration-color: #000080\"> Input </span><span style=\"color: #c0c0c0; text-decoration-color: #c0c0c0\">─────────────────────────────────────────────────────────────────────────────────────────────────────╮</span><span style=\"color: #000080; text-decoration-color: #000080\"> │</span>\n",
       "<span style=\"color: #000080; text-decoration-color: #000080\">│ </span><span style=\"color: #c0c0c0; text-decoration-color: #c0c0c0\">│ </span><span style=\"color: #c0c0c0; text-decoration-color: #c0c0c0; font-weight: bold\">{}</span><span style=\"color: #c0c0c0; text-decoration-color: #c0c0c0\">                                                                                                          │</span><span style=\"color: #000080; text-decoration-color: #000080\"> │</span>\n",
       "<span style=\"color: #000080; text-decoration-color: #000080\">│ </span><span style=\"color: #c0c0c0; text-decoration-color: #c0c0c0\">╰─────────────────────────────────────────────────────────────────────────────────────────────────────────────╯</span><span style=\"color: #000080; text-decoration-color: #000080\"> │</span>\n",
       "<span style=\"color: #000080; text-decoration-color: #000080\">│ </span><span style=\"color: #c0c0c0; text-decoration-color: #c0c0c0\">╭─</span><span style=\"color: #000080; text-decoration-color: #000080\"> OUTPUT </span><span style=\"color: #c0c0c0; text-decoration-color: #c0c0c0\">────────────────────────────────────────────────────────────────────────────────────────────────────╮</span><span style=\"color: #000080; text-decoration-color: #000080\"> │</span>\n",
       "<span style=\"color: #000080; text-decoration-color: #000080\">│ </span><span style=\"color: #c0c0c0; text-decoration-color: #c0c0c0\">│ Allowed directories: /projects                                                                              │</span><span style=\"color: #000080; text-decoration-color: #000080\"> │</span>\n",
       "<span style=\"color: #000080; text-decoration-color: #000080\">│ </span><span style=\"color: #c0c0c0; text-decoration-color: #c0c0c0\">╰─────────────────────────────────────────────────────────────────────────────────────────────────────────────╯</span><span style=\"color: #000080; text-decoration-color: #000080\"> │</span>\n",
       "<span style=\"color: #000080; text-decoration-color: #000080\">╰─────────────────────────────────────────────────────────────────────────────────────────────────────────────────╯</span>\n",
       "</pre>\n"
      ],
      "text/plain": [
       "\u001B[34m╭─\u001B[0m\u001B[34m───────────────────────────────────\u001B[0m EXECUTE_TOOL: list_allowed_directories \u001B[34m────────────────────────────────────\u001B[0m\u001B[34m─╮\u001B[0m\n",
       "\u001B[34m│\u001B[0m\u001B[34m \u001B[0m\u001B[37m╭─\u001B[0m\u001B[34m Input \u001B[0m\u001B[37m────────────────────────────────────────────────────────────────────────────────────────────────────\u001B[0m\u001B[37m─╮\u001B[0m\u001B[34m \u001B[0m\u001B[34m│\u001B[0m\n",
       "\u001B[34m│\u001B[0m\u001B[34m \u001B[0m\u001B[37m│\u001B[0m\u001B[37m \u001B[0m\u001B[1;37m{\u001B[0m\u001B[1;37m}\u001B[0m\u001B[37m                                                                                                         \u001B[0m\u001B[37m \u001B[0m\u001B[37m│\u001B[0m\u001B[34m \u001B[0m\u001B[34m│\u001B[0m\n",
       "\u001B[34m│\u001B[0m\u001B[34m \u001B[0m\u001B[37m╰─────────────────────────────────────────────────────────────────────────────────────────────────────────────╯\u001B[0m\u001B[34m \u001B[0m\u001B[34m│\u001B[0m\n",
       "\u001B[34m│\u001B[0m\u001B[34m \u001B[0m\u001B[37m╭─\u001B[0m\u001B[34m OUTPUT \u001B[0m\u001B[37m───────────────────────────────────────────────────────────────────────────────────────────────────\u001B[0m\u001B[37m─╮\u001B[0m\u001B[34m \u001B[0m\u001B[34m│\u001B[0m\n",
       "\u001B[34m│\u001B[0m\u001B[34m \u001B[0m\u001B[37m│\u001B[0m\u001B[37m \u001B[0m\u001B[37mAllowed directories: /projects                                                                             \u001B[0m\u001B[37m \u001B[0m\u001B[37m│\u001B[0m\u001B[34m \u001B[0m\u001B[34m│\u001B[0m\n",
       "\u001B[34m│\u001B[0m\u001B[34m \u001B[0m\u001B[37m╰─────────────────────────────────────────────────────────────────────────────────────────────────────────────╯\u001B[0m\u001B[34m \u001B[0m\u001B[34m│\u001B[0m\n",
       "\u001B[34m╰─────────────────────────────────────────────────────────────────────────────────────────────────────────────────╯\u001B[0m\n"
      ]
     },
     "metadata": {},
     "output_type": "display_data"
    },
    {
     "data": {
      "text/html": [
       "<pre style=\"white-space:pre;overflow-x:auto;line-height:normal;font-family:Menlo,'DejaVu Sans Mono',consolas,'Courier New',monospace\"><span style=\"color: #808000; text-decoration-color: #808000\">╭──────────────────────────────────────────</span> CALL_LLM: ollama/granite3.3 <span style=\"color: #808000; text-decoration-color: #808000\">──────────────────────────────────────────╮</span>\n",
       "<span style=\"color: #808000; text-decoration-color: #808000\">│ </span><span style=\"color: #c0c0c0; text-decoration-color: #c0c0c0\">╭─</span><span style=\"color: #808000; text-decoration-color: #808000\"> OUTPUT </span><span style=\"color: #c0c0c0; text-decoration-color: #c0c0c0\">────────────────────────────────────────────────────────────────────────────────────────────────────╮</span><span style=\"color: #808000; text-decoration-color: #808000\"> │</span>\n",
       "<span style=\"color: #808000; text-decoration-color: #808000\">│ </span><span style=\"color: #c0c0c0; text-decoration-color: #c0c0c0\">│ </span><span style=\"color: #c0c0c0; text-decoration-color: #c0c0c0; font-weight: bold\">[</span><span style=\"color: #c0c0c0; text-decoration-color: #c0c0c0\">                                                                                                           │</span><span style=\"color: #808000; text-decoration-color: #808000\"> │</span>\n",
       "<span style=\"color: #808000; text-decoration-color: #808000\">│ </span><span style=\"color: #c0c0c0; text-decoration-color: #c0c0c0\">│   </span><span style=\"color: #c0c0c0; text-decoration-color: #c0c0c0; font-weight: bold\">{</span><span style=\"color: #c0c0c0; text-decoration-color: #c0c0c0\">                                                                                                         │</span><span style=\"color: #808000; text-decoration-color: #808000\"> │</span>\n",
       "<span style=\"color: #808000; text-decoration-color: #808000\">│ </span><span style=\"color: #c0c0c0; text-decoration-color: #c0c0c0\">│     </span><span style=\"color: #000080; text-decoration-color: #000080; font-weight: bold\">\"tool.name\"</span><span style=\"color: #c0c0c0; text-decoration-color: #c0c0c0\">: </span><span style=\"color: #008000; text-decoration-color: #008000\">\"search_files\"</span><span style=\"color: #c0c0c0; text-decoration-color: #c0c0c0\">,                                                                            │</span><span style=\"color: #808000; text-decoration-color: #808000\"> │</span>\n",
       "<span style=\"color: #808000; text-decoration-color: #808000\">│ </span><span style=\"color: #c0c0c0; text-decoration-color: #c0c0c0\">│     </span><span style=\"color: #000080; text-decoration-color: #000080; font-weight: bold\">\"tool.args\"</span><span style=\"color: #c0c0c0; text-decoration-color: #c0c0c0\">: </span><span style=\"color: #008000; text-decoration-color: #008000\">\"{\\\"path\\\": \\\"/projects\\\", \\\"pattern\\\": \\\"(README\\\\\\\\.md|\\\\\\\\.(py|java|js|ts|go|rs|swift|p</span><span style=\"color: #c0c0c0; text-decoration-color: #c0c0c0\"> │</span><span style=\"color: #808000; text-decoration-color: #808000\"> │</span>\n",
       "<span style=\"color: #808000; text-decoration-color: #808000\">│ </span><span style=\"color: #c0c0c0; text-decoration-color: #c0c0c0\">│   </span><span style=\"color: #c0c0c0; text-decoration-color: #c0c0c0; font-weight: bold\">}</span><span style=\"color: #c0c0c0; text-decoration-color: #c0c0c0\">                                                                                                         │</span><span style=\"color: #808000; text-decoration-color: #808000\"> │</span>\n",
       "<span style=\"color: #808000; text-decoration-color: #808000\">│ </span><span style=\"color: #c0c0c0; text-decoration-color: #c0c0c0\">│ </span><span style=\"color: #c0c0c0; text-decoration-color: #c0c0c0; font-weight: bold\">]</span><span style=\"color: #c0c0c0; text-decoration-color: #c0c0c0\">                                                                                                           │</span><span style=\"color: #808000; text-decoration-color: #808000\"> │</span>\n",
       "<span style=\"color: #808000; text-decoration-color: #808000\">│ </span><span style=\"color: #c0c0c0; text-decoration-color: #c0c0c0\">╰─────────────────────────────────────────────────────────────────────────────────────────────────────────────╯</span><span style=\"color: #808000; text-decoration-color: #808000\"> │</span>\n",
       "<span style=\"color: #808000; text-decoration-color: #808000\">│ </span><span style=\"color: #c0c0c0; text-decoration-color: #c0c0c0\">╭─</span><span style=\"color: #808000; text-decoration-color: #808000\"> USAGE </span><span style=\"color: #c0c0c0; text-decoration-color: #c0c0c0\">─────────────────────────────────────────────────────────────────────────────────────────────────────╮</span><span style=\"color: #808000; text-decoration-color: #808000\"> │</span>\n",
       "<span style=\"color: #808000; text-decoration-color: #808000\">│ </span><span style=\"color: #c0c0c0; text-decoration-color: #c0c0c0\">│ </span><span style=\"color: #c0c0c0; text-decoration-color: #c0c0c0; font-weight: bold\">{</span><span style=\"color: #c0c0c0; text-decoration-color: #c0c0c0\">                                                                                                           │</span><span style=\"color: #808000; text-decoration-color: #808000\"> │</span>\n",
       "<span style=\"color: #808000; text-decoration-color: #808000\">│ </span><span style=\"color: #c0c0c0; text-decoration-color: #c0c0c0\">│   </span><span style=\"color: #000080; text-decoration-color: #000080; font-weight: bold\">\"input_tokens\"</span><span style=\"color: #c0c0c0; text-decoration-color: #c0c0c0\">: </span><span style=\"color: #008080; text-decoration-color: #008080; font-weight: bold\">1301</span><span style=\"color: #c0c0c0; text-decoration-color: #c0c0c0\">,                                                                                     │</span><span style=\"color: #808000; text-decoration-color: #808000\"> │</span>\n",
       "<span style=\"color: #808000; text-decoration-color: #808000\">│ </span><span style=\"color: #c0c0c0; text-decoration-color: #c0c0c0\">│   </span><span style=\"color: #000080; text-decoration-color: #000080; font-weight: bold\">\"output_tokens\"</span><span style=\"color: #c0c0c0; text-decoration-color: #c0c0c0\">: </span><span style=\"color: #008080; text-decoration-color: #008080; font-weight: bold\">72</span><span style=\"color: #c0c0c0; text-decoration-color: #c0c0c0\">,                                                                                      │</span><span style=\"color: #808000; text-decoration-color: #808000\"> │</span>\n",
       "<span style=\"color: #808000; text-decoration-color: #808000\">│ </span><span style=\"color: #c0c0c0; text-decoration-color: #c0c0c0\">│   </span><span style=\"color: #000080; text-decoration-color: #000080; font-weight: bold\">\"input_cost\"</span><span style=\"color: #c0c0c0; text-decoration-color: #c0c0c0\">: </span><span style=\"color: #008080; text-decoration-color: #008080; font-weight: bold\">0</span><span style=\"color: #c0c0c0; text-decoration-color: #c0c0c0\">,                                                                                          │</span><span style=\"color: #808000; text-decoration-color: #808000\"> │</span>\n",
       "<span style=\"color: #808000; text-decoration-color: #808000\">│ </span><span style=\"color: #c0c0c0; text-decoration-color: #c0c0c0\">│   </span><span style=\"color: #000080; text-decoration-color: #000080; font-weight: bold\">\"output_cost\"</span><span style=\"color: #c0c0c0; text-decoration-color: #c0c0c0\">: </span><span style=\"color: #008080; text-decoration-color: #008080; font-weight: bold\">0</span><span style=\"color: #c0c0c0; text-decoration-color: #c0c0c0\">                                                                                          │</span><span style=\"color: #808000; text-decoration-color: #808000\"> │</span>\n",
       "<span style=\"color: #808000; text-decoration-color: #808000\">│ </span><span style=\"color: #c0c0c0; text-decoration-color: #c0c0c0\">│ </span><span style=\"color: #c0c0c0; text-decoration-color: #c0c0c0; font-weight: bold\">}</span><span style=\"color: #c0c0c0; text-decoration-color: #c0c0c0\">                                                                                                           │</span><span style=\"color: #808000; text-decoration-color: #808000\"> │</span>\n",
       "<span style=\"color: #808000; text-decoration-color: #808000\">│ </span><span style=\"color: #c0c0c0; text-decoration-color: #c0c0c0\">╰─────────────────────────────────────────────────────────────────────────────────────────────────────────────╯</span><span style=\"color: #808000; text-decoration-color: #808000\"> │</span>\n",
       "<span style=\"color: #808000; text-decoration-color: #808000\">╰─────────────────────────────────────────────────────────────────────────────────────────────────────────────────╯</span>\n",
       "</pre>\n"
      ],
      "text/plain": [
       "\u001B[33m╭─\u001B[0m\u001B[33m─────────────────────────────────────────\u001B[0m CALL_LLM: ollama/granite3.3 \u001B[33m─────────────────────────────────────────\u001B[0m\u001B[33m─╮\u001B[0m\n",
       "\u001B[33m│\u001B[0m\u001B[33m \u001B[0m\u001B[37m╭─\u001B[0m\u001B[33m OUTPUT \u001B[0m\u001B[37m───────────────────────────────────────────────────────────────────────────────────────────────────\u001B[0m\u001B[37m─╮\u001B[0m\u001B[33m \u001B[0m\u001B[33m│\u001B[0m\n",
       "\u001B[33m│\u001B[0m\u001B[33m \u001B[0m\u001B[37m│\u001B[0m\u001B[37m \u001B[0m\u001B[1;37m[\u001B[0m\u001B[37m                                                                                                          \u001B[0m\u001B[37m \u001B[0m\u001B[37m│\u001B[0m\u001B[33m \u001B[0m\u001B[33m│\u001B[0m\n",
       "\u001B[33m│\u001B[0m\u001B[33m \u001B[0m\u001B[37m│\u001B[0m\u001B[37m \u001B[0m\u001B[37m  \u001B[0m\u001B[1;37m{\u001B[0m\u001B[37m                                                                                                        \u001B[0m\u001B[37m \u001B[0m\u001B[37m│\u001B[0m\u001B[33m \u001B[0m\u001B[33m│\u001B[0m\n",
       "\u001B[33m│\u001B[0m\u001B[33m \u001B[0m\u001B[37m│\u001B[0m\u001B[37m \u001B[0m\u001B[37m    \u001B[0m\u001B[1;34m\"tool.name\"\u001B[0m\u001B[37m: \u001B[0m\u001B[32m\"search_files\"\u001B[0m\u001B[37m,\u001B[0m\u001B[37m                                                                           \u001B[0m\u001B[37m \u001B[0m\u001B[37m│\u001B[0m\u001B[33m \u001B[0m\u001B[33m│\u001B[0m\n",
       "\u001B[33m│\u001B[0m\u001B[33m \u001B[0m\u001B[37m│\u001B[0m\u001B[37m \u001B[0m\u001B[37m    \u001B[0m\u001B[1;34m\"tool.args\"\u001B[0m\u001B[37m: \u001B[0m\u001B[32m\"{\\\"path\\\": \\\"/projects\\\", \\\"pattern\\\": \\\"(README\\\\\\\\.md|\\\\\\\\.(py|java|js|ts|go|rs|swift|p\u001B[0m\u001B[37m \u001B[0m\u001B[37m│\u001B[0m\u001B[33m \u001B[0m\u001B[33m│\u001B[0m\n",
       "\u001B[33m│\u001B[0m\u001B[33m \u001B[0m\u001B[37m│\u001B[0m\u001B[37m \u001B[0m\u001B[37m  \u001B[0m\u001B[1;37m}\u001B[0m\u001B[37m                                                                                                        \u001B[0m\u001B[37m \u001B[0m\u001B[37m│\u001B[0m\u001B[33m \u001B[0m\u001B[33m│\u001B[0m\n",
       "\u001B[33m│\u001B[0m\u001B[33m \u001B[0m\u001B[37m│\u001B[0m\u001B[37m \u001B[0m\u001B[1;37m]\u001B[0m\u001B[37m                                                                                                          \u001B[0m\u001B[37m \u001B[0m\u001B[37m│\u001B[0m\u001B[33m \u001B[0m\u001B[33m│\u001B[0m\n",
       "\u001B[33m│\u001B[0m\u001B[33m \u001B[0m\u001B[37m╰─────────────────────────────────────────────────────────────────────────────────────────────────────────────╯\u001B[0m\u001B[33m \u001B[0m\u001B[33m│\u001B[0m\n",
       "\u001B[33m│\u001B[0m\u001B[33m \u001B[0m\u001B[37m╭─\u001B[0m\u001B[33m USAGE \u001B[0m\u001B[37m────────────────────────────────────────────────────────────────────────────────────────────────────\u001B[0m\u001B[37m─╮\u001B[0m\u001B[33m \u001B[0m\u001B[33m│\u001B[0m\n",
       "\u001B[33m│\u001B[0m\u001B[33m \u001B[0m\u001B[37m│\u001B[0m\u001B[37m \u001B[0m\u001B[1;37m{\u001B[0m\u001B[37m                                                                                                          \u001B[0m\u001B[37m \u001B[0m\u001B[37m│\u001B[0m\u001B[33m \u001B[0m\u001B[33m│\u001B[0m\n",
       "\u001B[33m│\u001B[0m\u001B[33m \u001B[0m\u001B[37m│\u001B[0m\u001B[37m \u001B[0m\u001B[37m  \u001B[0m\u001B[1;34m\"input_tokens\"\u001B[0m\u001B[37m: \u001B[0m\u001B[1;36m1301\u001B[0m\u001B[37m,\u001B[0m\u001B[37m                                                                                    \u001B[0m\u001B[37m \u001B[0m\u001B[37m│\u001B[0m\u001B[33m \u001B[0m\u001B[33m│\u001B[0m\n",
       "\u001B[33m│\u001B[0m\u001B[33m \u001B[0m\u001B[37m│\u001B[0m\u001B[37m \u001B[0m\u001B[37m  \u001B[0m\u001B[1;34m\"output_tokens\"\u001B[0m\u001B[37m: \u001B[0m\u001B[1;36m72\u001B[0m\u001B[37m,\u001B[0m\u001B[37m                                                                                     \u001B[0m\u001B[37m \u001B[0m\u001B[37m│\u001B[0m\u001B[33m \u001B[0m\u001B[33m│\u001B[0m\n",
       "\u001B[33m│\u001B[0m\u001B[33m \u001B[0m\u001B[37m│\u001B[0m\u001B[37m \u001B[0m\u001B[37m  \u001B[0m\u001B[1;34m\"input_cost\"\u001B[0m\u001B[37m: \u001B[0m\u001B[1;36m0\u001B[0m\u001B[37m,\u001B[0m\u001B[37m                                                                                         \u001B[0m\u001B[37m \u001B[0m\u001B[37m│\u001B[0m\u001B[33m \u001B[0m\u001B[33m│\u001B[0m\n",
       "\u001B[33m│\u001B[0m\u001B[33m \u001B[0m\u001B[37m│\u001B[0m\u001B[37m \u001B[0m\u001B[37m  \u001B[0m\u001B[1;34m\"output_cost\"\u001B[0m\u001B[37m: \u001B[0m\u001B[1;36m0\u001B[0m\u001B[37m                                                                                         \u001B[0m\u001B[37m \u001B[0m\u001B[37m│\u001B[0m\u001B[33m \u001B[0m\u001B[33m│\u001B[0m\n",
       "\u001B[33m│\u001B[0m\u001B[33m \u001B[0m\u001B[37m│\u001B[0m\u001B[37m \u001B[0m\u001B[1;37m}\u001B[0m\u001B[37m                                                                                                          \u001B[0m\u001B[37m \u001B[0m\u001B[37m│\u001B[0m\u001B[33m \u001B[0m\u001B[33m│\u001B[0m\n",
       "\u001B[33m│\u001B[0m\u001B[33m \u001B[0m\u001B[37m╰─────────────────────────────────────────────────────────────────────────────────────────────────────────────╯\u001B[0m\u001B[33m \u001B[0m\u001B[33m│\u001B[0m\n",
       "\u001B[33m╰─────────────────────────────────────────────────────────────────────────────────────────────────────────────────╯\u001B[0m\n"
      ]
     },
     "metadata": {},
     "output_type": "display_data"
    },
    {
     "data": {
      "text/html": [
       "<pre style=\"white-space:pre;overflow-x:auto;line-height:normal;font-family:Menlo,'DejaVu Sans Mono',consolas,'Courier New',monospace\"><span style=\"color: #000080; text-decoration-color: #000080\">╭──────────────────────────────────────────</span> EXECUTE_TOOL: search_files <span style=\"color: #000080; text-decoration-color: #000080\">───────────────────────────────────────────╮</span>\n",
       "<span style=\"color: #000080; text-decoration-color: #000080\">│ </span><span style=\"color: #c0c0c0; text-decoration-color: #c0c0c0\">╭─</span><span style=\"color: #000080; text-decoration-color: #000080\"> Input </span><span style=\"color: #c0c0c0; text-decoration-color: #c0c0c0\">─────────────────────────────────────────────────────────────────────────────────────────────────────╮</span><span style=\"color: #000080; text-decoration-color: #000080\"> │</span>\n",
       "<span style=\"color: #000080; text-decoration-color: #000080\">│ </span><span style=\"color: #c0c0c0; text-decoration-color: #c0c0c0\">│ </span><span style=\"color: #c0c0c0; text-decoration-color: #c0c0c0; font-weight: bold\">{</span><span style=\"color: #c0c0c0; text-decoration-color: #c0c0c0\">                                                                                                           │</span><span style=\"color: #000080; text-decoration-color: #000080\"> │</span>\n",
       "<span style=\"color: #000080; text-decoration-color: #000080\">│ </span><span style=\"color: #c0c0c0; text-decoration-color: #c0c0c0\">│   </span><span style=\"color: #000080; text-decoration-color: #000080; font-weight: bold\">\"path\"</span><span style=\"color: #c0c0c0; text-decoration-color: #c0c0c0\">: </span><span style=\"color: #008000; text-decoration-color: #008000\">\"/projects\"</span><span style=\"color: #c0c0c0; text-decoration-color: #c0c0c0\">,                                                                                      │</span><span style=\"color: #000080; text-decoration-color: #000080\"> │</span>\n",
       "<span style=\"color: #000080; text-decoration-color: #000080\">│ </span><span style=\"color: #c0c0c0; text-decoration-color: #c0c0c0\">│   </span><span style=\"color: #000080; text-decoration-color: #000080; font-weight: bold\">\"pattern\"</span><span style=\"color: #c0c0c0; text-decoration-color: #c0c0c0\">: </span><span style=\"color: #008000; text-decoration-color: #008000\">\"(README\\\\.md|\\\\.(py|java|js|ts|go|rs|swift|php|cpp|cs|rb|jsx|vue)|^(docs|src|lib)$)\"</span><span style=\"color: #c0c0c0; text-decoration-color: #c0c0c0\">,         │</span><span style=\"color: #000080; text-decoration-color: #000080\"> │</span>\n",
       "<span style=\"color: #000080; text-decoration-color: #000080\">│ </span><span style=\"color: #c0c0c0; text-decoration-color: #c0c0c0\">│   </span><span style=\"color: #000080; text-decoration-color: #000080; font-weight: bold\">\"excludePatterns\"</span><span style=\"color: #c0c0c0; text-decoration-color: #c0c0c0\">: </span><span style=\"color: #c0c0c0; text-decoration-color: #c0c0c0; font-weight: bold\">[</span><span style=\"color: #c0c0c0; text-decoration-color: #c0c0c0\">                                                                                      │</span><span style=\"color: #000080; text-decoration-color: #000080\"> │</span>\n",
       "<span style=\"color: #000080; text-decoration-color: #000080\">│ </span><span style=\"color: #c0c0c0; text-decoration-color: #c0c0c0\">│     </span><span style=\"color: #008000; text-decoration-color: #008000\">\"node_modules\"</span><span style=\"color: #c0c0c0; text-decoration-color: #c0c0c0\">                                                                                          │</span><span style=\"color: #000080; text-decoration-color: #000080\"> │</span>\n",
       "<span style=\"color: #000080; text-decoration-color: #000080\">│ </span><span style=\"color: #c0c0c0; text-decoration-color: #c0c0c0\">│   </span><span style=\"color: #c0c0c0; text-decoration-color: #c0c0c0; font-weight: bold\">]</span><span style=\"color: #c0c0c0; text-decoration-color: #c0c0c0\">                                                                                                         │</span><span style=\"color: #000080; text-decoration-color: #000080\"> │</span>\n",
       "<span style=\"color: #000080; text-decoration-color: #000080\">│ </span><span style=\"color: #c0c0c0; text-decoration-color: #c0c0c0\">│ </span><span style=\"color: #c0c0c0; text-decoration-color: #c0c0c0; font-weight: bold\">}</span><span style=\"color: #c0c0c0; text-decoration-color: #c0c0c0\">                                                                                                           │</span><span style=\"color: #000080; text-decoration-color: #000080\"> │</span>\n",
       "<span style=\"color: #000080; text-decoration-color: #000080\">│ </span><span style=\"color: #c0c0c0; text-decoration-color: #c0c0c0\">╰─────────────────────────────────────────────────────────────────────────────────────────────────────────────╯</span><span style=\"color: #000080; text-decoration-color: #000080\"> │</span>\n",
       "<span style=\"color: #000080; text-decoration-color: #000080\">│ </span><span style=\"color: #c0c0c0; text-decoration-color: #c0c0c0\">╭─</span><span style=\"color: #000080; text-decoration-color: #000080\"> OUTPUT </span><span style=\"color: #c0c0c0; text-decoration-color: #c0c0c0\">────────────────────────────────────────────────────────────────────────────────────────────────────╮</span><span style=\"color: #000080; text-decoration-color: #000080\"> │</span>\n",
       "<span style=\"color: #000080; text-decoration-color: #000080\">│ </span><span style=\"color: #c0c0c0; text-decoration-color: #c0c0c0\">│ No matches found                                                                                            │</span><span style=\"color: #000080; text-decoration-color: #000080\"> │</span>\n",
       "<span style=\"color: #000080; text-decoration-color: #000080\">│ </span><span style=\"color: #c0c0c0; text-decoration-color: #c0c0c0\">╰─────────────────────────────────────────────────────────────────────────────────────────────────────────────╯</span><span style=\"color: #000080; text-decoration-color: #000080\"> │</span>\n",
       "<span style=\"color: #000080; text-decoration-color: #000080\">╰─────────────────────────────────────────────────────────────────────────────────────────────────────────────────╯</span>\n",
       "</pre>\n"
      ],
      "text/plain": [
       "\u001B[34m╭─\u001B[0m\u001B[34m─────────────────────────────────────────\u001B[0m EXECUTE_TOOL: search_files \u001B[34m──────────────────────────────────────────\u001B[0m\u001B[34m─╮\u001B[0m\n",
       "\u001B[34m│\u001B[0m\u001B[34m \u001B[0m\u001B[37m╭─\u001B[0m\u001B[34m Input \u001B[0m\u001B[37m────────────────────────────────────────────────────────────────────────────────────────────────────\u001B[0m\u001B[37m─╮\u001B[0m\u001B[34m \u001B[0m\u001B[34m│\u001B[0m\n",
       "\u001B[34m│\u001B[0m\u001B[34m \u001B[0m\u001B[37m│\u001B[0m\u001B[37m \u001B[0m\u001B[1;37m{\u001B[0m\u001B[37m                                                                                                          \u001B[0m\u001B[37m \u001B[0m\u001B[37m│\u001B[0m\u001B[34m \u001B[0m\u001B[34m│\u001B[0m\n",
       "\u001B[34m│\u001B[0m\u001B[34m \u001B[0m\u001B[37m│\u001B[0m\u001B[37m \u001B[0m\u001B[37m  \u001B[0m\u001B[1;34m\"path\"\u001B[0m\u001B[37m: \u001B[0m\u001B[32m\"/projects\"\u001B[0m\u001B[37m,\u001B[0m\u001B[37m                                                                                     \u001B[0m\u001B[37m \u001B[0m\u001B[37m│\u001B[0m\u001B[34m \u001B[0m\u001B[34m│\u001B[0m\n",
       "\u001B[34m│\u001B[0m\u001B[34m \u001B[0m\u001B[37m│\u001B[0m\u001B[37m \u001B[0m\u001B[37m  \u001B[0m\u001B[1;34m\"pattern\"\u001B[0m\u001B[37m: \u001B[0m\u001B[32m\"(README\\\\.md|\\\\.(py|java|js|ts|go|rs|swift|php|cpp|cs|rb|jsx|vue)|^(docs|src|lib)$)\"\u001B[0m\u001B[37m,\u001B[0m\u001B[37m        \u001B[0m\u001B[37m \u001B[0m\u001B[37m│\u001B[0m\u001B[34m \u001B[0m\u001B[34m│\u001B[0m\n",
       "\u001B[34m│\u001B[0m\u001B[34m \u001B[0m\u001B[37m│\u001B[0m\u001B[37m \u001B[0m\u001B[37m  \u001B[0m\u001B[1;34m\"excludePatterns\"\u001B[0m\u001B[37m: \u001B[0m\u001B[1;37m[\u001B[0m\u001B[37m                                                                                     \u001B[0m\u001B[37m \u001B[0m\u001B[37m│\u001B[0m\u001B[34m \u001B[0m\u001B[34m│\u001B[0m\n",
       "\u001B[34m│\u001B[0m\u001B[34m \u001B[0m\u001B[37m│\u001B[0m\u001B[37m \u001B[0m\u001B[37m    \u001B[0m\u001B[32m\"node_modules\"\u001B[0m\u001B[37m                                                                                         \u001B[0m\u001B[37m \u001B[0m\u001B[37m│\u001B[0m\u001B[34m \u001B[0m\u001B[34m│\u001B[0m\n",
       "\u001B[34m│\u001B[0m\u001B[34m \u001B[0m\u001B[37m│\u001B[0m\u001B[37m \u001B[0m\u001B[37m  \u001B[0m\u001B[1;37m]\u001B[0m\u001B[37m                                                                                                        \u001B[0m\u001B[37m \u001B[0m\u001B[37m│\u001B[0m\u001B[34m \u001B[0m\u001B[34m│\u001B[0m\n",
       "\u001B[34m│\u001B[0m\u001B[34m \u001B[0m\u001B[37m│\u001B[0m\u001B[37m \u001B[0m\u001B[1;37m}\u001B[0m\u001B[37m                                                                                                          \u001B[0m\u001B[37m \u001B[0m\u001B[37m│\u001B[0m\u001B[34m \u001B[0m\u001B[34m│\u001B[0m\n",
       "\u001B[34m│\u001B[0m\u001B[34m \u001B[0m\u001B[37m╰─────────────────────────────────────────────────────────────────────────────────────────────────────────────╯\u001B[0m\u001B[34m \u001B[0m\u001B[34m│\u001B[0m\n",
       "\u001B[34m│\u001B[0m\u001B[34m \u001B[0m\u001B[37m╭─\u001B[0m\u001B[34m OUTPUT \u001B[0m\u001B[37m───────────────────────────────────────────────────────────────────────────────────────────────────\u001B[0m\u001B[37m─╮\u001B[0m\u001B[34m \u001B[0m\u001B[34m│\u001B[0m\n",
       "\u001B[34m│\u001B[0m\u001B[34m \u001B[0m\u001B[37m│\u001B[0m\u001B[37m \u001B[0m\u001B[37mNo matches found                                                                                           \u001B[0m\u001B[37m \u001B[0m\u001B[37m│\u001B[0m\u001B[34m \u001B[0m\u001B[34m│\u001B[0m\n",
       "\u001B[34m│\u001B[0m\u001B[34m \u001B[0m\u001B[37m╰─────────────────────────────────────────────────────────────────────────────────────────────────────────────╯\u001B[0m\u001B[34m \u001B[0m\u001B[34m│\u001B[0m\n",
       "\u001B[34m╰─────────────────────────────────────────────────────────────────────────────────────────────────────────────────╯\u001B[0m\n"
      ]
     },
     "metadata": {},
     "output_type": "display_data"
    },
    {
     "data": {
      "text/html": [
       "<pre style=\"white-space:pre;overflow-x:auto;line-height:normal;font-family:Menlo,'DejaVu Sans Mono',consolas,'Courier New',monospace\"><span style=\"color: #808000; text-decoration-color: #808000\">╭──────────────────────────────────────────</span> CALL_LLM: ollama/granite3.3 <span style=\"color: #808000; text-decoration-color: #808000\">──────────────────────────────────────────╮</span>\n",
       "<span style=\"color: #808000; text-decoration-color: #808000\">│ </span><span style=\"color: #c0c0c0; text-decoration-color: #c0c0c0\">╭─</span><span style=\"color: #808000; text-decoration-color: #808000\"> OUTPUT </span><span style=\"color: #c0c0c0; text-decoration-color: #c0c0c0\">────────────────────────────────────────────────────────────────────────────────────────────────────╮</span><span style=\"color: #808000; text-decoration-color: #808000\"> │</span>\n",
       "<span style=\"color: #808000; text-decoration-color: #808000\">│ </span><span style=\"color: #c0c0c0; text-decoration-color: #c0c0c0\">│ </span><span style=\"color: #c0c0c0; text-decoration-color: #c0c0c0; font-weight: bold\">[</span><span style=\"color: #c0c0c0; text-decoration-color: #c0c0c0\">                                                                                                           │</span><span style=\"color: #808000; text-decoration-color: #808000\"> │</span>\n",
       "<span style=\"color: #808000; text-decoration-color: #808000\">│ </span><span style=\"color: #c0c0c0; text-decoration-color: #c0c0c0\">│   </span><span style=\"color: #c0c0c0; text-decoration-color: #c0c0c0; font-weight: bold\">{</span><span style=\"color: #c0c0c0; text-decoration-color: #c0c0c0\">                                                                                                         │</span><span style=\"color: #808000; text-decoration-color: #808000\"> │</span>\n",
       "<span style=\"color: #808000; text-decoration-color: #808000\">│ </span><span style=\"color: #c0c0c0; text-decoration-color: #c0c0c0\">│     </span><span style=\"color: #000080; text-decoration-color: #000080; font-weight: bold\">\"tool.name\"</span><span style=\"color: #c0c0c0; text-decoration-color: #c0c0c0\">: </span><span style=\"color: #008000; text-decoration-color: #008000\">\"read_multiple_files\"</span><span style=\"color: #c0c0c0; text-decoration-color: #c0c0c0\">,                                                                     │</span><span style=\"color: #808000; text-decoration-color: #808000\"> │</span>\n",
       "<span style=\"color: #808000; text-decoration-color: #808000\">│ </span><span style=\"color: #c0c0c0; text-decoration-color: #c0c0c0\">│     </span><span style=\"color: #000080; text-decoration-color: #000080; font-weight: bold\">\"tool.args\"</span><span style=\"color: #c0c0c0; text-decoration-color: #c0c0c0\">: </span><span style=\"color: #008000; text-decoration-color: #008000\">\"{\\\"paths\\\": []}\"</span><span style=\"color: #c0c0c0; text-decoration-color: #c0c0c0\">                                                                          │</span><span style=\"color: #808000; text-decoration-color: #808000\"> │</span>\n",
       "<span style=\"color: #808000; text-decoration-color: #808000\">│ </span><span style=\"color: #c0c0c0; text-decoration-color: #c0c0c0\">│   </span><span style=\"color: #c0c0c0; text-decoration-color: #c0c0c0; font-weight: bold\">}</span><span style=\"color: #c0c0c0; text-decoration-color: #c0c0c0\">                                                                                                         │</span><span style=\"color: #808000; text-decoration-color: #808000\"> │</span>\n",
       "<span style=\"color: #808000; text-decoration-color: #808000\">│ </span><span style=\"color: #c0c0c0; text-decoration-color: #c0c0c0\">│ </span><span style=\"color: #c0c0c0; text-decoration-color: #c0c0c0; font-weight: bold\">]</span><span style=\"color: #c0c0c0; text-decoration-color: #c0c0c0\">                                                                                                           │</span><span style=\"color: #808000; text-decoration-color: #808000\"> │</span>\n",
       "<span style=\"color: #808000; text-decoration-color: #808000\">│ </span><span style=\"color: #c0c0c0; text-decoration-color: #c0c0c0\">╰─────────────────────────────────────────────────────────────────────────────────────────────────────────────╯</span><span style=\"color: #808000; text-decoration-color: #808000\"> │</span>\n",
       "<span style=\"color: #808000; text-decoration-color: #808000\">│ </span><span style=\"color: #c0c0c0; text-decoration-color: #c0c0c0\">╭─</span><span style=\"color: #808000; text-decoration-color: #808000\"> USAGE </span><span style=\"color: #c0c0c0; text-decoration-color: #c0c0c0\">─────────────────────────────────────────────────────────────────────────────────────────────────────╮</span><span style=\"color: #808000; text-decoration-color: #808000\"> │</span>\n",
       "<span style=\"color: #808000; text-decoration-color: #808000\">│ </span><span style=\"color: #c0c0c0; text-decoration-color: #c0c0c0\">│ </span><span style=\"color: #c0c0c0; text-decoration-color: #c0c0c0; font-weight: bold\">{</span><span style=\"color: #c0c0c0; text-decoration-color: #c0c0c0\">                                                                                                           │</span><span style=\"color: #808000; text-decoration-color: #808000\"> │</span>\n",
       "<span style=\"color: #808000; text-decoration-color: #808000\">│ </span><span style=\"color: #c0c0c0; text-decoration-color: #c0c0c0\">│   </span><span style=\"color: #000080; text-decoration-color: #000080; font-weight: bold\">\"input_tokens\"</span><span style=\"color: #c0c0c0; text-decoration-color: #c0c0c0\">: </span><span style=\"color: #008080; text-decoration-color: #008080; font-weight: bold\">1554</span><span style=\"color: #c0c0c0; text-decoration-color: #c0c0c0\">,                                                                                     │</span><span style=\"color: #808000; text-decoration-color: #808000\"> │</span>\n",
       "<span style=\"color: #808000; text-decoration-color: #808000\">│ </span><span style=\"color: #c0c0c0; text-decoration-color: #c0c0c0\">│   </span><span style=\"color: #000080; text-decoration-color: #000080; font-weight: bold\">\"output_tokens\"</span><span style=\"color: #c0c0c0; text-decoration-color: #c0c0c0\">: </span><span style=\"color: #008080; text-decoration-color: #008080; font-weight: bold\">19</span><span style=\"color: #c0c0c0; text-decoration-color: #c0c0c0\">,                                                                                      │</span><span style=\"color: #808000; text-decoration-color: #808000\"> │</span>\n",
       "<span style=\"color: #808000; text-decoration-color: #808000\">│ </span><span style=\"color: #c0c0c0; text-decoration-color: #c0c0c0\">│   </span><span style=\"color: #000080; text-decoration-color: #000080; font-weight: bold\">\"input_cost\"</span><span style=\"color: #c0c0c0; text-decoration-color: #c0c0c0\">: </span><span style=\"color: #008080; text-decoration-color: #008080; font-weight: bold\">0</span><span style=\"color: #c0c0c0; text-decoration-color: #c0c0c0\">,                                                                                          │</span><span style=\"color: #808000; text-decoration-color: #808000\"> │</span>\n",
       "<span style=\"color: #808000; text-decoration-color: #808000\">│ </span><span style=\"color: #c0c0c0; text-decoration-color: #c0c0c0\">│   </span><span style=\"color: #000080; text-decoration-color: #000080; font-weight: bold\">\"output_cost\"</span><span style=\"color: #c0c0c0; text-decoration-color: #c0c0c0\">: </span><span style=\"color: #008080; text-decoration-color: #008080; font-weight: bold\">0</span><span style=\"color: #c0c0c0; text-decoration-color: #c0c0c0\">                                                                                          │</span><span style=\"color: #808000; text-decoration-color: #808000\"> │</span>\n",
       "<span style=\"color: #808000; text-decoration-color: #808000\">│ </span><span style=\"color: #c0c0c0; text-decoration-color: #c0c0c0\">│ </span><span style=\"color: #c0c0c0; text-decoration-color: #c0c0c0; font-weight: bold\">}</span><span style=\"color: #c0c0c0; text-decoration-color: #c0c0c0\">                                                                                                           │</span><span style=\"color: #808000; text-decoration-color: #808000\"> │</span>\n",
       "<span style=\"color: #808000; text-decoration-color: #808000\">│ </span><span style=\"color: #c0c0c0; text-decoration-color: #c0c0c0\">╰─────────────────────────────────────────────────────────────────────────────────────────────────────────────╯</span><span style=\"color: #808000; text-decoration-color: #808000\"> │</span>\n",
       "<span style=\"color: #808000; text-decoration-color: #808000\">╰─────────────────────────────────────────────────────────────────────────────────────────────────────────────────╯</span>\n",
       "</pre>\n"
      ],
      "text/plain": [
       "\u001B[33m╭─\u001B[0m\u001B[33m─────────────────────────────────────────\u001B[0m CALL_LLM: ollama/granite3.3 \u001B[33m─────────────────────────────────────────\u001B[0m\u001B[33m─╮\u001B[0m\n",
       "\u001B[33m│\u001B[0m\u001B[33m \u001B[0m\u001B[37m╭─\u001B[0m\u001B[33m OUTPUT \u001B[0m\u001B[37m───────────────────────────────────────────────────────────────────────────────────────────────────\u001B[0m\u001B[37m─╮\u001B[0m\u001B[33m \u001B[0m\u001B[33m│\u001B[0m\n",
       "\u001B[33m│\u001B[0m\u001B[33m \u001B[0m\u001B[37m│\u001B[0m\u001B[37m \u001B[0m\u001B[1;37m[\u001B[0m\u001B[37m                                                                                                          \u001B[0m\u001B[37m \u001B[0m\u001B[37m│\u001B[0m\u001B[33m \u001B[0m\u001B[33m│\u001B[0m\n",
       "\u001B[33m│\u001B[0m\u001B[33m \u001B[0m\u001B[37m│\u001B[0m\u001B[37m \u001B[0m\u001B[37m  \u001B[0m\u001B[1;37m{\u001B[0m\u001B[37m                                                                                                        \u001B[0m\u001B[37m \u001B[0m\u001B[37m│\u001B[0m\u001B[33m \u001B[0m\u001B[33m│\u001B[0m\n",
       "\u001B[33m│\u001B[0m\u001B[33m \u001B[0m\u001B[37m│\u001B[0m\u001B[37m \u001B[0m\u001B[37m    \u001B[0m\u001B[1;34m\"tool.name\"\u001B[0m\u001B[37m: \u001B[0m\u001B[32m\"read_multiple_files\"\u001B[0m\u001B[37m,\u001B[0m\u001B[37m                                                                    \u001B[0m\u001B[37m \u001B[0m\u001B[37m│\u001B[0m\u001B[33m \u001B[0m\u001B[33m│\u001B[0m\n",
       "\u001B[33m│\u001B[0m\u001B[33m \u001B[0m\u001B[37m│\u001B[0m\u001B[37m \u001B[0m\u001B[37m    \u001B[0m\u001B[1;34m\"tool.args\"\u001B[0m\u001B[37m: \u001B[0m\u001B[32m\"{\\\"paths\\\": []}\"\u001B[0m\u001B[37m                                                                         \u001B[0m\u001B[37m \u001B[0m\u001B[37m│\u001B[0m\u001B[33m \u001B[0m\u001B[33m│\u001B[0m\n",
       "\u001B[33m│\u001B[0m\u001B[33m \u001B[0m\u001B[37m│\u001B[0m\u001B[37m \u001B[0m\u001B[37m  \u001B[0m\u001B[1;37m}\u001B[0m\u001B[37m                                                                                                        \u001B[0m\u001B[37m \u001B[0m\u001B[37m│\u001B[0m\u001B[33m \u001B[0m\u001B[33m│\u001B[0m\n",
       "\u001B[33m│\u001B[0m\u001B[33m \u001B[0m\u001B[37m│\u001B[0m\u001B[37m \u001B[0m\u001B[1;37m]\u001B[0m\u001B[37m                                                                                                          \u001B[0m\u001B[37m \u001B[0m\u001B[37m│\u001B[0m\u001B[33m \u001B[0m\u001B[33m│\u001B[0m\n",
       "\u001B[33m│\u001B[0m\u001B[33m \u001B[0m\u001B[37m╰─────────────────────────────────────────────────────────────────────────────────────────────────────────────╯\u001B[0m\u001B[33m \u001B[0m\u001B[33m│\u001B[0m\n",
       "\u001B[33m│\u001B[0m\u001B[33m \u001B[0m\u001B[37m╭─\u001B[0m\u001B[33m USAGE \u001B[0m\u001B[37m────────────────────────────────────────────────────────────────────────────────────────────────────\u001B[0m\u001B[37m─╮\u001B[0m\u001B[33m \u001B[0m\u001B[33m│\u001B[0m\n",
       "\u001B[33m│\u001B[0m\u001B[33m \u001B[0m\u001B[37m│\u001B[0m\u001B[37m \u001B[0m\u001B[1;37m{\u001B[0m\u001B[37m                                                                                                          \u001B[0m\u001B[37m \u001B[0m\u001B[37m│\u001B[0m\u001B[33m \u001B[0m\u001B[33m│\u001B[0m\n",
       "\u001B[33m│\u001B[0m\u001B[33m \u001B[0m\u001B[37m│\u001B[0m\u001B[37m \u001B[0m\u001B[37m  \u001B[0m\u001B[1;34m\"input_tokens\"\u001B[0m\u001B[37m: \u001B[0m\u001B[1;36m1554\u001B[0m\u001B[37m,\u001B[0m\u001B[37m                                                                                    \u001B[0m\u001B[37m \u001B[0m\u001B[37m│\u001B[0m\u001B[33m \u001B[0m\u001B[33m│\u001B[0m\n",
       "\u001B[33m│\u001B[0m\u001B[33m \u001B[0m\u001B[37m│\u001B[0m\u001B[37m \u001B[0m\u001B[37m  \u001B[0m\u001B[1;34m\"output_tokens\"\u001B[0m\u001B[37m: \u001B[0m\u001B[1;36m19\u001B[0m\u001B[37m,\u001B[0m\u001B[37m                                                                                     \u001B[0m\u001B[37m \u001B[0m\u001B[37m│\u001B[0m\u001B[33m \u001B[0m\u001B[33m│\u001B[0m\n",
       "\u001B[33m│\u001B[0m\u001B[33m \u001B[0m\u001B[37m│\u001B[0m\u001B[37m \u001B[0m\u001B[37m  \u001B[0m\u001B[1;34m\"input_cost\"\u001B[0m\u001B[37m: \u001B[0m\u001B[1;36m0\u001B[0m\u001B[37m,\u001B[0m\u001B[37m                                                                                         \u001B[0m\u001B[37m \u001B[0m\u001B[37m│\u001B[0m\u001B[33m \u001B[0m\u001B[33m│\u001B[0m\n",
       "\u001B[33m│\u001B[0m\u001B[33m \u001B[0m\u001B[37m│\u001B[0m\u001B[37m \u001B[0m\u001B[37m  \u001B[0m\u001B[1;34m\"output_cost\"\u001B[0m\u001B[37m: \u001B[0m\u001B[1;36m0\u001B[0m\u001B[37m                                                                                         \u001B[0m\u001B[37m \u001B[0m\u001B[37m│\u001B[0m\u001B[33m \u001B[0m\u001B[33m│\u001B[0m\n",
       "\u001B[33m│\u001B[0m\u001B[33m \u001B[0m\u001B[37m│\u001B[0m\u001B[37m \u001B[0m\u001B[1;37m}\u001B[0m\u001B[37m                                                                                                          \u001B[0m\u001B[37m \u001B[0m\u001B[37m│\u001B[0m\u001B[33m \u001B[0m\u001B[33m│\u001B[0m\n",
       "\u001B[33m│\u001B[0m\u001B[33m \u001B[0m\u001B[37m╰─────────────────────────────────────────────────────────────────────────────────────────────────────────────╯\u001B[0m\u001B[33m \u001B[0m\u001B[33m│\u001B[0m\n",
       "\u001B[33m╰─────────────────────────────────────────────────────────────────────────────────────────────────────────────────╯\u001B[0m\n"
      ]
     },
     "metadata": {},
     "output_type": "display_data"
    },
    {
     "data": {
      "text/html": [
       "<pre style=\"white-space:pre;overflow-x:auto;line-height:normal;font-family:Menlo,'DejaVu Sans Mono',consolas,'Courier New',monospace\"><span style=\"color: #000080; text-decoration-color: #000080\">╭───────────────────────────────────────</span> EXECUTE_TOOL: read_multiple_files <span style=\"color: #000080; text-decoration-color: #000080\">───────────────────────────────────────╮</span>\n",
       "<span style=\"color: #000080; text-decoration-color: #000080\">│ </span><span style=\"color: #c0c0c0; text-decoration-color: #c0c0c0\">╭─</span><span style=\"color: #000080; text-decoration-color: #000080\"> Input </span><span style=\"color: #c0c0c0; text-decoration-color: #c0c0c0\">─────────────────────────────────────────────────────────────────────────────────────────────────────╮</span><span style=\"color: #000080; text-decoration-color: #000080\"> │</span>\n",
       "<span style=\"color: #000080; text-decoration-color: #000080\">│ </span><span style=\"color: #c0c0c0; text-decoration-color: #c0c0c0\">│ </span><span style=\"color: #c0c0c0; text-decoration-color: #c0c0c0; font-weight: bold\">{</span><span style=\"color: #c0c0c0; text-decoration-color: #c0c0c0\">                                                                                                           │</span><span style=\"color: #000080; text-decoration-color: #000080\"> │</span>\n",
       "<span style=\"color: #000080; text-decoration-color: #000080\">│ </span><span style=\"color: #c0c0c0; text-decoration-color: #c0c0c0\">│   </span><span style=\"color: #000080; text-decoration-color: #000080; font-weight: bold\">\"paths\"</span><span style=\"color: #c0c0c0; text-decoration-color: #c0c0c0\">: </span><span style=\"color: #c0c0c0; text-decoration-color: #c0c0c0; font-weight: bold\">[]</span><span style=\"color: #c0c0c0; text-decoration-color: #c0c0c0\">                                                                                               │</span><span style=\"color: #000080; text-decoration-color: #000080\"> │</span>\n",
       "<span style=\"color: #000080; text-decoration-color: #000080\">│ </span><span style=\"color: #c0c0c0; text-decoration-color: #c0c0c0\">│ </span><span style=\"color: #c0c0c0; text-decoration-color: #c0c0c0; font-weight: bold\">}</span><span style=\"color: #c0c0c0; text-decoration-color: #c0c0c0\">                                                                                                           │</span><span style=\"color: #000080; text-decoration-color: #000080\"> │</span>\n",
       "<span style=\"color: #000080; text-decoration-color: #000080\">│ </span><span style=\"color: #c0c0c0; text-decoration-color: #c0c0c0\">╰─────────────────────────────────────────────────────────────────────────────────────────────────────────────╯</span><span style=\"color: #000080; text-decoration-color: #000080\"> │</span>\n",
       "<span style=\"color: #000080; text-decoration-color: #000080\">╰─────────────────────────────────────────────────────────────────────────────────────────────────────────────────╯</span>\n",
       "</pre>\n"
      ],
      "text/plain": [
       "\u001B[34m╭─\u001B[0m\u001B[34m──────────────────────────────────────\u001B[0m EXECUTE_TOOL: read_multiple_files \u001B[34m──────────────────────────────────────\u001B[0m\u001B[34m─╮\u001B[0m\n",
       "\u001B[34m│\u001B[0m\u001B[34m \u001B[0m\u001B[37m╭─\u001B[0m\u001B[34m Input \u001B[0m\u001B[37m────────────────────────────────────────────────────────────────────────────────────────────────────\u001B[0m\u001B[37m─╮\u001B[0m\u001B[34m \u001B[0m\u001B[34m│\u001B[0m\n",
       "\u001B[34m│\u001B[0m\u001B[34m \u001B[0m\u001B[37m│\u001B[0m\u001B[37m \u001B[0m\u001B[1;37m{\u001B[0m\u001B[37m                                                                                                          \u001B[0m\u001B[37m \u001B[0m\u001B[37m│\u001B[0m\u001B[34m \u001B[0m\u001B[34m│\u001B[0m\n",
       "\u001B[34m│\u001B[0m\u001B[34m \u001B[0m\u001B[37m│\u001B[0m\u001B[37m \u001B[0m\u001B[37m  \u001B[0m\u001B[1;34m\"paths\"\u001B[0m\u001B[37m: \u001B[0m\u001B[1;37m[\u001B[0m\u001B[1;37m]\u001B[0m\u001B[37m                                                                                              \u001B[0m\u001B[37m \u001B[0m\u001B[37m│\u001B[0m\u001B[34m \u001B[0m\u001B[34m│\u001B[0m\n",
       "\u001B[34m│\u001B[0m\u001B[34m \u001B[0m\u001B[37m│\u001B[0m\u001B[37m \u001B[0m\u001B[1;37m}\u001B[0m\u001B[37m                                                                                                          \u001B[0m\u001B[37m \u001B[0m\u001B[37m│\u001B[0m\u001B[34m \u001B[0m\u001B[34m│\u001B[0m\n",
       "\u001B[34m│\u001B[0m\u001B[34m \u001B[0m\u001B[37m╰─────────────────────────────────────────────────────────────────────────────────────────────────────────────╯\u001B[0m\u001B[34m \u001B[0m\u001B[34m│\u001B[0m\n",
       "\u001B[34m╰─────────────────────────────────────────────────────────────────────────────────────────────────────────────────╯\u001B[0m\n"
      ]
     },
     "metadata": {},
     "output_type": "display_data"
    },
    {
     "data": {
      "text/html": [
       "<pre style=\"white-space:pre;overflow-x:auto;line-height:normal;font-family:Menlo,'DejaVu Sans Mono',consolas,'Courier New',monospace\"><span style=\"color: #808000; text-decoration-color: #808000\">╭──────────────────────────────────────────</span> CALL_LLM: ollama/granite3.3 <span style=\"color: #808000; text-decoration-color: #808000\">──────────────────────────────────────────╮</span>\n",
       "<span style=\"color: #808000; text-decoration-color: #808000\">│ </span><span style=\"color: #c0c0c0; text-decoration-color: #c0c0c0\">╭─</span><span style=\"color: #808000; text-decoration-color: #808000\"> OUTPUT </span><span style=\"color: #c0c0c0; text-decoration-color: #c0c0c0\">────────────────────────────────────────────────────────────────────────────────────────────────────╮</span><span style=\"color: #808000; text-decoration-color: #808000\"> │</span>\n",
       "<span style=\"color: #808000; text-decoration-color: #808000\">│ </span><span style=\"color: #c0c0c0; text-decoration-color: #c0c0c0\">│ </span><span style=\"color: #c0c0c0; text-decoration-color: #c0c0c0; font-weight: bold\">[</span><span style=\"color: #c0c0c0; text-decoration-color: #c0c0c0\">                                                                                                           │</span><span style=\"color: #808000; text-decoration-color: #808000\"> │</span>\n",
       "<span style=\"color: #808000; text-decoration-color: #808000\">│ </span><span style=\"color: #c0c0c0; text-decoration-color: #c0c0c0\">│   </span><span style=\"color: #c0c0c0; text-decoration-color: #c0c0c0; font-weight: bold\">{</span><span style=\"color: #c0c0c0; text-decoration-color: #c0c0c0\">                                                                                                         │</span><span style=\"color: #808000; text-decoration-color: #808000\"> │</span>\n",
       "<span style=\"color: #808000; text-decoration-color: #808000\">│ </span><span style=\"color: #c0c0c0; text-decoration-color: #c0c0c0\">│     </span><span style=\"color: #000080; text-decoration-color: #000080; font-weight: bold\">\"tool.name\"</span><span style=\"color: #c0c0c0; text-decoration-color: #c0c0c0\">: </span><span style=\"color: #008000; text-decoration-color: #008000\">\"show_plan\"</span><span style=\"color: #c0c0c0; text-decoration-color: #c0c0c0\">,                                                                               │</span><span style=\"color: #808000; text-decoration-color: #808000\"> │</span>\n",
       "<span style=\"color: #808000; text-decoration-color: #808000\">│ </span><span style=\"color: #c0c0c0; text-decoration-color: #c0c0c0\">│     </span><span style=\"color: #000080; text-decoration-color: #000080; font-weight: bold\">\"tool.args\"</span><span style=\"color: #c0c0c0; text-decoration-color: #c0c0c0\">: </span><span style=\"color: #008000; text-decoration-color: #008000\">\"{\\\"plan\\\": \\\"Since no files were found that match the pattern for documentation or code, </span><span style=\"color: #c0c0c0; text-decoration-color: #c0c0c0\"> │</span><span style=\"color: #808000; text-decoration-color: #808000\"> │</span>\n",
       "<span style=\"color: #808000; text-decoration-color: #808000\">│ </span><span style=\"color: #c0c0c0; text-decoration-color: #c0c0c0\">│   </span><span style=\"color: #c0c0c0; text-decoration-color: #c0c0c0; font-weight: bold\">}</span><span style=\"color: #c0c0c0; text-decoration-color: #c0c0c0\">                                                                                                         │</span><span style=\"color: #808000; text-decoration-color: #808000\"> │</span>\n",
       "<span style=\"color: #808000; text-decoration-color: #808000\">│ </span><span style=\"color: #c0c0c0; text-decoration-color: #c0c0c0\">│ </span><span style=\"color: #c0c0c0; text-decoration-color: #c0c0c0; font-weight: bold\">]</span><span style=\"color: #c0c0c0; text-decoration-color: #c0c0c0\">                                                                                                           │</span><span style=\"color: #808000; text-decoration-color: #808000\"> │</span>\n",
       "<span style=\"color: #808000; text-decoration-color: #808000\">│ </span><span style=\"color: #c0c0c0; text-decoration-color: #c0c0c0\">╰─────────────────────────────────────────────────────────────────────────────────────────────────────────────╯</span><span style=\"color: #808000; text-decoration-color: #808000\"> │</span>\n",
       "<span style=\"color: #808000; text-decoration-color: #808000\">│ </span><span style=\"color: #c0c0c0; text-decoration-color: #c0c0c0\">╭─</span><span style=\"color: #808000; text-decoration-color: #808000\"> USAGE </span><span style=\"color: #c0c0c0; text-decoration-color: #c0c0c0\">─────────────────────────────────────────────────────────────────────────────────────────────────────╮</span><span style=\"color: #808000; text-decoration-color: #808000\"> │</span>\n",
       "<span style=\"color: #808000; text-decoration-color: #808000\">│ </span><span style=\"color: #c0c0c0; text-decoration-color: #c0c0c0\">│ </span><span style=\"color: #c0c0c0; text-decoration-color: #c0c0c0; font-weight: bold\">{</span><span style=\"color: #c0c0c0; text-decoration-color: #c0c0c0\">                                                                                                           │</span><span style=\"color: #808000; text-decoration-color: #808000\"> │</span>\n",
       "<span style=\"color: #808000; text-decoration-color: #808000\">│ </span><span style=\"color: #c0c0c0; text-decoration-color: #c0c0c0\">│   </span><span style=\"color: #000080; text-decoration-color: #000080; font-weight: bold\">\"input_tokens\"</span><span style=\"color: #c0c0c0; text-decoration-color: #c0c0c0\">: </span><span style=\"color: #008080; text-decoration-color: #008080; font-weight: bold\">1694</span><span style=\"color: #c0c0c0; text-decoration-color: #c0c0c0\">,                                                                                     │</span><span style=\"color: #808000; text-decoration-color: #808000\"> │</span>\n",
       "<span style=\"color: #808000; text-decoration-color: #808000\">│ </span><span style=\"color: #c0c0c0; text-decoration-color: #c0c0c0\">│   </span><span style=\"color: #000080; text-decoration-color: #000080; font-weight: bold\">\"output_tokens\"</span><span style=\"color: #c0c0c0; text-decoration-color: #c0c0c0\">: </span><span style=\"color: #008080; text-decoration-color: #008080; font-weight: bold\">45</span><span style=\"color: #c0c0c0; text-decoration-color: #c0c0c0\">,                                                                                      │</span><span style=\"color: #808000; text-decoration-color: #808000\"> │</span>\n",
       "<span style=\"color: #808000; text-decoration-color: #808000\">│ </span><span style=\"color: #c0c0c0; text-decoration-color: #c0c0c0\">│   </span><span style=\"color: #000080; text-decoration-color: #000080; font-weight: bold\">\"input_cost\"</span><span style=\"color: #c0c0c0; text-decoration-color: #c0c0c0\">: </span><span style=\"color: #008080; text-decoration-color: #008080; font-weight: bold\">0</span><span style=\"color: #c0c0c0; text-decoration-color: #c0c0c0\">,                                                                                          │</span><span style=\"color: #808000; text-decoration-color: #808000\"> │</span>\n",
       "<span style=\"color: #808000; text-decoration-color: #808000\">│ </span><span style=\"color: #c0c0c0; text-decoration-color: #c0c0c0\">│   </span><span style=\"color: #000080; text-decoration-color: #000080; font-weight: bold\">\"output_cost\"</span><span style=\"color: #c0c0c0; text-decoration-color: #c0c0c0\">: </span><span style=\"color: #008080; text-decoration-color: #008080; font-weight: bold\">0</span><span style=\"color: #c0c0c0; text-decoration-color: #c0c0c0\">                                                                                          │</span><span style=\"color: #808000; text-decoration-color: #808000\"> │</span>\n",
       "<span style=\"color: #808000; text-decoration-color: #808000\">│ </span><span style=\"color: #c0c0c0; text-decoration-color: #c0c0c0\">│ </span><span style=\"color: #c0c0c0; text-decoration-color: #c0c0c0; font-weight: bold\">}</span><span style=\"color: #c0c0c0; text-decoration-color: #c0c0c0\">                                                                                                           │</span><span style=\"color: #808000; text-decoration-color: #808000\"> │</span>\n",
       "<span style=\"color: #808000; text-decoration-color: #808000\">│ </span><span style=\"color: #c0c0c0; text-decoration-color: #c0c0c0\">╰─────────────────────────────────────────────────────────────────────────────────────────────────────────────╯</span><span style=\"color: #808000; text-decoration-color: #808000\"> │</span>\n",
       "<span style=\"color: #808000; text-decoration-color: #808000\">╰─────────────────────────────────────────────────────────────────────────────────────────────────────────────────╯</span>\n",
       "</pre>\n"
      ],
      "text/plain": [
       "\u001B[33m╭─\u001B[0m\u001B[33m─────────────────────────────────────────\u001B[0m CALL_LLM: ollama/granite3.3 \u001B[33m─────────────────────────────────────────\u001B[0m\u001B[33m─╮\u001B[0m\n",
       "\u001B[33m│\u001B[0m\u001B[33m \u001B[0m\u001B[37m╭─\u001B[0m\u001B[33m OUTPUT \u001B[0m\u001B[37m───────────────────────────────────────────────────────────────────────────────────────────────────\u001B[0m\u001B[37m─╮\u001B[0m\u001B[33m \u001B[0m\u001B[33m│\u001B[0m\n",
       "\u001B[33m│\u001B[0m\u001B[33m \u001B[0m\u001B[37m│\u001B[0m\u001B[37m \u001B[0m\u001B[1;37m[\u001B[0m\u001B[37m                                                                                                          \u001B[0m\u001B[37m \u001B[0m\u001B[37m│\u001B[0m\u001B[33m \u001B[0m\u001B[33m│\u001B[0m\n",
       "\u001B[33m│\u001B[0m\u001B[33m \u001B[0m\u001B[37m│\u001B[0m\u001B[37m \u001B[0m\u001B[37m  \u001B[0m\u001B[1;37m{\u001B[0m\u001B[37m                                                                                                        \u001B[0m\u001B[37m \u001B[0m\u001B[37m│\u001B[0m\u001B[33m \u001B[0m\u001B[33m│\u001B[0m\n",
       "\u001B[33m│\u001B[0m\u001B[33m \u001B[0m\u001B[37m│\u001B[0m\u001B[37m \u001B[0m\u001B[37m    \u001B[0m\u001B[1;34m\"tool.name\"\u001B[0m\u001B[37m: \u001B[0m\u001B[32m\"show_plan\"\u001B[0m\u001B[37m,\u001B[0m\u001B[37m                                                                              \u001B[0m\u001B[37m \u001B[0m\u001B[37m│\u001B[0m\u001B[33m \u001B[0m\u001B[33m│\u001B[0m\n",
       "\u001B[33m│\u001B[0m\u001B[33m \u001B[0m\u001B[37m│\u001B[0m\u001B[37m \u001B[0m\u001B[37m    \u001B[0m\u001B[1;34m\"tool.args\"\u001B[0m\u001B[37m: \u001B[0m\u001B[32m\"{\\\"plan\\\": \\\"Since no files were found that match the pattern for documentation or code, \u001B[0m\u001B[37m \u001B[0m\u001B[37m│\u001B[0m\u001B[33m \u001B[0m\u001B[33m│\u001B[0m\n",
       "\u001B[33m│\u001B[0m\u001B[33m \u001B[0m\u001B[37m│\u001B[0m\u001B[37m \u001B[0m\u001B[37m  \u001B[0m\u001B[1;37m}\u001B[0m\u001B[37m                                                                                                        \u001B[0m\u001B[37m \u001B[0m\u001B[37m│\u001B[0m\u001B[33m \u001B[0m\u001B[33m│\u001B[0m\n",
       "\u001B[33m│\u001B[0m\u001B[33m \u001B[0m\u001B[37m│\u001B[0m\u001B[37m \u001B[0m\u001B[1;37m]\u001B[0m\u001B[37m                                                                                                          \u001B[0m\u001B[37m \u001B[0m\u001B[37m│\u001B[0m\u001B[33m \u001B[0m\u001B[33m│\u001B[0m\n",
       "\u001B[33m│\u001B[0m\u001B[33m \u001B[0m\u001B[37m╰─────────────────────────────────────────────────────────────────────────────────────────────────────────────╯\u001B[0m\u001B[33m \u001B[0m\u001B[33m│\u001B[0m\n",
       "\u001B[33m│\u001B[0m\u001B[33m \u001B[0m\u001B[37m╭─\u001B[0m\u001B[33m USAGE \u001B[0m\u001B[37m────────────────────────────────────────────────────────────────────────────────────────────────────\u001B[0m\u001B[37m─╮\u001B[0m\u001B[33m \u001B[0m\u001B[33m│\u001B[0m\n",
       "\u001B[33m│\u001B[0m\u001B[33m \u001B[0m\u001B[37m│\u001B[0m\u001B[37m \u001B[0m\u001B[1;37m{\u001B[0m\u001B[37m                                                                                                          \u001B[0m\u001B[37m \u001B[0m\u001B[37m│\u001B[0m\u001B[33m \u001B[0m\u001B[33m│\u001B[0m\n",
       "\u001B[33m│\u001B[0m\u001B[33m \u001B[0m\u001B[37m│\u001B[0m\u001B[37m \u001B[0m\u001B[37m  \u001B[0m\u001B[1;34m\"input_tokens\"\u001B[0m\u001B[37m: \u001B[0m\u001B[1;36m1694\u001B[0m\u001B[37m,\u001B[0m\u001B[37m                                                                                    \u001B[0m\u001B[37m \u001B[0m\u001B[37m│\u001B[0m\u001B[33m \u001B[0m\u001B[33m│\u001B[0m\n",
       "\u001B[33m│\u001B[0m\u001B[33m \u001B[0m\u001B[37m│\u001B[0m\u001B[37m \u001B[0m\u001B[37m  \u001B[0m\u001B[1;34m\"output_tokens\"\u001B[0m\u001B[37m: \u001B[0m\u001B[1;36m45\u001B[0m\u001B[37m,\u001B[0m\u001B[37m                                                                                     \u001B[0m\u001B[37m \u001B[0m\u001B[37m│\u001B[0m\u001B[33m \u001B[0m\u001B[33m│\u001B[0m\n",
       "\u001B[33m│\u001B[0m\u001B[33m \u001B[0m\u001B[37m│\u001B[0m\u001B[37m \u001B[0m\u001B[37m  \u001B[0m\u001B[1;34m\"input_cost\"\u001B[0m\u001B[37m: \u001B[0m\u001B[1;36m0\u001B[0m\u001B[37m,\u001B[0m\u001B[37m                                                                                         \u001B[0m\u001B[37m \u001B[0m\u001B[37m│\u001B[0m\u001B[33m \u001B[0m\u001B[33m│\u001B[0m\n",
       "\u001B[33m│\u001B[0m\u001B[33m \u001B[0m\u001B[37m│\u001B[0m\u001B[37m \u001B[0m\u001B[37m  \u001B[0m\u001B[1;34m\"output_cost\"\u001B[0m\u001B[37m: \u001B[0m\u001B[1;36m0\u001B[0m\u001B[37m                                                                                         \u001B[0m\u001B[37m \u001B[0m\u001B[37m│\u001B[0m\u001B[33m \u001B[0m\u001B[33m│\u001B[0m\n",
       "\u001B[33m│\u001B[0m\u001B[33m \u001B[0m\u001B[37m│\u001B[0m\u001B[37m \u001B[0m\u001B[1;37m}\u001B[0m\u001B[37m                                                                                                          \u001B[0m\u001B[37m \u001B[0m\u001B[37m│\u001B[0m\u001B[33m \u001B[0m\u001B[33m│\u001B[0m\n",
       "\u001B[33m│\u001B[0m\u001B[33m \u001B[0m\u001B[37m╰─────────────────────────────────────────────────────────────────────────────────────────────────────────────╯\u001B[0m\u001B[33m \u001B[0m\u001B[33m│\u001B[0m\n",
       "\u001B[33m╰─────────────────────────────────────────────────────────────────────────────────────────────────────────────────╯\u001B[0m\n"
      ]
     },
     "metadata": {},
     "output_type": "display_data"
    },
    {
     "data": {
      "text/html": [
       "<pre style=\"white-space:pre;overflow-x:auto;line-height:normal;font-family:Menlo,'DejaVu Sans Mono',consolas,'Courier New',monospace\"><span style=\"color: #000080; text-decoration-color: #000080\">╭────────────────────────────────────────────</span> EXECUTE_TOOL: show_plan <span style=\"color: #000080; text-decoration-color: #000080\">────────────────────────────────────────────╮</span>\n",
       "<span style=\"color: #000080; text-decoration-color: #000080\">│ </span><span style=\"color: #c0c0c0; text-decoration-color: #c0c0c0\">╭─</span><span style=\"color: #000080; text-decoration-color: #000080\"> Input </span><span style=\"color: #c0c0c0; text-decoration-color: #c0c0c0\">─────────────────────────────────────────────────────────────────────────────────────────────────────╮</span><span style=\"color: #000080; text-decoration-color: #000080\"> │</span>\n",
       "<span style=\"color: #000080; text-decoration-color: #000080\">│ </span><span style=\"color: #c0c0c0; text-decoration-color: #c0c0c0\">│ </span><span style=\"color: #c0c0c0; text-decoration-color: #c0c0c0; font-weight: bold\">{</span><span style=\"color: #c0c0c0; text-decoration-color: #c0c0c0\">                                                                                                           │</span><span style=\"color: #000080; text-decoration-color: #000080\"> │</span>\n",
       "<span style=\"color: #000080; text-decoration-color: #000080\">│ </span><span style=\"color: #c0c0c0; text-decoration-color: #c0c0c0\">│   </span><span style=\"color: #000080; text-decoration-color: #000080; font-weight: bold\">\"plan\"</span><span style=\"color: #c0c0c0; text-decoration-color: #c0c0c0\">: </span><span style=\"color: #008000; text-decoration-color: #008000\">\"Since no files were found that match the pattern for documentation or code, there is no content </span><span style=\"color: #c0c0c0; text-decoration-color: #c0c0c0\"> │</span><span style=\"color: #000080; text-decoration-color: #000080\"> │</span>\n",
       "<span style=\"color: #000080; text-decoration-color: #000080\">│ </span><span style=\"color: #c0c0c0; text-decoration-color: #c0c0c0\">│ </span><span style=\"color: #c0c0c0; text-decoration-color: #c0c0c0; font-weight: bold\">}</span><span style=\"color: #c0c0c0; text-decoration-color: #c0c0c0\">                                                                                                           │</span><span style=\"color: #000080; text-decoration-color: #000080\"> │</span>\n",
       "<span style=\"color: #000080; text-decoration-color: #000080\">│ </span><span style=\"color: #c0c0c0; text-decoration-color: #c0c0c0\">╰─────────────────────────────────────────────────────────────────────────────────────────────────────────────╯</span><span style=\"color: #000080; text-decoration-color: #000080\"> │</span>\n",
       "<span style=\"color: #000080; text-decoration-color: #000080\">│ </span><span style=\"color: #c0c0c0; text-decoration-color: #c0c0c0\">╭─</span><span style=\"color: #000080; text-decoration-color: #000080\"> OUTPUT </span><span style=\"color: #c0c0c0; text-decoration-color: #c0c0c0\">────────────────────────────────────────────────────────────────────────────────────────────────────╮</span><span style=\"color: #000080; text-decoration-color: #000080\"> │</span>\n",
       "<span style=\"color: #000080; text-decoration-color: #000080\">│ </span><span style=\"color: #c0c0c0; text-decoration-color: #c0c0c0\">│ Since no files were found that match the pattern for documentation or code, there is no content to          │</span><span style=\"color: #000080; text-decoration-color: #000080\"> │</span>\n",
       "<span style=\"color: #000080; text-decoration-color: #000080\">│ </span><span style=\"color: #c0c0c0; text-decoration-color: #c0c0c0\">│ summarize and create a README.md file.                                                                      │</span><span style=\"color: #000080; text-decoration-color: #000080\"> │</span>\n",
       "<span style=\"color: #000080; text-decoration-color: #000080\">│ </span><span style=\"color: #c0c0c0; text-decoration-color: #c0c0c0\">╰─────────────────────────────────────────────────────────────────────────────────────────────────────────────╯</span><span style=\"color: #000080; text-decoration-color: #000080\"> │</span>\n",
       "<span style=\"color: #000080; text-decoration-color: #000080\">╰─────────────────────────────────────────────────────────────────────────────────────────────────────────────────╯</span>\n",
       "</pre>\n"
      ],
      "text/plain": [
       "\u001B[34m╭─\u001B[0m\u001B[34m───────────────────────────────────────────\u001B[0m EXECUTE_TOOL: show_plan \u001B[34m───────────────────────────────────────────\u001B[0m\u001B[34m─╮\u001B[0m\n",
       "\u001B[34m│\u001B[0m\u001B[34m \u001B[0m\u001B[37m╭─\u001B[0m\u001B[34m Input \u001B[0m\u001B[37m────────────────────────────────────────────────────────────────────────────────────────────────────\u001B[0m\u001B[37m─╮\u001B[0m\u001B[34m \u001B[0m\u001B[34m│\u001B[0m\n",
       "\u001B[34m│\u001B[0m\u001B[34m \u001B[0m\u001B[37m│\u001B[0m\u001B[37m \u001B[0m\u001B[1;37m{\u001B[0m\u001B[37m                                                                                                          \u001B[0m\u001B[37m \u001B[0m\u001B[37m│\u001B[0m\u001B[34m \u001B[0m\u001B[34m│\u001B[0m\n",
       "\u001B[34m│\u001B[0m\u001B[34m \u001B[0m\u001B[37m│\u001B[0m\u001B[37m \u001B[0m\u001B[37m  \u001B[0m\u001B[1;34m\"plan\"\u001B[0m\u001B[37m: \u001B[0m\u001B[32m\"Since no files were found that match the pattern for documentation or code, there is no content \u001B[0m\u001B[37m \u001B[0m\u001B[37m│\u001B[0m\u001B[34m \u001B[0m\u001B[34m│\u001B[0m\n",
       "\u001B[34m│\u001B[0m\u001B[34m \u001B[0m\u001B[37m│\u001B[0m\u001B[37m \u001B[0m\u001B[1;37m}\u001B[0m\u001B[37m                                                                                                          \u001B[0m\u001B[37m \u001B[0m\u001B[37m│\u001B[0m\u001B[34m \u001B[0m\u001B[34m│\u001B[0m\n",
       "\u001B[34m│\u001B[0m\u001B[34m \u001B[0m\u001B[37m╰─────────────────────────────────────────────────────────────────────────────────────────────────────────────╯\u001B[0m\u001B[34m \u001B[0m\u001B[34m│\u001B[0m\n",
       "\u001B[34m│\u001B[0m\u001B[34m \u001B[0m\u001B[37m╭─\u001B[0m\u001B[34m OUTPUT \u001B[0m\u001B[37m───────────────────────────────────────────────────────────────────────────────────────────────────\u001B[0m\u001B[37m─╮\u001B[0m\u001B[34m \u001B[0m\u001B[34m│\u001B[0m\n",
       "\u001B[34m│\u001B[0m\u001B[34m \u001B[0m\u001B[37m│\u001B[0m\u001B[37m \u001B[0m\u001B[37mSince no files were found that match the pattern for documentation or code, there is no content to         \u001B[0m\u001B[37m \u001B[0m\u001B[37m│\u001B[0m\u001B[34m \u001B[0m\u001B[34m│\u001B[0m\n",
       "\u001B[34m│\u001B[0m\u001B[34m \u001B[0m\u001B[37m│\u001B[0m\u001B[37m \u001B[0m\u001B[37msummarize and create a README.md file.                                                                     \u001B[0m\u001B[37m \u001B[0m\u001B[37m│\u001B[0m\u001B[34m \u001B[0m\u001B[34m│\u001B[0m\n",
       "\u001B[34m│\u001B[0m\u001B[34m \u001B[0m\u001B[37m╰─────────────────────────────────────────────────────────────────────────────────────────────────────────────╯\u001B[0m\u001B[34m \u001B[0m\u001B[34m│\u001B[0m\n",
       "\u001B[34m╰─────────────────────────────────────────────────────────────────────────────────────────────────────────────────╯\u001B[0m\n"
      ]
     },
     "metadata": {},
     "output_type": "display_data"
    },
    {
     "data": {
      "text/html": [
       "<pre style=\"white-space:pre;overflow-x:auto;line-height:normal;font-family:Menlo,'DejaVu Sans Mono',consolas,'Courier New',monospace\"><span style=\"color: #808000; text-decoration-color: #808000\">╭──────────────────────────────────────────</span> CALL_LLM: ollama/granite3.3 <span style=\"color: #808000; text-decoration-color: #808000\">──────────────────────────────────────────╮</span>\n",
       "<span style=\"color: #808000; text-decoration-color: #808000\">│ </span><span style=\"color: #c0c0c0; text-decoration-color: #c0c0c0\">╭─</span><span style=\"color: #808000; text-decoration-color: #808000\"> OUTPUT </span><span style=\"color: #c0c0c0; text-decoration-color: #c0c0c0\">────────────────────────────────────────────────────────────────────────────────────────────────────╮</span><span style=\"color: #808000; text-decoration-color: #808000\"> │</span>\n",
       "<span style=\"color: #808000; text-decoration-color: #808000\">│ </span><span style=\"color: #c0c0c0; text-decoration-color: #c0c0c0\">│ </span><span style=\"color: #c0c0c0; text-decoration-color: #c0c0c0; font-weight: bold\">[</span><span style=\"color: #c0c0c0; text-decoration-color: #c0c0c0\">                                                                                                           │</span><span style=\"color: #808000; text-decoration-color: #808000\"> │</span>\n",
       "<span style=\"color: #808000; text-decoration-color: #808000\">│ </span><span style=\"color: #c0c0c0; text-decoration-color: #c0c0c0\">│   </span><span style=\"color: #c0c0c0; text-decoration-color: #c0c0c0; font-weight: bold\">{</span><span style=\"color: #c0c0c0; text-decoration-color: #c0c0c0\">                                                                                                         │</span><span style=\"color: #808000; text-decoration-color: #808000\"> │</span>\n",
       "<span style=\"color: #808000; text-decoration-color: #808000\">│ </span><span style=\"color: #c0c0c0; text-decoration-color: #c0c0c0\">│     </span><span style=\"color: #000080; text-decoration-color: #000080; font-weight: bold\">\"tool.name\"</span><span style=\"color: #c0c0c0; text-decoration-color: #c0c0c0\">: </span><span style=\"color: #008000; text-decoration-color: #008000\">\"final_answer\"</span><span style=\"color: #c0c0c0; text-decoration-color: #c0c0c0\">,                                                                            │</span><span style=\"color: #808000; text-decoration-color: #808000\"> │</span>\n",
       "<span style=\"color: #808000; text-decoration-color: #808000\">│ </span><span style=\"color: #c0c0c0; text-decoration-color: #c0c0c0\">│     </span><span style=\"color: #000080; text-decoration-color: #000080; font-weight: bold\">\"tool.args\"</span><span style=\"color: #c0c0c0; text-decoration-color: #c0c0c0\">: </span><span style=\"color: #008000; text-decoration-color: #008000\">\"{\\\"answer\\\": \\\"No files containing documentation or code were found in the /projects dire</span><span style=\"color: #c0c0c0; text-decoration-color: #c0c0c0\"> │</span><span style=\"color: #808000; text-decoration-color: #808000\"> │</span>\n",
       "<span style=\"color: #808000; text-decoration-color: #808000\">│ </span><span style=\"color: #c0c0c0; text-decoration-color: #c0c0c0\">│   </span><span style=\"color: #c0c0c0; text-decoration-color: #c0c0c0; font-weight: bold\">}</span><span style=\"color: #c0c0c0; text-decoration-color: #c0c0c0\">                                                                                                         │</span><span style=\"color: #808000; text-decoration-color: #808000\"> │</span>\n",
       "<span style=\"color: #808000; text-decoration-color: #808000\">│ </span><span style=\"color: #c0c0c0; text-decoration-color: #c0c0c0\">│ </span><span style=\"color: #c0c0c0; text-decoration-color: #c0c0c0; font-weight: bold\">]</span><span style=\"color: #c0c0c0; text-decoration-color: #c0c0c0\">                                                                                                           │</span><span style=\"color: #808000; text-decoration-color: #808000\"> │</span>\n",
       "<span style=\"color: #808000; text-decoration-color: #808000\">│ </span><span style=\"color: #c0c0c0; text-decoration-color: #c0c0c0\">╰─────────────────────────────────────────────────────────────────────────────────────────────────────────────╯</span><span style=\"color: #808000; text-decoration-color: #808000\"> │</span>\n",
       "<span style=\"color: #808000; text-decoration-color: #808000\">│ </span><span style=\"color: #c0c0c0; text-decoration-color: #c0c0c0\">╭─</span><span style=\"color: #808000; text-decoration-color: #808000\"> USAGE </span><span style=\"color: #c0c0c0; text-decoration-color: #c0c0c0\">─────────────────────────────────────────────────────────────────────────────────────────────────────╮</span><span style=\"color: #808000; text-decoration-color: #808000\"> │</span>\n",
       "<span style=\"color: #808000; text-decoration-color: #808000\">│ </span><span style=\"color: #c0c0c0; text-decoration-color: #c0c0c0\">│ </span><span style=\"color: #c0c0c0; text-decoration-color: #c0c0c0; font-weight: bold\">{</span><span style=\"color: #c0c0c0; text-decoration-color: #c0c0c0\">                                                                                                           │</span><span style=\"color: #808000; text-decoration-color: #808000\"> │</span>\n",
       "<span style=\"color: #808000; text-decoration-color: #808000\">│ </span><span style=\"color: #c0c0c0; text-decoration-color: #c0c0c0\">│   </span><span style=\"color: #000080; text-decoration-color: #000080; font-weight: bold\">\"input_tokens\"</span><span style=\"color: #c0c0c0; text-decoration-color: #c0c0c0\">: </span><span style=\"color: #008080; text-decoration-color: #008080; font-weight: bold\">1919</span><span style=\"color: #c0c0c0; text-decoration-color: #c0c0c0\">,                                                                                     │</span><span style=\"color: #808000; text-decoration-color: #808000\"> │</span>\n",
       "<span style=\"color: #808000; text-decoration-color: #808000\">│ </span><span style=\"color: #c0c0c0; text-decoration-color: #c0c0c0\">│   </span><span style=\"color: #000080; text-decoration-color: #000080; font-weight: bold\">\"output_tokens\"</span><span style=\"color: #c0c0c0; text-decoration-color: #c0c0c0\">: </span><span style=\"color: #008080; text-decoration-color: #008080; font-weight: bold\">35</span><span style=\"color: #c0c0c0; text-decoration-color: #c0c0c0\">,                                                                                      │</span><span style=\"color: #808000; text-decoration-color: #808000\"> │</span>\n",
       "<span style=\"color: #808000; text-decoration-color: #808000\">│ </span><span style=\"color: #c0c0c0; text-decoration-color: #c0c0c0\">│   </span><span style=\"color: #000080; text-decoration-color: #000080; font-weight: bold\">\"input_cost\"</span><span style=\"color: #c0c0c0; text-decoration-color: #c0c0c0\">: </span><span style=\"color: #008080; text-decoration-color: #008080; font-weight: bold\">0</span><span style=\"color: #c0c0c0; text-decoration-color: #c0c0c0\">,                                                                                          │</span><span style=\"color: #808000; text-decoration-color: #808000\"> │</span>\n",
       "<span style=\"color: #808000; text-decoration-color: #808000\">│ </span><span style=\"color: #c0c0c0; text-decoration-color: #c0c0c0\">│   </span><span style=\"color: #000080; text-decoration-color: #000080; font-weight: bold\">\"output_cost\"</span><span style=\"color: #c0c0c0; text-decoration-color: #c0c0c0\">: </span><span style=\"color: #008080; text-decoration-color: #008080; font-weight: bold\">0</span><span style=\"color: #c0c0c0; text-decoration-color: #c0c0c0\">                                                                                          │</span><span style=\"color: #808000; text-decoration-color: #808000\"> │</span>\n",
       "<span style=\"color: #808000; text-decoration-color: #808000\">│ </span><span style=\"color: #c0c0c0; text-decoration-color: #c0c0c0\">│ </span><span style=\"color: #c0c0c0; text-decoration-color: #c0c0c0; font-weight: bold\">}</span><span style=\"color: #c0c0c0; text-decoration-color: #c0c0c0\">                                                                                                           │</span><span style=\"color: #808000; text-decoration-color: #808000\"> │</span>\n",
       "<span style=\"color: #808000; text-decoration-color: #808000\">│ </span><span style=\"color: #c0c0c0; text-decoration-color: #c0c0c0\">╰─────────────────────────────────────────────────────────────────────────────────────────────────────────────╯</span><span style=\"color: #808000; text-decoration-color: #808000\"> │</span>\n",
       "<span style=\"color: #808000; text-decoration-color: #808000\">╰─────────────────────────────────────────────────────────────────────────────────────────────────────────────────╯</span>\n",
       "</pre>\n"
      ],
      "text/plain": [
       "\u001B[33m╭─\u001B[0m\u001B[33m─────────────────────────────────────────\u001B[0m CALL_LLM: ollama/granite3.3 \u001B[33m─────────────────────────────────────────\u001B[0m\u001B[33m─╮\u001B[0m\n",
       "\u001B[33m│\u001B[0m\u001B[33m \u001B[0m\u001B[37m╭─\u001B[0m\u001B[33m OUTPUT \u001B[0m\u001B[37m───────────────────────────────────────────────────────────────────────────────────────────────────\u001B[0m\u001B[37m─╮\u001B[0m\u001B[33m \u001B[0m\u001B[33m│\u001B[0m\n",
       "\u001B[33m│\u001B[0m\u001B[33m \u001B[0m\u001B[37m│\u001B[0m\u001B[37m \u001B[0m\u001B[1;37m[\u001B[0m\u001B[37m                                                                                                          \u001B[0m\u001B[37m \u001B[0m\u001B[37m│\u001B[0m\u001B[33m \u001B[0m\u001B[33m│\u001B[0m\n",
       "\u001B[33m│\u001B[0m\u001B[33m \u001B[0m\u001B[37m│\u001B[0m\u001B[37m \u001B[0m\u001B[37m  \u001B[0m\u001B[1;37m{\u001B[0m\u001B[37m                                                                                                        \u001B[0m\u001B[37m \u001B[0m\u001B[37m│\u001B[0m\u001B[33m \u001B[0m\u001B[33m│\u001B[0m\n",
       "\u001B[33m│\u001B[0m\u001B[33m \u001B[0m\u001B[37m│\u001B[0m\u001B[37m \u001B[0m\u001B[37m    \u001B[0m\u001B[1;34m\"tool.name\"\u001B[0m\u001B[37m: \u001B[0m\u001B[32m\"final_answer\"\u001B[0m\u001B[37m,\u001B[0m\u001B[37m                                                                           \u001B[0m\u001B[37m \u001B[0m\u001B[37m│\u001B[0m\u001B[33m \u001B[0m\u001B[33m│\u001B[0m\n",
       "\u001B[33m│\u001B[0m\u001B[33m \u001B[0m\u001B[37m│\u001B[0m\u001B[37m \u001B[0m\u001B[37m    \u001B[0m\u001B[1;34m\"tool.args\"\u001B[0m\u001B[37m: \u001B[0m\u001B[32m\"{\\\"answer\\\": \\\"No files containing documentation or code were found in the /projects dire\u001B[0m\u001B[37m \u001B[0m\u001B[37m│\u001B[0m\u001B[33m \u001B[0m\u001B[33m│\u001B[0m\n",
       "\u001B[33m│\u001B[0m\u001B[33m \u001B[0m\u001B[37m│\u001B[0m\u001B[37m \u001B[0m\u001B[37m  \u001B[0m\u001B[1;37m}\u001B[0m\u001B[37m                                                                                                        \u001B[0m\u001B[37m \u001B[0m\u001B[37m│\u001B[0m\u001B[33m \u001B[0m\u001B[33m│\u001B[0m\n",
       "\u001B[33m│\u001B[0m\u001B[33m \u001B[0m\u001B[37m│\u001B[0m\u001B[37m \u001B[0m\u001B[1;37m]\u001B[0m\u001B[37m                                                                                                          \u001B[0m\u001B[37m \u001B[0m\u001B[37m│\u001B[0m\u001B[33m \u001B[0m\u001B[33m│\u001B[0m\n",
       "\u001B[33m│\u001B[0m\u001B[33m \u001B[0m\u001B[37m╰─────────────────────────────────────────────────────────────────────────────────────────────────────────────╯\u001B[0m\u001B[33m \u001B[0m\u001B[33m│\u001B[0m\n",
       "\u001B[33m│\u001B[0m\u001B[33m \u001B[0m\u001B[37m╭─\u001B[0m\u001B[33m USAGE \u001B[0m\u001B[37m────────────────────────────────────────────────────────────────────────────────────────────────────\u001B[0m\u001B[37m─╮\u001B[0m\u001B[33m \u001B[0m\u001B[33m│\u001B[0m\n",
       "\u001B[33m│\u001B[0m\u001B[33m \u001B[0m\u001B[37m│\u001B[0m\u001B[37m \u001B[0m\u001B[1;37m{\u001B[0m\u001B[37m                                                                                                          \u001B[0m\u001B[37m \u001B[0m\u001B[37m│\u001B[0m\u001B[33m \u001B[0m\u001B[33m│\u001B[0m\n",
       "\u001B[33m│\u001B[0m\u001B[33m \u001B[0m\u001B[37m│\u001B[0m\u001B[37m \u001B[0m\u001B[37m  \u001B[0m\u001B[1;34m\"input_tokens\"\u001B[0m\u001B[37m: \u001B[0m\u001B[1;36m1919\u001B[0m\u001B[37m,\u001B[0m\u001B[37m                                                                                    \u001B[0m\u001B[37m \u001B[0m\u001B[37m│\u001B[0m\u001B[33m \u001B[0m\u001B[33m│\u001B[0m\n",
       "\u001B[33m│\u001B[0m\u001B[33m \u001B[0m\u001B[37m│\u001B[0m\u001B[37m \u001B[0m\u001B[37m  \u001B[0m\u001B[1;34m\"output_tokens\"\u001B[0m\u001B[37m: \u001B[0m\u001B[1;36m35\u001B[0m\u001B[37m,\u001B[0m\u001B[37m                                                                                     \u001B[0m\u001B[37m \u001B[0m\u001B[37m│\u001B[0m\u001B[33m \u001B[0m\u001B[33m│\u001B[0m\n",
       "\u001B[33m│\u001B[0m\u001B[33m \u001B[0m\u001B[37m│\u001B[0m\u001B[37m \u001B[0m\u001B[37m  \u001B[0m\u001B[1;34m\"input_cost\"\u001B[0m\u001B[37m: \u001B[0m\u001B[1;36m0\u001B[0m\u001B[37m,\u001B[0m\u001B[37m                                                                                         \u001B[0m\u001B[37m \u001B[0m\u001B[37m│\u001B[0m\u001B[33m \u001B[0m\u001B[33m│\u001B[0m\n",
       "\u001B[33m│\u001B[0m\u001B[33m \u001B[0m\u001B[37m│\u001B[0m\u001B[37m \u001B[0m\u001B[37m  \u001B[0m\u001B[1;34m\"output_cost\"\u001B[0m\u001B[37m: \u001B[0m\u001B[1;36m0\u001B[0m\u001B[37m                                                                                         \u001B[0m\u001B[37m \u001B[0m\u001B[37m│\u001B[0m\u001B[33m \u001B[0m\u001B[33m│\u001B[0m\n",
       "\u001B[33m│\u001B[0m\u001B[33m \u001B[0m\u001B[37m│\u001B[0m\u001B[37m \u001B[0m\u001B[1;37m}\u001B[0m\u001B[37m                                                                                                          \u001B[0m\u001B[37m \u001B[0m\u001B[37m│\u001B[0m\u001B[33m \u001B[0m\u001B[33m│\u001B[0m\n",
       "\u001B[33m│\u001B[0m\u001B[33m \u001B[0m\u001B[37m╰─────────────────────────────────────────────────────────────────────────────────────────────────────────────╯\u001B[0m\u001B[33m \u001B[0m\u001B[33m│\u001B[0m\n",
       "\u001B[33m╰─────────────────────────────────────────────────────────────────────────────────────────────────────────────────╯\u001B[0m\n"
      ]
     },
     "metadata": {},
     "output_type": "display_data"
    },
    {
     "data": {
      "text/html": [
       "<pre style=\"white-space:pre;overflow-x:auto;line-height:normal;font-family:Menlo,'DejaVu Sans Mono',consolas,'Courier New',monospace\"><span style=\"color: #000080; text-decoration-color: #000080\">╭──────────────────────────────────────────</span> EXECUTE_TOOL: final_answer <span style=\"color: #000080; text-decoration-color: #000080\">───────────────────────────────────────────╮</span>\n",
       "<span style=\"color: #000080; text-decoration-color: #000080\">│ </span><span style=\"color: #c0c0c0; text-decoration-color: #c0c0c0\">╭─</span><span style=\"color: #000080; text-decoration-color: #000080\"> Input </span><span style=\"color: #c0c0c0; text-decoration-color: #c0c0c0\">─────────────────────────────────────────────────────────────────────────────────────────────────────╮</span><span style=\"color: #000080; text-decoration-color: #000080\"> │</span>\n",
       "<span style=\"color: #000080; text-decoration-color: #000080\">│ </span><span style=\"color: #c0c0c0; text-decoration-color: #c0c0c0\">│ </span><span style=\"color: #c0c0c0; text-decoration-color: #c0c0c0; font-weight: bold\">{</span><span style=\"color: #c0c0c0; text-decoration-color: #c0c0c0\">                                                                                                           │</span><span style=\"color: #000080; text-decoration-color: #000080\"> │</span>\n",
       "<span style=\"color: #000080; text-decoration-color: #000080\">│ </span><span style=\"color: #c0c0c0; text-decoration-color: #c0c0c0\">│   </span><span style=\"color: #000080; text-decoration-color: #000080; font-weight: bold\">\"answer\"</span><span style=\"color: #c0c0c0; text-decoration-color: #c0c0c0\">: </span><span style=\"color: #008000; text-decoration-color: #008000\">\"No files containing documentation or code were found in the /projects directory or its subdire</span><span style=\"color: #c0c0c0; text-decoration-color: #c0c0c0\"> │</span><span style=\"color: #000080; text-decoration-color: #000080\"> │</span>\n",
       "<span style=\"color: #000080; text-decoration-color: #000080\">│ </span><span style=\"color: #c0c0c0; text-decoration-color: #c0c0c0\">│ </span><span style=\"color: #c0c0c0; text-decoration-color: #c0c0c0; font-weight: bold\">}</span><span style=\"color: #c0c0c0; text-decoration-color: #c0c0c0\">                                                                                                           │</span><span style=\"color: #000080; text-decoration-color: #000080\"> │</span>\n",
       "<span style=\"color: #000080; text-decoration-color: #000080\">│ </span><span style=\"color: #c0c0c0; text-decoration-color: #c0c0c0\">╰─────────────────────────────────────────────────────────────────────────────────────────────────────────────╯</span><span style=\"color: #000080; text-decoration-color: #000080\"> │</span>\n",
       "<span style=\"color: #000080; text-decoration-color: #000080\">│ </span><span style=\"color: #c0c0c0; text-decoration-color: #c0c0c0\">╭─</span><span style=\"color: #000080; text-decoration-color: #000080\"> OUTPUT </span><span style=\"color: #c0c0c0; text-decoration-color: #c0c0c0\">────────────────────────────────────────────────────────────────────────────────────────────────────╮</span><span style=\"color: #000080; text-decoration-color: #000080\"> │</span>\n",
       "<span style=\"color: #000080; text-decoration-color: #000080\">│ </span><span style=\"color: #c0c0c0; text-decoration-color: #c0c0c0\">│ No files containing documentation or code were found in the /projects directory or its subdirectories.      │</span><span style=\"color: #000080; text-decoration-color: #000080\"> │</span>\n",
       "<span style=\"color: #000080; text-decoration-color: #000080\">│ </span><span style=\"color: #c0c0c0; text-decoration-color: #c0c0c0\">╰─────────────────────────────────────────────────────────────────────────────────────────────────────────────╯</span><span style=\"color: #000080; text-decoration-color: #000080\"> │</span>\n",
       "<span style=\"color: #000080; text-decoration-color: #000080\">╰─────────────────────────────────────────────────────────────────────────────────────────────────────────────────╯</span>\n",
       "</pre>\n"
      ],
      "text/plain": [
       "\u001B[34m╭─\u001B[0m\u001B[34m─────────────────────────────────────────\u001B[0m EXECUTE_TOOL: final_answer \u001B[34m──────────────────────────────────────────\u001B[0m\u001B[34m─╮\u001B[0m\n",
       "\u001B[34m│\u001B[0m\u001B[34m \u001B[0m\u001B[37m╭─\u001B[0m\u001B[34m Input \u001B[0m\u001B[37m────────────────────────────────────────────────────────────────────────────────────────────────────\u001B[0m\u001B[37m─╮\u001B[0m\u001B[34m \u001B[0m\u001B[34m│\u001B[0m\n",
       "\u001B[34m│\u001B[0m\u001B[34m \u001B[0m\u001B[37m│\u001B[0m\u001B[37m \u001B[0m\u001B[1;37m{\u001B[0m\u001B[37m                                                                                                          \u001B[0m\u001B[37m \u001B[0m\u001B[37m│\u001B[0m\u001B[34m \u001B[0m\u001B[34m│\u001B[0m\n",
       "\u001B[34m│\u001B[0m\u001B[34m \u001B[0m\u001B[37m│\u001B[0m\u001B[37m \u001B[0m\u001B[37m  \u001B[0m\u001B[1;34m\"answer\"\u001B[0m\u001B[37m: \u001B[0m\u001B[32m\"No files containing documentation or code were found in the /projects directory or its subdire\u001B[0m\u001B[37m \u001B[0m\u001B[37m│\u001B[0m\u001B[34m \u001B[0m\u001B[34m│\u001B[0m\n",
       "\u001B[34m│\u001B[0m\u001B[34m \u001B[0m\u001B[37m│\u001B[0m\u001B[37m \u001B[0m\u001B[1;37m}\u001B[0m\u001B[37m                                                                                                          \u001B[0m\u001B[37m \u001B[0m\u001B[37m│\u001B[0m\u001B[34m \u001B[0m\u001B[34m│\u001B[0m\n",
       "\u001B[34m│\u001B[0m\u001B[34m \u001B[0m\u001B[37m╰─────────────────────────────────────────────────────────────────────────────────────────────────────────────╯\u001B[0m\u001B[34m \u001B[0m\u001B[34m│\u001B[0m\n",
       "\u001B[34m│\u001B[0m\u001B[34m \u001B[0m\u001B[37m╭─\u001B[0m\u001B[34m OUTPUT \u001B[0m\u001B[37m───────────────────────────────────────────────────────────────────────────────────────────────────\u001B[0m\u001B[37m─╮\u001B[0m\u001B[34m \u001B[0m\u001B[34m│\u001B[0m\n",
       "\u001B[34m│\u001B[0m\u001B[34m \u001B[0m\u001B[37m│\u001B[0m\u001B[37m \u001B[0m\u001B[37mNo files containing documentation or code were found in the /projects directory or its subdirectories.     \u001B[0m\u001B[37m \u001B[0m\u001B[37m│\u001B[0m\u001B[34m \u001B[0m\u001B[34m│\u001B[0m\n",
       "\u001B[34m│\u001B[0m\u001B[34m \u001B[0m\u001B[37m╰─────────────────────────────────────────────────────────────────────────────────────────────────────────────╯\u001B[0m\u001B[34m \u001B[0m\u001B[34m│\u001B[0m\n",
       "\u001B[34m╰─────────────────────────────────────────────────────────────────────────────────────────────────────────────────╯\u001B[0m\n"
      ]
     },
     "metadata": {},
     "output_type": "display_data"
    }
   ],
   "source": [
    "agent_trace = agent.run(\n",
    "    \"Go through the files in the allowed directory and any folder inside it recursively. \"\n",
    "    \"Read the content of each file that might contain documentation or code and then \"\n",
    "    \"create a summary in markdown format that summarizes what this project is about \"\n",
    "    \"and then write it in a README.md file in the same directory.\"\n",
    ")"
   ]
  },
  {
   "cell_type": "markdown",
   "metadata": {},
   "source": [
    "## View the results "
   ]
  },
  {
   "cell_type": "markdown",
   "metadata": {},
   "source": [
    "The `agent.run` method returns an AgentTrace object, which has a few convenient attributes for displaying some interesting information about the run."
   ]
  },
  {
   "cell_type": "code",
   "execution_count": null,
   "metadata": {},
   "outputs": [],
   "source": [
    "print(agent_trace.final_output)  # Final answer\n",
    "print(f\"Duration: {agent_trace.duration.total_seconds():.2f} seconds\")"
   ]
  }
 ],
 "metadata": {
  "kernelspec": {
   "display_name": "Python 3 (ipykernel)",
   "language": "python",
   "name": "python3"
  },
  "language_info": {
   "codemirror_mode": {
    "name": "ipython",
    "version": 3
   },
   "file_extension": ".py",
   "mimetype": "text/x-python",
   "name": "python",
   "nbconvert_exporter": "python",
   "pygments_lexer": "ipython3",
   "version": "3.13.1"
  }
 },
 "nbformat": 4,
 "nbformat_minor": 4
}
