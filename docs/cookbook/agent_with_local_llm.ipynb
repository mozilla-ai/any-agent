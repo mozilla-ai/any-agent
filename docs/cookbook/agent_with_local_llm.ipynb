{
 "cells": [
  {
   "cell_type": "markdown",
   "metadata": {},
   "source": [
    "# Fully offline Agent!\n",
    "\n",
    "_(no colab for this one since the point is to be run entirely locally)_\n",
    "\n",
    "This tutorial will guide on how to run agent, fully locally / offline i.e., running with a local LLM and a local MCP server, so no data will leave your machine!\n",
    "\n",
    "This can be especially useful for privacy-sensitive applications or when you want to avoid any cloud dependencies.\n",
    "\n",
    "In this example, we will showcase how to let an agent read and write in your local filesystem! Specifically, we will give read-access to the agent to our codebase so that it can write up and generate a README file to describe the project."
   ]
  },
  {
   "cell_type": "markdown",
   "metadata": {},
   "source": [
    "## Install Dependencies\n",
    "\n",
    "any-agent uses the python asyncio module to support async functionality. When running in Jupyter notebooks, this means we need to enable the use of nested event loops. We'll install any-agent and enable this below using nest_asyncio."
   ]
  },
  {
   "cell_type": "code",
   "execution_count": null,
   "metadata": {
    "ExecuteTime": {
     "start_time": "2025-07-16T10:07:18.363801Z"
    },
    "jupyter": {
     "is_executing": true
    }
   },
   "outputs": [],
   "source": [
    "%pip install 'any-agent[smolagents]' --quiet\n",
    "\n",
    "import nest_asyncio\n",
    "\n",
    "nest_asyncio.apply()"
   ]
  },
  {
   "cell_type": "markdown",
   "metadata": {},
   "source": [
    "## Set up your own LLM locally\n",
    "\n",
    "Regardless of which agent framework you choose in any-agent, all of them support LiteLLM, which is a proxy that allows us to use whichever LLM inside the framework, hosted on by any provider. For example, we could use a local model via llama.cpp or [llamafile](https://github.com/Mozilla-Ocho/llamafile), a google hosted gemini model, or a AWS bedrock hosted Llama model. For this example, we will use [Ollama](https://ollama.com/) to run our LLM locally!\n",
    "\n"
   ]
  },
  {
   "cell_type": "markdown",
   "metadata": {},
   "source": [
    "### Ollama setup\n",
    "\n",
    "Fist, install Ollama by following their instructions: https://ollama.com/download \n",
    "\n",
    "### Serve your LLM locally\n",
    "\n",
    "Pick a model that you can run locally based on your hardware and running it in your terminal. For example:\n",
    "\n",
    "8-24GB RAM -> `ollama run granite3.3`  or  `ollama run deepseek-r1:8b` (max context lenght: 128K)\n",
    "\n",
    "24+GB RAM -> `ollama run mistral-small3.2` or `ollama run devstral:24b`\n",
    "\n",
    "In this tutorial, we will be running in a terminal, parallel to our notebook, `granite3.3`\n",
    "\n",
    "### Restart Ollama with a longer context length\n",
    "\n",
    "By default, Ollama has a context length of 8192 tokens, which is not enough for our agent to work properly.\n",
    "So, you will need to first stop the current Ollama process, and then restart it with a longer context length depending on the model you chose and your hardware specifications. \n",
    "\n",
    "All four of the models above have a max context length of 128k tokens, but if your have limited RAM setting it so high might cause you memory issues. For this example, we will set it to 48.000 tokens.\n",
    "\n",
    "#### On Mac\n",
    "\n",
    "Run the following command on your terminal: \n",
    "\n",
    "```\n",
    "killall -9 ollama; OLLAMA_CONTEXT_LENGTH=40000 OLLAMA_DEBUG=1 ollama serve\n",
    "```\n",
    "\n",
    "#### On Linux \n",
    "\n",
    "Stop and edit the configuration file of the ollama service.\n",
    "```\n",
    "sudo systemctl stop ollama\n",
    "sudo systemctl edit ollama.service\n",
    "```\n",
    "\n",
    "Add the following lines in that file (make sure to add them in the beginning of the file, before the comment about changes getting discarded):\n",
    "```\n",
    "[Service]\n",
    "Environment=\"OLLAMA_CONTEXT_LENGTH=48000\"\n",
    "Environment=\"OLLAMA_DEBUG=1\"\n",
    "```\n",
    "\n",
    "Restart the service\n",
    "```\n",
    "systemctl daemon-reload\n",
    "systemctl restart ollama\n",
    "```\n",
    "\n",
    "For more information on setting environment variables in Ollama, please refer to their [documentation](https://github.com/ollama/ollama/blob/main/docs/faq.md#how-do-i-configure-ollama-server)."
   ]
  },
  {
   "cell_type": "markdown",
   "metadata": {},
   "source": [
    "## Configure the Agent and the Tools\n",
    "\n",
    "Instead of giving read-write access to the agent to the whole of our filesystem, we will limit its scope by manually adding which path its allowed to work in by providing it as an argument to the filesystem tool later on."
   ]
  },
  {
   "cell_type": "code",
   "execution_count": null,
   "metadata": {
    "ExecuteTime": {
     "end_time": "2025-07-16T08:44:06.571483Z",
     "start_time": "2025-07-16T08:44:03.515176Z"
    }
   },
   "outputs": [],
   "source": [
    "from pathlib import Path\n",
    "\n",
    "codebase_directory = \"toy_codebase\"\n",
    "abs_path = str(Path(codebase_directory).resolve())\n",
    "print(f\"Codebase directory set: {abs_path}\")"
   ]
  },
  {
   "cell_type": "markdown",
   "metadata": {},
   "source": [
    "### Pick which tools to use\n",
    "\n",
    "Since we want our agent to work fully locally/offline, we will not add any tools that require communication with remote servers, in this case a local MCP server for secure file-system operations. We could also simply implement python callable functions that do these operations (e.g. using the os library), but instead we are opting here for an MCP server to showcase how easy it would be to swap or add other MCP servers to this use-case. To enforce that our agent doesn't go rogue and read/write in directories it's not supposed to access we will use the MCP server through a docker container that only has access to the directory above by mounting it. Before running the code below, make sure you have [Docker](https://docs.docker.com/get-started/) running in the background."
   ]
  },
  {
   "cell_type": "code",
   "execution_count": null,
   "metadata": {},
   "outputs": [],
   "source": [
    "from any_agent.config import MCPStdio\n",
    "\n",
    "docker_destination = \"/projects\"\n",
    "\n",
    "mcp_filesystem = MCPStdio(\n",
    "    command=\"docker\",\n",
    "    args=[\"run\", \"-i\", \"--rm\", \"--mount\", f\"type=bind,src={abs_path},dst={docker_destination}\",\"mcp/filesystem\", docker_destination],\n",
    "    tools=[\"read_file\", \"read_multiple_files\", \"write_file\", \"list_allowed_directories\", \"list_directory\"]  # we only include the tools we need\n",
    ")"
   ]
  },
  {
   "cell_type": "markdown",
   "metadata": {},
   "source": [
    "Now that your LLM is running on the background (local server) and you have defined your tools, you need to pick your agent framework to build your agent. Note that the agent you'll built with any-agent can be run across multiple agent frameworks (Smolagent, TinyAgent, OpenAI, etc) and across various LLMs (Llama, DeepSeek, Mistral, etc). For this example, we will use the smolagents framework.  "
   ]
  },
  {
   "cell_type": "code",
   "execution_count": null,
   "metadata": {},
   "outputs": [],
   "source": [
    "from any_agent import AgentConfig, AnyAgent\n",
    "from any_agent.tools import show_plan\n",
    "\n",
    "# Define the agent\n",
    "agent = AnyAgent.create(\n",
    "    \"smolagents\",\n",
    "    AgentConfig(\n",
    "        model_id=\"ollama/granite3.3\",\n",
    "        instructions=\"\"\"\n",
    "        You must use the available tools to find an answer.\n",
    "        \"\"\",\n",
    "        tools=[mcp_filesystem, show_plan],\n",
    "        model_args={\"tool_choice\": \"required\"}\n",
    "    ),\n",
    ")"
   ]
  },
  {
   "cell_type": "markdown",
   "metadata": {},
   "source": [
    "## Run the Agent\n"
   ]
  },
  {
   "cell_type": "code",
   "execution_count": null,
   "metadata": {},
   "outputs": [],
   "source": [
    "agent_trace = agent.run(f\"Read the content of each file in the allowed directory, that might contain documentation or code, create a summary in markdown format that summarizes what this project is about and then write it in a README.md file in the same directory.\")"
   ]
  },
  {
   "cell_type": "markdown",
   "metadata": {},
   "source": [
    "## View the results "
   ]
  },
  {
   "cell_type": "markdown",
   "metadata": {},
   "source": [
    "The `agent.run` method returns an AgentTrace object, which has a few convenient attributes for displaying some interesting information about the run."
   ]
  },
  {
   "cell_type": "code",
   "execution_count": null,
   "metadata": {},
   "outputs": [],
   "source": [
    "print(agent_trace.final_output)  # Final answer\n",
    "print(f\"Duration: {agent_trace.duration.total_seconds():.2f} seconds\")"
   ]
  }
 ],
 "metadata": {
  "kernelspec": {
   "display_name": "Python 3 (ipykernel)",
   "language": "python",
   "name": "python3"
  },
  "language_info": {
   "codemirror_mode": {
    "name": "ipython",
    "version": 3
   },
   "file_extension": ".py",
   "mimetype": "text/x-python",
   "name": "python",
   "nbconvert_exporter": "python",
   "pygments_lexer": "ipython3",
   "version": "3.13.1"
  }
 },
 "nbformat": 4,
 "nbformat_minor": 4
}
