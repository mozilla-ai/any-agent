{
 "cells": [
  {
   "cell_type": "markdown",
   "id": "1c2010a8",
   "metadata": {},
   "source": [
    "# Using Callbacks\n",
    "\n",
    "This cookbook illustrates how to implement and use custom callbacks in `any-agent`.\n",
    "\n",
    "You can find more information about callbacks in the docs:\n",
    "\n",
    "https://mozilla-ai.github.io/any-agent/agents/callbacks/"
   ]
  },
  {
   "cell_type": "code",
   "execution_count": null,
   "id": "41f330e1",
   "metadata": {},
   "outputs": [],
   "source": [
    "%pip install 'any-agent'\n",
    "\n",
    "import nest_asyncio\n",
    "\n",
    "nest_asyncio.apply()"
   ]
  },
  {
   "cell_type": "code",
   "execution_count": null,
   "id": "2976be95",
   "metadata": {},
   "outputs": [],
   "source": [
    "import os\n",
    "from getpass import getpass\n",
    "\n",
    "for key in (\"MISTRAL_API_KEY\", \"TAVILY_API_KEY\"):\n",
    "    if key not in os.environ:\n",
    "        print(f\"{key} not found in environment!\")\n",
    "        api_key = getpass(f\"Please enter your {key}: \")\n",
    "        os.environ[key] = api_key\n",
    "        print(f\"{key} set for this session!\")\n",
    "    else:\n",
    "        print(f\"{key} found in environment.\")"
   ]
  },
  {
   "cell_type": "code",
   "execution_count": null,
   "id": "2656879d",
   "metadata": {},
   "outputs": [],
   "source": [
    "from any_agent import AgentConfig, AnyAgent\n",
    "from any_agent.tools import search_tavily"
   ]
  },
  {
   "cell_type": "markdown",
   "id": "a2b06e73",
   "metadata": {},
   "source": [
    "## Running with default callbacks"
   ]
  },
  {
   "cell_type": "markdown",
   "id": "1725e98a",
   "metadata": {},
   "source": [
    "`any-agent` comes with a set of default callbacks that will be used by default (if you don't pass a value to `AgentConfig.callbacks`):\n",
    "\n",
    "- [`AddCostInfo`](https://mozilla-ai.github.io/any-agent/api/callbacks/#any_agent.callbacks.span_cost.AddCostInfo)\n",
    "- [`ConsolePrintSpan`](https://mozilla-ai.github.io/any-agent/api/callbacks/#any_agent.callbacks.span_print.ConsolePrintSpan)"
   ]
  },
  {
   "cell_type": "code",
   "execution_count": null,
   "id": "1083c995",
   "metadata": {},
   "outputs": [],
   "source": [
    "agent = AnyAgent.create(\n",
    "    \"tinyagent\",\n",
    "    AgentConfig(model_id=\"mistral:mistral-small-latest\", tools=[search_tavily]),\n",
    ")\n",
    "agent_trace = agent.run(\"What are 5 LLM agent frameworks that are trending in 2025?\")"
   ]
  },
  {
   "cell_type": "markdown",
   "id": "ad79387b",
   "metadata": {},
   "source": [
    "## Adding Callback to offload sensitive information\n",
    "\n",
    "Some inputs and/or outputs in your traces might contain sensitive information that you don't want\n",
    "to be exposed in the [traces](https://mozilla-ai.github.io/any-agent/tracing/).\n",
    "\n",
    "We are going to implement a callback that takes the value of the input messages (which contain the instructions and the user prompt), writes it to an external destination (in this example, a local file), and replaces the value of the attribute in the span with a reference to that external destination."
   ]
  },
  {
   "cell_type": "code",
   "execution_count": null,
   "id": "41945c61",
   "metadata": {},
   "outputs": [],
   "source": [
    "import json\n",
    "from pathlib import Path\n",
    "\n",
    "from any_agent.callbacks.base import Callback\n",
    "from any_agent.callbacks.context import Context\n",
    "from any_agent.tracing.attributes import GenAI\n",
    "\n",
    "\n",
    "class SensitiveDataOffloader(Callback):\n",
    "    def __init__(self, output_dir: str) -> None:\n",
    "        self.output_dir = Path(output_dir)\n",
    "        self.output_dir.mkdir(exist_ok=True, parents=True)\n",
    "\n",
    "    def before_llm_call(self, context: Context, *args, **kwargs) -> Context:\n",
    "        span = context.current_span\n",
    "\n",
    "        if input_messages := span.attributes.get(GenAI.INPUT_MESSAGES):\n",
    "            output_file = self.output_dir / f\"{span.get_span_context().trace_id}.txt\"\n",
    "            output_file.write_text(str(input_messages))\n",
    "\n",
    "            span.set_attribute(\n",
    "                GenAI.INPUT_MESSAGES, json.dumps({\"ref\": str(output_file)})\n",
    "            )\n",
    "\n",
    "        return context"
   ]
  },
  {
   "cell_type": "markdown",
   "id": "deebc239",
   "metadata": {},
   "source": [
    "We can now provide our callback to the agent. \n",
    "\n",
    "You can find more information in: \n",
    "\n",
    "https://mozilla-ai.github.io/any-agent/agents/callbacks/#providing-your-own-callbacks"
   ]
  },
  {
   "cell_type": "code",
   "execution_count": null,
   "id": "fc1b83b3",
   "metadata": {},
   "outputs": [],
   "source": [
    "from any_agent.callbacks import get_default_callbacks\n",
    "\n",
    "agent = AnyAgent.create(\n",
    "    \"tinyagent\",\n",
    "    AgentConfig(\n",
    "        model_id=\"mistral:mistral-small-latest\",\n",
    "        tools=[search_tavily],\n",
    "        callbacks=[SensitiveDataOffloader(\"sensitive-info\"), *get_default_callbacks()],\n",
    "    ),\n",
    ")\n",
    "agent_trace = agent.run(\"What are 5 LLM agent frameworks that are trending in 2025?\")"
   ]
  },
  {
   "cell_type": "markdown",
   "id": "0451a128",
   "metadata": {},
   "source": [
    "As you can see in the console output, the input messages in the trace have been now replaced by a reference to the external destination."
   ]
  }
 ],
 "metadata": {
  "kernelspec": {
   "display_name": "any-agent",
   "language": "python",
   "name": "python3"
  },
  "language_info": {
   "codemirror_mode": {
    "name": "ipython",
    "version": 3
   },
   "file_extension": ".py",
   "mimetype": "text/x-python",
   "name": "python",
   "nbconvert_exporter": "python",
   "pygments_lexer": "ipython3",
   "version": "3.13.1"
  }
 },
 "nbformat": 4,
 "nbformat_minor": 5
}
