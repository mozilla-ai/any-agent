{
 "cells": [
  {
   "cell_type": "markdown",
   "metadata": {},
   "source": [
    "# Serve an Agent with A2A\n",
    "\n",
    "Once you've built an agent, a common question might be: \"how do I let other developers/applications access it?\". Enter the [A2A](https://github.com/google-a2a/A2A) protocol by Google! A2A is \"An open protocol enabling communication and interoperability between opaque agentic applications\". Any-Agent provides support for serving an agent over A2A, as simple as calling `agent.serve()`. In this tutorial, we'll build and serve an agent using any-agent, and show how you can serve and interact with it via the A2A protocol.\n",
    "\n",
    "This tutorial assumes basic familiarity with any-agent: if you haven't used any-agent before you may also find the [Creating your first agent](./../your_first_agent) cookbook to be useful."
   ]
  },
  {
   "cell_type": "markdown",
   "metadata": {},
   "source": [
    "## Install Dependencies\n",
    "\n",
    "any-agent uses the python asyncio module to support async functionality. When running in Jupyter notebooks, this means we need to enable the use of nested event loops. We'll install any-agent and enable this below using nest_asyncio."
   ]
  },
  {
   "cell_type": "code",
   "execution_count": 1,
   "metadata": {},
   "outputs": [
    {
     "name": "stdout",
     "output_type": "stream",
     "text": [
      "/Users/nbrake/scm/any-agent/.venv/bin/python: No module named pip\n",
      "Note: you may need to restart the kernel to use updated packages.\n"
     ]
    }
   ],
   "source": [
    "%pip install 'any-agent[a2a]'\n",
    "\n",
    "import nest_asyncio\n",
    "\n",
    "nest_asyncio.apply()"
   ]
  },
  {
   "cell_type": "code",
   "execution_count": 6,
   "metadata": {},
   "outputs": [
    {
     "name": "stdout",
     "output_type": "stream",
     "text": [
      "OPENAI_API_KEY found in environment.\n"
     ]
    }
   ],
   "source": [
    "import os\n",
    "from getpass import getpass\n",
    "\n",
    "# This notebook communicates with OpenAI GPT models using the OpenAI API.\n",
    "if \"OPENAI_API_KEY\" not in os.environ:\n",
    "    print(\"OPENAI_API_KEY not found in environment!\")\n",
    "    api_key = getpass(\"Please enter your OPENAI_API_KEY: \")\n",
    "    os.environ[\"OPENAI_API_KEY\"] = api_key\n",
    "    print(\"OPENAI_API_KEY set for this session!\")\n",
    "else:\n",
    "    print(\"OPENAI_API_KEY found in environment.\")"
   ]
  },
  {
   "cell_type": "markdown",
   "metadata": {},
   "source": [
    "## Configure and run the server\n",
    "\n",
    "Let's give our agent the very simple capability to access the current time through a Model Context Protocol (MCP) server. For this demo, we'll use the async method `agent.serve_async` so that we can easily run both the server and client from inside the notebook. "
   ]
  },
  {
   "cell_type": "code",
   "execution_count": null,
   "metadata": {},
   "outputs": [],
   "source": [
    "from any_agent import AgentConfig, AnyAgent\n",
    "from any_agent.config import MCPStdio, ServingConfig, TracingConfig\n",
    "\n",
    "# This MCP Tool relies upon uvx https://docs.astral.sh/uv/getting-started/installation/\n",
    "time_tool = MCPStdio(\n",
    "    command=\"uvx\",\n",
    "    args=[\"mcp-server-time\", \"--local-timezone=America/New_York\"],\n",
    "    tools=[\n",
    "        \"get_current_time\",\n",
    "    ],\n",
    ")\n",
    "\n",
    "time = AnyAgent.create(\n",
    "    \"tinyagent\",  # See all options in https://mozilla-ai.github.io/any-agent/\n",
    "    AgentConfig(\n",
    "        model_id=\"gpt-4.1-mini\",\n",
    "        description=\"I'm an agent to help with getting the time\",\n",
    "        tools=[time_tool],\n",
    "    ),\n",
    "    tracing=TracingConfig(console=False),\n",
    ")\n",
    "(time_task, time_server) = await time.serve_async(ServingConfig(port=5000))"
   ]
  },
  {
   "cell_type": "markdown",
   "metadata": {},
   "source": [
    "# Call the agent using A2AClient\n",
    "\n",
    "Now that the agent is listening on http://localhost:5000, we can communicate with it from any other application that supports A2A. For this tutorial we'll use the a2a python SDK, but any client that implements the [A2A Protocol](https://github.com/google-a2a/A2A) would also work."
   ]
  },
  {
   "cell_type": "code",
   "execution_count": 4,
   "metadata": {},
   "outputs": [
    {
     "name": "stdout",
     "output_type": "stream",
     "text": [
      "--------------------------------------------------Agent Card--------------------------------------------------\n",
      "{\n",
      "  \"capabilities\": {\n",
      "    \"pushNotifications\": false,\n",
      "    \"stateTransitionHistory\": false,\n",
      "    \"streaming\": false\n",
      "  },\n",
      "  \"defaultInputModes\": [\n",
      "    \"text\"\n",
      "  ],\n",
      "  \"defaultOutputModes\": [\n",
      "    \"text\"\n",
      "  ],\n",
      "  \"description\": \"I'm an agent to help with getting the time\",\n",
      "  \"documentationUrl\": null,\n",
      "  \"name\": \"any_agent\",\n",
      "  \"provider\": null,\n",
      "  \"security\": null,\n",
      "  \"securitySchemes\": null,\n",
      "  \"skills\": [\n",
      "    {\n",
      "      \"description\": \"Get current time in a specific timezones\",\n",
      "      \"examples\": null,\n",
      "      \"id\": \"any_agent-get_current_time\",\n",
      "      \"inputModes\": null,\n",
      "      \"name\": \"get_current_time\",\n",
      "      \"outputModes\": null,\n",
      "      \"tags\": []\n",
      "    }\n",
      "  ],\n",
      "  \"supportsAuthenticatedExtendedCard\": null,\n",
      "  \"url\": \"http://localhost:5000/\",\n",
      "  \"version\": \"0.1.0\"\n",
      "}\n",
      "----------------------------------------------------------------------------------------------------\n"
     ]
    }
   ],
   "source": [
    "from uuid import uuid4\n",
    "\n",
    "import httpx\n",
    "from a2a.client import A2ACardResolver, A2AClient\n",
    "from a2a.types import AgentCard, MessageSendParams, SendMessageRequest\n",
    "\n",
    "async with httpx.AsyncClient() as httpx_client:\n",
    "    # 1st, talk to the time agent\n",
    "    agent_card: AgentCard = await A2ACardResolver(\n",
    "        httpx_client,\n",
    "        base_url=\"http://localhost:5000\",\n",
    "    ).get_agent_card(http_kwargs=None)\n",
    "    print(\"-\" * 50 + \"Agent Card\" + \"-\" * 50)\n",
    "    print(agent_card.model_dump_json(indent=2))\n",
    "    print(\"-\" * 100)\n",
    "    client = A2AClient(httpx_client=httpx_client, agent_card=agent_card)\n",
    "    send_message_payload = {\n",
    "        \"message\": {\n",
    "            \"role\": \"user\",\n",
    "            \"parts\": [{\"kind\": \"text\", \"text\": \"What time is it?\"}],\n",
    "            \"messageId\": uuid4().hex,\n",
    "        },\n",
    "    }\n",
    "    request = SendMessageRequest(params=MessageSendParams(**send_message_payload))\n",
    "    response = await client.send_message(request)"
   ]
  },
  {
   "cell_type": "code",
   "execution_count": 5,
   "metadata": {},
   "outputs": [
    {
     "name": "stdout",
     "output_type": "stream",
     "text": [
      "{\n",
      "  \"id\": \"755cad71-8528-4169-bada-d001b3219683\",\n",
      "  \"jsonrpc\": \"2.0\",\n",
      "  \"result\": {\n",
      "    \"contextId\": null,\n",
      "    \"kind\": \"message\",\n",
      "    \"messageId\": \"dea72c7d-fbe5-4488-9fc4-103ccb0363e0\",\n",
      "    \"metadata\": null,\n",
      "    \"parts\": [\n",
      "      {\n",
      "        \"kind\": \"text\",\n",
      "        \"metadata\": null,\n",
      "        \"text\": \"The current time in the America/New_York timezone is 7:28 PM on May 27, 2025. Would you like to know the time in any other timezone?\"\n",
      "      }\n",
      "    ],\n",
      "    \"referenceTaskIds\": null,\n",
      "    \"role\": \"agent\",\n",
      "    \"taskId\": null\n",
      "  }\n",
      "}\n"
     ]
    }
   ],
   "source": [
    "print(response.model_dump_json(indent=2))"
   ]
  }
 ],
 "metadata": {
  "kernelspec": {
   "display_name": ".venv",
   "language": "python",
   "name": "python3"
  },
  "language_info": {
   "codemirror_mode": {
    "name": "ipython",
    "version": 3
   },
   "file_extension": ".py",
   "mimetype": "text/x-python",
   "name": "python",
   "nbconvert_exporter": "python",
   "pygments_lexer": "ipython3",
   "version": "3.13.2"
  }
 },
 "nbformat": 4,
 "nbformat_minor": 2
}
