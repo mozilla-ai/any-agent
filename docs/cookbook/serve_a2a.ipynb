{
 "cells": [
  {
   "cell_type": "markdown",
   "metadata": {},
   "source": [
    "# Serve an Agent with A2A\n",
    "\n",
    "Once you've built an agent, a common question might be: \"how do I let other developers/applications access it?\". Enter the [A2A](https://github.com/google-a2a/A2A) protocol by Google! A2A is \"An open protocol enabling communication and interoperability between opaque agentic applications\". Any-Agent provides support for serving an agent over A2A, as simple as calling `await agent.serve_async()`. In this tutorial, we'll build and serve an agent using any-agent, and show how you can serve and interact with it via the A2A protocol.\n",
    "\n",
    "<img src=\"/images/serve_a2a.png\" alt=\"\" style=\"max-width: 500px; height: auto;\">\n",
    "\n",
    "This tutorial assumes basic familiarity with any-agent: if you haven't used any-agent before you may also find the [Creating your first agent](./../your_first_agent) cookbook to be useful.\n",
    "\n",
    "Note: because this tutorial relies upon advanced stdio/stderr communication using the MCP Server, it cannot be run on Google Colab.\n"
   ]
  },
  {
   "cell_type": "markdown",
   "metadata": {},
   "source": [
    "## Install Dependencies\n",
    "\n",
    "any-agent uses the python asyncio module to support async functionality. When running in Jupyter notebooks, this means we need to enable the use of nested event loops. We'll install any-agent and enable this below using nest_asyncio."
   ]
  },
  {
   "cell_type": "code",
   "execution_count": null,
   "metadata": {},
   "outputs": [],
   "source": [
    "%pip install 'any-agent[a2a]'\n",
    "\n",
    "import nest_asyncio\n",
    "\n",
    "nest_asyncio.apply()"
   ]
  },
  {
   "cell_type": "code",
   "execution_count": null,
   "metadata": {},
   "outputs": [],
   "source": [
    "import os\n",
    "from getpass import getpass\n",
    "\n",
    "# This notebook communicates with Mistral models using the Mistral API.\n",
    "if \"MISTRAL_API_KEY\" not in os.environ:\n",
    "    print(\"MISTRAL_API_KEY not found in environment!\")\n",
    "    api_key = getpass(\"Please enter your MISTRAL_API_KEY: \")\n",
    "    os.environ[\"MISTRAL_API_KEY\"] = api_key\n",
    "    print(\"MISTRAL_API_KEY set for this session!\")\n",
    "else:\n",
    "    print(\"MISTRAL_API_KEY found in environment.\")"
   ]
  },
  {
   "cell_type": "markdown",
   "metadata": {},
   "source": [
    "## Configure and run the server\n",
    "\n",
    "Let's give our agent the very simple capability to access the current time through a Model Context Protocol (MCP) server. For this demo, we'll use the async method `agent.serve_async` so that we can easily run both the server and client from inside the notebook. "
   ]
  },
  {
   "cell_type": "code",
   "execution_count": null,
   "metadata": {},
   "outputs": [],
   "source": [
    "import asyncio\n",
    "\n",
    "import httpx\n",
    "\n",
    "from any_agent import AgentConfig, AnyAgent\n",
    "from any_agent.config import MCPStdio\n",
    "from any_agent.serving import A2AServingConfig\n",
    "\n",
    "# This MCP Tool relies upon uvx https://docs.astral.sh/uv/getting-started/installation/\n",
    "time_tool = MCPStdio(\n",
    "    command=\"uvx\",\n",
    "    args=[\"mcp-server-time\", \"--local-timezone=America/New_York\"],\n",
    "    tools=[\n",
    "        \"get_current_time\",\n",
    "    ],\n",
    ")\n",
    "\n",
    "time = await AnyAgent.create_async(\n",
    "    \"tinyagent\",  # See all options in https://mozilla-ai.github.io/any-agent/\n",
    "    AgentConfig(\n",
    "        model_id=\"mistral:mistral-small-latest\",\n",
    "        description=\"I'm an agent to help with getting the time\",\n",
    "        tools=[time_tool],\n",
    "    ),\n",
    ")\n",
    "time_handle = await time.serve_async(A2AServingConfig(port=0))\n",
    "\n",
    "server_port = time_handle.port\n",
    "\n",
    "max_attempts = 20\n",
    "poll_interval = 0.5\n",
    "attempts = 0\n",
    "server_url = f\"http://localhost:{server_port}\"\n",
    "async with httpx.AsyncClient() as client:\n",
    "    while True:\n",
    "        try:\n",
    "            # Try to make a basic GET request to check if server is responding\n",
    "            await client.get(server_url, timeout=1.0)\n",
    "            print(f\"Server is ready at {server_url}\")\n",
    "            break\n",
    "        except (httpx.RequestError, httpx.TimeoutException):\n",
    "            # Server not ready yet, continue polling\n",
    "            pass\n",
    "\n",
    "        await asyncio.sleep(poll_interval)\n",
    "        attempts += 1\n",
    "        if attempts >= max_attempts:\n",
    "            msg = f\"Could not connect to {server_url}. Tried {max_attempts} times with {poll_interval} second interval.\"\n",
    "            raise ConnectionError(msg)"
   ]
  },
  {
   "cell_type": "markdown",
   "metadata": {},
   "source": [
    "## Call the agent using A2AClient\n",
    "\n",
    "Now that the agent is listening on localhost, we can communicate with it from any other application that supports A2A. For this tutorial we'll use the a2a python SDK, but any client that implements the [A2A Protocol](https://github.com/google-a2a/A2A) would also work."
   ]
  },
  {
   "cell_type": "markdown",
   "metadata": {},
   "source": [
    "### A2A Agent Card\n",
    "\n",
    "Before giving the agent a task, we first retrieve the agent's model card, which is a description of the agents capabilities. This helps the client understand what the agent can do, and what A2A features are available."
   ]
  },
  {
   "cell_type": "code",
   "execution_count": null,
   "metadata": {},
   "outputs": [],
   "source": [
    "import httpx\n",
    "from a2a.client import A2ACardResolver, A2AClient\n",
    "from a2a.types import AgentCard\n",
    "\n",
    "# Create the httpx client\n",
    "httpx_client = httpx.AsyncClient()\n",
    "\n",
    "agent_card: AgentCard = await A2ACardResolver(\n",
    "    httpx_client,\n",
    "    base_url=f\"http://localhost:{server_port}\",\n",
    ").get_agent_card(http_kwargs=None)\n",
    "print(agent_card.model_dump_json(indent=2))\n",
    "\n",
    "client = A2AClient(httpx_client=httpx_client, agent_card=agent_card)"
   ]
  },
  {
   "cell_type": "markdown",
   "metadata": {},
   "source": [
    "### Make a request of the agent\n",
    "\n",
    "Now that we've connected to the agent with the A2AClient, we're ready to make a request of the agent! "
   ]
  },
  {
   "cell_type": "code",
   "execution_count": null,
   "metadata": {},
   "outputs": [],
   "source": [
    "from uuid import uuid4\n",
    "\n",
    "from a2a.types import MessageSendParams, SendMessageRequest\n",
    "\n",
    "send_message_payload = {\n",
    "    \"message\": {\n",
    "        \"role\": \"user\",\n",
    "        \"parts\": [{\"kind\": \"text\", \"text\": \"What time is it?\"}],\n",
    "        \"messageId\": uuid4().hex,\n",
    "    },\n",
    "}\n",
    "request = SendMessageRequest(\n",
    "    id=str(uuid4()), params=MessageSendParams(**send_message_payload)\n",
    ")\n",
    "response = await client.send_message(request, http_kwargs={\"timeout\": 30.0})\n",
    "# Close the httpx client when done\n",
    "await httpx_client.aclose()"
   ]
  },
  {
   "cell_type": "code",
   "execution_count": null,
   "metadata": {},
   "outputs": [],
   "source": [
    "print(response.model_dump_json(indent=2))"
   ]
  },
  {
   "cell_type": "markdown",
   "metadata": {},
   "source": [
    "## Cleanup\n",
    "\n",
    "In order to shut down the A2A server, we can set the `should_exit` property of the server, which will cause the server to shutdown and the asyncio task to complete."
   ]
  },
  {
   "cell_type": "code",
   "execution_count": null,
   "metadata": {},
   "outputs": [],
   "source": [
    "await time_handle.shutdown()\n",
    "print(\"Agent server has been shut down!\")"
   ]
  }
 ],
 "metadata": {
  "kernelspec": {
   "display_name": ".venv",
   "language": "python",
   "name": "python3"
  },
  "language_info": {
   "codemirror_mode": {
    "name": "ipython",
    "version": 3
   },
   "file_extension": ".py",
   "mimetype": "text/x-python",
   "name": "python",
   "nbconvert_exporter": "python",
   "pygments_lexer": "ipython3",
   "version": "3.13.2"
  }
 },
 "nbformat": 4,
 "nbformat_minor": 2
}
