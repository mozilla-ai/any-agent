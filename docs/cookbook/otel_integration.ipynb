{
 "cells": [
  {
   "cell_type": "markdown",
   "id": "35bb5852",
   "metadata": {},
   "source": [
    "# Enable distributed tracing with OpenTelemetry.\n",
    "\n",
    "When using distributed agents, it is useful to gather information from all the involved components. In this cookbook, we will leverage on using A2A agents as tools as demonstrated in [\"Use an Agent as a tool for another agent\"](./../a2a_as_tool) to obtain traces from different components and have a consistent view of a distributed trace.\n",
    "\n",
    "First, a Grafana Tempo instance needs to be running in your environment. A good starting point is the [quick start for tempo](https://grafana.com/docs/tempo/latest/getting-started/docker-example/), removing the `k6-tracing` component."
   ]
  },
  {
   "cell_type": "markdown",
   "id": "78e333bc",
   "metadata": {},
   "source": [
    "## Install Dependencies\n",
    "\n",
    "any-agent uses the python asyncio module to support async functionality. When running in Jupyter notebooks, this means we need to enable the use of nested event loops. We'll install any-agent and enable this below using nest_asyncio. Additionally, we will need some packages handling opentelemetry traces."
   ]
  },
  {
   "cell_type": "code",
   "execution_count": 7,
   "id": "100774ff",
   "metadata": {},
   "outputs": [
    {
     "name": "stdout",
     "output_type": "stream",
     "text": [
      "/Users/jtramon/work/any-agent/449-otel-cookbook/docs/cookbook/.venv/bin/python: No module named pip\n",
      "Note: you may need to restart the kernel to use updated packages.\n"
     ]
    }
   ],
   "source": [
    "%pip install 'any-agent[a2a]'\n",
    "\n",
    "import nest_asyncio\n",
    "\n",
    "nest_asyncio.apply()"
   ]
  },
  {
   "cell_type": "code",
   "execution_count": 2,
   "id": "9a2058da",
   "metadata": {},
   "outputs": [
    {
     "name": "stdout",
     "output_type": "stream",
     "text": [
      "OPENAI_API_KEY not found in environment!\n",
      "OPENAI_API_KEY set for this session!\n"
     ]
    },
    {
     "name": "stderr",
     "output_type": "stream",
     "text": [
      "/Users/jtramon/work/any-agent/449-otel-cookbook/docs/cookbook/.venv/lib/python3.13/site-packages/tqdm/auto.py:21: TqdmWarning: IProgress not found. Please update jupyter and ipywidgets. See https://ipywidgets.readthedocs.io/en/stable/user_install.html\n",
      "  from .autonotebook import tqdm as notebook_tqdm\n"
     ]
    }
   ],
   "source": [
    "import asyncio\n",
    "import datetime\n",
    "import os\n",
    "from getpass import getpass\n",
    "\n",
    "import httpx\n",
    "\n",
    "# This notebook communicates with OpenAI GPT models using the OpenAI API.\n",
    "if \"OPENAI_API_KEY\" not in os.environ:\n",
    "    print(\"OPENAI_API_KEY not found in environment!\")\n",
    "    api_key = getpass(\"Please enter your OPENAI_API_KEY: \")\n",
    "    os.environ[\"OPENAI_API_KEY\"] = api_key\n",
    "    print(\"OPENAI_API_KEY set for this session!\")\n",
    "else:\n",
    "    print(\"OPENAI_API_KEY found in environment.\")\n",
    "\n",
    "from opentelemetry.exporter.otlp.proto.http.trace_exporter import OTLPSpanExporter\n",
    "from opentelemetry.sdk.trace.export import ConsoleSpanExporter, SimpleSpanProcessor\n",
    "from opentelemetry.trace import get_tracer_provider\n",
    "\n",
    "from any_agent import AgentConfig, AgentFramework, AnyAgent\n",
    "from any_agent.serving import A2AServingConfig\n",
    "from any_agent.tools import a2a_tool_async"
   ]
  },
  {
   "cell_type": "markdown",
   "id": "b13cd980",
   "metadata": {},
   "source": [
    "## Add the external exporter\n",
    "\n",
    "The off-the-shelf OTLP exporter can be used to send the traces generated from the different agents to an observability platform (in our case, Grafana Tempo). We assume that the server is listening locally on port 4318. A helper function will be defined to monitor the availability of the A2A agent."
   ]
  },
  {
   "cell_type": "code",
   "execution_count": 3,
   "id": "d715a289",
   "metadata": {},
   "outputs": [],
   "source": [
    "agent_framework = AgentFramework.OPENAI\n",
    "agent_model = \"gpt-4.1-nano\"\n",
    "\n",
    "# Add another trace exporter\n",
    "tp = get_tracer_provider()\n",
    "full_exporter = ConsoleSpanExporter()\n",
    "http_exporter = OTLPSpanExporter(endpoint=\"http://localhost:4318/v1/traces\")\n",
    "tp.add_span_processor(SimpleSpanProcessor(http_exporter))\n",
    "\n",
    "\n",
    "async def wait_for_server_async(\n",
    "    server_url: str, max_attempts: int = 20, poll_interval: float = 0.5\n",
    "):\n",
    "    \"\"\"Wait until the server URL is available.\"\"\"\n",
    "    attempts = 0\n",
    "\n",
    "    async with httpx.AsyncClient() as client:\n",
    "        while True:\n",
    "            try:\n",
    "                # Try to make a basic GET request to check if server is responding\n",
    "                await client.get(server_url, timeout=1.0)\n",
    "                return  # noqa: TRY300\n",
    "            except (httpx.RequestError, httpx.TimeoutException):\n",
    "                # Server not ready yet, continue polling\n",
    "                pass\n",
    "\n",
    "            await asyncio.sleep(poll_interval)\n",
    "            attempts += 1\n",
    "            if attempts >= max_attempts:\n",
    "                msg = f\"Could not connect to {server_url}. Tried {max_attempts} times with {poll_interval} second interval.\"\n",
    "                raise ConnectionError(msg)"
   ]
  },
  {
   "cell_type": "markdown",
   "id": "3fad12aa",
   "metadata": {},
   "source": [
    "## Set up the date agent\n",
    "\n",
    "An agent that can obtain the current date will now be set up served over A2A. This agent will have a Python function as a tool that will be used in incoming queries."
   ]
  },
  {
   "cell_type": "code",
   "execution_count": 4,
   "id": "9166b150",
   "metadata": {},
   "outputs": [
    {
     "name": "stderr",
     "output_type": "stream",
     "text": [
      "INFO:     Started server process [2148]\n",
      "INFO:     Waiting for application startup.\n",
      "INFO:     Application startup complete.\n",
      "INFO:     Uvicorn running on http://localhost:9999 (Press CTRL+C to quit)\n"
     ]
    },
    {
     "name": "stdout",
     "output_type": "stream",
     "text": [
      "INFO:     ::1:52116 - \"GET /tool_agent HTTP/1.1\" 307 Temporary Redirect\n"
     ]
    },
    {
     "name": "stdout",
     "output_type": "stream",
     "text": [
      "INFO:     ::1:52117 - \"GET /tool_agent/.well-known/agent.json HTTP/1.1\" 200 OK\n",
      "INFO:     ::1:52122 - \"POST /tool_agent HTTP/1.1\" 307 Temporary Redirect\n",
      "INFO:     ::1:52122 - \"POST /tool_agent/ HTTP/1.1\" 200 OK\n"
     ]
    },
    {
     "name": "stderr",
     "output_type": "stream",
     "text": [
      "INFO:     Shutting down\n",
      "INFO:     Waiting for application shutdown.\n",
      "INFO:     Application shutdown complete.\n",
      "INFO:     Finished server process [2148]\n"
     ]
    }
   ],
   "source": [
    "main_agent = None\n",
    "served_agent = None\n",
    "served_task = None\n",
    "served_server = None\n",
    "\n",
    "tool_agent_endpoint = \"tool_agent\"\n",
    "test_port = 9999\n",
    "\n",
    "\n",
    "# DATE AGENT\n",
    "\n",
    "\n",
    "def get_datetime() -> str:\n",
    "    \"\"\"Return the current date and time.\"\"\"\n",
    "    return str(datetime.datetime.now())\n",
    "\n",
    "\n",
    "date_agent_description = \"Agent that can return the current date.\"\n",
    "date_agent_cfg = AgentConfig(\n",
    "    instructions=\"Use the available tools to obtain additional information to answer the query.\",\n",
    "    name=\"date_agent\",\n",
    "    model_id=agent_model,\n",
    "    description=date_agent_description,\n",
    "    tools=[get_datetime],\n",
    ")\n",
    "date_agent = await AnyAgent.create_async(\n",
    "    agent_framework=agent_framework,\n",
    "    agent_config=date_agent_cfg,\n",
    ")\n",
    "\n",
    "served_agent = date_agent\n",
    "(served_task, served_server) = await served_agent.serve_async(\n",
    "    serving_config=A2AServingConfig(\n",
    "        port=test_port,\n",
    "        endpoint=f\"/{tool_agent_endpoint}\",\n",
    "        log_level=\"info\",\n",
    "    )\n",
    ")\n",
    "server_url = f\"http://localhost:{test_port}/{tool_agent_endpoint}\"\n",
    "await wait_for_server_async(server_url)"
   ]
  },
  {
   "cell_type": "markdown",
   "id": "9a50f96f",
   "metadata": {},
   "source": [
    "## Set up the main agent\n",
    "\n",
    "Once the A2A server is up and running and can serve the card for the date agent, the main agent can include that agent as a tool, using the provided functions in the `any-agent` package."
   ]
  },
  {
   "cell_type": "code",
   "execution_count": 5,
   "id": "5533f621",
   "metadata": {},
   "outputs": [
    {
     "data": {
      "text/html": [
       "<pre style=\"white-space:pre;overflow-x:auto;line-height:normal;font-family:Menlo,'DejaVu Sans Mono',consolas,'Courier New',monospace\"><span style=\"color: #808000; text-decoration-color: #808000\">╭────────────────────────────────────────────</span> CALL_LLM: gpt-4.1-nano <span style=\"color: #808000; text-decoration-color: #808000\">─────────────────────────────────────────────╮</span>\n",
       "<span style=\"color: #808000; text-decoration-color: #808000\">│ </span><span style=\"color: #c0c0c0; text-decoration-color: #c0c0c0\">╭─</span><span style=\"color: #808000; text-decoration-color: #808000\"> INPUT </span><span style=\"color: #c0c0c0; text-decoration-color: #c0c0c0\">─────────────────────────────────────────────────────────────────────────────────────────────────────╮</span><span style=\"color: #808000; text-decoration-color: #808000\"> │</span>\n",
       "<span style=\"color: #808000; text-decoration-color: #808000\">│ </span><span style=\"color: #c0c0c0; text-decoration-color: #c0c0c0\">│ </span><span style=\"color: #c0c0c0; text-decoration-color: #c0c0c0; font-weight: bold\">[</span><span style=\"color: #c0c0c0; text-decoration-color: #c0c0c0\">                                                                                                           │</span><span style=\"color: #808000; text-decoration-color: #808000\"> │</span>\n",
       "<span style=\"color: #808000; text-decoration-color: #808000\">│ </span><span style=\"color: #c0c0c0; text-decoration-color: #c0c0c0\">│   </span><span style=\"color: #c0c0c0; text-decoration-color: #c0c0c0; font-weight: bold\">{</span><span style=\"color: #c0c0c0; text-decoration-color: #c0c0c0\">                                                                                                         │</span><span style=\"color: #808000; text-decoration-color: #808000\"> │</span>\n",
       "<span style=\"color: #808000; text-decoration-color: #808000\">│ </span><span style=\"color: #c0c0c0; text-decoration-color: #c0c0c0\">│     </span><span style=\"color: #000080; text-decoration-color: #000080; font-weight: bold\">\"content\"</span><span style=\"color: #c0c0c0; text-decoration-color: #c0c0c0\">: </span><span style=\"color: #008000; text-decoration-color: #008000\">\"Use the available tools to obtain additional information to answer the query.\"</span><span style=\"color: #c0c0c0; text-decoration-color: #c0c0c0\">,             │</span><span style=\"color: #808000; text-decoration-color: #808000\"> │</span>\n",
       "<span style=\"color: #808000; text-decoration-color: #808000\">│ </span><span style=\"color: #c0c0c0; text-decoration-color: #c0c0c0\">│     </span><span style=\"color: #000080; text-decoration-color: #000080; font-weight: bold\">\"role\"</span><span style=\"color: #c0c0c0; text-decoration-color: #c0c0c0\">: </span><span style=\"color: #008000; text-decoration-color: #008000\">\"system\"</span><span style=\"color: #c0c0c0; text-decoration-color: #c0c0c0\">                                                                                        │</span><span style=\"color: #808000; text-decoration-color: #808000\"> │</span>\n",
       "<span style=\"color: #808000; text-decoration-color: #808000\">│ </span><span style=\"color: #c0c0c0; text-decoration-color: #c0c0c0\">│   </span><span style=\"color: #c0c0c0; text-decoration-color: #c0c0c0; font-weight: bold\">}</span><span style=\"color: #c0c0c0; text-decoration-color: #c0c0c0\">,                                                                                                        │</span><span style=\"color: #808000; text-decoration-color: #808000\"> │</span>\n",
       "<span style=\"color: #808000; text-decoration-color: #808000\">│ </span><span style=\"color: #c0c0c0; text-decoration-color: #c0c0c0\">│   </span><span style=\"color: #c0c0c0; text-decoration-color: #c0c0c0; font-weight: bold\">{</span><span style=\"color: #c0c0c0; text-decoration-color: #c0c0c0\">                                                                                                         │</span><span style=\"color: #808000; text-decoration-color: #808000\"> │</span>\n",
       "<span style=\"color: #808000; text-decoration-color: #808000\">│ </span><span style=\"color: #c0c0c0; text-decoration-color: #c0c0c0\">│     </span><span style=\"color: #000080; text-decoration-color: #000080; font-weight: bold\">\"role\"</span><span style=\"color: #c0c0c0; text-decoration-color: #c0c0c0\">: </span><span style=\"color: #008000; text-decoration-color: #008000\">\"user\"</span><span style=\"color: #c0c0c0; text-decoration-color: #c0c0c0\">,                                                                                         │</span><span style=\"color: #808000; text-decoration-color: #808000\"> │</span>\n",
       "<span style=\"color: #808000; text-decoration-color: #808000\">│ </span><span style=\"color: #c0c0c0; text-decoration-color: #c0c0c0\">│     </span><span style=\"color: #000080; text-decoration-color: #000080; font-weight: bold\">\"content\"</span><span style=\"color: #c0c0c0; text-decoration-color: #c0c0c0\">: </span><span style=\"color: #008000; text-decoration-color: #008000\">\"What date and time is it right now? In your answer please include the year, month, day, and</span><span style=\"color: #c0c0c0; text-decoration-color: #c0c0c0\"> │</span><span style=\"color: #808000; text-decoration-color: #808000\"> │</span>\n",
       "<span style=\"color: #808000; text-decoration-color: #808000\">│ </span><span style=\"color: #c0c0c0; text-decoration-color: #c0c0c0\">│   </span><span style=\"color: #c0c0c0; text-decoration-color: #c0c0c0; font-weight: bold\">}</span><span style=\"color: #c0c0c0; text-decoration-color: #c0c0c0\">                                                                                                         │</span><span style=\"color: #808000; text-decoration-color: #808000\"> │</span>\n",
       "<span style=\"color: #808000; text-decoration-color: #808000\">│ </span><span style=\"color: #c0c0c0; text-decoration-color: #c0c0c0\">│ </span><span style=\"color: #c0c0c0; text-decoration-color: #c0c0c0; font-weight: bold\">]</span><span style=\"color: #c0c0c0; text-decoration-color: #c0c0c0\">                                                                                                           │</span><span style=\"color: #808000; text-decoration-color: #808000\"> │</span>\n",
       "<span style=\"color: #808000; text-decoration-color: #808000\">│ </span><span style=\"color: #c0c0c0; text-decoration-color: #c0c0c0\">╰─────────────────────────────────────────────────────────────────────────────────────────────────────────────╯</span><span style=\"color: #808000; text-decoration-color: #808000\"> │</span>\n",
       "<span style=\"color: #808000; text-decoration-color: #808000\">│ </span><span style=\"color: #c0c0c0; text-decoration-color: #c0c0c0\">╭─</span><span style=\"color: #808000; text-decoration-color: #808000\"> OUTPUT </span><span style=\"color: #c0c0c0; text-decoration-color: #c0c0c0\">────────────────────────────────────────────────────────────────────────────────────────────────────╮</span><span style=\"color: #808000; text-decoration-color: #808000\"> │</span>\n",
       "<span style=\"color: #808000; text-decoration-color: #808000\">│ </span><span style=\"color: #c0c0c0; text-decoration-color: #c0c0c0\">│ </span><span style=\"color: #c0c0c0; text-decoration-color: #c0c0c0; font-weight: bold\">[</span><span style=\"color: #c0c0c0; text-decoration-color: #c0c0c0\">                                                                                                           │</span><span style=\"color: #808000; text-decoration-color: #808000\"> │</span>\n",
       "<span style=\"color: #808000; text-decoration-color: #808000\">│ </span><span style=\"color: #c0c0c0; text-decoration-color: #c0c0c0\">│   </span><span style=\"color: #c0c0c0; text-decoration-color: #c0c0c0; font-weight: bold\">{</span><span style=\"color: #c0c0c0; text-decoration-color: #c0c0c0\">                                                                                                         │</span><span style=\"color: #808000; text-decoration-color: #808000\"> │</span>\n",
       "<span style=\"color: #808000; text-decoration-color: #808000\">│ </span><span style=\"color: #c0c0c0; text-decoration-color: #c0c0c0\">│     </span><span style=\"color: #000080; text-decoration-color: #000080; font-weight: bold\">\"tool.name\"</span><span style=\"color: #c0c0c0; text-decoration-color: #c0c0c0\">: </span><span style=\"color: #008000; text-decoration-color: #008000\">\"call_date_agent\"</span><span style=\"color: #c0c0c0; text-decoration-color: #c0c0c0\">,                                                                         │</span><span style=\"color: #808000; text-decoration-color: #808000\"> │</span>\n",
       "<span style=\"color: #808000; text-decoration-color: #808000\">│ </span><span style=\"color: #c0c0c0; text-decoration-color: #c0c0c0\">│     </span><span style=\"color: #000080; text-decoration-color: #000080; font-weight: bold\">\"tool.args\"</span><span style=\"color: #c0c0c0; text-decoration-color: #c0c0c0\">: </span><span style=\"color: #008000; text-decoration-color: #008000\">\"{\\\"query\\\":\\\"What is the current date and time?\\\"}\"</span><span style=\"color: #c0c0c0; text-decoration-color: #c0c0c0\">                                       │</span><span style=\"color: #808000; text-decoration-color: #808000\"> │</span>\n",
       "<span style=\"color: #808000; text-decoration-color: #808000\">│ </span><span style=\"color: #c0c0c0; text-decoration-color: #c0c0c0\">│   </span><span style=\"color: #c0c0c0; text-decoration-color: #c0c0c0; font-weight: bold\">}</span><span style=\"color: #c0c0c0; text-decoration-color: #c0c0c0\">                                                                                                         │</span><span style=\"color: #808000; text-decoration-color: #808000\"> │</span>\n",
       "<span style=\"color: #808000; text-decoration-color: #808000\">│ </span><span style=\"color: #c0c0c0; text-decoration-color: #c0c0c0\">│ </span><span style=\"color: #c0c0c0; text-decoration-color: #c0c0c0; font-weight: bold\">]</span><span style=\"color: #c0c0c0; text-decoration-color: #c0c0c0\">                                                                                                           │</span><span style=\"color: #808000; text-decoration-color: #808000\"> │</span>\n",
       "<span style=\"color: #808000; text-decoration-color: #808000\">│ </span><span style=\"color: #c0c0c0; text-decoration-color: #c0c0c0\">╰─────────────────────────────────────────────────────────────────────────────────────────────────────────────╯</span><span style=\"color: #808000; text-decoration-color: #808000\"> │</span>\n",
       "<span style=\"color: #808000; text-decoration-color: #808000\">│ </span><span style=\"color: #c0c0c0; text-decoration-color: #c0c0c0\">╭─</span><span style=\"color: #808000; text-decoration-color: #808000\"> USAGE </span><span style=\"color: #c0c0c0; text-decoration-color: #c0c0c0\">─────────────────────────────────────────────────────────────────────────────────────────────────────╮</span><span style=\"color: #808000; text-decoration-color: #808000\"> │</span>\n",
       "<span style=\"color: #808000; text-decoration-color: #808000\">│ </span><span style=\"color: #c0c0c0; text-decoration-color: #c0c0c0\">│ </span><span style=\"color: #c0c0c0; text-decoration-color: #c0c0c0; font-weight: bold\">{</span><span style=\"color: #c0c0c0; text-decoration-color: #c0c0c0\">                                                                                                           │</span><span style=\"color: #808000; text-decoration-color: #808000\"> │</span>\n",
       "<span style=\"color: #808000; text-decoration-color: #808000\">│ </span><span style=\"color: #c0c0c0; text-decoration-color: #c0c0c0\">│   </span><span style=\"color: #000080; text-decoration-color: #000080; font-weight: bold\">\"input_tokens\"</span><span style=\"color: #c0c0c0; text-decoration-color: #c0c0c0\">: </span><span style=\"color: #008080; text-decoration-color: #008080; font-weight: bold\">215</span><span style=\"color: #c0c0c0; text-decoration-color: #c0c0c0\">,                                                                                      │</span><span style=\"color: #808000; text-decoration-color: #808000\"> │</span>\n",
       "<span style=\"color: #808000; text-decoration-color: #808000\">│ </span><span style=\"color: #c0c0c0; text-decoration-color: #c0c0c0\">│   </span><span style=\"color: #000080; text-decoration-color: #000080; font-weight: bold\">\"output_tokens\"</span><span style=\"color: #c0c0c0; text-decoration-color: #c0c0c0\">: </span><span style=\"color: #008080; text-decoration-color: #008080; font-weight: bold\">22</span><span style=\"color: #c0c0c0; text-decoration-color: #c0c0c0\">                                                                                       │</span><span style=\"color: #808000; text-decoration-color: #808000\"> │</span>\n",
       "<span style=\"color: #808000; text-decoration-color: #808000\">│ </span><span style=\"color: #c0c0c0; text-decoration-color: #c0c0c0\">│ </span><span style=\"color: #c0c0c0; text-decoration-color: #c0c0c0; font-weight: bold\">}</span><span style=\"color: #c0c0c0; text-decoration-color: #c0c0c0\">                                                                                                           │</span><span style=\"color: #808000; text-decoration-color: #808000\"> │</span>\n",
       "<span style=\"color: #808000; text-decoration-color: #808000\">│ </span><span style=\"color: #c0c0c0; text-decoration-color: #c0c0c0\">╰─────────────────────────────────────────────────────────────────────────────────────────────────────────────╯</span><span style=\"color: #808000; text-decoration-color: #808000\"> │</span>\n",
       "<span style=\"color: #808000; text-decoration-color: #808000\">╰─────────────────────────────────────────────────────────────────────────────────────────────────────────────────╯</span>\n",
       "</pre>\n"
      ],
      "text/plain": [
       "\u001b[33m╭─\u001b[0m\u001b[33m───────────────────────────────────────────\u001b[0m CALL_LLM: gpt-4.1-nano \u001b[33m────────────────────────────────────────────\u001b[0m\u001b[33m─╮\u001b[0m\n",
       "\u001b[33m│\u001b[0m\u001b[33m \u001b[0m\u001b[37m╭─\u001b[0m\u001b[33m INPUT \u001b[0m\u001b[37m────────────────────────────────────────────────────────────────────────────────────────────────────\u001b[0m\u001b[37m─╮\u001b[0m\u001b[33m \u001b[0m\u001b[33m│\u001b[0m\n",
       "\u001b[33m│\u001b[0m\u001b[33m \u001b[0m\u001b[37m│\u001b[0m\u001b[37m \u001b[0m\u001b[1;37m[\u001b[0m\u001b[37m                                                                                                          \u001b[0m\u001b[37m \u001b[0m\u001b[37m│\u001b[0m\u001b[33m \u001b[0m\u001b[33m│\u001b[0m\n",
       "\u001b[33m│\u001b[0m\u001b[33m \u001b[0m\u001b[37m│\u001b[0m\u001b[37m \u001b[0m\u001b[37m  \u001b[0m\u001b[1;37m{\u001b[0m\u001b[37m                                                                                                        \u001b[0m\u001b[37m \u001b[0m\u001b[37m│\u001b[0m\u001b[33m \u001b[0m\u001b[33m│\u001b[0m\n",
       "\u001b[33m│\u001b[0m\u001b[33m \u001b[0m\u001b[37m│\u001b[0m\u001b[37m \u001b[0m\u001b[37m    \u001b[0m\u001b[1;34m\"content\"\u001b[0m\u001b[37m: \u001b[0m\u001b[32m\"Use the available tools to obtain additional information to answer the query.\"\u001b[0m\u001b[37m,\u001b[0m\u001b[37m            \u001b[0m\u001b[37m \u001b[0m\u001b[37m│\u001b[0m\u001b[33m \u001b[0m\u001b[33m│\u001b[0m\n",
       "\u001b[33m│\u001b[0m\u001b[33m \u001b[0m\u001b[37m│\u001b[0m\u001b[37m \u001b[0m\u001b[37m    \u001b[0m\u001b[1;34m\"role\"\u001b[0m\u001b[37m: \u001b[0m\u001b[32m\"system\"\u001b[0m\u001b[37m                                                                                       \u001b[0m\u001b[37m \u001b[0m\u001b[37m│\u001b[0m\u001b[33m \u001b[0m\u001b[33m│\u001b[0m\n",
       "\u001b[33m│\u001b[0m\u001b[33m \u001b[0m\u001b[37m│\u001b[0m\u001b[37m \u001b[0m\u001b[37m  \u001b[0m\u001b[1;37m}\u001b[0m\u001b[37m,\u001b[0m\u001b[37m                                                                                                       \u001b[0m\u001b[37m \u001b[0m\u001b[37m│\u001b[0m\u001b[33m \u001b[0m\u001b[33m│\u001b[0m\n",
       "\u001b[33m│\u001b[0m\u001b[33m \u001b[0m\u001b[37m│\u001b[0m\u001b[37m \u001b[0m\u001b[37m  \u001b[0m\u001b[1;37m{\u001b[0m\u001b[37m                                                                                                        \u001b[0m\u001b[37m \u001b[0m\u001b[37m│\u001b[0m\u001b[33m \u001b[0m\u001b[33m│\u001b[0m\n",
       "\u001b[33m│\u001b[0m\u001b[33m \u001b[0m\u001b[37m│\u001b[0m\u001b[37m \u001b[0m\u001b[37m    \u001b[0m\u001b[1;34m\"role\"\u001b[0m\u001b[37m: \u001b[0m\u001b[32m\"user\"\u001b[0m\u001b[37m,\u001b[0m\u001b[37m                                                                                        \u001b[0m\u001b[37m \u001b[0m\u001b[37m│\u001b[0m\u001b[33m \u001b[0m\u001b[33m│\u001b[0m\n",
       "\u001b[33m│\u001b[0m\u001b[33m \u001b[0m\u001b[37m│\u001b[0m\u001b[37m \u001b[0m\u001b[37m    \u001b[0m\u001b[1;34m\"content\"\u001b[0m\u001b[37m: \u001b[0m\u001b[32m\"What date and time is it right now? In your answer please include the year, month, day, and\u001b[0m\u001b[37m \u001b[0m\u001b[37m│\u001b[0m\u001b[33m \u001b[0m\u001b[33m│\u001b[0m\n",
       "\u001b[33m│\u001b[0m\u001b[33m \u001b[0m\u001b[37m│\u001b[0m\u001b[37m \u001b[0m\u001b[37m  \u001b[0m\u001b[1;37m}\u001b[0m\u001b[37m                                                                                                        \u001b[0m\u001b[37m \u001b[0m\u001b[37m│\u001b[0m\u001b[33m \u001b[0m\u001b[33m│\u001b[0m\n",
       "\u001b[33m│\u001b[0m\u001b[33m \u001b[0m\u001b[37m│\u001b[0m\u001b[37m \u001b[0m\u001b[1;37m]\u001b[0m\u001b[37m                                                                                                          \u001b[0m\u001b[37m \u001b[0m\u001b[37m│\u001b[0m\u001b[33m \u001b[0m\u001b[33m│\u001b[0m\n",
       "\u001b[33m│\u001b[0m\u001b[33m \u001b[0m\u001b[37m╰─────────────────────────────────────────────────────────────────────────────────────────────────────────────╯\u001b[0m\u001b[33m \u001b[0m\u001b[33m│\u001b[0m\n",
       "\u001b[33m│\u001b[0m\u001b[33m \u001b[0m\u001b[37m╭─\u001b[0m\u001b[33m OUTPUT \u001b[0m\u001b[37m───────────────────────────────────────────────────────────────────────────────────────────────────\u001b[0m\u001b[37m─╮\u001b[0m\u001b[33m \u001b[0m\u001b[33m│\u001b[0m\n",
       "\u001b[33m│\u001b[0m\u001b[33m \u001b[0m\u001b[37m│\u001b[0m\u001b[37m \u001b[0m\u001b[1;37m[\u001b[0m\u001b[37m                                                                                                          \u001b[0m\u001b[37m \u001b[0m\u001b[37m│\u001b[0m\u001b[33m \u001b[0m\u001b[33m│\u001b[0m\n",
       "\u001b[33m│\u001b[0m\u001b[33m \u001b[0m\u001b[37m│\u001b[0m\u001b[37m \u001b[0m\u001b[37m  \u001b[0m\u001b[1;37m{\u001b[0m\u001b[37m                                                                                                        \u001b[0m\u001b[37m \u001b[0m\u001b[37m│\u001b[0m\u001b[33m \u001b[0m\u001b[33m│\u001b[0m\n",
       "\u001b[33m│\u001b[0m\u001b[33m \u001b[0m\u001b[37m│\u001b[0m\u001b[37m \u001b[0m\u001b[37m    \u001b[0m\u001b[1;34m\"tool.name\"\u001b[0m\u001b[37m: \u001b[0m\u001b[32m\"call_date_agent\"\u001b[0m\u001b[37m,\u001b[0m\u001b[37m                                                                        \u001b[0m\u001b[37m \u001b[0m\u001b[37m│\u001b[0m\u001b[33m \u001b[0m\u001b[33m│\u001b[0m\n",
       "\u001b[33m│\u001b[0m\u001b[33m \u001b[0m\u001b[37m│\u001b[0m\u001b[37m \u001b[0m\u001b[37m    \u001b[0m\u001b[1;34m\"tool.args\"\u001b[0m\u001b[37m: \u001b[0m\u001b[32m\"{\\\"query\\\":\\\"What is the current date and time?\\\"}\"\u001b[0m\u001b[37m                                      \u001b[0m\u001b[37m \u001b[0m\u001b[37m│\u001b[0m\u001b[33m \u001b[0m\u001b[33m│\u001b[0m\n",
       "\u001b[33m│\u001b[0m\u001b[33m \u001b[0m\u001b[37m│\u001b[0m\u001b[37m \u001b[0m\u001b[37m  \u001b[0m\u001b[1;37m}\u001b[0m\u001b[37m                                                                                                        \u001b[0m\u001b[37m \u001b[0m\u001b[37m│\u001b[0m\u001b[33m \u001b[0m\u001b[33m│\u001b[0m\n",
       "\u001b[33m│\u001b[0m\u001b[33m \u001b[0m\u001b[37m│\u001b[0m\u001b[37m \u001b[0m\u001b[1;37m]\u001b[0m\u001b[37m                                                                                                          \u001b[0m\u001b[37m \u001b[0m\u001b[37m│\u001b[0m\u001b[33m \u001b[0m\u001b[33m│\u001b[0m\n",
       "\u001b[33m│\u001b[0m\u001b[33m \u001b[0m\u001b[37m╰─────────────────────────────────────────────────────────────────────────────────────────────────────────────╯\u001b[0m\u001b[33m \u001b[0m\u001b[33m│\u001b[0m\n",
       "\u001b[33m│\u001b[0m\u001b[33m \u001b[0m\u001b[37m╭─\u001b[0m\u001b[33m USAGE \u001b[0m\u001b[37m────────────────────────────────────────────────────────────────────────────────────────────────────\u001b[0m\u001b[37m─╮\u001b[0m\u001b[33m \u001b[0m\u001b[33m│\u001b[0m\n",
       "\u001b[33m│\u001b[0m\u001b[33m \u001b[0m\u001b[37m│\u001b[0m\u001b[37m \u001b[0m\u001b[1;37m{\u001b[0m\u001b[37m                                                                                                          \u001b[0m\u001b[37m \u001b[0m\u001b[37m│\u001b[0m\u001b[33m \u001b[0m\u001b[33m│\u001b[0m\n",
       "\u001b[33m│\u001b[0m\u001b[33m \u001b[0m\u001b[37m│\u001b[0m\u001b[37m \u001b[0m\u001b[37m  \u001b[0m\u001b[1;34m\"input_tokens\"\u001b[0m\u001b[37m: \u001b[0m\u001b[1;36m215\u001b[0m\u001b[37m,\u001b[0m\u001b[37m                                                                                     \u001b[0m\u001b[37m \u001b[0m\u001b[37m│\u001b[0m\u001b[33m \u001b[0m\u001b[33m│\u001b[0m\n",
       "\u001b[33m│\u001b[0m\u001b[33m \u001b[0m\u001b[37m│\u001b[0m\u001b[37m \u001b[0m\u001b[37m  \u001b[0m\u001b[1;34m\"output_tokens\"\u001b[0m\u001b[37m: \u001b[0m\u001b[1;36m22\u001b[0m\u001b[37m                                                                                      \u001b[0m\u001b[37m \u001b[0m\u001b[37m│\u001b[0m\u001b[33m \u001b[0m\u001b[33m│\u001b[0m\n",
       "\u001b[33m│\u001b[0m\u001b[33m \u001b[0m\u001b[37m│\u001b[0m\u001b[37m \u001b[0m\u001b[1;37m}\u001b[0m\u001b[37m                                                                                                          \u001b[0m\u001b[37m \u001b[0m\u001b[37m│\u001b[0m\u001b[33m \u001b[0m\u001b[33m│\u001b[0m\n",
       "\u001b[33m│\u001b[0m\u001b[33m \u001b[0m\u001b[37m╰─────────────────────────────────────────────────────────────────────────────────────────────────────────────╯\u001b[0m\u001b[33m \u001b[0m\u001b[33m│\u001b[0m\n",
       "\u001b[33m╰─────────────────────────────────────────────────────────────────────────────────────────────────────────────────╯\u001b[0m\n"
      ]
     },
     "metadata": {},
     "output_type": "display_data"
    },
    {
     "data": {
      "text/html": [
       "<pre style=\"white-space:pre;overflow-x:auto;line-height:normal;font-family:Menlo,'DejaVu Sans Mono',consolas,'Courier New',monospace\"><span style=\"color: #808000; text-decoration-color: #808000\">╭────────────────────────────────────────────</span> CALL_LLM: gpt-4.1-nano <span style=\"color: #808000; text-decoration-color: #808000\">─────────────────────────────────────────────╮</span>\n",
       "<span style=\"color: #808000; text-decoration-color: #808000\">│ </span><span style=\"color: #c0c0c0; text-decoration-color: #c0c0c0\">╭─</span><span style=\"color: #808000; text-decoration-color: #808000\"> INPUT </span><span style=\"color: #c0c0c0; text-decoration-color: #c0c0c0\">─────────────────────────────────────────────────────────────────────────────────────────────────────╮</span><span style=\"color: #808000; text-decoration-color: #808000\"> │</span>\n",
       "<span style=\"color: #808000; text-decoration-color: #808000\">│ </span><span style=\"color: #c0c0c0; text-decoration-color: #c0c0c0\">│ </span><span style=\"color: #c0c0c0; text-decoration-color: #c0c0c0; font-weight: bold\">[</span><span style=\"color: #c0c0c0; text-decoration-color: #c0c0c0\">                                                                                                           │</span><span style=\"color: #808000; text-decoration-color: #808000\"> │</span>\n",
       "<span style=\"color: #808000; text-decoration-color: #808000\">│ </span><span style=\"color: #c0c0c0; text-decoration-color: #c0c0c0\">│   </span><span style=\"color: #c0c0c0; text-decoration-color: #c0c0c0; font-weight: bold\">{</span><span style=\"color: #c0c0c0; text-decoration-color: #c0c0c0\">                                                                                                         │</span><span style=\"color: #808000; text-decoration-color: #808000\"> │</span>\n",
       "<span style=\"color: #808000; text-decoration-color: #808000\">│ </span><span style=\"color: #c0c0c0; text-decoration-color: #c0c0c0\">│     </span><span style=\"color: #000080; text-decoration-color: #000080; font-weight: bold\">\"content\"</span><span style=\"color: #c0c0c0; text-decoration-color: #c0c0c0\">: </span><span style=\"color: #008000; text-decoration-color: #008000\">\"Use the available tools to obtain additional information to answer the query.\"</span><span style=\"color: #c0c0c0; text-decoration-color: #c0c0c0\">,             │</span><span style=\"color: #808000; text-decoration-color: #808000\"> │</span>\n",
       "<span style=\"color: #808000; text-decoration-color: #808000\">│ </span><span style=\"color: #c0c0c0; text-decoration-color: #c0c0c0\">│     </span><span style=\"color: #000080; text-decoration-color: #000080; font-weight: bold\">\"role\"</span><span style=\"color: #c0c0c0; text-decoration-color: #c0c0c0\">: </span><span style=\"color: #008000; text-decoration-color: #008000\">\"system\"</span><span style=\"color: #c0c0c0; text-decoration-color: #c0c0c0\">                                                                                        │</span><span style=\"color: #808000; text-decoration-color: #808000\"> │</span>\n",
       "<span style=\"color: #808000; text-decoration-color: #808000\">│ </span><span style=\"color: #c0c0c0; text-decoration-color: #c0c0c0\">│   </span><span style=\"color: #c0c0c0; text-decoration-color: #c0c0c0; font-weight: bold\">}</span><span style=\"color: #c0c0c0; text-decoration-color: #c0c0c0\">,                                                                                                        │</span><span style=\"color: #808000; text-decoration-color: #808000\"> │</span>\n",
       "<span style=\"color: #808000; text-decoration-color: #808000\">│ </span><span style=\"color: #c0c0c0; text-decoration-color: #c0c0c0\">│   </span><span style=\"color: #c0c0c0; text-decoration-color: #c0c0c0; font-weight: bold\">{</span><span style=\"color: #c0c0c0; text-decoration-color: #c0c0c0\">                                                                                                         │</span><span style=\"color: #808000; text-decoration-color: #808000\"> │</span>\n",
       "<span style=\"color: #808000; text-decoration-color: #808000\">│ </span><span style=\"color: #c0c0c0; text-decoration-color: #c0c0c0\">│     </span><span style=\"color: #000080; text-decoration-color: #000080; font-weight: bold\">\"role\"</span><span style=\"color: #c0c0c0; text-decoration-color: #c0c0c0\">: </span><span style=\"color: #008000; text-decoration-color: #008000\">\"user\"</span><span style=\"color: #c0c0c0; text-decoration-color: #c0c0c0\">,                                                                                         │</span><span style=\"color: #808000; text-decoration-color: #808000\"> │</span>\n",
       "<span style=\"color: #808000; text-decoration-color: #808000\">│ </span><span style=\"color: #c0c0c0; text-decoration-color: #c0c0c0\">│     </span><span style=\"color: #000080; text-decoration-color: #000080; font-weight: bold\">\"content\"</span><span style=\"color: #c0c0c0; text-decoration-color: #c0c0c0\">: </span><span style=\"color: #008000; text-decoration-color: #008000\">\"What is the current date and time?\"</span><span style=\"color: #c0c0c0; text-decoration-color: #c0c0c0\">                                                         │</span><span style=\"color: #808000; text-decoration-color: #808000\"> │</span>\n",
       "<span style=\"color: #808000; text-decoration-color: #808000\">│ </span><span style=\"color: #c0c0c0; text-decoration-color: #c0c0c0\">│   </span><span style=\"color: #c0c0c0; text-decoration-color: #c0c0c0; font-weight: bold\">}</span><span style=\"color: #c0c0c0; text-decoration-color: #c0c0c0\">                                                                                                         │</span><span style=\"color: #808000; text-decoration-color: #808000\"> │</span>\n",
       "<span style=\"color: #808000; text-decoration-color: #808000\">│ </span><span style=\"color: #c0c0c0; text-decoration-color: #c0c0c0\">│ </span><span style=\"color: #c0c0c0; text-decoration-color: #c0c0c0; font-weight: bold\">]</span><span style=\"color: #c0c0c0; text-decoration-color: #c0c0c0\">                                                                                                           │</span><span style=\"color: #808000; text-decoration-color: #808000\"> │</span>\n",
       "<span style=\"color: #808000; text-decoration-color: #808000\">│ </span><span style=\"color: #c0c0c0; text-decoration-color: #c0c0c0\">╰─────────────────────────────────────────────────────────────────────────────────────────────────────────────╯</span><span style=\"color: #808000; text-decoration-color: #808000\"> │</span>\n",
       "<span style=\"color: #808000; text-decoration-color: #808000\">│ </span><span style=\"color: #c0c0c0; text-decoration-color: #c0c0c0\">╭─</span><span style=\"color: #808000; text-decoration-color: #808000\"> OUTPUT </span><span style=\"color: #c0c0c0; text-decoration-color: #c0c0c0\">────────────────────────────────────────────────────────────────────────────────────────────────────╮</span><span style=\"color: #808000; text-decoration-color: #808000\"> │</span>\n",
       "<span style=\"color: #808000; text-decoration-color: #808000\">│ </span><span style=\"color: #c0c0c0; text-decoration-color: #c0c0c0\">│ </span><span style=\"color: #c0c0c0; text-decoration-color: #c0c0c0; font-weight: bold\">[</span><span style=\"color: #c0c0c0; text-decoration-color: #c0c0c0\">                                                                                                           │</span><span style=\"color: #808000; text-decoration-color: #808000\"> │</span>\n",
       "<span style=\"color: #808000; text-decoration-color: #808000\">│ </span><span style=\"color: #c0c0c0; text-decoration-color: #c0c0c0\">│   </span><span style=\"color: #c0c0c0; text-decoration-color: #c0c0c0; font-weight: bold\">{</span><span style=\"color: #c0c0c0; text-decoration-color: #c0c0c0\">                                                                                                         │</span><span style=\"color: #808000; text-decoration-color: #808000\"> │</span>\n",
       "<span style=\"color: #808000; text-decoration-color: #808000\">│ </span><span style=\"color: #c0c0c0; text-decoration-color: #c0c0c0\">│     </span><span style=\"color: #000080; text-decoration-color: #000080; font-weight: bold\">\"tool.name\"</span><span style=\"color: #c0c0c0; text-decoration-color: #c0c0c0\">: </span><span style=\"color: #008000; text-decoration-color: #008000\">\"get_datetime\"</span><span style=\"color: #c0c0c0; text-decoration-color: #c0c0c0\">,                                                                            │</span><span style=\"color: #808000; text-decoration-color: #808000\"> │</span>\n",
       "<span style=\"color: #808000; text-decoration-color: #808000\">│ </span><span style=\"color: #c0c0c0; text-decoration-color: #c0c0c0\">│     </span><span style=\"color: #000080; text-decoration-color: #000080; font-weight: bold\">\"tool.args\"</span><span style=\"color: #c0c0c0; text-decoration-color: #c0c0c0\">: </span><span style=\"color: #008000; text-decoration-color: #008000\">\"{}\"</span><span style=\"color: #c0c0c0; text-decoration-color: #c0c0c0\">                                                                                       │</span><span style=\"color: #808000; text-decoration-color: #808000\"> │</span>\n",
       "<span style=\"color: #808000; text-decoration-color: #808000\">│ </span><span style=\"color: #c0c0c0; text-decoration-color: #c0c0c0\">│   </span><span style=\"color: #c0c0c0; text-decoration-color: #c0c0c0; font-weight: bold\">}</span><span style=\"color: #c0c0c0; text-decoration-color: #c0c0c0\">                                                                                                         │</span><span style=\"color: #808000; text-decoration-color: #808000\"> │</span>\n",
       "<span style=\"color: #808000; text-decoration-color: #808000\">│ </span><span style=\"color: #c0c0c0; text-decoration-color: #c0c0c0\">│ </span><span style=\"color: #c0c0c0; text-decoration-color: #c0c0c0; font-weight: bold\">]</span><span style=\"color: #c0c0c0; text-decoration-color: #c0c0c0\">                                                                                                           │</span><span style=\"color: #808000; text-decoration-color: #808000\"> │</span>\n",
       "<span style=\"color: #808000; text-decoration-color: #808000\">│ </span><span style=\"color: #c0c0c0; text-decoration-color: #c0c0c0\">╰─────────────────────────────────────────────────────────────────────────────────────────────────────────────╯</span><span style=\"color: #808000; text-decoration-color: #808000\"> │</span>\n",
       "<span style=\"color: #808000; text-decoration-color: #808000\">│ </span><span style=\"color: #c0c0c0; text-decoration-color: #c0c0c0\">╭─</span><span style=\"color: #808000; text-decoration-color: #808000\"> USAGE </span><span style=\"color: #c0c0c0; text-decoration-color: #c0c0c0\">─────────────────────────────────────────────────────────────────────────────────────────────────────╮</span><span style=\"color: #808000; text-decoration-color: #808000\"> │</span>\n",
       "<span style=\"color: #808000; text-decoration-color: #808000\">│ </span><span style=\"color: #c0c0c0; text-decoration-color: #c0c0c0\">│ </span><span style=\"color: #c0c0c0; text-decoration-color: #c0c0c0; font-weight: bold\">{</span><span style=\"color: #c0c0c0; text-decoration-color: #c0c0c0\">                                                                                                           │</span><span style=\"color: #808000; text-decoration-color: #808000\"> │</span>\n",
       "<span style=\"color: #808000; text-decoration-color: #808000\">│ </span><span style=\"color: #c0c0c0; text-decoration-color: #c0c0c0\">│   </span><span style=\"color: #000080; text-decoration-color: #000080; font-weight: bold\">\"input_tokens\"</span><span style=\"color: #c0c0c0; text-decoration-color: #c0c0c0\">: </span><span style=\"color: #008080; text-decoration-color: #008080; font-weight: bold\">201</span><span style=\"color: #c0c0c0; text-decoration-color: #c0c0c0\">,                                                                                      │</span><span style=\"color: #808000; text-decoration-color: #808000\"> │</span>\n",
       "<span style=\"color: #808000; text-decoration-color: #808000\">│ </span><span style=\"color: #c0c0c0; text-decoration-color: #c0c0c0\">│   </span><span style=\"color: #000080; text-decoration-color: #000080; font-weight: bold\">\"output_tokens\"</span><span style=\"color: #c0c0c0; text-decoration-color: #c0c0c0\">: </span><span style=\"color: #008080; text-decoration-color: #008080; font-weight: bold\">10</span><span style=\"color: #c0c0c0; text-decoration-color: #c0c0c0\">                                                                                       │</span><span style=\"color: #808000; text-decoration-color: #808000\"> │</span>\n",
       "<span style=\"color: #808000; text-decoration-color: #808000\">│ </span><span style=\"color: #c0c0c0; text-decoration-color: #c0c0c0\">│ </span><span style=\"color: #c0c0c0; text-decoration-color: #c0c0c0; font-weight: bold\">}</span><span style=\"color: #c0c0c0; text-decoration-color: #c0c0c0\">                                                                                                           │</span><span style=\"color: #808000; text-decoration-color: #808000\"> │</span>\n",
       "<span style=\"color: #808000; text-decoration-color: #808000\">│ </span><span style=\"color: #c0c0c0; text-decoration-color: #c0c0c0\">╰─────────────────────────────────────────────────────────────────────────────────────────────────────────────╯</span><span style=\"color: #808000; text-decoration-color: #808000\"> │</span>\n",
       "<span style=\"color: #808000; text-decoration-color: #808000\">╰─────────────────────────────────────────────────────────────────────────────────────────────────────────────────╯</span>\n",
       "</pre>\n"
      ],
      "text/plain": [
       "\u001b[33m╭─\u001b[0m\u001b[33m───────────────────────────────────────────\u001b[0m CALL_LLM: gpt-4.1-nano \u001b[33m────────────────────────────────────────────\u001b[0m\u001b[33m─╮\u001b[0m\n",
       "\u001b[33m│\u001b[0m\u001b[33m \u001b[0m\u001b[37m╭─\u001b[0m\u001b[33m INPUT \u001b[0m\u001b[37m────────────────────────────────────────────────────────────────────────────────────────────────────\u001b[0m\u001b[37m─╮\u001b[0m\u001b[33m \u001b[0m\u001b[33m│\u001b[0m\n",
       "\u001b[33m│\u001b[0m\u001b[33m \u001b[0m\u001b[37m│\u001b[0m\u001b[37m \u001b[0m\u001b[1;37m[\u001b[0m\u001b[37m                                                                                                          \u001b[0m\u001b[37m \u001b[0m\u001b[37m│\u001b[0m\u001b[33m \u001b[0m\u001b[33m│\u001b[0m\n",
       "\u001b[33m│\u001b[0m\u001b[33m \u001b[0m\u001b[37m│\u001b[0m\u001b[37m \u001b[0m\u001b[37m  \u001b[0m\u001b[1;37m{\u001b[0m\u001b[37m                                                                                                        \u001b[0m\u001b[37m \u001b[0m\u001b[37m│\u001b[0m\u001b[33m \u001b[0m\u001b[33m│\u001b[0m\n",
       "\u001b[33m│\u001b[0m\u001b[33m \u001b[0m\u001b[37m│\u001b[0m\u001b[37m \u001b[0m\u001b[37m    \u001b[0m\u001b[1;34m\"content\"\u001b[0m\u001b[37m: \u001b[0m\u001b[32m\"Use the available tools to obtain additional information to answer the query.\"\u001b[0m\u001b[37m,\u001b[0m\u001b[37m            \u001b[0m\u001b[37m \u001b[0m\u001b[37m│\u001b[0m\u001b[33m \u001b[0m\u001b[33m│\u001b[0m\n",
       "\u001b[33m│\u001b[0m\u001b[33m \u001b[0m\u001b[37m│\u001b[0m\u001b[37m \u001b[0m\u001b[37m    \u001b[0m\u001b[1;34m\"role\"\u001b[0m\u001b[37m: \u001b[0m\u001b[32m\"system\"\u001b[0m\u001b[37m                                                                                       \u001b[0m\u001b[37m \u001b[0m\u001b[37m│\u001b[0m\u001b[33m \u001b[0m\u001b[33m│\u001b[0m\n",
       "\u001b[33m│\u001b[0m\u001b[33m \u001b[0m\u001b[37m│\u001b[0m\u001b[37m \u001b[0m\u001b[37m  \u001b[0m\u001b[1;37m}\u001b[0m\u001b[37m,\u001b[0m\u001b[37m                                                                                                       \u001b[0m\u001b[37m \u001b[0m\u001b[37m│\u001b[0m\u001b[33m \u001b[0m\u001b[33m│\u001b[0m\n",
       "\u001b[33m│\u001b[0m\u001b[33m \u001b[0m\u001b[37m│\u001b[0m\u001b[37m \u001b[0m\u001b[37m  \u001b[0m\u001b[1;37m{\u001b[0m\u001b[37m                                                                                                        \u001b[0m\u001b[37m \u001b[0m\u001b[37m│\u001b[0m\u001b[33m \u001b[0m\u001b[33m│\u001b[0m\n",
       "\u001b[33m│\u001b[0m\u001b[33m \u001b[0m\u001b[37m│\u001b[0m\u001b[37m \u001b[0m\u001b[37m    \u001b[0m\u001b[1;34m\"role\"\u001b[0m\u001b[37m: \u001b[0m\u001b[32m\"user\"\u001b[0m\u001b[37m,\u001b[0m\u001b[37m                                                                                        \u001b[0m\u001b[37m \u001b[0m\u001b[37m│\u001b[0m\u001b[33m \u001b[0m\u001b[33m│\u001b[0m\n",
       "\u001b[33m│\u001b[0m\u001b[33m \u001b[0m\u001b[37m│\u001b[0m\u001b[37m \u001b[0m\u001b[37m    \u001b[0m\u001b[1;34m\"content\"\u001b[0m\u001b[37m: \u001b[0m\u001b[32m\"What is the current date and time?\"\u001b[0m\u001b[37m                                                        \u001b[0m\u001b[37m \u001b[0m\u001b[37m│\u001b[0m\u001b[33m \u001b[0m\u001b[33m│\u001b[0m\n",
       "\u001b[33m│\u001b[0m\u001b[33m \u001b[0m\u001b[37m│\u001b[0m\u001b[37m \u001b[0m\u001b[37m  \u001b[0m\u001b[1;37m}\u001b[0m\u001b[37m                                                                                                        \u001b[0m\u001b[37m \u001b[0m\u001b[37m│\u001b[0m\u001b[33m \u001b[0m\u001b[33m│\u001b[0m\n",
       "\u001b[33m│\u001b[0m\u001b[33m \u001b[0m\u001b[37m│\u001b[0m\u001b[37m \u001b[0m\u001b[1;37m]\u001b[0m\u001b[37m                                                                                                          \u001b[0m\u001b[37m \u001b[0m\u001b[37m│\u001b[0m\u001b[33m \u001b[0m\u001b[33m│\u001b[0m\n",
       "\u001b[33m│\u001b[0m\u001b[33m \u001b[0m\u001b[37m╰─────────────────────────────────────────────────────────────────────────────────────────────────────────────╯\u001b[0m\u001b[33m \u001b[0m\u001b[33m│\u001b[0m\n",
       "\u001b[33m│\u001b[0m\u001b[33m \u001b[0m\u001b[37m╭─\u001b[0m\u001b[33m OUTPUT \u001b[0m\u001b[37m───────────────────────────────────────────────────────────────────────────────────────────────────\u001b[0m\u001b[37m─╮\u001b[0m\u001b[33m \u001b[0m\u001b[33m│\u001b[0m\n",
       "\u001b[33m│\u001b[0m\u001b[33m \u001b[0m\u001b[37m│\u001b[0m\u001b[37m \u001b[0m\u001b[1;37m[\u001b[0m\u001b[37m                                                                                                          \u001b[0m\u001b[37m \u001b[0m\u001b[37m│\u001b[0m\u001b[33m \u001b[0m\u001b[33m│\u001b[0m\n",
       "\u001b[33m│\u001b[0m\u001b[33m \u001b[0m\u001b[37m│\u001b[0m\u001b[37m \u001b[0m\u001b[37m  \u001b[0m\u001b[1;37m{\u001b[0m\u001b[37m                                                                                                        \u001b[0m\u001b[37m \u001b[0m\u001b[37m│\u001b[0m\u001b[33m \u001b[0m\u001b[33m│\u001b[0m\n",
       "\u001b[33m│\u001b[0m\u001b[33m \u001b[0m\u001b[37m│\u001b[0m\u001b[37m \u001b[0m\u001b[37m    \u001b[0m\u001b[1;34m\"tool.name\"\u001b[0m\u001b[37m: \u001b[0m\u001b[32m\"get_datetime\"\u001b[0m\u001b[37m,\u001b[0m\u001b[37m                                                                           \u001b[0m\u001b[37m \u001b[0m\u001b[37m│\u001b[0m\u001b[33m \u001b[0m\u001b[33m│\u001b[0m\n",
       "\u001b[33m│\u001b[0m\u001b[33m \u001b[0m\u001b[37m│\u001b[0m\u001b[37m \u001b[0m\u001b[37m    \u001b[0m\u001b[1;34m\"tool.args\"\u001b[0m\u001b[37m: \u001b[0m\u001b[32m\"{}\"\u001b[0m\u001b[37m                                                                                      \u001b[0m\u001b[37m \u001b[0m\u001b[37m│\u001b[0m\u001b[33m \u001b[0m\u001b[33m│\u001b[0m\n",
       "\u001b[33m│\u001b[0m\u001b[33m \u001b[0m\u001b[37m│\u001b[0m\u001b[37m \u001b[0m\u001b[37m  \u001b[0m\u001b[1;37m}\u001b[0m\u001b[37m                                                                                                        \u001b[0m\u001b[37m \u001b[0m\u001b[37m│\u001b[0m\u001b[33m \u001b[0m\u001b[33m│\u001b[0m\n",
       "\u001b[33m│\u001b[0m\u001b[33m \u001b[0m\u001b[37m│\u001b[0m\u001b[37m \u001b[0m\u001b[1;37m]\u001b[0m\u001b[37m                                                                                                          \u001b[0m\u001b[37m \u001b[0m\u001b[37m│\u001b[0m\u001b[33m \u001b[0m\u001b[33m│\u001b[0m\n",
       "\u001b[33m│\u001b[0m\u001b[33m \u001b[0m\u001b[37m╰─────────────────────────────────────────────────────────────────────────────────────────────────────────────╯\u001b[0m\u001b[33m \u001b[0m\u001b[33m│\u001b[0m\n",
       "\u001b[33m│\u001b[0m\u001b[33m \u001b[0m\u001b[37m╭─\u001b[0m\u001b[33m USAGE \u001b[0m\u001b[37m────────────────────────────────────────────────────────────────────────────────────────────────────\u001b[0m\u001b[37m─╮\u001b[0m\u001b[33m \u001b[0m\u001b[33m│\u001b[0m\n",
       "\u001b[33m│\u001b[0m\u001b[33m \u001b[0m\u001b[37m│\u001b[0m\u001b[37m \u001b[0m\u001b[1;37m{\u001b[0m\u001b[37m                                                                                                          \u001b[0m\u001b[37m \u001b[0m\u001b[37m│\u001b[0m\u001b[33m \u001b[0m\u001b[33m│\u001b[0m\n",
       "\u001b[33m│\u001b[0m\u001b[33m \u001b[0m\u001b[37m│\u001b[0m\u001b[37m \u001b[0m\u001b[37m  \u001b[0m\u001b[1;34m\"input_tokens\"\u001b[0m\u001b[37m: \u001b[0m\u001b[1;36m201\u001b[0m\u001b[37m,\u001b[0m\u001b[37m                                                                                     \u001b[0m\u001b[37m \u001b[0m\u001b[37m│\u001b[0m\u001b[33m \u001b[0m\u001b[33m│\u001b[0m\n",
       "\u001b[33m│\u001b[0m\u001b[33m \u001b[0m\u001b[37m│\u001b[0m\u001b[37m \u001b[0m\u001b[37m  \u001b[0m\u001b[1;34m\"output_tokens\"\u001b[0m\u001b[37m: \u001b[0m\u001b[1;36m10\u001b[0m\u001b[37m                                                                                      \u001b[0m\u001b[37m \u001b[0m\u001b[37m│\u001b[0m\u001b[33m \u001b[0m\u001b[33m│\u001b[0m\n",
       "\u001b[33m│\u001b[0m\u001b[33m \u001b[0m\u001b[37m│\u001b[0m\u001b[37m \u001b[0m\u001b[1;37m}\u001b[0m\u001b[37m                                                                                                          \u001b[0m\u001b[37m \u001b[0m\u001b[37m│\u001b[0m\u001b[33m \u001b[0m\u001b[33m│\u001b[0m\n",
       "\u001b[33m│\u001b[0m\u001b[33m \u001b[0m\u001b[37m╰─────────────────────────────────────────────────────────────────────────────────────────────────────────────╯\u001b[0m\u001b[33m \u001b[0m\u001b[33m│\u001b[0m\n",
       "\u001b[33m╰─────────────────────────────────────────────────────────────────────────────────────────────────────────────────╯\u001b[0m\n"
      ]
     },
     "metadata": {},
     "output_type": "display_data"
    },
    {
     "data": {
      "text/html": [
       "<pre style=\"white-space:pre;overflow-x:auto;line-height:normal;font-family:Menlo,'DejaVu Sans Mono',consolas,'Courier New',monospace\"><span style=\"color: #808000; text-decoration-color: #808000\">╭────────────────────────────────────────────</span> CALL_LLM: gpt-4.1-nano <span style=\"color: #808000; text-decoration-color: #808000\">─────────────────────────────────────────────╮</span>\n",
       "<span style=\"color: #808000; text-decoration-color: #808000\">│ </span><span style=\"color: #c0c0c0; text-decoration-color: #c0c0c0\">╭─</span><span style=\"color: #808000; text-decoration-color: #808000\"> INPUT </span><span style=\"color: #c0c0c0; text-decoration-color: #c0c0c0\">─────────────────────────────────────────────────────────────────────────────────────────────────────╮</span><span style=\"color: #808000; text-decoration-color: #808000\"> │</span>\n",
       "<span style=\"color: #808000; text-decoration-color: #808000\">│ </span><span style=\"color: #c0c0c0; text-decoration-color: #c0c0c0\">│ </span><span style=\"color: #c0c0c0; text-decoration-color: #c0c0c0; font-weight: bold\">[</span><span style=\"color: #c0c0c0; text-decoration-color: #c0c0c0\">                                                                                                           │</span><span style=\"color: #808000; text-decoration-color: #808000\"> │</span>\n",
       "<span style=\"color: #808000; text-decoration-color: #808000\">│ </span><span style=\"color: #c0c0c0; text-decoration-color: #c0c0c0\">│   </span><span style=\"color: #c0c0c0; text-decoration-color: #c0c0c0; font-weight: bold\">{</span><span style=\"color: #c0c0c0; text-decoration-color: #c0c0c0\">                                                                                                         │</span><span style=\"color: #808000; text-decoration-color: #808000\"> │</span>\n",
       "<span style=\"color: #808000; text-decoration-color: #808000\">│ </span><span style=\"color: #c0c0c0; text-decoration-color: #c0c0c0\">│     </span><span style=\"color: #000080; text-decoration-color: #000080; font-weight: bold\">\"content\"</span><span style=\"color: #c0c0c0; text-decoration-color: #c0c0c0\">: </span><span style=\"color: #008000; text-decoration-color: #008000\">\"Use the available tools to obtain additional information to answer the query.\"</span><span style=\"color: #c0c0c0; text-decoration-color: #c0c0c0\">,             │</span><span style=\"color: #808000; text-decoration-color: #808000\"> │</span>\n",
       "<span style=\"color: #808000; text-decoration-color: #808000\">│ </span><span style=\"color: #c0c0c0; text-decoration-color: #c0c0c0\">│     </span><span style=\"color: #000080; text-decoration-color: #000080; font-weight: bold\">\"role\"</span><span style=\"color: #c0c0c0; text-decoration-color: #c0c0c0\">: </span><span style=\"color: #008000; text-decoration-color: #008000\">\"system\"</span><span style=\"color: #c0c0c0; text-decoration-color: #c0c0c0\">                                                                                        │</span><span style=\"color: #808000; text-decoration-color: #808000\"> │</span>\n",
       "<span style=\"color: #808000; text-decoration-color: #808000\">│ </span><span style=\"color: #c0c0c0; text-decoration-color: #c0c0c0\">│   </span><span style=\"color: #c0c0c0; text-decoration-color: #c0c0c0; font-weight: bold\">}</span><span style=\"color: #c0c0c0; text-decoration-color: #c0c0c0\">,                                                                                                        │</span><span style=\"color: #808000; text-decoration-color: #808000\"> │</span>\n",
       "<span style=\"color: #808000; text-decoration-color: #808000\">│ </span><span style=\"color: #c0c0c0; text-decoration-color: #c0c0c0\">│   </span><span style=\"color: #c0c0c0; text-decoration-color: #c0c0c0; font-weight: bold\">{</span><span style=\"color: #c0c0c0; text-decoration-color: #c0c0c0\">                                                                                                         │</span><span style=\"color: #808000; text-decoration-color: #808000\"> │</span>\n",
       "<span style=\"color: #808000; text-decoration-color: #808000\">│ </span><span style=\"color: #c0c0c0; text-decoration-color: #c0c0c0\">│     </span><span style=\"color: #000080; text-decoration-color: #000080; font-weight: bold\">\"role\"</span><span style=\"color: #c0c0c0; text-decoration-color: #c0c0c0\">: </span><span style=\"color: #008000; text-decoration-color: #008000\">\"user\"</span><span style=\"color: #c0c0c0; text-decoration-color: #c0c0c0\">,                                                                                         │</span><span style=\"color: #808000; text-decoration-color: #808000\"> │</span>\n",
       "<span style=\"color: #808000; text-decoration-color: #808000\">│ </span><span style=\"color: #c0c0c0; text-decoration-color: #c0c0c0\">│     </span><span style=\"color: #000080; text-decoration-color: #000080; font-weight: bold\">\"content\"</span><span style=\"color: #c0c0c0; text-decoration-color: #c0c0c0\">: </span><span style=\"color: #008000; text-decoration-color: #008000\">\"What is the current date and time?\"</span><span style=\"color: #c0c0c0; text-decoration-color: #c0c0c0\">                                                         │</span><span style=\"color: #808000; text-decoration-color: #808000\"> │</span>\n",
       "<span style=\"color: #808000; text-decoration-color: #808000\">│ </span><span style=\"color: #c0c0c0; text-decoration-color: #c0c0c0\">│   </span><span style=\"color: #c0c0c0; text-decoration-color: #c0c0c0; font-weight: bold\">}</span><span style=\"color: #c0c0c0; text-decoration-color: #c0c0c0\">                                                                                                         │</span><span style=\"color: #808000; text-decoration-color: #808000\"> │</span>\n",
       "<span style=\"color: #808000; text-decoration-color: #808000\">│ </span><span style=\"color: #c0c0c0; text-decoration-color: #c0c0c0\">│ </span><span style=\"color: #c0c0c0; text-decoration-color: #c0c0c0; font-weight: bold\">]</span><span style=\"color: #c0c0c0; text-decoration-color: #c0c0c0\">                                                                                                           │</span><span style=\"color: #808000; text-decoration-color: #808000\"> │</span>\n",
       "<span style=\"color: #808000; text-decoration-color: #808000\">│ </span><span style=\"color: #c0c0c0; text-decoration-color: #c0c0c0\">╰─────────────────────────────────────────────────────────────────────────────────────────────────────────────╯</span><span style=\"color: #808000; text-decoration-color: #808000\"> │</span>\n",
       "<span style=\"color: #808000; text-decoration-color: #808000\">│ </span><span style=\"color: #c0c0c0; text-decoration-color: #c0c0c0\">╭─</span><span style=\"color: #808000; text-decoration-color: #808000\"> OUTPUT </span><span style=\"color: #c0c0c0; text-decoration-color: #c0c0c0\">────────────────────────────────────────────────────────────────────────────────────────────────────╮</span><span style=\"color: #808000; text-decoration-color: #808000\"> │</span>\n",
       "<span style=\"color: #808000; text-decoration-color: #808000\">│ </span><span style=\"color: #c0c0c0; text-decoration-color: #c0c0c0\">│ </span><span style=\"color: #c0c0c0; text-decoration-color: #c0c0c0; font-weight: bold\">[</span><span style=\"color: #c0c0c0; text-decoration-color: #c0c0c0\">                                                                                                           │</span><span style=\"color: #808000; text-decoration-color: #808000\"> │</span>\n",
       "<span style=\"color: #808000; text-decoration-color: #808000\">│ </span><span style=\"color: #c0c0c0; text-decoration-color: #c0c0c0\">│   </span><span style=\"color: #c0c0c0; text-decoration-color: #c0c0c0; font-weight: bold\">{</span><span style=\"color: #c0c0c0; text-decoration-color: #c0c0c0\">                                                                                                         │</span><span style=\"color: #808000; text-decoration-color: #808000\"> │</span>\n",
       "<span style=\"color: #808000; text-decoration-color: #808000\">│ </span><span style=\"color: #c0c0c0; text-decoration-color: #c0c0c0\">│     </span><span style=\"color: #000080; text-decoration-color: #000080; font-weight: bold\">\"tool.name\"</span><span style=\"color: #c0c0c0; text-decoration-color: #c0c0c0\">: </span><span style=\"color: #008000; text-decoration-color: #008000\">\"get_datetime\"</span><span style=\"color: #c0c0c0; text-decoration-color: #c0c0c0\">,                                                                            │</span><span style=\"color: #808000; text-decoration-color: #808000\"> │</span>\n",
       "<span style=\"color: #808000; text-decoration-color: #808000\">│ </span><span style=\"color: #c0c0c0; text-decoration-color: #c0c0c0\">│     </span><span style=\"color: #000080; text-decoration-color: #000080; font-weight: bold\">\"tool.args\"</span><span style=\"color: #c0c0c0; text-decoration-color: #c0c0c0\">: </span><span style=\"color: #008000; text-decoration-color: #008000\">\"{}\"</span><span style=\"color: #c0c0c0; text-decoration-color: #c0c0c0\">                                                                                       │</span><span style=\"color: #808000; text-decoration-color: #808000\"> │</span>\n",
       "<span style=\"color: #808000; text-decoration-color: #808000\">│ </span><span style=\"color: #c0c0c0; text-decoration-color: #c0c0c0\">│   </span><span style=\"color: #c0c0c0; text-decoration-color: #c0c0c0; font-weight: bold\">}</span><span style=\"color: #c0c0c0; text-decoration-color: #c0c0c0\">                                                                                                         │</span><span style=\"color: #808000; text-decoration-color: #808000\"> │</span>\n",
       "<span style=\"color: #808000; text-decoration-color: #808000\">│ </span><span style=\"color: #c0c0c0; text-decoration-color: #c0c0c0\">│ </span><span style=\"color: #c0c0c0; text-decoration-color: #c0c0c0; font-weight: bold\">]</span><span style=\"color: #c0c0c0; text-decoration-color: #c0c0c0\">                                                                                                           │</span><span style=\"color: #808000; text-decoration-color: #808000\"> │</span>\n",
       "<span style=\"color: #808000; text-decoration-color: #808000\">│ </span><span style=\"color: #c0c0c0; text-decoration-color: #c0c0c0\">╰─────────────────────────────────────────────────────────────────────────────────────────────────────────────╯</span><span style=\"color: #808000; text-decoration-color: #808000\"> │</span>\n",
       "<span style=\"color: #808000; text-decoration-color: #808000\">│ </span><span style=\"color: #c0c0c0; text-decoration-color: #c0c0c0\">╭─</span><span style=\"color: #808000; text-decoration-color: #808000\"> USAGE </span><span style=\"color: #c0c0c0; text-decoration-color: #c0c0c0\">─────────────────────────────────────────────────────────────────────────────────────────────────────╮</span><span style=\"color: #808000; text-decoration-color: #808000\"> │</span>\n",
       "<span style=\"color: #808000; text-decoration-color: #808000\">│ </span><span style=\"color: #c0c0c0; text-decoration-color: #c0c0c0\">│ </span><span style=\"color: #c0c0c0; text-decoration-color: #c0c0c0; font-weight: bold\">{</span><span style=\"color: #c0c0c0; text-decoration-color: #c0c0c0\">                                                                                                           │</span><span style=\"color: #808000; text-decoration-color: #808000\"> │</span>\n",
       "<span style=\"color: #808000; text-decoration-color: #808000\">│ </span><span style=\"color: #c0c0c0; text-decoration-color: #c0c0c0\">│   </span><span style=\"color: #000080; text-decoration-color: #000080; font-weight: bold\">\"input_tokens\"</span><span style=\"color: #c0c0c0; text-decoration-color: #c0c0c0\">: </span><span style=\"color: #008080; text-decoration-color: #008080; font-weight: bold\">201</span><span style=\"color: #c0c0c0; text-decoration-color: #c0c0c0\">,                                                                                      │</span><span style=\"color: #808000; text-decoration-color: #808000\"> │</span>\n",
       "<span style=\"color: #808000; text-decoration-color: #808000\">│ </span><span style=\"color: #c0c0c0; text-decoration-color: #c0c0c0\">│   </span><span style=\"color: #000080; text-decoration-color: #000080; font-weight: bold\">\"output_tokens\"</span><span style=\"color: #c0c0c0; text-decoration-color: #c0c0c0\">: </span><span style=\"color: #008080; text-decoration-color: #008080; font-weight: bold\">10</span><span style=\"color: #c0c0c0; text-decoration-color: #c0c0c0\">                                                                                       │</span><span style=\"color: #808000; text-decoration-color: #808000\"> │</span>\n",
       "<span style=\"color: #808000; text-decoration-color: #808000\">│ </span><span style=\"color: #c0c0c0; text-decoration-color: #c0c0c0\">│ </span><span style=\"color: #c0c0c0; text-decoration-color: #c0c0c0; font-weight: bold\">}</span><span style=\"color: #c0c0c0; text-decoration-color: #c0c0c0\">                                                                                                           │</span><span style=\"color: #808000; text-decoration-color: #808000\"> │</span>\n",
       "<span style=\"color: #808000; text-decoration-color: #808000\">│ </span><span style=\"color: #c0c0c0; text-decoration-color: #c0c0c0\">╰─────────────────────────────────────────────────────────────────────────────────────────────────────────────╯</span><span style=\"color: #808000; text-decoration-color: #808000\"> │</span>\n",
       "<span style=\"color: #808000; text-decoration-color: #808000\">╰─────────────────────────────────────────────────────────────────────────────────────────────────────────────────╯</span>\n",
       "</pre>\n"
      ],
      "text/plain": [
       "\u001b[33m╭─\u001b[0m\u001b[33m───────────────────────────────────────────\u001b[0m CALL_LLM: gpt-4.1-nano \u001b[33m────────────────────────────────────────────\u001b[0m\u001b[33m─╮\u001b[0m\n",
       "\u001b[33m│\u001b[0m\u001b[33m \u001b[0m\u001b[37m╭─\u001b[0m\u001b[33m INPUT \u001b[0m\u001b[37m────────────────────────────────────────────────────────────────────────────────────────────────────\u001b[0m\u001b[37m─╮\u001b[0m\u001b[33m \u001b[0m\u001b[33m│\u001b[0m\n",
       "\u001b[33m│\u001b[0m\u001b[33m \u001b[0m\u001b[37m│\u001b[0m\u001b[37m \u001b[0m\u001b[1;37m[\u001b[0m\u001b[37m                                                                                                          \u001b[0m\u001b[37m \u001b[0m\u001b[37m│\u001b[0m\u001b[33m \u001b[0m\u001b[33m│\u001b[0m\n",
       "\u001b[33m│\u001b[0m\u001b[33m \u001b[0m\u001b[37m│\u001b[0m\u001b[37m \u001b[0m\u001b[37m  \u001b[0m\u001b[1;37m{\u001b[0m\u001b[37m                                                                                                        \u001b[0m\u001b[37m \u001b[0m\u001b[37m│\u001b[0m\u001b[33m \u001b[0m\u001b[33m│\u001b[0m\n",
       "\u001b[33m│\u001b[0m\u001b[33m \u001b[0m\u001b[37m│\u001b[0m\u001b[37m \u001b[0m\u001b[37m    \u001b[0m\u001b[1;34m\"content\"\u001b[0m\u001b[37m: \u001b[0m\u001b[32m\"Use the available tools to obtain additional information to answer the query.\"\u001b[0m\u001b[37m,\u001b[0m\u001b[37m            \u001b[0m\u001b[37m \u001b[0m\u001b[37m│\u001b[0m\u001b[33m \u001b[0m\u001b[33m│\u001b[0m\n",
       "\u001b[33m│\u001b[0m\u001b[33m \u001b[0m\u001b[37m│\u001b[0m\u001b[37m \u001b[0m\u001b[37m    \u001b[0m\u001b[1;34m\"role\"\u001b[0m\u001b[37m: \u001b[0m\u001b[32m\"system\"\u001b[0m\u001b[37m                                                                                       \u001b[0m\u001b[37m \u001b[0m\u001b[37m│\u001b[0m\u001b[33m \u001b[0m\u001b[33m│\u001b[0m\n",
       "\u001b[33m│\u001b[0m\u001b[33m \u001b[0m\u001b[37m│\u001b[0m\u001b[37m \u001b[0m\u001b[37m  \u001b[0m\u001b[1;37m}\u001b[0m\u001b[37m,\u001b[0m\u001b[37m                                                                                                       \u001b[0m\u001b[37m \u001b[0m\u001b[37m│\u001b[0m\u001b[33m \u001b[0m\u001b[33m│\u001b[0m\n",
       "\u001b[33m│\u001b[0m\u001b[33m \u001b[0m\u001b[37m│\u001b[0m\u001b[37m \u001b[0m\u001b[37m  \u001b[0m\u001b[1;37m{\u001b[0m\u001b[37m                                                                                                        \u001b[0m\u001b[37m \u001b[0m\u001b[37m│\u001b[0m\u001b[33m \u001b[0m\u001b[33m│\u001b[0m\n",
       "\u001b[33m│\u001b[0m\u001b[33m \u001b[0m\u001b[37m│\u001b[0m\u001b[37m \u001b[0m\u001b[37m    \u001b[0m\u001b[1;34m\"role\"\u001b[0m\u001b[37m: \u001b[0m\u001b[32m\"user\"\u001b[0m\u001b[37m,\u001b[0m\u001b[37m                                                                                        \u001b[0m\u001b[37m \u001b[0m\u001b[37m│\u001b[0m\u001b[33m \u001b[0m\u001b[33m│\u001b[0m\n",
       "\u001b[33m│\u001b[0m\u001b[33m \u001b[0m\u001b[37m│\u001b[0m\u001b[37m \u001b[0m\u001b[37m    \u001b[0m\u001b[1;34m\"content\"\u001b[0m\u001b[37m: \u001b[0m\u001b[32m\"What is the current date and time?\"\u001b[0m\u001b[37m                                                        \u001b[0m\u001b[37m \u001b[0m\u001b[37m│\u001b[0m\u001b[33m \u001b[0m\u001b[33m│\u001b[0m\n",
       "\u001b[33m│\u001b[0m\u001b[33m \u001b[0m\u001b[37m│\u001b[0m\u001b[37m \u001b[0m\u001b[37m  \u001b[0m\u001b[1;37m}\u001b[0m\u001b[37m                                                                                                        \u001b[0m\u001b[37m \u001b[0m\u001b[37m│\u001b[0m\u001b[33m \u001b[0m\u001b[33m│\u001b[0m\n",
       "\u001b[33m│\u001b[0m\u001b[33m \u001b[0m\u001b[37m│\u001b[0m\u001b[37m \u001b[0m\u001b[1;37m]\u001b[0m\u001b[37m                                                                                                          \u001b[0m\u001b[37m \u001b[0m\u001b[37m│\u001b[0m\u001b[33m \u001b[0m\u001b[33m│\u001b[0m\n",
       "\u001b[33m│\u001b[0m\u001b[33m \u001b[0m\u001b[37m╰─────────────────────────────────────────────────────────────────────────────────────────────────────────────╯\u001b[0m\u001b[33m \u001b[0m\u001b[33m│\u001b[0m\n",
       "\u001b[33m│\u001b[0m\u001b[33m \u001b[0m\u001b[37m╭─\u001b[0m\u001b[33m OUTPUT \u001b[0m\u001b[37m───────────────────────────────────────────────────────────────────────────────────────────────────\u001b[0m\u001b[37m─╮\u001b[0m\u001b[33m \u001b[0m\u001b[33m│\u001b[0m\n",
       "\u001b[33m│\u001b[0m\u001b[33m \u001b[0m\u001b[37m│\u001b[0m\u001b[37m \u001b[0m\u001b[1;37m[\u001b[0m\u001b[37m                                                                                                          \u001b[0m\u001b[37m \u001b[0m\u001b[37m│\u001b[0m\u001b[33m \u001b[0m\u001b[33m│\u001b[0m\n",
       "\u001b[33m│\u001b[0m\u001b[33m \u001b[0m\u001b[37m│\u001b[0m\u001b[37m \u001b[0m\u001b[37m  \u001b[0m\u001b[1;37m{\u001b[0m\u001b[37m                                                                                                        \u001b[0m\u001b[37m \u001b[0m\u001b[37m│\u001b[0m\u001b[33m \u001b[0m\u001b[33m│\u001b[0m\n",
       "\u001b[33m│\u001b[0m\u001b[33m \u001b[0m\u001b[37m│\u001b[0m\u001b[37m \u001b[0m\u001b[37m    \u001b[0m\u001b[1;34m\"tool.name\"\u001b[0m\u001b[37m: \u001b[0m\u001b[32m\"get_datetime\"\u001b[0m\u001b[37m,\u001b[0m\u001b[37m                                                                           \u001b[0m\u001b[37m \u001b[0m\u001b[37m│\u001b[0m\u001b[33m \u001b[0m\u001b[33m│\u001b[0m\n",
       "\u001b[33m│\u001b[0m\u001b[33m \u001b[0m\u001b[37m│\u001b[0m\u001b[37m \u001b[0m\u001b[37m    \u001b[0m\u001b[1;34m\"tool.args\"\u001b[0m\u001b[37m: \u001b[0m\u001b[32m\"{}\"\u001b[0m\u001b[37m                                                                                      \u001b[0m\u001b[37m \u001b[0m\u001b[37m│\u001b[0m\u001b[33m \u001b[0m\u001b[33m│\u001b[0m\n",
       "\u001b[33m│\u001b[0m\u001b[33m \u001b[0m\u001b[37m│\u001b[0m\u001b[37m \u001b[0m\u001b[37m  \u001b[0m\u001b[1;37m}\u001b[0m\u001b[37m                                                                                                        \u001b[0m\u001b[37m \u001b[0m\u001b[37m│\u001b[0m\u001b[33m \u001b[0m\u001b[33m│\u001b[0m\n",
       "\u001b[33m│\u001b[0m\u001b[33m \u001b[0m\u001b[37m│\u001b[0m\u001b[37m \u001b[0m\u001b[1;37m]\u001b[0m\u001b[37m                                                                                                          \u001b[0m\u001b[37m \u001b[0m\u001b[37m│\u001b[0m\u001b[33m \u001b[0m\u001b[33m│\u001b[0m\n",
       "\u001b[33m│\u001b[0m\u001b[33m \u001b[0m\u001b[37m╰─────────────────────────────────────────────────────────────────────────────────────────────────────────────╯\u001b[0m\u001b[33m \u001b[0m\u001b[33m│\u001b[0m\n",
       "\u001b[33m│\u001b[0m\u001b[33m \u001b[0m\u001b[37m╭─\u001b[0m\u001b[33m USAGE \u001b[0m\u001b[37m────────────────────────────────────────────────────────────────────────────────────────────────────\u001b[0m\u001b[37m─╮\u001b[0m\u001b[33m \u001b[0m\u001b[33m│\u001b[0m\n",
       "\u001b[33m│\u001b[0m\u001b[33m \u001b[0m\u001b[37m│\u001b[0m\u001b[37m \u001b[0m\u001b[1;37m{\u001b[0m\u001b[37m                                                                                                          \u001b[0m\u001b[37m \u001b[0m\u001b[37m│\u001b[0m\u001b[33m \u001b[0m\u001b[33m│\u001b[0m\n",
       "\u001b[33m│\u001b[0m\u001b[33m \u001b[0m\u001b[37m│\u001b[0m\u001b[37m \u001b[0m\u001b[37m  \u001b[0m\u001b[1;34m\"input_tokens\"\u001b[0m\u001b[37m: \u001b[0m\u001b[1;36m201\u001b[0m\u001b[37m,\u001b[0m\u001b[37m                                                                                     \u001b[0m\u001b[37m \u001b[0m\u001b[37m│\u001b[0m\u001b[33m \u001b[0m\u001b[33m│\u001b[0m\n",
       "\u001b[33m│\u001b[0m\u001b[33m \u001b[0m\u001b[37m│\u001b[0m\u001b[37m \u001b[0m\u001b[37m  \u001b[0m\u001b[1;34m\"output_tokens\"\u001b[0m\u001b[37m: \u001b[0m\u001b[1;36m10\u001b[0m\u001b[37m                                                                                      \u001b[0m\u001b[37m \u001b[0m\u001b[37m│\u001b[0m\u001b[33m \u001b[0m\u001b[33m│\u001b[0m\n",
       "\u001b[33m│\u001b[0m\u001b[33m \u001b[0m\u001b[37m│\u001b[0m\u001b[37m \u001b[0m\u001b[1;37m}\u001b[0m\u001b[37m                                                                                                          \u001b[0m\u001b[37m \u001b[0m\u001b[37m│\u001b[0m\u001b[33m \u001b[0m\u001b[33m│\u001b[0m\n",
       "\u001b[33m│\u001b[0m\u001b[33m \u001b[0m\u001b[37m╰─────────────────────────────────────────────────────────────────────────────────────────────────────────────╯\u001b[0m\u001b[33m \u001b[0m\u001b[33m│\u001b[0m\n",
       "\u001b[33m╰─────────────────────────────────────────────────────────────────────────────────────────────────────────────────╯\u001b[0m\n"
      ]
     },
     "metadata": {},
     "output_type": "display_data"
    },
    {
     "data": {
      "text/html": [
       "<pre style=\"white-space:pre;overflow-x:auto;line-height:normal;font-family:Menlo,'DejaVu Sans Mono',consolas,'Courier New',monospace\"><span style=\"color: #000080; text-decoration-color: #000080\">╭──────────────────────────────────────────</span> EXECUTE_TOOL: get_datetime <span style=\"color: #000080; text-decoration-color: #000080\">───────────────────────────────────────────╮</span>\n",
       "<span style=\"color: #000080; text-decoration-color: #000080\">│ </span><span style=\"color: #c0c0c0; text-decoration-color: #c0c0c0\">╭─</span><span style=\"color: #000080; text-decoration-color: #000080\"> Input </span><span style=\"color: #c0c0c0; text-decoration-color: #c0c0c0\">─────────────────────────────────────────────────────────────────────────────────────────────────────╮</span><span style=\"color: #000080; text-decoration-color: #000080\"> │</span>\n",
       "<span style=\"color: #000080; text-decoration-color: #000080\">│ </span><span style=\"color: #c0c0c0; text-decoration-color: #c0c0c0\">│ </span><span style=\"color: #c0c0c0; text-decoration-color: #c0c0c0; font-weight: bold\">{}</span><span style=\"color: #c0c0c0; text-decoration-color: #c0c0c0\">                                                                                                          │</span><span style=\"color: #000080; text-decoration-color: #000080\"> │</span>\n",
       "<span style=\"color: #000080; text-decoration-color: #000080\">│ </span><span style=\"color: #c0c0c0; text-decoration-color: #c0c0c0\">╰─────────────────────────────────────────────────────────────────────────────────────────────────────────────╯</span><span style=\"color: #000080; text-decoration-color: #000080\"> │</span>\n",
       "<span style=\"color: #000080; text-decoration-color: #000080\">│ </span><span style=\"color: #c0c0c0; text-decoration-color: #c0c0c0\">╭─</span><span style=\"color: #000080; text-decoration-color: #000080\"> OUTPUT </span><span style=\"color: #c0c0c0; text-decoration-color: #c0c0c0\">────────────────────────────────────────────────────────────────────────────────────────────────────╮</span><span style=\"color: #000080; text-decoration-color: #000080\"> │</span>\n",
       "<span style=\"color: #000080; text-decoration-color: #000080\">│ </span><span style=\"color: #c0c0c0; text-decoration-color: #c0c0c0\">│ 2025-06-23 10:21:32.326344                                                                                  │</span><span style=\"color: #000080; text-decoration-color: #000080\"> │</span>\n",
       "<span style=\"color: #000080; text-decoration-color: #000080\">│ </span><span style=\"color: #c0c0c0; text-decoration-color: #c0c0c0\">╰─────────────────────────────────────────────────────────────────────────────────────────────────────────────╯</span><span style=\"color: #000080; text-decoration-color: #000080\"> │</span>\n",
       "<span style=\"color: #000080; text-decoration-color: #000080\">╰─────────────────────────────────────────────────────────────────────────────────────────────────────────────────╯</span>\n",
       "</pre>\n"
      ],
      "text/plain": [
       "\u001b[34m╭─\u001b[0m\u001b[34m─────────────────────────────────────────\u001b[0m EXECUTE_TOOL: get_datetime \u001b[34m──────────────────────────────────────────\u001b[0m\u001b[34m─╮\u001b[0m\n",
       "\u001b[34m│\u001b[0m\u001b[34m \u001b[0m\u001b[37m╭─\u001b[0m\u001b[34m Input \u001b[0m\u001b[37m────────────────────────────────────────────────────────────────────────────────────────────────────\u001b[0m\u001b[37m─╮\u001b[0m\u001b[34m \u001b[0m\u001b[34m│\u001b[0m\n",
       "\u001b[34m│\u001b[0m\u001b[34m \u001b[0m\u001b[37m│\u001b[0m\u001b[37m \u001b[0m\u001b[1;37m{\u001b[0m\u001b[1;37m}\u001b[0m\u001b[37m                                                                                                         \u001b[0m\u001b[37m \u001b[0m\u001b[37m│\u001b[0m\u001b[34m \u001b[0m\u001b[34m│\u001b[0m\n",
       "\u001b[34m│\u001b[0m\u001b[34m \u001b[0m\u001b[37m╰─────────────────────────────────────────────────────────────────────────────────────────────────────────────╯\u001b[0m\u001b[34m \u001b[0m\u001b[34m│\u001b[0m\n",
       "\u001b[34m│\u001b[0m\u001b[34m \u001b[0m\u001b[37m╭─\u001b[0m\u001b[34m OUTPUT \u001b[0m\u001b[37m───────────────────────────────────────────────────────────────────────────────────────────────────\u001b[0m\u001b[37m─╮\u001b[0m\u001b[34m \u001b[0m\u001b[34m│\u001b[0m\n",
       "\u001b[34m│\u001b[0m\u001b[34m \u001b[0m\u001b[37m│\u001b[0m\u001b[37m \u001b[0m\u001b[37m2025-06-23 10:21:32.326344                                                                                 \u001b[0m\u001b[37m \u001b[0m\u001b[37m│\u001b[0m\u001b[34m \u001b[0m\u001b[34m│\u001b[0m\n",
       "\u001b[34m│\u001b[0m\u001b[34m \u001b[0m\u001b[37m╰─────────────────────────────────────────────────────────────────────────────────────────────────────────────╯\u001b[0m\u001b[34m \u001b[0m\u001b[34m│\u001b[0m\n",
       "\u001b[34m╰─────────────────────────────────────────────────────────────────────────────────────────────────────────────────╯\u001b[0m\n"
      ]
     },
     "metadata": {},
     "output_type": "display_data"
    },
    {
     "data": {
      "text/html": [
       "<pre style=\"white-space:pre;overflow-x:auto;line-height:normal;font-family:Menlo,'DejaVu Sans Mono',consolas,'Courier New',monospace\"><span style=\"color: #000080; text-decoration-color: #000080\">╭──────────────────────────────────────────</span> EXECUTE_TOOL: get_datetime <span style=\"color: #000080; text-decoration-color: #000080\">───────────────────────────────────────────╮</span>\n",
       "<span style=\"color: #000080; text-decoration-color: #000080\">│ </span><span style=\"color: #c0c0c0; text-decoration-color: #c0c0c0\">╭─</span><span style=\"color: #000080; text-decoration-color: #000080\"> Input </span><span style=\"color: #c0c0c0; text-decoration-color: #c0c0c0\">─────────────────────────────────────────────────────────────────────────────────────────────────────╮</span><span style=\"color: #000080; text-decoration-color: #000080\"> │</span>\n",
       "<span style=\"color: #000080; text-decoration-color: #000080\">│ </span><span style=\"color: #c0c0c0; text-decoration-color: #c0c0c0\">│ </span><span style=\"color: #c0c0c0; text-decoration-color: #c0c0c0; font-weight: bold\">{}</span><span style=\"color: #c0c0c0; text-decoration-color: #c0c0c0\">                                                                                                          │</span><span style=\"color: #000080; text-decoration-color: #000080\"> │</span>\n",
       "<span style=\"color: #000080; text-decoration-color: #000080\">│ </span><span style=\"color: #c0c0c0; text-decoration-color: #c0c0c0\">╰─────────────────────────────────────────────────────────────────────────────────────────────────────────────╯</span><span style=\"color: #000080; text-decoration-color: #000080\"> │</span>\n",
       "<span style=\"color: #000080; text-decoration-color: #000080\">│ </span><span style=\"color: #c0c0c0; text-decoration-color: #c0c0c0\">╭─</span><span style=\"color: #000080; text-decoration-color: #000080\"> OUTPUT </span><span style=\"color: #c0c0c0; text-decoration-color: #c0c0c0\">────────────────────────────────────────────────────────────────────────────────────────────────────╮</span><span style=\"color: #000080; text-decoration-color: #000080\"> │</span>\n",
       "<span style=\"color: #000080; text-decoration-color: #000080\">│ </span><span style=\"color: #c0c0c0; text-decoration-color: #c0c0c0\">│ 2025-06-23 10:21:32.326344                                                                                  │</span><span style=\"color: #000080; text-decoration-color: #000080\"> │</span>\n",
       "<span style=\"color: #000080; text-decoration-color: #000080\">│ </span><span style=\"color: #c0c0c0; text-decoration-color: #c0c0c0\">╰─────────────────────────────────────────────────────────────────────────────────────────────────────────────╯</span><span style=\"color: #000080; text-decoration-color: #000080\"> │</span>\n",
       "<span style=\"color: #000080; text-decoration-color: #000080\">╰─────────────────────────────────────────────────────────────────────────────────────────────────────────────────╯</span>\n",
       "</pre>\n"
      ],
      "text/plain": [
       "\u001b[34m╭─\u001b[0m\u001b[34m─────────────────────────────────────────\u001b[0m EXECUTE_TOOL: get_datetime \u001b[34m──────────────────────────────────────────\u001b[0m\u001b[34m─╮\u001b[0m\n",
       "\u001b[34m│\u001b[0m\u001b[34m \u001b[0m\u001b[37m╭─\u001b[0m\u001b[34m Input \u001b[0m\u001b[37m────────────────────────────────────────────────────────────────────────────────────────────────────\u001b[0m\u001b[37m─╮\u001b[0m\u001b[34m \u001b[0m\u001b[34m│\u001b[0m\n",
       "\u001b[34m│\u001b[0m\u001b[34m \u001b[0m\u001b[37m│\u001b[0m\u001b[37m \u001b[0m\u001b[1;37m{\u001b[0m\u001b[1;37m}\u001b[0m\u001b[37m                                                                                                         \u001b[0m\u001b[37m \u001b[0m\u001b[37m│\u001b[0m\u001b[34m \u001b[0m\u001b[34m│\u001b[0m\n",
       "\u001b[34m│\u001b[0m\u001b[34m \u001b[0m\u001b[37m╰─────────────────────────────────────────────────────────────────────────────────────────────────────────────╯\u001b[0m\u001b[34m \u001b[0m\u001b[34m│\u001b[0m\n",
       "\u001b[34m│\u001b[0m\u001b[34m \u001b[0m\u001b[37m╭─\u001b[0m\u001b[34m OUTPUT \u001b[0m\u001b[37m───────────────────────────────────────────────────────────────────────────────────────────────────\u001b[0m\u001b[37m─╮\u001b[0m\u001b[34m \u001b[0m\u001b[34m│\u001b[0m\n",
       "\u001b[34m│\u001b[0m\u001b[34m \u001b[0m\u001b[37m│\u001b[0m\u001b[37m \u001b[0m\u001b[37m2025-06-23 10:21:32.326344                                                                                 \u001b[0m\u001b[37m \u001b[0m\u001b[37m│\u001b[0m\u001b[34m \u001b[0m\u001b[34m│\u001b[0m\n",
       "\u001b[34m│\u001b[0m\u001b[34m \u001b[0m\u001b[37m╰─────────────────────────────────────────────────────────────────────────────────────────────────────────────╯\u001b[0m\u001b[34m \u001b[0m\u001b[34m│\u001b[0m\n",
       "\u001b[34m╰─────────────────────────────────────────────────────────────────────────────────────────────────────────────────╯\u001b[0m\n"
      ]
     },
     "metadata": {},
     "output_type": "display_data"
    },
    {
     "data": {
      "text/html": [
       "<pre style=\"white-space:pre;overflow-x:auto;line-height:normal;font-family:Menlo,'DejaVu Sans Mono',consolas,'Courier New',monospace\"><span style=\"color: #808000; text-decoration-color: #808000\">╭────────────────────────────────────────────</span> CALL_LLM: gpt-4.1-nano <span style=\"color: #808000; text-decoration-color: #808000\">─────────────────────────────────────────────╮</span>\n",
       "<span style=\"color: #808000; text-decoration-color: #808000\">│ </span><span style=\"color: #c0c0c0; text-decoration-color: #c0c0c0\">╭─</span><span style=\"color: #808000; text-decoration-color: #808000\"> OUTPUT </span><span style=\"color: #c0c0c0; text-decoration-color: #c0c0c0\">────────────────────────────────────────────────────────────────────────────────────────────────────╮</span><span style=\"color: #808000; text-decoration-color: #808000\"> │</span>\n",
       "<span style=\"color: #808000; text-decoration-color: #808000\">│ </span><span style=\"color: #c0c0c0; text-decoration-color: #c0c0c0\">│ {\"task_status\":\"completed\",\"data\":{\"result\":\"The current date and time is 2025-06-23 10:21:32.\"}}           │</span><span style=\"color: #808000; text-decoration-color: #808000\"> │</span>\n",
       "<span style=\"color: #808000; text-decoration-color: #808000\">│ </span><span style=\"color: #c0c0c0; text-decoration-color: #c0c0c0\">╰─────────────────────────────────────────────────────────────────────────────────────────────────────────────╯</span><span style=\"color: #808000; text-decoration-color: #808000\"> │</span>\n",
       "<span style=\"color: #808000; text-decoration-color: #808000\">│ </span><span style=\"color: #c0c0c0; text-decoration-color: #c0c0c0\">╭─</span><span style=\"color: #808000; text-decoration-color: #808000\"> USAGE </span><span style=\"color: #c0c0c0; text-decoration-color: #c0c0c0\">─────────────────────────────────────────────────────────────────────────────────────────────────────╮</span><span style=\"color: #808000; text-decoration-color: #808000\"> │</span>\n",
       "<span style=\"color: #808000; text-decoration-color: #808000\">│ </span><span style=\"color: #c0c0c0; text-decoration-color: #c0c0c0\">│ </span><span style=\"color: #c0c0c0; text-decoration-color: #c0c0c0; font-weight: bold\">{</span><span style=\"color: #c0c0c0; text-decoration-color: #c0c0c0\">                                                                                                           │</span><span style=\"color: #808000; text-decoration-color: #808000\"> │</span>\n",
       "<span style=\"color: #808000; text-decoration-color: #808000\">│ </span><span style=\"color: #c0c0c0; text-decoration-color: #c0c0c0\">│   </span><span style=\"color: #000080; text-decoration-color: #000080; font-weight: bold\">\"input_tokens\"</span><span style=\"color: #c0c0c0; text-decoration-color: #c0c0c0\">: </span><span style=\"color: #008080; text-decoration-color: #008080; font-weight: bold\">234</span><span style=\"color: #c0c0c0; text-decoration-color: #c0c0c0\">,                                                                                      │</span><span style=\"color: #808000; text-decoration-color: #808000\"> │</span>\n",
       "<span style=\"color: #808000; text-decoration-color: #808000\">│ </span><span style=\"color: #c0c0c0; text-decoration-color: #c0c0c0\">│   </span><span style=\"color: #000080; text-decoration-color: #000080; font-weight: bold\">\"output_tokens\"</span><span style=\"color: #c0c0c0; text-decoration-color: #c0c0c0\">: </span><span style=\"color: #008080; text-decoration-color: #008080; font-weight: bold\">36</span><span style=\"color: #c0c0c0; text-decoration-color: #c0c0c0\">                                                                                       │</span><span style=\"color: #808000; text-decoration-color: #808000\"> │</span>\n",
       "<span style=\"color: #808000; text-decoration-color: #808000\">│ </span><span style=\"color: #c0c0c0; text-decoration-color: #c0c0c0\">│ </span><span style=\"color: #c0c0c0; text-decoration-color: #c0c0c0; font-weight: bold\">}</span><span style=\"color: #c0c0c0; text-decoration-color: #c0c0c0\">                                                                                                           │</span><span style=\"color: #808000; text-decoration-color: #808000\"> │</span>\n",
       "<span style=\"color: #808000; text-decoration-color: #808000\">│ </span><span style=\"color: #c0c0c0; text-decoration-color: #c0c0c0\">╰─────────────────────────────────────────────────────────────────────────────────────────────────────────────╯</span><span style=\"color: #808000; text-decoration-color: #808000\"> │</span>\n",
       "<span style=\"color: #808000; text-decoration-color: #808000\">╰─────────────────────────────────────────────────────────────────────────────────────────────────────────────────╯</span>\n",
       "</pre>\n"
      ],
      "text/plain": [
       "\u001b[33m╭─\u001b[0m\u001b[33m───────────────────────────────────────────\u001b[0m CALL_LLM: gpt-4.1-nano \u001b[33m────────────────────────────────────────────\u001b[0m\u001b[33m─╮\u001b[0m\n",
       "\u001b[33m│\u001b[0m\u001b[33m \u001b[0m\u001b[37m╭─\u001b[0m\u001b[33m OUTPUT \u001b[0m\u001b[37m───────────────────────────────────────────────────────────────────────────────────────────────────\u001b[0m\u001b[37m─╮\u001b[0m\u001b[33m \u001b[0m\u001b[33m│\u001b[0m\n",
       "\u001b[33m│\u001b[0m\u001b[33m \u001b[0m\u001b[37m│\u001b[0m\u001b[37m \u001b[0m\u001b[37m{\"task_status\":\"completed\",\"data\":{\"result\":\"The current date and time is 2025-06-23 10:21:32.\"}}          \u001b[0m\u001b[37m \u001b[0m\u001b[37m│\u001b[0m\u001b[33m \u001b[0m\u001b[33m│\u001b[0m\n",
       "\u001b[33m│\u001b[0m\u001b[33m \u001b[0m\u001b[37m╰─────────────────────────────────────────────────────────────────────────────────────────────────────────────╯\u001b[0m\u001b[33m \u001b[0m\u001b[33m│\u001b[0m\n",
       "\u001b[33m│\u001b[0m\u001b[33m \u001b[0m\u001b[37m╭─\u001b[0m\u001b[33m USAGE \u001b[0m\u001b[37m────────────────────────────────────────────────────────────────────────────────────────────────────\u001b[0m\u001b[37m─╮\u001b[0m\u001b[33m \u001b[0m\u001b[33m│\u001b[0m\n",
       "\u001b[33m│\u001b[0m\u001b[33m \u001b[0m\u001b[37m│\u001b[0m\u001b[37m \u001b[0m\u001b[1;37m{\u001b[0m\u001b[37m                                                                                                          \u001b[0m\u001b[37m \u001b[0m\u001b[37m│\u001b[0m\u001b[33m \u001b[0m\u001b[33m│\u001b[0m\n",
       "\u001b[33m│\u001b[0m\u001b[33m \u001b[0m\u001b[37m│\u001b[0m\u001b[37m \u001b[0m\u001b[37m  \u001b[0m\u001b[1;34m\"input_tokens\"\u001b[0m\u001b[37m: \u001b[0m\u001b[1;36m234\u001b[0m\u001b[37m,\u001b[0m\u001b[37m                                                                                     \u001b[0m\u001b[37m \u001b[0m\u001b[37m│\u001b[0m\u001b[33m \u001b[0m\u001b[33m│\u001b[0m\n",
       "\u001b[33m│\u001b[0m\u001b[33m \u001b[0m\u001b[37m│\u001b[0m\u001b[37m \u001b[0m\u001b[37m  \u001b[0m\u001b[1;34m\"output_tokens\"\u001b[0m\u001b[37m: \u001b[0m\u001b[1;36m36\u001b[0m\u001b[37m                                                                                      \u001b[0m\u001b[37m \u001b[0m\u001b[37m│\u001b[0m\u001b[33m \u001b[0m\u001b[33m│\u001b[0m\n",
       "\u001b[33m│\u001b[0m\u001b[33m \u001b[0m\u001b[37m│\u001b[0m\u001b[37m \u001b[0m\u001b[1;37m}\u001b[0m\u001b[37m                                                                                                          \u001b[0m\u001b[37m \u001b[0m\u001b[37m│\u001b[0m\u001b[33m \u001b[0m\u001b[33m│\u001b[0m\n",
       "\u001b[33m│\u001b[0m\u001b[33m \u001b[0m\u001b[37m╰─────────────────────────────────────────────────────────────────────────────────────────────────────────────╯\u001b[0m\u001b[33m \u001b[0m\u001b[33m│\u001b[0m\n",
       "\u001b[33m╰─────────────────────────────────────────────────────────────────────────────────────────────────────────────────╯\u001b[0m\n"
      ]
     },
     "metadata": {},
     "output_type": "display_data"
    },
    {
     "data": {
      "text/html": [
       "<pre style=\"white-space:pre;overflow-x:auto;line-height:normal;font-family:Menlo,'DejaVu Sans Mono',consolas,'Courier New',monospace\"><span style=\"color: #808000; text-decoration-color: #808000\">╭────────────────────────────────────────────</span> CALL_LLM: gpt-4.1-nano <span style=\"color: #808000; text-decoration-color: #808000\">─────────────────────────────────────────────╮</span>\n",
       "<span style=\"color: #808000; text-decoration-color: #808000\">│ </span><span style=\"color: #c0c0c0; text-decoration-color: #c0c0c0\">╭─</span><span style=\"color: #808000; text-decoration-color: #808000\"> OUTPUT </span><span style=\"color: #c0c0c0; text-decoration-color: #c0c0c0\">────────────────────────────────────────────────────────────────────────────────────────────────────╮</span><span style=\"color: #808000; text-decoration-color: #808000\"> │</span>\n",
       "<span style=\"color: #808000; text-decoration-color: #808000\">│ </span><span style=\"color: #c0c0c0; text-decoration-color: #c0c0c0\">│ {\"task_status\":\"completed\",\"data\":{\"result\":\"The current date and time is 2025-06-23 10:21:32.\"}}           │</span><span style=\"color: #808000; text-decoration-color: #808000\"> │</span>\n",
       "<span style=\"color: #808000; text-decoration-color: #808000\">│ </span><span style=\"color: #c0c0c0; text-decoration-color: #c0c0c0\">╰─────────────────────────────────────────────────────────────────────────────────────────────────────────────╯</span><span style=\"color: #808000; text-decoration-color: #808000\"> │</span>\n",
       "<span style=\"color: #808000; text-decoration-color: #808000\">│ </span><span style=\"color: #c0c0c0; text-decoration-color: #c0c0c0\">╭─</span><span style=\"color: #808000; text-decoration-color: #808000\"> USAGE </span><span style=\"color: #c0c0c0; text-decoration-color: #c0c0c0\">─────────────────────────────────────────────────────────────────────────────────────────────────────╮</span><span style=\"color: #808000; text-decoration-color: #808000\"> │</span>\n",
       "<span style=\"color: #808000; text-decoration-color: #808000\">│ </span><span style=\"color: #c0c0c0; text-decoration-color: #c0c0c0\">│ </span><span style=\"color: #c0c0c0; text-decoration-color: #c0c0c0; font-weight: bold\">{</span><span style=\"color: #c0c0c0; text-decoration-color: #c0c0c0\">                                                                                                           │</span><span style=\"color: #808000; text-decoration-color: #808000\"> │</span>\n",
       "<span style=\"color: #808000; text-decoration-color: #808000\">│ </span><span style=\"color: #c0c0c0; text-decoration-color: #c0c0c0\">│   </span><span style=\"color: #000080; text-decoration-color: #000080; font-weight: bold\">\"input_tokens\"</span><span style=\"color: #c0c0c0; text-decoration-color: #c0c0c0\">: </span><span style=\"color: #008080; text-decoration-color: #008080; font-weight: bold\">234</span><span style=\"color: #c0c0c0; text-decoration-color: #c0c0c0\">,                                                                                      │</span><span style=\"color: #808000; text-decoration-color: #808000\"> │</span>\n",
       "<span style=\"color: #808000; text-decoration-color: #808000\">│ </span><span style=\"color: #c0c0c0; text-decoration-color: #c0c0c0\">│   </span><span style=\"color: #000080; text-decoration-color: #000080; font-weight: bold\">\"output_tokens\"</span><span style=\"color: #c0c0c0; text-decoration-color: #c0c0c0\">: </span><span style=\"color: #008080; text-decoration-color: #008080; font-weight: bold\">36</span><span style=\"color: #c0c0c0; text-decoration-color: #c0c0c0\">                                                                                       │</span><span style=\"color: #808000; text-decoration-color: #808000\"> │</span>\n",
       "<span style=\"color: #808000; text-decoration-color: #808000\">│ </span><span style=\"color: #c0c0c0; text-decoration-color: #c0c0c0\">│ </span><span style=\"color: #c0c0c0; text-decoration-color: #c0c0c0; font-weight: bold\">}</span><span style=\"color: #c0c0c0; text-decoration-color: #c0c0c0\">                                                                                                           │</span><span style=\"color: #808000; text-decoration-color: #808000\"> │</span>\n",
       "<span style=\"color: #808000; text-decoration-color: #808000\">│ </span><span style=\"color: #c0c0c0; text-decoration-color: #c0c0c0\">╰─────────────────────────────────────────────────────────────────────────────────────────────────────────────╯</span><span style=\"color: #808000; text-decoration-color: #808000\"> │</span>\n",
       "<span style=\"color: #808000; text-decoration-color: #808000\">╰─────────────────────────────────────────────────────────────────────────────────────────────────────────────────╯</span>\n",
       "</pre>\n"
      ],
      "text/plain": [
       "\u001b[33m╭─\u001b[0m\u001b[33m───────────────────────────────────────────\u001b[0m CALL_LLM: gpt-4.1-nano \u001b[33m────────────────────────────────────────────\u001b[0m\u001b[33m─╮\u001b[0m\n",
       "\u001b[33m│\u001b[0m\u001b[33m \u001b[0m\u001b[37m╭─\u001b[0m\u001b[33m OUTPUT \u001b[0m\u001b[37m───────────────────────────────────────────────────────────────────────────────────────────────────\u001b[0m\u001b[37m─╮\u001b[0m\u001b[33m \u001b[0m\u001b[33m│\u001b[0m\n",
       "\u001b[33m│\u001b[0m\u001b[33m \u001b[0m\u001b[37m│\u001b[0m\u001b[37m \u001b[0m\u001b[37m{\"task_status\":\"completed\",\"data\":{\"result\":\"The current date and time is 2025-06-23 10:21:32.\"}}          \u001b[0m\u001b[37m \u001b[0m\u001b[37m│\u001b[0m\u001b[33m \u001b[0m\u001b[33m│\u001b[0m\n",
       "\u001b[33m│\u001b[0m\u001b[33m \u001b[0m\u001b[37m╰─────────────────────────────────────────────────────────────────────────────────────────────────────────────╯\u001b[0m\u001b[33m \u001b[0m\u001b[33m│\u001b[0m\n",
       "\u001b[33m│\u001b[0m\u001b[33m \u001b[0m\u001b[37m╭─\u001b[0m\u001b[33m USAGE \u001b[0m\u001b[37m────────────────────────────────────────────────────────────────────────────────────────────────────\u001b[0m\u001b[37m─╮\u001b[0m\u001b[33m \u001b[0m\u001b[33m│\u001b[0m\n",
       "\u001b[33m│\u001b[0m\u001b[33m \u001b[0m\u001b[37m│\u001b[0m\u001b[37m \u001b[0m\u001b[1;37m{\u001b[0m\u001b[37m                                                                                                          \u001b[0m\u001b[37m \u001b[0m\u001b[37m│\u001b[0m\u001b[33m \u001b[0m\u001b[33m│\u001b[0m\n",
       "\u001b[33m│\u001b[0m\u001b[33m \u001b[0m\u001b[37m│\u001b[0m\u001b[37m \u001b[0m\u001b[37m  \u001b[0m\u001b[1;34m\"input_tokens\"\u001b[0m\u001b[37m: \u001b[0m\u001b[1;36m234\u001b[0m\u001b[37m,\u001b[0m\u001b[37m                                                                                     \u001b[0m\u001b[37m \u001b[0m\u001b[37m│\u001b[0m\u001b[33m \u001b[0m\u001b[33m│\u001b[0m\n",
       "\u001b[33m│\u001b[0m\u001b[33m \u001b[0m\u001b[37m│\u001b[0m\u001b[37m \u001b[0m\u001b[37m  \u001b[0m\u001b[1;34m\"output_tokens\"\u001b[0m\u001b[37m: \u001b[0m\u001b[1;36m36\u001b[0m\u001b[37m                                                                                      \u001b[0m\u001b[37m \u001b[0m\u001b[37m│\u001b[0m\u001b[33m \u001b[0m\u001b[33m│\u001b[0m\n",
       "\u001b[33m│\u001b[0m\u001b[33m \u001b[0m\u001b[37m│\u001b[0m\u001b[37m \u001b[0m\u001b[1;37m}\u001b[0m\u001b[37m                                                                                                          \u001b[0m\u001b[37m \u001b[0m\u001b[37m│\u001b[0m\u001b[33m \u001b[0m\u001b[33m│\u001b[0m\n",
       "\u001b[33m│\u001b[0m\u001b[33m \u001b[0m\u001b[37m╰─────────────────────────────────────────────────────────────────────────────────────────────────────────────╯\u001b[0m\u001b[33m \u001b[0m\u001b[33m│\u001b[0m\n",
       "\u001b[33m╰─────────────────────────────────────────────────────────────────────────────────────────────────────────────────╯\u001b[0m\n"
      ]
     },
     "metadata": {},
     "output_type": "display_data"
    },
    {
     "data": {
      "text/html": [
       "<pre style=\"white-space:pre;overflow-x:auto;line-height:normal;font-family:Menlo,'DejaVu Sans Mono',consolas,'Courier New',monospace\"><span style=\"color: #000080; text-decoration-color: #000080\">╭─────────────────────────────────────────</span> EXECUTE_TOOL: call_date_agent <span style=\"color: #000080; text-decoration-color: #000080\">─────────────────────────────────────────╮</span>\n",
       "<span style=\"color: #000080; text-decoration-color: #000080\">│ </span><span style=\"color: #c0c0c0; text-decoration-color: #c0c0c0\">╭─</span><span style=\"color: #000080; text-decoration-color: #000080\"> Input </span><span style=\"color: #c0c0c0; text-decoration-color: #c0c0c0\">─────────────────────────────────────────────────────────────────────────────────────────────────────╮</span><span style=\"color: #000080; text-decoration-color: #000080\"> │</span>\n",
       "<span style=\"color: #000080; text-decoration-color: #000080\">│ </span><span style=\"color: #c0c0c0; text-decoration-color: #c0c0c0\">│ </span><span style=\"color: #c0c0c0; text-decoration-color: #c0c0c0; font-weight: bold\">{</span><span style=\"color: #c0c0c0; text-decoration-color: #c0c0c0\">                                                                                                           │</span><span style=\"color: #000080; text-decoration-color: #000080\"> │</span>\n",
       "<span style=\"color: #000080; text-decoration-color: #000080\">│ </span><span style=\"color: #c0c0c0; text-decoration-color: #c0c0c0\">│   </span><span style=\"color: #000080; text-decoration-color: #000080; font-weight: bold\">\"query\"</span><span style=\"color: #c0c0c0; text-decoration-color: #c0c0c0\">: </span><span style=\"color: #008000; text-decoration-color: #008000\">\"What is the current date and time?\"</span><span style=\"color: #c0c0c0; text-decoration-color: #c0c0c0\">                                                             │</span><span style=\"color: #000080; text-decoration-color: #000080\"> │</span>\n",
       "<span style=\"color: #000080; text-decoration-color: #000080\">│ </span><span style=\"color: #c0c0c0; text-decoration-color: #c0c0c0\">│ </span><span style=\"color: #c0c0c0; text-decoration-color: #c0c0c0; font-weight: bold\">}</span><span style=\"color: #c0c0c0; text-decoration-color: #c0c0c0\">                                                                                                           │</span><span style=\"color: #000080; text-decoration-color: #000080\"> │</span>\n",
       "<span style=\"color: #000080; text-decoration-color: #000080\">│ </span><span style=\"color: #c0c0c0; text-decoration-color: #c0c0c0\">╰─────────────────────────────────────────────────────────────────────────────────────────────────────────────╯</span><span style=\"color: #000080; text-decoration-color: #000080\"> │</span>\n",
       "<span style=\"color: #000080; text-decoration-color: #000080\">│ </span><span style=\"color: #c0c0c0; text-decoration-color: #c0c0c0\">╭─</span><span style=\"color: #000080; text-decoration-color: #000080\"> OUTPUT </span><span style=\"color: #c0c0c0; text-decoration-color: #c0c0c0\">────────────────────────────────────────────────────────────────────────────────────────────────────╮</span><span style=\"color: #000080; text-decoration-color: #000080\"> │</span>\n",
       "<span style=\"color: #000080; text-decoration-color: #000080\">│ </span><span style=\"color: #c0c0c0; text-decoration-color: #c0c0c0\">│ </span><span style=\"color: #c0c0c0; text-decoration-color: #c0c0c0; font-weight: bold\">{</span><span style=\"color: #c0c0c0; text-decoration-color: #c0c0c0\">                                                                                                           │</span><span style=\"color: #000080; text-decoration-color: #000080\"> │</span>\n",
       "<span style=\"color: #000080; text-decoration-color: #000080\">│ </span><span style=\"color: #c0c0c0; text-decoration-color: #c0c0c0\">│   </span><span style=\"color: #000080; text-decoration-color: #000080; font-weight: bold\">\"contextId\"</span><span style=\"color: #c0c0c0; text-decoration-color: #c0c0c0\">: </span><span style=\"color: #008000; text-decoration-color: #008000\">\"ffaee063-9ef0-4eed-a52c-80c6d5712b41\"</span><span style=\"color: #c0c0c0; text-decoration-color: #c0c0c0\">,                                                      │</span><span style=\"color: #000080; text-decoration-color: #000080\"> │</span>\n",
       "<span style=\"color: #000080; text-decoration-color: #000080\">│ </span><span style=\"color: #c0c0c0; text-decoration-color: #c0c0c0\">│   </span><span style=\"color: #000080; text-decoration-color: #000080; font-weight: bold\">\"id\"</span><span style=\"color: #c0c0c0; text-decoration-color: #c0c0c0\">: </span><span style=\"color: #008000; text-decoration-color: #008000\">\"0dfaafdd-0eda-4e2d-993c-867a3ae7e112\"</span><span style=\"color: #c0c0c0; text-decoration-color: #c0c0c0\">,                                                             │</span><span style=\"color: #000080; text-decoration-color: #000080\"> │</span>\n",
       "<span style=\"color: #000080; text-decoration-color: #000080\">│ </span><span style=\"color: #c0c0c0; text-decoration-color: #c0c0c0\">│   </span><span style=\"color: #000080; text-decoration-color: #000080; font-weight: bold\">\"status\"</span><span style=\"color: #c0c0c0; text-decoration-color: #c0c0c0\">: </span><span style=\"color: #c0c0c0; text-decoration-color: #c0c0c0; font-weight: bold\">{</span><span style=\"color: #c0c0c0; text-decoration-color: #c0c0c0\">                                                                                               │</span><span style=\"color: #000080; text-decoration-color: #000080\"> │</span>\n",
       "<span style=\"color: #000080; text-decoration-color: #000080\">│ </span><span style=\"color: #c0c0c0; text-decoration-color: #c0c0c0\">│     </span><span style=\"color: #000080; text-decoration-color: #000080; font-weight: bold\">\"message\"</span><span style=\"color: #c0c0c0; text-decoration-color: #c0c0c0\">: </span><span style=\"color: #c0c0c0; text-decoration-color: #c0c0c0; font-weight: bold\">{</span><span style=\"color: #c0c0c0; text-decoration-color: #c0c0c0\">                                                                                            │</span><span style=\"color: #000080; text-decoration-color: #000080\"> │</span>\n",
       "<span style=\"color: #000080; text-decoration-color: #000080\">│ </span><span style=\"color: #c0c0c0; text-decoration-color: #c0c0c0\">│       </span><span style=\"color: #000080; text-decoration-color: #000080; font-weight: bold\">\"contextId\"</span><span style=\"color: #c0c0c0; text-decoration-color: #c0c0c0\">: </span><span style=\"color: #008000; text-decoration-color: #008000\">\"ffaee063-9ef0-4eed-a52c-80c6d5712b41\"</span><span style=\"color: #c0c0c0; text-decoration-color: #c0c0c0\">,                                                  │</span><span style=\"color: #000080; text-decoration-color: #000080\"> │</span>\n",
       "<span style=\"color: #000080; text-decoration-color: #000080\">│ </span><span style=\"color: #c0c0c0; text-decoration-color: #c0c0c0\">│       </span><span style=\"color: #000080; text-decoration-color: #000080; font-weight: bold\">\"messageId\"</span><span style=\"color: #c0c0c0; text-decoration-color: #c0c0c0\">: </span><span style=\"color: #008000; text-decoration-color: #008000\">\"792974da-e2e9-4d1b-a9e9-86a6619d0ac7\"</span><span style=\"color: #c0c0c0; text-decoration-color: #c0c0c0\">,                                                  │</span><span style=\"color: #000080; text-decoration-color: #000080\"> │</span>\n",
       "<span style=\"color: #000080; text-decoration-color: #000080\">│ </span><span style=\"color: #c0c0c0; text-decoration-color: #c0c0c0\">│       </span><span style=\"color: #000080; text-decoration-color: #000080; font-weight: bold\">\"parts\"</span><span style=\"color: #c0c0c0; text-decoration-color: #c0c0c0\">: </span><span style=\"color: #c0c0c0; text-decoration-color: #c0c0c0; font-weight: bold\">[</span><span style=\"color: #c0c0c0; text-decoration-color: #c0c0c0\">                                                                                            │</span><span style=\"color: #000080; text-decoration-color: #000080\"> │</span>\n",
       "<span style=\"color: #000080; text-decoration-color: #000080\">│ </span><span style=\"color: #c0c0c0; text-decoration-color: #c0c0c0\">│         </span><span style=\"color: #c0c0c0; text-decoration-color: #c0c0c0; font-weight: bold\">{</span><span style=\"color: #c0c0c0; text-decoration-color: #c0c0c0\">                                                                                                   │</span><span style=\"color: #000080; text-decoration-color: #000080\"> │</span>\n",
       "<span style=\"color: #000080; text-decoration-color: #000080\">│ </span><span style=\"color: #c0c0c0; text-decoration-color: #c0c0c0\">│           </span><span style=\"color: #000080; text-decoration-color: #000080; font-weight: bold\">\"text\"</span><span style=\"color: #c0c0c0; text-decoration-color: #c0c0c0\">: </span><span style=\"color: #008000; text-decoration-color: #008000\">\"{\\\"result\\\":\\\"The current date and time is 2025-06-23 10:21:32.\\\"}\"</span><span style=\"color: #c0c0c0; text-decoration-color: #c0c0c0\">                      │</span><span style=\"color: #000080; text-decoration-color: #000080\"> │</span>\n",
       "<span style=\"color: #000080; text-decoration-color: #000080\">│ </span><span style=\"color: #c0c0c0; text-decoration-color: #c0c0c0\">│         </span><span style=\"color: #c0c0c0; text-decoration-color: #c0c0c0; font-weight: bold\">}</span><span style=\"color: #c0c0c0; text-decoration-color: #c0c0c0\">                                                                                                   │</span><span style=\"color: #000080; text-decoration-color: #000080\"> │</span>\n",
       "<span style=\"color: #000080; text-decoration-color: #000080\">│ </span><span style=\"color: #c0c0c0; text-decoration-color: #c0c0c0\">│       </span><span style=\"color: #c0c0c0; text-decoration-color: #c0c0c0; font-weight: bold\">]</span><span style=\"color: #c0c0c0; text-decoration-color: #c0c0c0\">,                                                                                                    │</span><span style=\"color: #000080; text-decoration-color: #000080\"> │</span>\n",
       "<span style=\"color: #000080; text-decoration-color: #000080\">│ </span><span style=\"color: #c0c0c0; text-decoration-color: #c0c0c0\">│       </span><span style=\"color: #000080; text-decoration-color: #000080; font-weight: bold\">\"role\"</span><span style=\"color: #c0c0c0; text-decoration-color: #c0c0c0\">: </span><span style=\"color: #008000; text-decoration-color: #008000\">\"agent\"</span><span style=\"color: #c0c0c0; text-decoration-color: #c0c0c0\">,                                                                                      │</span><span style=\"color: #000080; text-decoration-color: #000080\"> │</span>\n",
       "<span style=\"color: #000080; text-decoration-color: #000080\">│ </span><span style=\"color: #c0c0c0; text-decoration-color: #c0c0c0\">│       </span><span style=\"color: #000080; text-decoration-color: #000080; font-weight: bold\">\"taskId\"</span><span style=\"color: #c0c0c0; text-decoration-color: #c0c0c0\">: </span><span style=\"color: #008000; text-decoration-color: #008000\">\"0dfaafdd-0eda-4e2d-993c-867a3ae7e112\"</span><span style=\"color: #c0c0c0; text-decoration-color: #c0c0c0\">                                                      │</span><span style=\"color: #000080; text-decoration-color: #000080\"> │</span>\n",
       "<span style=\"color: #000080; text-decoration-color: #000080\">│ </span><span style=\"color: #c0c0c0; text-decoration-color: #c0c0c0\">│     </span><span style=\"color: #c0c0c0; text-decoration-color: #c0c0c0; font-weight: bold\">}</span><span style=\"color: #c0c0c0; text-decoration-color: #c0c0c0\">,                                                                                                      │</span><span style=\"color: #000080; text-decoration-color: #000080\"> │</span>\n",
       "<span style=\"color: #000080; text-decoration-color: #000080\">│ </span><span style=\"color: #c0c0c0; text-decoration-color: #c0c0c0\">│     </span><span style=\"color: #000080; text-decoration-color: #000080; font-weight: bold\">\"state\"</span><span style=\"color: #c0c0c0; text-decoration-color: #c0c0c0\">: </span><span style=\"color: #008000; text-decoration-color: #008000\">\"completed\"</span><span style=\"color: #c0c0c0; text-decoration-color: #c0c0c0\">,                                                                                   │</span><span style=\"color: #000080; text-decoration-color: #000080\"> │</span>\n",
       "<span style=\"color: #000080; text-decoration-color: #000080\">│ </span><span style=\"color: #c0c0c0; text-decoration-color: #c0c0c0\">│     </span><span style=\"color: #000080; text-decoration-color: #000080; font-weight: bold\">\"timestamp\"</span><span style=\"color: #c0c0c0; text-decoration-color: #c0c0c0\">: </span><span style=\"color: #008000; text-decoration-color: #008000\">\"2025-06-23T08:21:33.281199+00:00\"</span><span style=\"color: #c0c0c0; text-decoration-color: #c0c0c0\">                                                         │</span><span style=\"color: #000080; text-decoration-color: #000080\"> │</span>\n",
       "<span style=\"color: #000080; text-decoration-color: #000080\">│ </span><span style=\"color: #c0c0c0; text-decoration-color: #c0c0c0\">│   </span><span style=\"color: #c0c0c0; text-decoration-color: #c0c0c0; font-weight: bold\">}</span><span style=\"color: #c0c0c0; text-decoration-color: #c0c0c0\">                                                                                                         │</span><span style=\"color: #000080; text-decoration-color: #000080\"> │</span>\n",
       "<span style=\"color: #000080; text-decoration-color: #000080\">│ </span><span style=\"color: #c0c0c0; text-decoration-color: #c0c0c0\">│ </span><span style=\"color: #c0c0c0; text-decoration-color: #c0c0c0; font-weight: bold\">}</span><span style=\"color: #c0c0c0; text-decoration-color: #c0c0c0\">                                                                                                           │</span><span style=\"color: #000080; text-decoration-color: #000080\"> │</span>\n",
       "<span style=\"color: #000080; text-decoration-color: #000080\">│ </span><span style=\"color: #c0c0c0; text-decoration-color: #c0c0c0\">╰─────────────────────────────────────────────────────────────────────────────────────────────────────────────╯</span><span style=\"color: #000080; text-decoration-color: #000080\"> │</span>\n",
       "<span style=\"color: #000080; text-decoration-color: #000080\">╰─────────────────────────────────────────────────────────────────────────────────────────────────────────────────╯</span>\n",
       "</pre>\n"
      ],
      "text/plain": [
       "\u001b[34m╭─\u001b[0m\u001b[34m────────────────────────────────────────\u001b[0m EXECUTE_TOOL: call_date_agent \u001b[34m────────────────────────────────────────\u001b[0m\u001b[34m─╮\u001b[0m\n",
       "\u001b[34m│\u001b[0m\u001b[34m \u001b[0m\u001b[37m╭─\u001b[0m\u001b[34m Input \u001b[0m\u001b[37m────────────────────────────────────────────────────────────────────────────────────────────────────\u001b[0m\u001b[37m─╮\u001b[0m\u001b[34m \u001b[0m\u001b[34m│\u001b[0m\n",
       "\u001b[34m│\u001b[0m\u001b[34m \u001b[0m\u001b[37m│\u001b[0m\u001b[37m \u001b[0m\u001b[1;37m{\u001b[0m\u001b[37m                                                                                                          \u001b[0m\u001b[37m \u001b[0m\u001b[37m│\u001b[0m\u001b[34m \u001b[0m\u001b[34m│\u001b[0m\n",
       "\u001b[34m│\u001b[0m\u001b[34m \u001b[0m\u001b[37m│\u001b[0m\u001b[37m \u001b[0m\u001b[37m  \u001b[0m\u001b[1;34m\"query\"\u001b[0m\u001b[37m: \u001b[0m\u001b[32m\"What is the current date and time?\"\u001b[0m\u001b[37m                                                            \u001b[0m\u001b[37m \u001b[0m\u001b[37m│\u001b[0m\u001b[34m \u001b[0m\u001b[34m│\u001b[0m\n",
       "\u001b[34m│\u001b[0m\u001b[34m \u001b[0m\u001b[37m│\u001b[0m\u001b[37m \u001b[0m\u001b[1;37m}\u001b[0m\u001b[37m                                                                                                          \u001b[0m\u001b[37m \u001b[0m\u001b[37m│\u001b[0m\u001b[34m \u001b[0m\u001b[34m│\u001b[0m\n",
       "\u001b[34m│\u001b[0m\u001b[34m \u001b[0m\u001b[37m╰─────────────────────────────────────────────────────────────────────────────────────────────────────────────╯\u001b[0m\u001b[34m \u001b[0m\u001b[34m│\u001b[0m\n",
       "\u001b[34m│\u001b[0m\u001b[34m \u001b[0m\u001b[37m╭─\u001b[0m\u001b[34m OUTPUT \u001b[0m\u001b[37m───────────────────────────────────────────────────────────────────────────────────────────────────\u001b[0m\u001b[37m─╮\u001b[0m\u001b[34m \u001b[0m\u001b[34m│\u001b[0m\n",
       "\u001b[34m│\u001b[0m\u001b[34m \u001b[0m\u001b[37m│\u001b[0m\u001b[37m \u001b[0m\u001b[1;37m{\u001b[0m\u001b[37m                                                                                                          \u001b[0m\u001b[37m \u001b[0m\u001b[37m│\u001b[0m\u001b[34m \u001b[0m\u001b[34m│\u001b[0m\n",
       "\u001b[34m│\u001b[0m\u001b[34m \u001b[0m\u001b[37m│\u001b[0m\u001b[37m \u001b[0m\u001b[37m  \u001b[0m\u001b[1;34m\"contextId\"\u001b[0m\u001b[37m: \u001b[0m\u001b[32m\"ffaee063-9ef0-4eed-a52c-80c6d5712b41\"\u001b[0m\u001b[37m,\u001b[0m\u001b[37m                                                     \u001b[0m\u001b[37m \u001b[0m\u001b[37m│\u001b[0m\u001b[34m \u001b[0m\u001b[34m│\u001b[0m\n",
       "\u001b[34m│\u001b[0m\u001b[34m \u001b[0m\u001b[37m│\u001b[0m\u001b[37m \u001b[0m\u001b[37m  \u001b[0m\u001b[1;34m\"id\"\u001b[0m\u001b[37m: \u001b[0m\u001b[32m\"0dfaafdd-0eda-4e2d-993c-867a3ae7e112\"\u001b[0m\u001b[37m,\u001b[0m\u001b[37m                                                            \u001b[0m\u001b[37m \u001b[0m\u001b[37m│\u001b[0m\u001b[34m \u001b[0m\u001b[34m│\u001b[0m\n",
       "\u001b[34m│\u001b[0m\u001b[34m \u001b[0m\u001b[37m│\u001b[0m\u001b[37m \u001b[0m\u001b[37m  \u001b[0m\u001b[1;34m\"status\"\u001b[0m\u001b[37m: \u001b[0m\u001b[1;37m{\u001b[0m\u001b[37m                                                                                              \u001b[0m\u001b[37m \u001b[0m\u001b[37m│\u001b[0m\u001b[34m \u001b[0m\u001b[34m│\u001b[0m\n",
       "\u001b[34m│\u001b[0m\u001b[34m \u001b[0m\u001b[37m│\u001b[0m\u001b[37m \u001b[0m\u001b[37m    \u001b[0m\u001b[1;34m\"message\"\u001b[0m\u001b[37m: \u001b[0m\u001b[1;37m{\u001b[0m\u001b[37m                                                                                           \u001b[0m\u001b[37m \u001b[0m\u001b[37m│\u001b[0m\u001b[34m \u001b[0m\u001b[34m│\u001b[0m\n",
       "\u001b[34m│\u001b[0m\u001b[34m \u001b[0m\u001b[37m│\u001b[0m\u001b[37m \u001b[0m\u001b[37m      \u001b[0m\u001b[1;34m\"contextId\"\u001b[0m\u001b[37m: \u001b[0m\u001b[32m\"ffaee063-9ef0-4eed-a52c-80c6d5712b41\"\u001b[0m\u001b[37m,\u001b[0m\u001b[37m                                                 \u001b[0m\u001b[37m \u001b[0m\u001b[37m│\u001b[0m\u001b[34m \u001b[0m\u001b[34m│\u001b[0m\n",
       "\u001b[34m│\u001b[0m\u001b[34m \u001b[0m\u001b[37m│\u001b[0m\u001b[37m \u001b[0m\u001b[37m      \u001b[0m\u001b[1;34m\"messageId\"\u001b[0m\u001b[37m: \u001b[0m\u001b[32m\"792974da-e2e9-4d1b-a9e9-86a6619d0ac7\"\u001b[0m\u001b[37m,\u001b[0m\u001b[37m                                                 \u001b[0m\u001b[37m \u001b[0m\u001b[37m│\u001b[0m\u001b[34m \u001b[0m\u001b[34m│\u001b[0m\n",
       "\u001b[34m│\u001b[0m\u001b[34m \u001b[0m\u001b[37m│\u001b[0m\u001b[37m \u001b[0m\u001b[37m      \u001b[0m\u001b[1;34m\"parts\"\u001b[0m\u001b[37m: \u001b[0m\u001b[1;37m[\u001b[0m\u001b[37m                                                                                           \u001b[0m\u001b[37m \u001b[0m\u001b[37m│\u001b[0m\u001b[34m \u001b[0m\u001b[34m│\u001b[0m\n",
       "\u001b[34m│\u001b[0m\u001b[34m \u001b[0m\u001b[37m│\u001b[0m\u001b[37m \u001b[0m\u001b[37m        \u001b[0m\u001b[1;37m{\u001b[0m\u001b[37m                                                                                                  \u001b[0m\u001b[37m \u001b[0m\u001b[37m│\u001b[0m\u001b[34m \u001b[0m\u001b[34m│\u001b[0m\n",
       "\u001b[34m│\u001b[0m\u001b[34m \u001b[0m\u001b[37m│\u001b[0m\u001b[37m \u001b[0m\u001b[37m          \u001b[0m\u001b[1;34m\"text\"\u001b[0m\u001b[37m: \u001b[0m\u001b[32m\"{\\\"result\\\":\\\"The current date and time is 2025-06-23 10:21:32.\\\"}\"\u001b[0m\u001b[37m                     \u001b[0m\u001b[37m \u001b[0m\u001b[37m│\u001b[0m\u001b[34m \u001b[0m\u001b[34m│\u001b[0m\n",
       "\u001b[34m│\u001b[0m\u001b[34m \u001b[0m\u001b[37m│\u001b[0m\u001b[37m \u001b[0m\u001b[37m        \u001b[0m\u001b[1;37m}\u001b[0m\u001b[37m                                                                                                  \u001b[0m\u001b[37m \u001b[0m\u001b[37m│\u001b[0m\u001b[34m \u001b[0m\u001b[34m│\u001b[0m\n",
       "\u001b[34m│\u001b[0m\u001b[34m \u001b[0m\u001b[37m│\u001b[0m\u001b[37m \u001b[0m\u001b[37m      \u001b[0m\u001b[1;37m]\u001b[0m\u001b[37m,\u001b[0m\u001b[37m                                                                                                   \u001b[0m\u001b[37m \u001b[0m\u001b[37m│\u001b[0m\u001b[34m \u001b[0m\u001b[34m│\u001b[0m\n",
       "\u001b[34m│\u001b[0m\u001b[34m \u001b[0m\u001b[37m│\u001b[0m\u001b[37m \u001b[0m\u001b[37m      \u001b[0m\u001b[1;34m\"role\"\u001b[0m\u001b[37m: \u001b[0m\u001b[32m\"agent\"\u001b[0m\u001b[37m,\u001b[0m\u001b[37m                                                                                     \u001b[0m\u001b[37m \u001b[0m\u001b[37m│\u001b[0m\u001b[34m \u001b[0m\u001b[34m│\u001b[0m\n",
       "\u001b[34m│\u001b[0m\u001b[34m \u001b[0m\u001b[37m│\u001b[0m\u001b[37m \u001b[0m\u001b[37m      \u001b[0m\u001b[1;34m\"taskId\"\u001b[0m\u001b[37m: \u001b[0m\u001b[32m\"0dfaafdd-0eda-4e2d-993c-867a3ae7e112\"\u001b[0m\u001b[37m                                                     \u001b[0m\u001b[37m \u001b[0m\u001b[37m│\u001b[0m\u001b[34m \u001b[0m\u001b[34m│\u001b[0m\n",
       "\u001b[34m│\u001b[0m\u001b[34m \u001b[0m\u001b[37m│\u001b[0m\u001b[37m \u001b[0m\u001b[37m    \u001b[0m\u001b[1;37m}\u001b[0m\u001b[37m,\u001b[0m\u001b[37m                                                                                                     \u001b[0m\u001b[37m \u001b[0m\u001b[37m│\u001b[0m\u001b[34m \u001b[0m\u001b[34m│\u001b[0m\n",
       "\u001b[34m│\u001b[0m\u001b[34m \u001b[0m\u001b[37m│\u001b[0m\u001b[37m \u001b[0m\u001b[37m    \u001b[0m\u001b[1;34m\"state\"\u001b[0m\u001b[37m: \u001b[0m\u001b[32m\"completed\"\u001b[0m\u001b[37m,\u001b[0m\u001b[37m                                                                                  \u001b[0m\u001b[37m \u001b[0m\u001b[37m│\u001b[0m\u001b[34m \u001b[0m\u001b[34m│\u001b[0m\n",
       "\u001b[34m│\u001b[0m\u001b[34m \u001b[0m\u001b[37m│\u001b[0m\u001b[37m \u001b[0m\u001b[37m    \u001b[0m\u001b[1;34m\"timestamp\"\u001b[0m\u001b[37m: \u001b[0m\u001b[32m\"2025-06-23T08:21:33.281199+00:00\"\u001b[0m\u001b[37m                                                        \u001b[0m\u001b[37m \u001b[0m\u001b[37m│\u001b[0m\u001b[34m \u001b[0m\u001b[34m│\u001b[0m\n",
       "\u001b[34m│\u001b[0m\u001b[34m \u001b[0m\u001b[37m│\u001b[0m\u001b[37m \u001b[0m\u001b[37m  \u001b[0m\u001b[1;37m}\u001b[0m\u001b[37m                                                                                                        \u001b[0m\u001b[37m \u001b[0m\u001b[37m│\u001b[0m\u001b[34m \u001b[0m\u001b[34m│\u001b[0m\n",
       "\u001b[34m│\u001b[0m\u001b[34m \u001b[0m\u001b[37m│\u001b[0m\u001b[37m \u001b[0m\u001b[1;37m}\u001b[0m\u001b[37m                                                                                                          \u001b[0m\u001b[37m \u001b[0m\u001b[37m│\u001b[0m\u001b[34m \u001b[0m\u001b[34m│\u001b[0m\n",
       "\u001b[34m│\u001b[0m\u001b[34m \u001b[0m\u001b[37m╰─────────────────────────────────────────────────────────────────────────────────────────────────────────────╯\u001b[0m\u001b[34m \u001b[0m\u001b[34m│\u001b[0m\n",
       "\u001b[34m╰─────────────────────────────────────────────────────────────────────────────────────────────────────────────────╯\u001b[0m\n"
      ]
     },
     "metadata": {},
     "output_type": "display_data"
    },
    {
     "data": {
      "text/html": [
       "<pre style=\"white-space:pre;overflow-x:auto;line-height:normal;font-family:Menlo,'DejaVu Sans Mono',consolas,'Courier New',monospace\"><span style=\"color: #808000; text-decoration-color: #808000\">╭────────────────────────────────────────────</span> CALL_LLM: gpt-4.1-nano <span style=\"color: #808000; text-decoration-color: #808000\">─────────────────────────────────────────────╮</span>\n",
       "<span style=\"color: #808000; text-decoration-color: #808000\">│ </span><span style=\"color: #c0c0c0; text-decoration-color: #c0c0c0\">╭─</span><span style=\"color: #808000; text-decoration-color: #808000\"> OUTPUT </span><span style=\"color: #c0c0c0; text-decoration-color: #c0c0c0\">────────────────────────────────────────────────────────────────────────────────────────────────────╮</span><span style=\"color: #808000; text-decoration-color: #808000\"> │</span>\n",
       "<span style=\"color: #808000; text-decoration-color: #808000\">│ </span><span style=\"color: #c0c0c0; text-decoration-color: #c0c0c0\">│ Today is June 23, 2025, and the current time is 10:21:32.                                                   │</span><span style=\"color: #808000; text-decoration-color: #808000\"> │</span>\n",
       "<span style=\"color: #808000; text-decoration-color: #808000\">│ </span><span style=\"color: #c0c0c0; text-decoration-color: #c0c0c0\">╰─────────────────────────────────────────────────────────────────────────────────────────────────────────────╯</span><span style=\"color: #808000; text-decoration-color: #808000\"> │</span>\n",
       "<span style=\"color: #808000; text-decoration-color: #808000\">│ </span><span style=\"color: #c0c0c0; text-decoration-color: #c0c0c0\">╭─</span><span style=\"color: #808000; text-decoration-color: #808000\"> USAGE </span><span style=\"color: #c0c0c0; text-decoration-color: #c0c0c0\">─────────────────────────────────────────────────────────────────────────────────────────────────────╮</span><span style=\"color: #808000; text-decoration-color: #808000\"> │</span>\n",
       "<span style=\"color: #808000; text-decoration-color: #808000\">│ </span><span style=\"color: #c0c0c0; text-decoration-color: #c0c0c0\">│ </span><span style=\"color: #c0c0c0; text-decoration-color: #c0c0c0; font-weight: bold\">{</span><span style=\"color: #c0c0c0; text-decoration-color: #c0c0c0\">                                                                                                           │</span><span style=\"color: #808000; text-decoration-color: #808000\"> │</span>\n",
       "<span style=\"color: #808000; text-decoration-color: #808000\">│ </span><span style=\"color: #c0c0c0; text-decoration-color: #c0c0c0\">│   </span><span style=\"color: #000080; text-decoration-color: #000080; font-weight: bold\">\"input_tokens\"</span><span style=\"color: #c0c0c0; text-decoration-color: #c0c0c0\">: </span><span style=\"color: #008080; text-decoration-color: #008080; font-weight: bold\">447</span><span style=\"color: #c0c0c0; text-decoration-color: #c0c0c0\">,                                                                                      │</span><span style=\"color: #808000; text-decoration-color: #808000\"> │</span>\n",
       "<span style=\"color: #808000; text-decoration-color: #808000\">│ </span><span style=\"color: #c0c0c0; text-decoration-color: #c0c0c0\">│   </span><span style=\"color: #000080; text-decoration-color: #000080; font-weight: bold\">\"output_tokens\"</span><span style=\"color: #c0c0c0; text-decoration-color: #c0c0c0\">: </span><span style=\"color: #008080; text-decoration-color: #008080; font-weight: bold\">23</span><span style=\"color: #c0c0c0; text-decoration-color: #c0c0c0\">                                                                                       │</span><span style=\"color: #808000; text-decoration-color: #808000\"> │</span>\n",
       "<span style=\"color: #808000; text-decoration-color: #808000\">│ </span><span style=\"color: #c0c0c0; text-decoration-color: #c0c0c0\">│ </span><span style=\"color: #c0c0c0; text-decoration-color: #c0c0c0; font-weight: bold\">}</span><span style=\"color: #c0c0c0; text-decoration-color: #c0c0c0\">                                                                                                           │</span><span style=\"color: #808000; text-decoration-color: #808000\"> │</span>\n",
       "<span style=\"color: #808000; text-decoration-color: #808000\">│ </span><span style=\"color: #c0c0c0; text-decoration-color: #c0c0c0\">╰─────────────────────────────────────────────────────────────────────────────────────────────────────────────╯</span><span style=\"color: #808000; text-decoration-color: #808000\"> │</span>\n",
       "<span style=\"color: #808000; text-decoration-color: #808000\">╰─────────────────────────────────────────────────────────────────────────────────────────────────────────────────╯</span>\n",
       "</pre>\n"
      ],
      "text/plain": [
       "\u001b[33m╭─\u001b[0m\u001b[33m───────────────────────────────────────────\u001b[0m CALL_LLM: gpt-4.1-nano \u001b[33m────────────────────────────────────────────\u001b[0m\u001b[33m─╮\u001b[0m\n",
       "\u001b[33m│\u001b[0m\u001b[33m \u001b[0m\u001b[37m╭─\u001b[0m\u001b[33m OUTPUT \u001b[0m\u001b[37m───────────────────────────────────────────────────────────────────────────────────────────────────\u001b[0m\u001b[37m─╮\u001b[0m\u001b[33m \u001b[0m\u001b[33m│\u001b[0m\n",
       "\u001b[33m│\u001b[0m\u001b[33m \u001b[0m\u001b[37m│\u001b[0m\u001b[37m \u001b[0m\u001b[37mToday is June 23, 2025, and the current time is 10:21:32.                                                  \u001b[0m\u001b[37m \u001b[0m\u001b[37m│\u001b[0m\u001b[33m \u001b[0m\u001b[33m│\u001b[0m\n",
       "\u001b[33m│\u001b[0m\u001b[33m \u001b[0m\u001b[37m╰─────────────────────────────────────────────────────────────────────────────────────────────────────────────╯\u001b[0m\u001b[33m \u001b[0m\u001b[33m│\u001b[0m\n",
       "\u001b[33m│\u001b[0m\u001b[33m \u001b[0m\u001b[37m╭─\u001b[0m\u001b[33m USAGE \u001b[0m\u001b[37m────────────────────────────────────────────────────────────────────────────────────────────────────\u001b[0m\u001b[37m─╮\u001b[0m\u001b[33m \u001b[0m\u001b[33m│\u001b[0m\n",
       "\u001b[33m│\u001b[0m\u001b[33m \u001b[0m\u001b[37m│\u001b[0m\u001b[37m \u001b[0m\u001b[1;37m{\u001b[0m\u001b[37m                                                                                                          \u001b[0m\u001b[37m \u001b[0m\u001b[37m│\u001b[0m\u001b[33m \u001b[0m\u001b[33m│\u001b[0m\n",
       "\u001b[33m│\u001b[0m\u001b[33m \u001b[0m\u001b[37m│\u001b[0m\u001b[37m \u001b[0m\u001b[37m  \u001b[0m\u001b[1;34m\"input_tokens\"\u001b[0m\u001b[37m: \u001b[0m\u001b[1;36m447\u001b[0m\u001b[37m,\u001b[0m\u001b[37m                                                                                     \u001b[0m\u001b[37m \u001b[0m\u001b[37m│\u001b[0m\u001b[33m \u001b[0m\u001b[33m│\u001b[0m\n",
       "\u001b[33m│\u001b[0m\u001b[33m \u001b[0m\u001b[37m│\u001b[0m\u001b[37m \u001b[0m\u001b[37m  \u001b[0m\u001b[1;34m\"output_tokens\"\u001b[0m\u001b[37m: \u001b[0m\u001b[1;36m23\u001b[0m\u001b[37m                                                                                      \u001b[0m\u001b[37m \u001b[0m\u001b[37m│\u001b[0m\u001b[33m \u001b[0m\u001b[33m│\u001b[0m\n",
       "\u001b[33m│\u001b[0m\u001b[33m \u001b[0m\u001b[37m│\u001b[0m\u001b[37m \u001b[0m\u001b[1;37m}\u001b[0m\u001b[37m                                                                                                          \u001b[0m\u001b[37m \u001b[0m\u001b[37m│\u001b[0m\u001b[33m \u001b[0m\u001b[33m│\u001b[0m\n",
       "\u001b[33m│\u001b[0m\u001b[33m \u001b[0m\u001b[37m╰─────────────────────────────────────────────────────────────────────────────────────────────────────────────╯\u001b[0m\u001b[33m \u001b[0m\u001b[33m│\u001b[0m\n",
       "\u001b[33m╰─────────────────────────────────────────────────────────────────────────────────────────────────────────────────╯\u001b[0m\n"
      ]
     },
     "metadata": {},
     "output_type": "display_data"
    },
    {
     "name": "stdout",
     "output_type": "stream",
     "text": [
      "Today is June 23, 2025, and the current time is 10:21:32.\n"
     ]
    }
   ],
   "source": [
    "# Date agent is ready for card resolution\n",
    "\n",
    "main_agent_cfg = AgentConfig(\n",
    "    instructions=\"Use the available tools to obtain additional information to answer the query.\",\n",
    "    name=\"main_agent\",\n",
    "    model_id=agent_model,\n",
    "    description=\"The orchestrator that can use other agents via tools using the A2A protocol.\",\n",
    "    tools=[await a2a_tool_async(server_url, http_kwargs={\"timeout\": 10.0})],\n",
    ")\n",
    "\n",
    "main_agent = await AnyAgent.create_async(\n",
    "    agent_framework=agent_framework,\n",
    "    agent_config=main_agent_cfg,\n",
    ")\n",
    "\n",
    "DATE_PROMPT = (\n",
    "    \"What date and time is it right now? \"\n",
    "    \"In your answer please include the year, month, day, and time. \"\n",
    "    \"Example answer could be something like 'Today is December 15, 2024'\"\n",
    ")\n",
    "agent_trace = await main_agent.run_async(DATE_PROMPT)\n",
    "\n",
    "print(agent_trace.final_output)"
   ]
  },
  {
   "cell_type": "markdown",
   "id": "754b7cc9",
   "metadata": {},
   "source": [
    "## Observing the traces and stopping the server\n",
    "\n",
    "Once this example is run, go to the \"Explore\" section in the left-hand sidebar of the Grafana Tempo browser. Click on the \"Run query\" button with the default settings. Two traces should appear in the \"Table - Traces\" section. Note that context propagation does not yet work, so the two traces will have different `trace_id`s. With trace propagation, the `trace_id` of the current trace is sent in an HTTP header and is recreated at the other end. Note that the `A2AClient` and `A2AServer` packages will also include their own traces.\n",
    "\n",
    "After checking out the traces in the browser, execute the next cell to shut down the A2A server."
   ]
  },
  {
   "cell_type": "code",
   "execution_count": 6,
   "id": "4b4d604b",
   "metadata": {},
   "outputs": [],
   "source": [
    "if served_server:\n",
    "    served_server.should_exit = True\n",
    "    await served_task"
   ]
  }
 ],
 "metadata": {
  "kernelspec": {
   "display_name": "anyagent",
   "language": "python",
   "name": "anyagent"
  },
  "language_info": {
   "codemirror_mode": {
    "name": "ipython",
    "version": 3
   },
   "file_extension": ".py",
   "mimetype": "text/x-python",
   "name": "python",
   "nbconvert_exporter": "python",
   "pygments_lexer": "ipython3",
   "version": "3.13.1"
  }
 },
 "nbformat": 4,
 "nbformat_minor": 5
}
