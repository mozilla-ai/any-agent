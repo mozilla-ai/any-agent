{
 "cells": [
  {
   "cell_type": "markdown",
   "metadata": {},
   "source": [
    "# Bridge MCP servers to ACP\n",
    "\n",
    "This cookbook demonstrates how to use any-agent's MCP-to-ACP bridge to expose Model Context Protocol (MCP) servers as Agent Connect Protocol (ACP) compatible services.\n",
    "\n",
    "## Why Bridge MCP to ACP?\n",
    "\n",
    "- **Protocol Interoperability**: Make MCP tools available to Linux Foundation's AGNTCY ecosystem\n",
    "- **Enterprise Integration**: Connect local tools with enterprise agent systems\n",
    "- **Identity Support**: Leverage AGNTCY Identity (W3C DIDs) for secure tool access\n",
    "- **Standards Compliance**: Support for W3C Decentralized Identifiers and Verifiable Credentials\n",
    "\n",
    "## Prerequisites\n",
    "\n",
    "You'll need to install the ACP SDK:\n",
    "\n",
    "```bash\n",
    "pip install agntcy-acp\n",
    "```"
   ]
  },
  {
   "cell_type": "code",
   "execution_count": null,
   "metadata": {},
   "outputs": [],
   "source": [
    "# For Jupyter notebooks\n",
    "import nest_asyncio\n",
    "nest_asyncio.apply()"
   ]
  },
  {
   "cell_type": "markdown",
   "metadata": {},
   "source": [
    "## Example 1: Basic MCP to ACP Bridge\n",
    "\n",
    "Let's start by bridging a simple MCP time server to ACP:"
   ]
  },
  {
   "cell_type": "code",
   "execution_count": null,
   "metadata": {},
   "outputs": [],
   "source": [
    "import asyncio\n",
    "from any_agent.config import MCPStdio\n",
    "from any_agent.serving import (\n",
    "    MCPToACPBridgeConfig,\n",
    "    serve_mcp_as_acp_async,\n",
    ")\n",
    "\n",
    "async def bridge_time_server():\n",
    "    # Configure MCP server\n",
    "    mcp_config = MCPStdio(\n",
    "        command=\"uvx\",\n",
    "        args=[\"mcp-server-time\"],\n",
    "        tools=[\"get_current_time\"],\n",
    "    )\n",
    "    \n",
    "    # Configure bridge\n",
    "    bridge_config = MCPToACPBridgeConfig(\n",
    "        mcp_config=mcp_config,\n",
    "        port=8090,\n",
    "        endpoint=\"/time-bridge\",\n",
    "        server_name=\"time-server\",\n",
    "        organization=\"any-agent-demo\",\n",
    "        version=\"1.0.0\",\n",
    "    )\n",
    "    \n",
    "    # Start the bridge\n",
    "    print(\"Starting MCP to ACP bridge...\")\n",
    "    bridge_handle = await serve_mcp_as_acp_async(mcp_config, bridge_config)\n",
    "    \n",
    "    print(f\"✓ MCP server bridged to ACP at: http://localhost:8090/time-bridge\")\n",
    "    print(f\"  - ACP agents endpoint: http://localhost:8090/time-bridge/agents\")\n",
    "    print(f\"  - Stateless runs endpoint: http://localhost:8090/time-bridge/runs/stateless\")\n",
    "    \n",
    "    return bridge_handle\n",
    "\n",
    "# Start the bridge (run in background)\n",
    "bridge_task = asyncio.create_task(bridge_time_server())\n",
    "bridge_handle = await bridge_task\n",
    "print(\"\\nBridge is running!\")"
   ]
  },
  {
   "cell_type": "markdown",
   "metadata": {},
   "source": [
    "## Example 2: Using the Bridged MCP Tool via ACP\n",
    "\n",
    "Now let's use the bridged MCP tool through the ACP protocol:"
   ]
  },
  {
   "cell_type": "code",
   "execution_count": null,
   "metadata": {},
   "outputs": [],
   "source": [
    "from agntcy_acp import ACPAsyncClient, RunCreateStateless\n",
    "\n",
    "async def use_bridged_tool():\n",
    "    # Create ACP client\n",
    "    client = ACPAsyncClient(base_url=\"http://localhost:8090/time-bridge\")\n",
    "    \n",
    "    # List available agents\n",
    "    print(\"Listing available agents...\")\n",
    "    agents = await client.list_agents()\n",
    "    for agent in agents:\n",
    "        print(f\"  - Agent ID: {agent.id}\")\n",
    "        print(f\"    Name: {agent.name}\")\n",
    "        print(f\"    Description: {agent.description}\")\n",
    "    \n",
    "    # Create a stateless run to get the current time\n",
    "    print(\"\\nCalling get_current_time tool...\")\n",
    "    run_request = RunCreateStateless(\n",
    "        config={\n",
    "            \"tool\": \"get_current_time\",\n",
    "            \"args\": {}\n",
    "        }\n",
    "    )\n",
    "    \n",
    "    result = await client.create_stateless_run(\n",
    "        agent_id=\"mcp-bridge-time-server\",\n",
    "        run_request=run_request\n",
    "    )\n",
    "    \n",
    "    print(f\"\\nResult:\")\n",
    "    print(f\"  Status: {result.status}\")\n",
    "    print(f\"  Output: {result.output}\")\n",
    "\n",
    "await use_bridged_tool()"
   ]
  },
  {
   "cell_type": "markdown",
   "metadata": {},
   "source": [
    "## Example 3: Bridge with AGNTCY Identity\n",
    "\n",
    "This example shows how to configure the bridge with AGNTCY Identity support:"
   ]
  },
  {
   "cell_type": "code",
   "execution_count": null,
   "metadata": {},
   "outputs": [],
   "source": [
    "async def bridge_with_identity():\n",
    "    # Configure MCP server\n",
    "    mcp_config = MCPStdio(\n",
    "        command=\"uvx\",\n",
    "        args=[\"mcp-server-filesystem\"],\n",
    "        tools=[\"read_file\", \"write_file\", \"list_files\"],\n",
    "    )\n",
    "    \n",
    "    # Configure bridge with identity\n",
    "    bridge_config = MCPToACPBridgeConfig(\n",
    "        mcp_config=mcp_config,\n",
    "        port=8091,\n",
    "        endpoint=\"/fs-bridge\",\n",
    "        server_name=\"filesystem-server\",\n",
    "        # W3C DID for AGNTCY Identity\n",
    "        identity_id=\"did:agntcy:example:filesystem-bridge-123\",\n",
    "        organization=\"secure-tools-org\",\n",
    "        version=\"1.0.0\",\n",
    "    )\n",
    "    \n",
    "    # Start the bridge\n",
    "    print(\"Starting MCP to ACP bridge with AGNTCY Identity...\")\n",
    "    bridge_handle = await serve_mcp_as_acp_async(mcp_config, bridge_config)\n",
    "    \n",
    "    print(f\"\\n✓ Secure MCP server bridged to ACP\")\n",
    "    print(f\"  - Endpoint: http://localhost:8091/fs-bridge\")\n",
    "    print(f\"  - Identity DID: {bridge_config.identity_id}\")\n",
    "    print(f\"  - Organization: {bridge_config.organization}\")\n",
    "    \n",
    "    return bridge_handle\n",
    "\n",
    "# Uncomment to run\n",
    "# secure_bridge = await bridge_with_identity()"
   ]
  },
  {
   "cell_type": "markdown",
   "metadata": {},
   "source": [
    "## Example 4: Multiple MCP Tools via ACP\n",
    "\n",
    "When an MCP server has multiple tools, you can specify which tool to call:"
   ]
  },
  {
   "cell_type": "code",
   "execution_count": null,
   "metadata": {},
   "outputs": [],
   "source": [
    "async def call_specific_tool():\n",
    "    client = ACPAsyncClient(base_url=\"http://localhost:8091/fs-bridge\")\n",
    "    \n",
    "    # List files in current directory\n",
    "    print(\"Listing files...\")\n",
    "    list_request = RunCreateStateless(\n",
    "        config={\n",
    "            \"tool\": \"list_files\",\n",
    "            \"args\": {\n",
    "                \"path\": \".\"\n",
    "            }\n",
    "        }\n",
    "    )\n",
    "    \n",
    "    result = await client.create_stateless_run(\n",
    "        agent_id=\"mcp-bridge-filesystem-server\",\n",
    "        run_request=list_request\n",
    "    )\n",
    "    \n",
    "    print(f\"Files: {result.output}\")\n",
    "    \n",
    "    # Read a specific file\n",
    "    print(\"\\nReading README.md...\")\n",
    "    read_request = RunCreateStateless(\n",
    "        config={\n",
    "            \"tool\": \"read_file\",\n",
    "            \"args\": {\n",
    "                \"path\": \"README.md\"\n",
    "            }\n",
    "        }\n",
    "    )\n",
    "    \n",
    "    result = await client.create_stateless_run(\n",
    "        agent_id=\"mcp-bridge-filesystem-server\",\n",
    "        run_request=read_request\n",
    "    )\n",
    "    \n",
    "    print(f\"Content preview: {str(result.output)[:200]}...\")\n",
    "\n",
    "# Uncomment if filesystem bridge is running\n",
    "# await call_specific_tool()"
   ]
  },
  {
   "cell_type": "markdown",
   "metadata": {},
   "source": [
    "## Clean Up\n",
    "\n",
    "Stop the bridge servers when done:"
   ]
  },
  {
   "cell_type": "code",
   "execution_count": null,
   "metadata": {},
   "outputs": [],
   "source": [
    "# Stop the bridge\n",
    "if 'bridge_handle' in locals() and bridge_handle:\n",
    "    bridge_handle.server.should_exit = True\n",
    "    await asyncio.sleep(1)\n",
    "    print(\"Bridge stopped.\")"
   ]
  },
  {
   "cell_type": "markdown",
   "metadata": {},
   "source": [
    "## Summary\n",
    "\n",
    "In this cookbook, we've demonstrated:\n",
    "\n",
    "1. **Basic Bridge Setup**: How to expose an MCP server via ACP protocol\n",
    "2. **Using Bridged Tools**: How to call MCP tools through the ACP client\n",
    "3. **Identity Integration**: Adding AGNTCY Identity (W3C DIDs) to bridges\n",
    "4. **Multi-Tool Support**: Working with MCP servers that have multiple tools\n",
    "\n",
    "The MCP-to-ACP bridge enables seamless interoperability between Mozilla's MCP ecosystem and Linux Foundation's AGNTCY platform, supporting enterprise integration scenarios with secure identity management.\n",
    "\n",
    "## Next Steps\n",
    "\n",
    "- Learn more about [AGNTCY Identity](https://spec.identity.agntcy.org/)\n",
    "- Explore [W3C DIDs](https://www.w3.org/TR/did-core/) and [Verifiable Credentials](https://www.w3.org/TR/vc-data-model/)\n",
    "- Check out the [Linux Foundation AGNTCY Project](https://www.linuxfoundation.org/press/linux-foundation-welcomes-the-agntcy-project-to-standardize-open-multi-agent-system-infrastructure-and-break-down-ai-agent-silos)"
   ]
  }
 ],
 "metadata": {
  "kernelspec": {
   "display_name": "Python 3",
   "language": "python",
   "name": "python3"
  },
  "language_info": {
   "codemirror_mode": {
    "name": "ipython",
    "version": 3
   },
   "file_extension": ".py",
   "mimetype": "text/x-python",
   "name": "python",
   "nbconvert_exporter": "python",
   "pygments_lexer": "ipython3",
   "version": "3.11.0"
  }
 },
 "nbformat": 4,
 "nbformat_minor": 4
}